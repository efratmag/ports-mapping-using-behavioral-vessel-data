{
 "cells": [
  {
   "cell_type": "markdown",
   "metadata": {},
   "source": [
    "# Port Mapping Using Behavioral Vessel Data"
   ]
  },
  {
   "cell_type": "markdown",
   "metadata": {},
   "source": [
    "## Task: (Basic)\n",
    "Mapping of ports and waiting areas. Create sets of area candidates according to vessels’ behavior, and based on tagged data, create a model that classifies areas as ports, port waiting areas or other.\n",
    "\n",
    "## Data description:\n",
    "1. Vessels - information about the vessels of interest. Relevant fields are:\n",
    "    - classcalc - vessel type\n",
    "    - flag - under which regulations the vessel operates\n",
    "    - grosstonnage & deadweight - both relate to the vessel weight :\n",
    "        - Gross tonnage - in simple words - the approximate weight of the vessel\n",
    "        - Deadweight - basically, is how much a vessel can carry (sum of fuel, cargo, crew, etc)\n",
    "    - size - usually referred to the vessel's length\n",
    "    - max_draught - maximal depth possible for the vessel\n",
    "\n",
    "\n",
    "2. Activities - \n",
    "    - Drifting - when a vessel shuts its engine and lets the the water carry it\n",
    "    - Anchoring - when a vessel anchors\n",
    "    - Mooring - when a vessel is tied to a static object\n",
    "    - Port call - when a vessel enters a port polygon and stays there more than 30 minutes\n",
    "\n",
    "\n",
    "3. Ports - port information\n",
    "\n",
    "\n",
    "4. Polygons - the layers of interest namely: ports, port waiting areas and docks\n",
    "\n",
    "Few notes:\n",
    "1. All of the time based data set contain info between 20200801 and 20210205\n",
    "2. Data sets that may not have constant # of fields are saved as jsons, while others are saved as csvs\n",
    "3. jsons may contain '<not serializable>' tags. the field '_id' is always equal to the id of the record. If you feel that some of this info is important LMK and we'll figure out how to recreate it.\n",
    "4. There is an additional type of data that I wanted to extract for you which is in polygon activities, however it is too big to extract the same way and may require usage of spark so we may add it later. In any case you can cross the activities info with polygons info to get the most of the relevant content "
   ]
  },
  {
   "cell_type": "code",
   "execution_count": 141,
   "metadata": {
    "jupyter": {
     "source_hidden": true
    }
   },
   "outputs": [],
   "source": [
    "import pandas as pd\n",
    "import numpy as np\n",
    "import seaborn as sns\n",
    "import matplotlib.pyplot as plt\n",
    "import geopandas as gpd"
   ]
  },
  {
   "cell_type": "markdown",
   "metadata": {},
   "source": [
    "## SUMMARY"
   ]
  },
  {
   "cell_type": "code",
   "execution_count": 161,
   "metadata": {},
   "outputs": [
    {
     "name": "stdout",
     "output_type": "stream",
     "text": [
      "Anchoring:\n",
      "836049 records of 42137 ships.\n",
      "Missing values by field:\n",
      " Unnamed: 0           0\n",
      "_id                  0\n",
      "vesselId             0\n",
      "startDate            0\n",
      "endDate           6583\n",
      "createdDate          0\n",
      "type                 0\n",
      "confidence           0\n",
      "isInProgress         0\n",
      "firstBlip            0\n",
      "previousPort     22419\n",
      "enrichers        15028\n",
      "lastBlip          6583\n",
      "duration          6583\n",
      "nextPort         67195\n",
      "isOutlier       811325\n",
      "dtype: int64\n",
      "\n",
      "Morring:\n",
      "3509070 records of 80551 ships.\n",
      "Missing values by field:\n",
      " Unnamed: 0           0\n",
      "_id                  0\n",
      "vesselId             0\n",
      "startDate            0\n",
      "endDate          21907\n",
      "createdDate          0\n",
      "type                 0\n",
      "confidence           0\n",
      "isInProgress         0\n",
      "firstBlip            0\n",
      "lastBlip         21907\n",
      "duration         21907\n",
      "previousPort    111111\n",
      "enrichers       114164\n",
      "nextPort        292879\n",
      "dtype: int64\n",
      "\n",
      "Drifting:\n",
      "226751 records of 30905 ships.\n",
      "Missing values by field:\n",
      " Unnamed: 0           0\n",
      "_id                  0\n",
      "vesselId             0\n",
      "startDate            0\n",
      "endDate            626\n",
      "createdDate          0\n",
      "type                 0\n",
      "confidence           0\n",
      "isInProgress         0\n",
      "firstBlip            0\n",
      "previousPort      8023\n",
      "enrichers         5017\n",
      "lastBlip           626\n",
      "duration           626\n",
      "isOutlier       161522\n",
      "nextPort         27703\n",
      "dtype: int64\n",
      "\n",
      "Port calls:\n",
      "3216814 records of 77373 ships.\n",
      "Missing values by field:\n",
      " Unnamed: 0           0\n",
      "_id                  0\n",
      "vesselId             0\n",
      "startDate            0\n",
      "endDate          27471\n",
      "createdDate          0\n",
      "type                 0\n",
      "confidence           0\n",
      "isInProgress         0\n",
      "firstBlip            0\n",
      "lastBlip         27471\n",
      "duration         27471\n",
      "nextPort        153208\n",
      "previousPort     67683\n",
      "enrichers        60873\n",
      "polygonId            0\n",
      "polygonType          0\n",
      "dtype: int64\n",
      "\n"
     ]
    }
   ],
   "source": [
    "df_names = {'Anchoring': anchoring_df,\n",
    "            'Morring': mooring_df, \n",
    "            'Drifting': drifting_df, \n",
    "            'Port calls': port_calls_df}\n",
    "for k, v in df_names.items():\n",
    "    print(f'{k}:')\n",
    "    print(f'{v.shape[0]} records of {v.vesselId.nunique()} ships.')\n",
    "    print(f'Missing values by field:\\n {v.isnull().sum()}')\n",
    "    print('')"
   ]
  },
  {
   "cell_type": "markdown",
   "metadata": {},
   "source": [
    "## Vessels Behaviour"
   ]
  },
  {
   "cell_type": "markdown",
   "metadata": {},
   "source": [
    "#### Anchoring"
   ]
  },
  {
   "cell_type": "code",
   "execution_count": 5,
   "metadata": {},
   "outputs": [],
   "source": [
    "anchoring_df = pd.read_csv('Data/anchoring.csv')"
   ]
  },
  {
   "cell_type": "code",
   "execution_count": 6,
   "metadata": {},
   "outputs": [
    {
     "name": "stdout",
     "output_type": "stream",
     "text": [
      "(836049, 16)\n",
      "<class 'pandas.core.frame.DataFrame'>\n",
      "RangeIndex: 836049 entries, 0 to 836048\n",
      "Data columns (total 16 columns):\n",
      " #   Column        Non-Null Count   Dtype  \n",
      "---  ------        --------------   -----  \n",
      " 0   Unnamed: 0    836049 non-null  object \n",
      " 1   _id           836049 non-null  object \n",
      " 2   vesselId      836049 non-null  object \n",
      " 3   startDate     836049 non-null  object \n",
      " 4   endDate       829466 non-null  object \n",
      " 5   createdDate   836049 non-null  object \n",
      " 6   type          836049 non-null  object \n",
      " 7   confidence    836049 non-null  float64\n",
      " 8   isInProgress  836049 non-null  bool   \n",
      " 9   firstBlip     836049 non-null  object \n",
      " 10  previousPort  813630 non-null  object \n",
      " 11  enrichers     821021 non-null  object \n",
      " 12  lastBlip      829466 non-null  object \n",
      " 13  duration      829466 non-null  float64\n",
      " 14  nextPort      768854 non-null  object \n",
      " 15  isOutlier     24724 non-null   object \n",
      "dtypes: bool(1), float64(2), object(13)\n",
      "memory usage: 96.5+ MB\n",
      "None\n"
     ]
    },
    {
     "data": {
      "text/html": [
       "<div>\n",
       "<style scoped>\n",
       "    .dataframe tbody tr th:only-of-type {\n",
       "        vertical-align: middle;\n",
       "    }\n",
       "\n",
       "    .dataframe tbody tr th {\n",
       "        vertical-align: top;\n",
       "    }\n",
       "\n",
       "    .dataframe thead th {\n",
       "        text-align: right;\n",
       "    }\n",
       "</style>\n",
       "<table border=\"1\" class=\"dataframe\">\n",
       "  <thead>\n",
       "    <tr style=\"text-align: right;\">\n",
       "      <th></th>\n",
       "      <th>Unnamed: 0</th>\n",
       "      <th>_id</th>\n",
       "      <th>vesselId</th>\n",
       "      <th>startDate</th>\n",
       "      <th>endDate</th>\n",
       "      <th>createdDate</th>\n",
       "      <th>type</th>\n",
       "      <th>confidence</th>\n",
       "      <th>isInProgress</th>\n",
       "      <th>firstBlip</th>\n",
       "      <th>previousPort</th>\n",
       "      <th>enrichers</th>\n",
       "      <th>lastBlip</th>\n",
       "      <th>duration</th>\n",
       "      <th>nextPort</th>\n",
       "      <th>isOutlier</th>\n",
       "    </tr>\n",
       "  </thead>\n",
       "  <tbody>\n",
       "    <tr>\n",
       "      <th>836044</th>\n",
       "      <td>5f24b8003addf64fbc73cd55</td>\n",
       "      <td>5f24b8003addf64fbc73cd55</td>\n",
       "      <td>590b4cbd9b07d843b9a5466a</td>\n",
       "      <td>2020-08-01 00:32:00.000</td>\n",
       "      <td>2020-08-01 15:52:35.000</td>\n",
       "      <td>2021-02-01 20:26:47.818</td>\n",
       "      <td>LOW_SPEED_ANCHORED</td>\n",
       "      <td>0.90</td>\n",
       "      <td>False</td>\n",
       "      <td>{'sog': 3.0, 'th': 106.0, 'geometry': {'type':...</td>\n",
       "      <td>5358fc78b68ca120a07dbb7d</td>\n",
       "      <td>{'previousNextPort': {'previousPort': ObjectId...</td>\n",
       "      <td>{'sog': 0.1, 'th': 113.3, 'geometry': {'type':...</td>\n",
       "      <td>15.343056</td>\n",
       "      <td>5358fc78b68ca120a07dbcda</td>\n",
       "      <td>NaN</td>\n",
       "    </tr>\n",
       "    <tr>\n",
       "      <th>836045</th>\n",
       "      <td>5f24b7ad7039a1acaf62c1a0</td>\n",
       "      <td>5f24b7ad7039a1acaf62c1a0</td>\n",
       "      <td>5905f91b1fa39e732ab5c363</td>\n",
       "      <td>2020-08-01 00:30:37.000</td>\n",
       "      <td>2020-08-01 18:44:45.000</td>\n",
       "      <td>2021-02-01 20:26:47.818</td>\n",
       "      <td>LOW_SPEED_ANCHORED</td>\n",
       "      <td>0.90</td>\n",
       "      <td>False</td>\n",
       "      <td>{'sog': 1.7, 'th': 246.0, 'geometry': {'type':...</td>\n",
       "      <td>5358fc77b68ca120a07db059</td>\n",
       "      <td>{'previousNextPort': {'previousPort': ObjectId...</td>\n",
       "      <td>{'sog': 0.1, 'th': 356.9, 'geometry': {'type':...</td>\n",
       "      <td>18.235556</td>\n",
       "      <td>53ec6bb7afccdb7b1a2be97c</td>\n",
       "      <td>NaN</td>\n",
       "    </tr>\n",
       "    <tr>\n",
       "      <th>836046</th>\n",
       "      <td>5f24b58569e4b8a520d4a25b</td>\n",
       "      <td>5f24b58569e4b8a520d4a25b</td>\n",
       "      <td>5905e5721531285ce3228470</td>\n",
       "      <td>2020-08-01 00:21:25.000</td>\n",
       "      <td>2020-08-01 02:35:59.000</td>\n",
       "      <td>2021-02-01 20:26:47.818</td>\n",
       "      <td>LOW_SPEED_ANCHORED</td>\n",
       "      <td>0.75</td>\n",
       "      <td>False</td>\n",
       "      <td>{'sog': 0.3, 'th': 323.7, 'geometry': {'type':...</td>\n",
       "      <td>5358fc77b68ca120a07db183</td>\n",
       "      <td>{'previousNextPort': {'previousPort': ObjectId...</td>\n",
       "      <td>{'sog': 1.7, 'th': 149.4, 'geometry': {'type':...</td>\n",
       "      <td>2.242778</td>\n",
       "      <td>5358fc77b68ca120a07db183</td>\n",
       "      <td>NaN</td>\n",
       "    </tr>\n",
       "    <tr>\n",
       "      <th>836047</th>\n",
       "      <td>5f24b1fd6354962b1228362e</td>\n",
       "      <td>5f24b1fd6354962b1228362e</td>\n",
       "      <td>5906ffc66312aa06ea3058ab</td>\n",
       "      <td>2020-08-01 00:06:21.000</td>\n",
       "      <td>2020-08-01 03:12:00.000</td>\n",
       "      <td>2021-02-01 20:26:47.818</td>\n",
       "      <td>LOW_SPEED_ANCHORED</td>\n",
       "      <td>0.75</td>\n",
       "      <td>False</td>\n",
       "      <td>{'sog': 1.5, 'th': 49.2, 'geometry': {'type': ...</td>\n",
       "      <td>54eb0036c423c5aa171de55a</td>\n",
       "      <td>{'previousNextPort': {'previousPort': ObjectId...</td>\n",
       "      <td>{'sog': 0.2, 'th': 360.0, 'geometry': {'type':...</td>\n",
       "      <td>3.094167</td>\n",
       "      <td>54e47cac07b65aab17ea3b5e</td>\n",
       "      <td>NaN</td>\n",
       "    </tr>\n",
       "    <tr>\n",
       "      <th>836048</th>\n",
       "      <td>5f24b1fc4acdce1290fd5157</td>\n",
       "      <td>5f24b1fc4acdce1290fd5157</td>\n",
       "      <td>590684750b58c06eb4f887d4</td>\n",
       "      <td>2020-08-01 00:06:20.000</td>\n",
       "      <td>2020-08-01 08:18:58.000</td>\n",
       "      <td>2021-02-01 20:26:47.818</td>\n",
       "      <td>LOW_SPEED_ANCHORED</td>\n",
       "      <td>0.90</td>\n",
       "      <td>False</td>\n",
       "      <td>{'sog': 0.6, 'th': 256.6, 'geometry': {'type':...</td>\n",
       "      <td>5358fc78b68ca120a07db9f4</td>\n",
       "      <td>{'previousNextPort': {'previousPort': ObjectId...</td>\n",
       "      <td>{'sog': 0.5, 'th': 102.9, 'geometry': {'type':...</td>\n",
       "      <td>8.210556</td>\n",
       "      <td>5358fc78b68ca120a07dbad1</td>\n",
       "      <td>NaN</td>\n",
       "    </tr>\n",
       "  </tbody>\n",
       "</table>\n",
       "</div>"
      ],
      "text/plain": [
       "                      Unnamed: 0                       _id  \\\n",
       "836044  5f24b8003addf64fbc73cd55  5f24b8003addf64fbc73cd55   \n",
       "836045  5f24b7ad7039a1acaf62c1a0  5f24b7ad7039a1acaf62c1a0   \n",
       "836046  5f24b58569e4b8a520d4a25b  5f24b58569e4b8a520d4a25b   \n",
       "836047  5f24b1fd6354962b1228362e  5f24b1fd6354962b1228362e   \n",
       "836048  5f24b1fc4acdce1290fd5157  5f24b1fc4acdce1290fd5157   \n",
       "\n",
       "                        vesselId                startDate  \\\n",
       "836044  590b4cbd9b07d843b9a5466a  2020-08-01 00:32:00.000   \n",
       "836045  5905f91b1fa39e732ab5c363  2020-08-01 00:30:37.000   \n",
       "836046  5905e5721531285ce3228470  2020-08-01 00:21:25.000   \n",
       "836047  5906ffc66312aa06ea3058ab  2020-08-01 00:06:21.000   \n",
       "836048  590684750b58c06eb4f887d4  2020-08-01 00:06:20.000   \n",
       "\n",
       "                        endDate              createdDate                type  \\\n",
       "836044  2020-08-01 15:52:35.000  2021-02-01 20:26:47.818  LOW_SPEED_ANCHORED   \n",
       "836045  2020-08-01 18:44:45.000  2021-02-01 20:26:47.818  LOW_SPEED_ANCHORED   \n",
       "836046  2020-08-01 02:35:59.000  2021-02-01 20:26:47.818  LOW_SPEED_ANCHORED   \n",
       "836047  2020-08-01 03:12:00.000  2021-02-01 20:26:47.818  LOW_SPEED_ANCHORED   \n",
       "836048  2020-08-01 08:18:58.000  2021-02-01 20:26:47.818  LOW_SPEED_ANCHORED   \n",
       "\n",
       "        confidence  isInProgress  \\\n",
       "836044        0.90         False   \n",
       "836045        0.90         False   \n",
       "836046        0.75         False   \n",
       "836047        0.75         False   \n",
       "836048        0.90         False   \n",
       "\n",
       "                                                firstBlip  \\\n",
       "836044  {'sog': 3.0, 'th': 106.0, 'geometry': {'type':...   \n",
       "836045  {'sog': 1.7, 'th': 246.0, 'geometry': {'type':...   \n",
       "836046  {'sog': 0.3, 'th': 323.7, 'geometry': {'type':...   \n",
       "836047  {'sog': 1.5, 'th': 49.2, 'geometry': {'type': ...   \n",
       "836048  {'sog': 0.6, 'th': 256.6, 'geometry': {'type':...   \n",
       "\n",
       "                    previousPort  \\\n",
       "836044  5358fc78b68ca120a07dbb7d   \n",
       "836045  5358fc77b68ca120a07db059   \n",
       "836046  5358fc77b68ca120a07db183   \n",
       "836047  54eb0036c423c5aa171de55a   \n",
       "836048  5358fc78b68ca120a07db9f4   \n",
       "\n",
       "                                                enrichers  \\\n",
       "836044  {'previousNextPort': {'previousPort': ObjectId...   \n",
       "836045  {'previousNextPort': {'previousPort': ObjectId...   \n",
       "836046  {'previousNextPort': {'previousPort': ObjectId...   \n",
       "836047  {'previousNextPort': {'previousPort': ObjectId...   \n",
       "836048  {'previousNextPort': {'previousPort': ObjectId...   \n",
       "\n",
       "                                                 lastBlip   duration  \\\n",
       "836044  {'sog': 0.1, 'th': 113.3, 'geometry': {'type':...  15.343056   \n",
       "836045  {'sog': 0.1, 'th': 356.9, 'geometry': {'type':...  18.235556   \n",
       "836046  {'sog': 1.7, 'th': 149.4, 'geometry': {'type':...   2.242778   \n",
       "836047  {'sog': 0.2, 'th': 360.0, 'geometry': {'type':...   3.094167   \n",
       "836048  {'sog': 0.5, 'th': 102.9, 'geometry': {'type':...   8.210556   \n",
       "\n",
       "                        nextPort isOutlier  \n",
       "836044  5358fc78b68ca120a07dbcda       NaN  \n",
       "836045  53ec6bb7afccdb7b1a2be97c       NaN  \n",
       "836046  5358fc77b68ca120a07db183       NaN  \n",
       "836047  54e47cac07b65aab17ea3b5e       NaN  \n",
       "836048  5358fc78b68ca120a07dbad1       NaN  "
      ]
     },
     "execution_count": 6,
     "metadata": {},
     "output_type": "execute_result"
    }
   ],
   "source": [
    "print(anchoring_df.shape)\n",
    "print(anchoring_df.info())\n",
    "anchoring_df.tail()"
   ]
  },
  {
   "cell_type": "code",
   "execution_count": 7,
   "metadata": {
    "collapsed": true,
    "jupyter": {
     "outputs_hidden": true
    }
   },
   "outputs": [
    {
     "data": {
      "text/plain": [
       "True"
      ]
     },
     "execution_count": 7,
     "metadata": {},
     "output_type": "execute_result"
    }
   ],
   "source": [
    "# redundent column\n",
    "anchoring_df['Unnamed: 0'].equals(anchoring_df['_id'])"
   ]
  },
  {
   "cell_type": "code",
   "execution_count": 8,
   "metadata": {},
   "outputs": [
    {
     "data": {
      "text/plain": [
       "42137"
      ]
     },
     "execution_count": 8,
     "metadata": {},
     "output_type": "execute_result"
    }
   ],
   "source": [
    "# how many vessels have records of anchoring\n",
    "anchoring_df['vesselId'].nunique()"
   ]
  },
  {
   "cell_type": "code",
   "execution_count": 9,
   "metadata": {},
   "outputs": [
    {
     "data": {
      "text/plain": [
       "LOW_SPEED_ANCHORED    836049\n",
       "Name: type, dtype: int64"
      ]
     },
     "execution_count": 9,
     "metadata": {},
     "output_type": "execute_result"
    }
   ],
   "source": [
    "anchoring_df['type'].value_counts()"
   ]
  },
  {
   "cell_type": "code",
   "execution_count": 10,
   "metadata": {},
   "outputs": [
    {
     "data": {
      "text/plain": [
       "0.90    748122\n",
       "0.75     87927\n",
       "Name: confidence, dtype: int64"
      ]
     },
     "execution_count": 10,
     "metadata": {},
     "output_type": "execute_result"
    }
   ],
   "source": [
    "anchoring_df['confidence'].value_counts()"
   ]
  },
  {
   "cell_type": "code",
   "execution_count": 11,
   "metadata": {},
   "outputs": [
    {
     "data": {
      "text/plain": [
       "\"{'previousNextPort': {'previousPort': ObjectId('5358fc78b68ca120a07db9f4'), 'previousPortStart': datetime.datetime(2020, 7, 28, 12, 2, 15), 'previousPortEnd': datetime.datetime(2020, 7, 29, 2, 28, 33), 'nextPort': ObjectId('5358fc78b68ca120a07dbad1'), 'nextPortStart': datetime.datetime(2020, 8, 1, 12, 20, 21), 'nextPortEnd': datetime.datetime(2020, 8, 2, 6, 15, 19)}}\""
      ]
     },
     "execution_count": 11,
     "metadata": {},
     "output_type": "execute_result"
    }
   ],
   "source": [
    "anchoring_df.loc[836048,'enrichers']"
   ]
  },
  {
   "cell_type": "code",
   "execution_count": null,
   "metadata": {},
   "outputs": [],
   "source": []
  },
  {
   "cell_type": "markdown",
   "metadata": {},
   "source": [
    "#### Mooring"
   ]
  },
  {
   "cell_type": "code",
   "execution_count": 12,
   "metadata": {},
   "outputs": [],
   "source": [
    "mooring_df = pd.read_csv('Data/mooring.csv')"
   ]
  },
  {
   "cell_type": "code",
   "execution_count": 13,
   "metadata": {},
   "outputs": [
    {
     "name": "stdout",
     "output_type": "stream",
     "text": [
      "(3509070, 15)\n",
      "<class 'pandas.core.frame.DataFrame'>\n",
      "RangeIndex: 3509070 entries, 0 to 3509069\n",
      "Data columns (total 15 columns):\n",
      " #   Column        Dtype  \n",
      "---  ------        -----  \n",
      " 0   Unnamed: 0    object \n",
      " 1   _id           object \n",
      " 2   vesselId      object \n",
      " 3   startDate     object \n",
      " 4   endDate       object \n",
      " 5   createdDate   object \n",
      " 6   type          object \n",
      " 7   confidence    float64\n",
      " 8   isInProgress  bool   \n",
      " 9   firstBlip     object \n",
      " 10  lastBlip      object \n",
      " 11  duration      float64\n",
      " 12  previousPort  object \n",
      " 13  enrichers     object \n",
      " 14  nextPort      object \n",
      "dtypes: bool(1), float64(2), object(12)\n",
      "memory usage: 378.2+ MB\n",
      "None\n"
     ]
    },
    {
     "data": {
      "text/html": [
       "<div>\n",
       "<style scoped>\n",
       "    .dataframe tbody tr th:only-of-type {\n",
       "        vertical-align: middle;\n",
       "    }\n",
       "\n",
       "    .dataframe tbody tr th {\n",
       "        vertical-align: top;\n",
       "    }\n",
       "\n",
       "    .dataframe thead th {\n",
       "        text-align: right;\n",
       "    }\n",
       "</style>\n",
       "<table border=\"1\" class=\"dataframe\">\n",
       "  <thead>\n",
       "    <tr style=\"text-align: right;\">\n",
       "      <th></th>\n",
       "      <th>Unnamed: 0</th>\n",
       "      <th>_id</th>\n",
       "      <th>vesselId</th>\n",
       "      <th>startDate</th>\n",
       "      <th>endDate</th>\n",
       "      <th>createdDate</th>\n",
       "      <th>type</th>\n",
       "      <th>confidence</th>\n",
       "      <th>isInProgress</th>\n",
       "      <th>firstBlip</th>\n",
       "      <th>lastBlip</th>\n",
       "      <th>duration</th>\n",
       "      <th>previousPort</th>\n",
       "      <th>enrichers</th>\n",
       "      <th>nextPort</th>\n",
       "    </tr>\n",
       "  </thead>\n",
       "  <tbody>\n",
       "    <tr>\n",
       "      <th>3509065</th>\n",
       "      <td>5f24b1fce46be9df59d36e85</td>\n",
       "      <td>5f24b1fce46be9df59d36e85</td>\n",
       "      <td>5905c3473d57334c83c36abf</td>\n",
       "      <td>2020-08-01 00:06:20.000</td>\n",
       "      <td>2020-08-03 13:28:35.000</td>\n",
       "      <td>2020-09-29 22:50:15.822</td>\n",
       "      <td>LOW_SPEED_MOORED</td>\n",
       "      <td>0.9</td>\n",
       "      <td>False</td>\n",
       "      <td>{'sog': 2.5, 'th': 314.0, 'geometry': {'type':...</td>\n",
       "      <td>{'sog': 1.9, 'th': 182.0, 'geometry': {'type':...</td>\n",
       "      <td>61.370833</td>\n",
       "      <td>5358fc77b68ca120a07db6b0</td>\n",
       "      <td>{'previousNextPort': {'previousPort': ObjectId...</td>\n",
       "      <td>5358fc77b68ca120a07db6b0</td>\n",
       "    </tr>\n",
       "    <tr>\n",
       "      <th>3509066</th>\n",
       "      <td>5f24b1af82d1c4b425bcc206</td>\n",
       "      <td>5f24b1af82d1c4b425bcc206</td>\n",
       "      <td>5905c3511c9e904c64330a9e</td>\n",
       "      <td>2020-08-01 00:05:03.000</td>\n",
       "      <td>2020-08-02 04:07:21.000</td>\n",
       "      <td>2020-09-29 22:50:15.822</td>\n",
       "      <td>LOW_SPEED_MOORED</td>\n",
       "      <td>0.9</td>\n",
       "      <td>False</td>\n",
       "      <td>{'sog': 2.1, 'th': 69.6, 'geometry': {'type': ...</td>\n",
       "      <td>{'sog': 3.0, 'th': 280.7, 'geometry': {'type':...</td>\n",
       "      <td>28.038333</td>\n",
       "      <td>5358fc78b68ca120a07dbcda</td>\n",
       "      <td>{'previousNextPort': {'previousPort': ObjectId...</td>\n",
       "      <td>5358fc77b68ca120a07db350</td>\n",
       "    </tr>\n",
       "    <tr>\n",
       "      <th>3509067</th>\n",
       "      <td>5f24b191141dda91fab6e8f4</td>\n",
       "      <td>5f24b191141dda91fab6e8f4</td>\n",
       "      <td>5905c34d3d57334c83c36c85</td>\n",
       "      <td>2020-08-01 00:04:33.000</td>\n",
       "      <td>2020-08-02 19:52:22.000</td>\n",
       "      <td>2020-09-29 22:50:15.822</td>\n",
       "      <td>LOW_SPEED_MOORED</td>\n",
       "      <td>0.9</td>\n",
       "      <td>False</td>\n",
       "      <td>{'sog': 2.7, 'th': 352.7, 'geometry': {'type':...</td>\n",
       "      <td>{'sog': 2.7, 'th': 84.5, 'geometry': {'type': ...</td>\n",
       "      <td>43.796944</td>\n",
       "      <td>5358fc78b68ca120a07dba70</td>\n",
       "      <td>{'previousNextPort': {'previousPort': ObjectId...</td>\n",
       "      <td>5358fc78b68ca120a07dbc02</td>\n",
       "    </tr>\n",
       "    <tr>\n",
       "      <th>3509068</th>\n",
       "      <td>5f24b1736e40b17e8a17c989</td>\n",
       "      <td>5f24b1736e40b17e8a17c989</td>\n",
       "      <td>5905c34be7492158394ae242</td>\n",
       "      <td>2020-08-01 00:04:03.000</td>\n",
       "      <td>2020-08-01 06:09:33.000</td>\n",
       "      <td>2020-09-29 22:50:15.822</td>\n",
       "      <td>LOW_SPEED_MOORED</td>\n",
       "      <td>0.9</td>\n",
       "      <td>False</td>\n",
       "      <td>{'sog': 0.9, 'th': 94.1, 'geometry': {'type': ...</td>\n",
       "      <td>{'sog': 0.9, 'th': 171.4, 'geometry': {'type':...</td>\n",
       "      <td>6.091667</td>\n",
       "      <td>5358fc78b68ca120a07db8ea</td>\n",
       "      <td>{'previousNextPort': {'previousPort': ObjectId...</td>\n",
       "      <td>5358fc78b68ca120a07db8ea</td>\n",
       "    </tr>\n",
       "    <tr>\n",
       "      <th>3509069</th>\n",
       "      <td>5f24b115c3490ee7f9c9d94c</td>\n",
       "      <td>5f24b115c3490ee7f9c9d94c</td>\n",
       "      <td>5a478010c565ab0c40c1cccc</td>\n",
       "      <td>2020-08-01 00:02:29.000</td>\n",
       "      <td>2020-08-04 09:02:18.000</td>\n",
       "      <td>2020-09-29 22:50:15.822</td>\n",
       "      <td>LOW_SPEED_MOORED</td>\n",
       "      <td>0.9</td>\n",
       "      <td>False</td>\n",
       "      <td>{'sog': 0.8, 'th': 51.6, 'geometry': {'type': ...</td>\n",
       "      <td>{'sog': 0.0, 'th': 84.2, 'geometry': {'type': ...</td>\n",
       "      <td>80.996944</td>\n",
       "      <td>5358fc78b68ca120a07db9f4</td>\n",
       "      <td>{'previousNextPort': {'previousPort': ObjectId...</td>\n",
       "      <td>57c3f14e34b0b6f275bf131e</td>\n",
       "    </tr>\n",
       "  </tbody>\n",
       "</table>\n",
       "</div>"
      ],
      "text/plain": [
       "                       Unnamed: 0                       _id  \\\n",
       "3509065  5f24b1fce46be9df59d36e85  5f24b1fce46be9df59d36e85   \n",
       "3509066  5f24b1af82d1c4b425bcc206  5f24b1af82d1c4b425bcc206   \n",
       "3509067  5f24b191141dda91fab6e8f4  5f24b191141dda91fab6e8f4   \n",
       "3509068  5f24b1736e40b17e8a17c989  5f24b1736e40b17e8a17c989   \n",
       "3509069  5f24b115c3490ee7f9c9d94c  5f24b115c3490ee7f9c9d94c   \n",
       "\n",
       "                         vesselId                startDate  \\\n",
       "3509065  5905c3473d57334c83c36abf  2020-08-01 00:06:20.000   \n",
       "3509066  5905c3511c9e904c64330a9e  2020-08-01 00:05:03.000   \n",
       "3509067  5905c34d3d57334c83c36c85  2020-08-01 00:04:33.000   \n",
       "3509068  5905c34be7492158394ae242  2020-08-01 00:04:03.000   \n",
       "3509069  5a478010c565ab0c40c1cccc  2020-08-01 00:02:29.000   \n",
       "\n",
       "                         endDate              createdDate              type  \\\n",
       "3509065  2020-08-03 13:28:35.000  2020-09-29 22:50:15.822  LOW_SPEED_MOORED   \n",
       "3509066  2020-08-02 04:07:21.000  2020-09-29 22:50:15.822  LOW_SPEED_MOORED   \n",
       "3509067  2020-08-02 19:52:22.000  2020-09-29 22:50:15.822  LOW_SPEED_MOORED   \n",
       "3509068  2020-08-01 06:09:33.000  2020-09-29 22:50:15.822  LOW_SPEED_MOORED   \n",
       "3509069  2020-08-04 09:02:18.000  2020-09-29 22:50:15.822  LOW_SPEED_MOORED   \n",
       "\n",
       "         confidence  isInProgress  \\\n",
       "3509065         0.9         False   \n",
       "3509066         0.9         False   \n",
       "3509067         0.9         False   \n",
       "3509068         0.9         False   \n",
       "3509069         0.9         False   \n",
       "\n",
       "                                                 firstBlip  \\\n",
       "3509065  {'sog': 2.5, 'th': 314.0, 'geometry': {'type':...   \n",
       "3509066  {'sog': 2.1, 'th': 69.6, 'geometry': {'type': ...   \n",
       "3509067  {'sog': 2.7, 'th': 352.7, 'geometry': {'type':...   \n",
       "3509068  {'sog': 0.9, 'th': 94.1, 'geometry': {'type': ...   \n",
       "3509069  {'sog': 0.8, 'th': 51.6, 'geometry': {'type': ...   \n",
       "\n",
       "                                                  lastBlip   duration  \\\n",
       "3509065  {'sog': 1.9, 'th': 182.0, 'geometry': {'type':...  61.370833   \n",
       "3509066  {'sog': 3.0, 'th': 280.7, 'geometry': {'type':...  28.038333   \n",
       "3509067  {'sog': 2.7, 'th': 84.5, 'geometry': {'type': ...  43.796944   \n",
       "3509068  {'sog': 0.9, 'th': 171.4, 'geometry': {'type':...   6.091667   \n",
       "3509069  {'sog': 0.0, 'th': 84.2, 'geometry': {'type': ...  80.996944   \n",
       "\n",
       "                     previousPort  \\\n",
       "3509065  5358fc77b68ca120a07db6b0   \n",
       "3509066  5358fc78b68ca120a07dbcda   \n",
       "3509067  5358fc78b68ca120a07dba70   \n",
       "3509068  5358fc78b68ca120a07db8ea   \n",
       "3509069  5358fc78b68ca120a07db9f4   \n",
       "\n",
       "                                                 enrichers  \\\n",
       "3509065  {'previousNextPort': {'previousPort': ObjectId...   \n",
       "3509066  {'previousNextPort': {'previousPort': ObjectId...   \n",
       "3509067  {'previousNextPort': {'previousPort': ObjectId...   \n",
       "3509068  {'previousNextPort': {'previousPort': ObjectId...   \n",
       "3509069  {'previousNextPort': {'previousPort': ObjectId...   \n",
       "\n",
       "                         nextPort  \n",
       "3509065  5358fc77b68ca120a07db6b0  \n",
       "3509066  5358fc77b68ca120a07db350  \n",
       "3509067  5358fc78b68ca120a07dbc02  \n",
       "3509068  5358fc78b68ca120a07db8ea  \n",
       "3509069  57c3f14e34b0b6f275bf131e  "
      ]
     },
     "execution_count": 13,
     "metadata": {},
     "output_type": "execute_result"
    }
   ],
   "source": [
    "print(mooring_df.shape)\n",
    "print(mooring_df.info())\n",
    "mooring_df.tail()"
   ]
  },
  {
   "cell_type": "code",
   "execution_count": 14,
   "metadata": {},
   "outputs": [
    {
     "data": {
      "text/plain": [
       "LOW_SPEED_MOORED    3509070\n",
       "Name: type, dtype: int64"
      ]
     },
     "execution_count": 14,
     "metadata": {},
     "output_type": "execute_result"
    }
   ],
   "source": [
    "mooring_df['type'].value_counts()"
   ]
  },
  {
   "cell_type": "code",
   "execution_count": 15,
   "metadata": {},
   "outputs": [
    {
     "data": {
      "text/plain": [
       "80551"
      ]
     },
     "execution_count": 15,
     "metadata": {},
     "output_type": "execute_result"
    }
   ],
   "source": [
    "mooring_df['vesselId'].nunique()"
   ]
  },
  {
   "cell_type": "code",
   "execution_count": null,
   "metadata": {},
   "outputs": [],
   "source": []
  },
  {
   "cell_type": "markdown",
   "metadata": {},
   "source": [
    "#### Drifting"
   ]
  },
  {
   "cell_type": "code",
   "execution_count": 16,
   "metadata": {},
   "outputs": [],
   "source": [
    "drifting_df = pd.read_csv('Data/drifting.csv')"
   ]
  },
  {
   "cell_type": "code",
   "execution_count": 17,
   "metadata": {},
   "outputs": [
    {
     "name": "stdout",
     "output_type": "stream",
     "text": [
      "(226751, 16)\n",
      "<class 'pandas.core.frame.DataFrame'>\n",
      "RangeIndex: 226751 entries, 0 to 226750\n",
      "Data columns (total 16 columns):\n",
      " #   Column        Non-Null Count   Dtype  \n",
      "---  ------        --------------   -----  \n",
      " 0   Unnamed: 0    226751 non-null  object \n",
      " 1   _id           226751 non-null  object \n",
      " 2   vesselId      226751 non-null  object \n",
      " 3   startDate     226751 non-null  object \n",
      " 4   endDate       226125 non-null  object \n",
      " 5   createdDate   226751 non-null  object \n",
      " 6   type          226751 non-null  object \n",
      " 7   confidence    226751 non-null  float64\n",
      " 8   isInProgress  226751 non-null  bool   \n",
      " 9   firstBlip     226751 non-null  object \n",
      " 10  previousPort  218728 non-null  object \n",
      " 11  enrichers     221734 non-null  object \n",
      " 12  lastBlip      226125 non-null  object \n",
      " 13  duration      226125 non-null  float64\n",
      " 14  isOutlier     65229 non-null   object \n",
      " 15  nextPort      199048 non-null  object \n",
      "dtypes: bool(1), float64(2), object(13)\n",
      "memory usage: 26.2+ MB\n",
      "None\n"
     ]
    },
    {
     "data": {
      "text/html": [
       "<div>\n",
       "<style scoped>\n",
       "    .dataframe tbody tr th:only-of-type {\n",
       "        vertical-align: middle;\n",
       "    }\n",
       "\n",
       "    .dataframe tbody tr th {\n",
       "        vertical-align: top;\n",
       "    }\n",
       "\n",
       "    .dataframe thead th {\n",
       "        text-align: right;\n",
       "    }\n",
       "</style>\n",
       "<table border=\"1\" class=\"dataframe\">\n",
       "  <thead>\n",
       "    <tr style=\"text-align: right;\">\n",
       "      <th></th>\n",
       "      <th>Unnamed: 0</th>\n",
       "      <th>_id</th>\n",
       "      <th>vesselId</th>\n",
       "      <th>startDate</th>\n",
       "      <th>endDate</th>\n",
       "      <th>createdDate</th>\n",
       "      <th>type</th>\n",
       "      <th>confidence</th>\n",
       "      <th>isInProgress</th>\n",
       "      <th>firstBlip</th>\n",
       "      <th>previousPort</th>\n",
       "      <th>enrichers</th>\n",
       "      <th>lastBlip</th>\n",
       "      <th>duration</th>\n",
       "      <th>isOutlier</th>\n",
       "      <th>nextPort</th>\n",
       "    </tr>\n",
       "  </thead>\n",
       "  <tbody>\n",
       "    <tr>\n",
       "      <th>226746</th>\n",
       "      <td>5f24bd51e9258b55e27683e7</td>\n",
       "      <td>5f24bd51e9258b55e27683e7</td>\n",
       "      <td>5905c350dd2b844c51948923</td>\n",
       "      <td>2020-08-01 00:54:41.000</td>\n",
       "      <td>2020-08-01 20:03:13.000</td>\n",
       "      <td>2021-02-01 20:26:47.818</td>\n",
       "      <td>LOW_SPEED_DRIFTING</td>\n",
       "      <td>0.90</td>\n",
       "      <td>False</td>\n",
       "      <td>{'sog': 2.7, 'th': 203.5, 'geometry': {'type':...</td>\n",
       "      <td>5de7b65629be4959a24ad857</td>\n",
       "      <td>{'previousNextPort': {'previousPort': ObjectId...</td>\n",
       "      <td>{'sog': 2.6, 'th': 152.3, 'geometry': {'type':...</td>\n",
       "      <td>19.142222</td>\n",
       "      <td>NaN</td>\n",
       "      <td>5358fc78b68ca120a07dbd24</td>\n",
       "    </tr>\n",
       "    <tr>\n",
       "      <th>226747</th>\n",
       "      <td>5f24bb00b063712b9cf41e28</td>\n",
       "      <td>5f24bb00b063712b9cf41e28</td>\n",
       "      <td>5905dcb69a695856d2d6468d</td>\n",
       "      <td>2020-08-01 00:44:48.000</td>\n",
       "      <td>2020-08-01 19:05:03.000</td>\n",
       "      <td>2021-02-01 20:26:47.818</td>\n",
       "      <td>LOW_SPEED_DRIFTING</td>\n",
       "      <td>0.90</td>\n",
       "      <td>False</td>\n",
       "      <td>{'sog': 2.1, 'th': 140.7, 'geometry': {'type':...</td>\n",
       "      <td>5358fc78b68ca120a07dbc09</td>\n",
       "      <td>{'previousNextPort': {'previousPort': ObjectId...</td>\n",
       "      <td>{'sog': 1.5, 'th': 199.1, 'geometry': {'type':...</td>\n",
       "      <td>18.337500</td>\n",
       "      <td>NaN</td>\n",
       "      <td>5358fc77b68ca120a07db247</td>\n",
       "    </tr>\n",
       "    <tr>\n",
       "      <th>226748</th>\n",
       "      <td>5f24b6a488445e7e0abe243e</td>\n",
       "      <td>5f24b6a488445e7e0abe243e</td>\n",
       "      <td>5c991a3d8239e53fed0c287e</td>\n",
       "      <td>2020-08-01 00:26:12.000</td>\n",
       "      <td>2020-08-01 08:08:46.000</td>\n",
       "      <td>2021-02-01 20:26:47.818</td>\n",
       "      <td>LOW_SPEED_DRIFTING</td>\n",
       "      <td>0.90</td>\n",
       "      <td>False</td>\n",
       "      <td>{'sog': 2.5, 'th': 35.5, 'geometry': {'type': ...</td>\n",
       "      <td>54880c9b2f16092e9efe8a49</td>\n",
       "      <td>{'previousNextPort': {'previousPort': ObjectId...</td>\n",
       "      <td>{'sog': 3.0, 'th': 48.0, 'geometry': {'type': ...</td>\n",
       "      <td>7.709444</td>\n",
       "      <td>NaN</td>\n",
       "      <td>5358fc78b68ca120a07dbb1d</td>\n",
       "    </tr>\n",
       "    <tr>\n",
       "      <th>226749</th>\n",
       "      <td>5f24b604828e3eeaf4e42a85</td>\n",
       "      <td>5f24b604828e3eeaf4e42a85</td>\n",
       "      <td>5905c893c82d655866a18533</td>\n",
       "      <td>2020-08-01 00:23:32.000</td>\n",
       "      <td>2020-08-01 03:24:42.000</td>\n",
       "      <td>2021-02-01 20:26:47.818</td>\n",
       "      <td>LOW_SPEED_DRIFTING</td>\n",
       "      <td>0.75</td>\n",
       "      <td>False</td>\n",
       "      <td>{'sog': 1.9, 'th': 67.4, 'geometry': {'type': ...</td>\n",
       "      <td>5358fc78b68ca120a07dbc1f</td>\n",
       "      <td>{'previousNextPort': {'previousPort': ObjectId...</td>\n",
       "      <td>{'sog': 1.6, 'th': 43.4, 'geometry': {'type': ...</td>\n",
       "      <td>3.019444</td>\n",
       "      <td>NaN</td>\n",
       "      <td>5358fc78b68ca120a07dbc71</td>\n",
       "    </tr>\n",
       "    <tr>\n",
       "      <th>226750</th>\n",
       "      <td>5f24b0809f7f7f7c0bc49a19</td>\n",
       "      <td>5f24b0809f7f7f7c0bc49a19</td>\n",
       "      <td>590672b92f24b10ede6f6af3</td>\n",
       "      <td>2020-08-01 00:00:00.000</td>\n",
       "      <td>2020-08-01 08:30:09.000</td>\n",
       "      <td>2021-02-01 20:26:47.818</td>\n",
       "      <td>LOW_SPEED_DRIFTING</td>\n",
       "      <td>0.90</td>\n",
       "      <td>False</td>\n",
       "      <td>{'sog': 0.1, 'th': 50.4, 'geometry': {'type': ...</td>\n",
       "      <td>5de770caa1464c597ccab014</td>\n",
       "      <td>{'previousNextPort': {'previousPort': ObjectId...</td>\n",
       "      <td>{'sog': 2.5, 'th': 240.9, 'geometry': {'type':...</td>\n",
       "      <td>8.502500</td>\n",
       "      <td>NaN</td>\n",
       "      <td>5358fc78b68ca120a07db9d2</td>\n",
       "    </tr>\n",
       "  </tbody>\n",
       "</table>\n",
       "</div>"
      ],
      "text/plain": [
       "                      Unnamed: 0                       _id  \\\n",
       "226746  5f24bd51e9258b55e27683e7  5f24bd51e9258b55e27683e7   \n",
       "226747  5f24bb00b063712b9cf41e28  5f24bb00b063712b9cf41e28   \n",
       "226748  5f24b6a488445e7e0abe243e  5f24b6a488445e7e0abe243e   \n",
       "226749  5f24b604828e3eeaf4e42a85  5f24b604828e3eeaf4e42a85   \n",
       "226750  5f24b0809f7f7f7c0bc49a19  5f24b0809f7f7f7c0bc49a19   \n",
       "\n",
       "                        vesselId                startDate  \\\n",
       "226746  5905c350dd2b844c51948923  2020-08-01 00:54:41.000   \n",
       "226747  5905dcb69a695856d2d6468d  2020-08-01 00:44:48.000   \n",
       "226748  5c991a3d8239e53fed0c287e  2020-08-01 00:26:12.000   \n",
       "226749  5905c893c82d655866a18533  2020-08-01 00:23:32.000   \n",
       "226750  590672b92f24b10ede6f6af3  2020-08-01 00:00:00.000   \n",
       "\n",
       "                        endDate              createdDate                type  \\\n",
       "226746  2020-08-01 20:03:13.000  2021-02-01 20:26:47.818  LOW_SPEED_DRIFTING   \n",
       "226747  2020-08-01 19:05:03.000  2021-02-01 20:26:47.818  LOW_SPEED_DRIFTING   \n",
       "226748  2020-08-01 08:08:46.000  2021-02-01 20:26:47.818  LOW_SPEED_DRIFTING   \n",
       "226749  2020-08-01 03:24:42.000  2021-02-01 20:26:47.818  LOW_SPEED_DRIFTING   \n",
       "226750  2020-08-01 08:30:09.000  2021-02-01 20:26:47.818  LOW_SPEED_DRIFTING   \n",
       "\n",
       "        confidence  isInProgress  \\\n",
       "226746        0.90         False   \n",
       "226747        0.90         False   \n",
       "226748        0.90         False   \n",
       "226749        0.75         False   \n",
       "226750        0.90         False   \n",
       "\n",
       "                                                firstBlip  \\\n",
       "226746  {'sog': 2.7, 'th': 203.5, 'geometry': {'type':...   \n",
       "226747  {'sog': 2.1, 'th': 140.7, 'geometry': {'type':...   \n",
       "226748  {'sog': 2.5, 'th': 35.5, 'geometry': {'type': ...   \n",
       "226749  {'sog': 1.9, 'th': 67.4, 'geometry': {'type': ...   \n",
       "226750  {'sog': 0.1, 'th': 50.4, 'geometry': {'type': ...   \n",
       "\n",
       "                    previousPort  \\\n",
       "226746  5de7b65629be4959a24ad857   \n",
       "226747  5358fc78b68ca120a07dbc09   \n",
       "226748  54880c9b2f16092e9efe8a49   \n",
       "226749  5358fc78b68ca120a07dbc1f   \n",
       "226750  5de770caa1464c597ccab014   \n",
       "\n",
       "                                                enrichers  \\\n",
       "226746  {'previousNextPort': {'previousPort': ObjectId...   \n",
       "226747  {'previousNextPort': {'previousPort': ObjectId...   \n",
       "226748  {'previousNextPort': {'previousPort': ObjectId...   \n",
       "226749  {'previousNextPort': {'previousPort': ObjectId...   \n",
       "226750  {'previousNextPort': {'previousPort': ObjectId...   \n",
       "\n",
       "                                                 lastBlip   duration  \\\n",
       "226746  {'sog': 2.6, 'th': 152.3, 'geometry': {'type':...  19.142222   \n",
       "226747  {'sog': 1.5, 'th': 199.1, 'geometry': {'type':...  18.337500   \n",
       "226748  {'sog': 3.0, 'th': 48.0, 'geometry': {'type': ...   7.709444   \n",
       "226749  {'sog': 1.6, 'th': 43.4, 'geometry': {'type': ...   3.019444   \n",
       "226750  {'sog': 2.5, 'th': 240.9, 'geometry': {'type':...   8.502500   \n",
       "\n",
       "       isOutlier                  nextPort  \n",
       "226746       NaN  5358fc78b68ca120a07dbd24  \n",
       "226747       NaN  5358fc77b68ca120a07db247  \n",
       "226748       NaN  5358fc78b68ca120a07dbb1d  \n",
       "226749       NaN  5358fc78b68ca120a07dbc71  \n",
       "226750       NaN  5358fc78b68ca120a07db9d2  "
      ]
     },
     "execution_count": 17,
     "metadata": {},
     "output_type": "execute_result"
    }
   ],
   "source": [
    "print(drifting_df.shape)\n",
    "print(drifting_df.info())\n",
    "drifting_df.tail()"
   ]
  },
  {
   "cell_type": "code",
   "execution_count": 18,
   "metadata": {},
   "outputs": [
    {
     "data": {
      "text/plain": [
       "LOW_SPEED_DRIFTING    226751\n",
       "Name: type, dtype: int64"
      ]
     },
     "execution_count": 18,
     "metadata": {},
     "output_type": "execute_result"
    }
   ],
   "source": [
    "drifting_df['type'].value_counts()"
   ]
  },
  {
   "cell_type": "code",
   "execution_count": null,
   "metadata": {},
   "outputs": [],
   "source": []
  },
  {
   "cell_type": "markdown",
   "metadata": {},
   "source": [
    "#### Port Calls"
   ]
  },
  {
   "cell_type": "code",
   "execution_count": 19,
   "metadata": {},
   "outputs": [],
   "source": [
    "port_calls_df = pd.read_csv('Data/port_calls.csv')"
   ]
  },
  {
   "cell_type": "code",
   "execution_count": 20,
   "metadata": {},
   "outputs": [
    {
     "name": "stdout",
     "output_type": "stream",
     "text": [
      "(3216814, 17)\n",
      "<class 'pandas.core.frame.DataFrame'>\n",
      "RangeIndex: 3216814 entries, 0 to 3216813\n",
      "Data columns (total 17 columns):\n",
      " #   Column        Dtype  \n",
      "---  ------        -----  \n",
      " 0   Unnamed: 0    object \n",
      " 1   _id           object \n",
      " 2   vesselId      object \n",
      " 3   startDate     object \n",
      " 4   endDate       object \n",
      " 5   createdDate   object \n",
      " 6   type          object \n",
      " 7   confidence    float64\n",
      " 8   isInProgress  bool   \n",
      " 9   firstBlip     object \n",
      " 10  lastBlip      object \n",
      " 11  duration      float64\n",
      " 12  nextPort      object \n",
      " 13  previousPort  object \n",
      " 14  enrichers     object \n",
      " 15  polygonId     object \n",
      " 16  polygonType   object \n",
      "dtypes: bool(1), float64(2), object(14)\n",
      "memory usage: 395.7+ MB\n",
      "None\n"
     ]
    },
    {
     "data": {
      "text/html": [
       "<div>\n",
       "<style scoped>\n",
       "    .dataframe tbody tr th:only-of-type {\n",
       "        vertical-align: middle;\n",
       "    }\n",
       "\n",
       "    .dataframe tbody tr th {\n",
       "        vertical-align: top;\n",
       "    }\n",
       "\n",
       "    .dataframe thead th {\n",
       "        text-align: right;\n",
       "    }\n",
       "</style>\n",
       "<table border=\"1\" class=\"dataframe\">\n",
       "  <thead>\n",
       "    <tr style=\"text-align: right;\">\n",
       "      <th></th>\n",
       "      <th>Unnamed: 0</th>\n",
       "      <th>_id</th>\n",
       "      <th>vesselId</th>\n",
       "      <th>startDate</th>\n",
       "      <th>endDate</th>\n",
       "      <th>createdDate</th>\n",
       "      <th>type</th>\n",
       "      <th>confidence</th>\n",
       "      <th>isInProgress</th>\n",
       "      <th>firstBlip</th>\n",
       "      <th>lastBlip</th>\n",
       "      <th>duration</th>\n",
       "      <th>nextPort</th>\n",
       "      <th>previousPort</th>\n",
       "      <th>enrichers</th>\n",
       "      <th>polygonId</th>\n",
       "      <th>polygonType</th>\n",
       "    </tr>\n",
       "  </thead>\n",
       "  <tbody>\n",
       "    <tr>\n",
       "      <th>3216809</th>\n",
       "      <td>6017a8119f8da565d5f2123b</td>\n",
       "      <td>6017a8119f8da565d5f2123b</td>\n",
       "      <td>5905c5f1f211af4c5ec8c22d</td>\n",
       "      <td>2021-02-01 07:04:49.000</td>\n",
       "      <td>2021-02-02 07:56:07.000</td>\n",
       "      <td>2021-02-06 12:29:43.110</td>\n",
       "      <td>PORT_CALL</td>\n",
       "      <td>1.0</td>\n",
       "      <td>False</td>\n",
       "      <td>{'sog': 10.5, 'th': 351.7, 'geometry': {'type'...</td>\n",
       "      <td>{'sog': 12.4, 'th': 163.7, 'geometry': {'type'...</td>\n",
       "      <td>24.855000</td>\n",
       "      <td>5358fc78b68ca120a07dbadd</td>\n",
       "      <td>5358fc78b68ca120a07dbadd</td>\n",
       "      <td>{'previousNextPort': {'previousPort': ObjectId...</td>\n",
       "      <td>5358fc78b68ca120a07dbc52</td>\n",
       "      <td>PORT</td>\n",
       "    </tr>\n",
       "    <tr>\n",
       "      <th>3216810</th>\n",
       "      <td>6010daa68095515c2b40b9fd</td>\n",
       "      <td>6010daa68095515c2b40b9fd</td>\n",
       "      <td>5905c5f1f211af4c5ec8c22d</td>\n",
       "      <td>2021-01-27 03:14:46.000</td>\n",
       "      <td>2021-01-27 20:07:41.000</td>\n",
       "      <td>2021-02-02 05:16:08.127</td>\n",
       "      <td>PORT_CALL</td>\n",
       "      <td>1.0</td>\n",
       "      <td>False</td>\n",
       "      <td>{'sog': 8.4, 'th': 106.7, 'geometry': {'type':...</td>\n",
       "      <td>{'sog': 10.4, 'th': 256.6, 'geometry': {'type'...</td>\n",
       "      <td>16.881944</td>\n",
       "      <td>57c539e9447c1ee77504c390</td>\n",
       "      <td>5358fc78b68ca120a07dbc52</td>\n",
       "      <td>{'previousNextPort': {'previousPort': ObjectId...</td>\n",
       "      <td>5358fc78b68ca120a07dbadd</td>\n",
       "      <td>PORT</td>\n",
       "    </tr>\n",
       "    <tr>\n",
       "      <th>3216811</th>\n",
       "      <td>601c20f5f0cfef0ed1e67b78</td>\n",
       "      <td>601c20f5f0cfef0ed1e67b78</td>\n",
       "      <td>5905c5f1f211af4c5ec8c22d</td>\n",
       "      <td>2021-02-04 16:29:41.000</td>\n",
       "      <td>2021-02-04 23:46:57.000</td>\n",
       "      <td>2021-02-06 12:29:43.110</td>\n",
       "      <td>PORT_CALL</td>\n",
       "      <td>1.0</td>\n",
       "      <td>False</td>\n",
       "      <td>{'sog': 1.1, 'th': 66.6, 'geometry': {'type': ...</td>\n",
       "      <td>{'sog': 3.5, 'th': 155.8, 'geometry': {'type':...</td>\n",
       "      <td>7.287778</td>\n",
       "      <td>5358fc78b68ca120a07dba72</td>\n",
       "      <td>5358fc78b68ca120a07dbadd</td>\n",
       "      <td>{'previousNextPort': {'previousPort': ObjectId...</td>\n",
       "      <td>57c539e9447c1ee77504c390</td>\n",
       "      <td>PORT</td>\n",
       "    </tr>\n",
       "    <tr>\n",
       "      <th>3216812</th>\n",
       "      <td>601a99bb5aa341bad22a2152</td>\n",
       "      <td>601a99bb5aa341bad22a2152</td>\n",
       "      <td>5905c5f1f211af4c5ec8c22d</td>\n",
       "      <td>2021-02-03 12:40:27.000</td>\n",
       "      <td>2021-02-04 02:02:14.000</td>\n",
       "      <td>2021-02-06 12:29:43.110</td>\n",
       "      <td>PORT_CALL</td>\n",
       "      <td>1.0</td>\n",
       "      <td>False</td>\n",
       "      <td>{'sog': 9.9, 'th': 135.9, 'geometry': {'type':...</td>\n",
       "      <td>{'sog': 9.2, 'th': 261.2, 'geometry': {'type':...</td>\n",
       "      <td>13.363056</td>\n",
       "      <td>57c539e9447c1ee77504c390</td>\n",
       "      <td>5358fc78b68ca120a07dbc52</td>\n",
       "      <td>{'previousNextPort': {'previousPort': ObjectId...</td>\n",
       "      <td>5358fc78b68ca120a07dbadd</td>\n",
       "      <td>PORT</td>\n",
       "    </tr>\n",
       "    <tr>\n",
       "      <th>3216813</th>\n",
       "      <td>601e52636ea3d0fda03a3247</td>\n",
       "      <td>601e52636ea3d0fda03a3247</td>\n",
       "      <td>5905c5f1f211af4c5ec8c22d</td>\n",
       "      <td>2021-02-06 08:25:07.000</td>\n",
       "      <td>NaN</td>\n",
       "      <td>2021-02-06 12:29:43.110</td>\n",
       "      <td>PORT_CALL</td>\n",
       "      <td>1.0</td>\n",
       "      <td>True</td>\n",
       "      <td>{'sog': 10.5, 'th': 227.6, 'geometry': {'type'...</td>\n",
       "      <td>NaN</td>\n",
       "      <td>NaN</td>\n",
       "      <td>NaN</td>\n",
       "      <td>57c539e9447c1ee77504c390</td>\n",
       "      <td>{'previousNextPort': {'previousPort': ObjectId...</td>\n",
       "      <td>5358fc78b68ca120a07dba72</td>\n",
       "      <td>PORT</td>\n",
       "    </tr>\n",
       "  </tbody>\n",
       "</table>\n",
       "</div>"
      ],
      "text/plain": [
       "                       Unnamed: 0                       _id  \\\n",
       "3216809  6017a8119f8da565d5f2123b  6017a8119f8da565d5f2123b   \n",
       "3216810  6010daa68095515c2b40b9fd  6010daa68095515c2b40b9fd   \n",
       "3216811  601c20f5f0cfef0ed1e67b78  601c20f5f0cfef0ed1e67b78   \n",
       "3216812  601a99bb5aa341bad22a2152  601a99bb5aa341bad22a2152   \n",
       "3216813  601e52636ea3d0fda03a3247  601e52636ea3d0fda03a3247   \n",
       "\n",
       "                         vesselId                startDate  \\\n",
       "3216809  5905c5f1f211af4c5ec8c22d  2021-02-01 07:04:49.000   \n",
       "3216810  5905c5f1f211af4c5ec8c22d  2021-01-27 03:14:46.000   \n",
       "3216811  5905c5f1f211af4c5ec8c22d  2021-02-04 16:29:41.000   \n",
       "3216812  5905c5f1f211af4c5ec8c22d  2021-02-03 12:40:27.000   \n",
       "3216813  5905c5f1f211af4c5ec8c22d  2021-02-06 08:25:07.000   \n",
       "\n",
       "                         endDate              createdDate       type  \\\n",
       "3216809  2021-02-02 07:56:07.000  2021-02-06 12:29:43.110  PORT_CALL   \n",
       "3216810  2021-01-27 20:07:41.000  2021-02-02 05:16:08.127  PORT_CALL   \n",
       "3216811  2021-02-04 23:46:57.000  2021-02-06 12:29:43.110  PORT_CALL   \n",
       "3216812  2021-02-04 02:02:14.000  2021-02-06 12:29:43.110  PORT_CALL   \n",
       "3216813                      NaN  2021-02-06 12:29:43.110  PORT_CALL   \n",
       "\n",
       "         confidence  isInProgress  \\\n",
       "3216809         1.0         False   \n",
       "3216810         1.0         False   \n",
       "3216811         1.0         False   \n",
       "3216812         1.0         False   \n",
       "3216813         1.0          True   \n",
       "\n",
       "                                                 firstBlip  \\\n",
       "3216809  {'sog': 10.5, 'th': 351.7, 'geometry': {'type'...   \n",
       "3216810  {'sog': 8.4, 'th': 106.7, 'geometry': {'type':...   \n",
       "3216811  {'sog': 1.1, 'th': 66.6, 'geometry': {'type': ...   \n",
       "3216812  {'sog': 9.9, 'th': 135.9, 'geometry': {'type':...   \n",
       "3216813  {'sog': 10.5, 'th': 227.6, 'geometry': {'type'...   \n",
       "\n",
       "                                                  lastBlip   duration  \\\n",
       "3216809  {'sog': 12.4, 'th': 163.7, 'geometry': {'type'...  24.855000   \n",
       "3216810  {'sog': 10.4, 'th': 256.6, 'geometry': {'type'...  16.881944   \n",
       "3216811  {'sog': 3.5, 'th': 155.8, 'geometry': {'type':...   7.287778   \n",
       "3216812  {'sog': 9.2, 'th': 261.2, 'geometry': {'type':...  13.363056   \n",
       "3216813                                                NaN        NaN   \n",
       "\n",
       "                         nextPort              previousPort  \\\n",
       "3216809  5358fc78b68ca120a07dbadd  5358fc78b68ca120a07dbadd   \n",
       "3216810  57c539e9447c1ee77504c390  5358fc78b68ca120a07dbc52   \n",
       "3216811  5358fc78b68ca120a07dba72  5358fc78b68ca120a07dbadd   \n",
       "3216812  57c539e9447c1ee77504c390  5358fc78b68ca120a07dbc52   \n",
       "3216813                       NaN  57c539e9447c1ee77504c390   \n",
       "\n",
       "                                                 enrichers  \\\n",
       "3216809  {'previousNextPort': {'previousPort': ObjectId...   \n",
       "3216810  {'previousNextPort': {'previousPort': ObjectId...   \n",
       "3216811  {'previousNextPort': {'previousPort': ObjectId...   \n",
       "3216812  {'previousNextPort': {'previousPort': ObjectId...   \n",
       "3216813  {'previousNextPort': {'previousPort': ObjectId...   \n",
       "\n",
       "                        polygonId polygonType  \n",
       "3216809  5358fc78b68ca120a07dbc52        PORT  \n",
       "3216810  5358fc78b68ca120a07dbadd        PORT  \n",
       "3216811  57c539e9447c1ee77504c390        PORT  \n",
       "3216812  5358fc78b68ca120a07dbadd        PORT  \n",
       "3216813  5358fc78b68ca120a07dba72        PORT  "
      ]
     },
     "execution_count": 20,
     "metadata": {},
     "output_type": "execute_result"
    }
   ],
   "source": [
    "print(port_calls_df.shape)\n",
    "print(port_calls_df.info())\n",
    "port_calls_df.tail()"
   ]
  },
  {
   "cell_type": "code",
   "execution_count": 21,
   "metadata": {},
   "outputs": [
    {
     "data": {
      "text/plain": [
       "PORT_CALL    3216814\n",
       "Name: type, dtype: int64"
      ]
     },
     "execution_count": 21,
     "metadata": {},
     "output_type": "execute_result"
    }
   ],
   "source": [
    "port_calls_df['type'].value_counts()"
   ]
  },
  {
   "cell_type": "code",
   "execution_count": 22,
   "metadata": {},
   "outputs": [
    {
     "data": {
      "text/plain": [
       "PORT             3078682\n",
       "FACILITY_AREA     138132\n",
       "Name: polygonType, dtype: int64"
      ]
     },
     "execution_count": 22,
     "metadata": {},
     "output_type": "execute_result"
    }
   ],
   "source": [
    "port_calls_df['polygonType'].value_counts()"
   ]
  },
  {
   "cell_type": "code",
   "execution_count": null,
   "metadata": {},
   "outputs": [],
   "source": []
  },
  {
   "cell_type": "markdown",
   "metadata": {},
   "source": [
    "## Ports Info"
   ]
  },
  {
   "cell_type": "code",
   "execution_count": 23,
   "metadata": {},
   "outputs": [],
   "source": [
    "ports_df = pd.read_json('Data/ports.json', orient='index')"
   ]
  },
  {
   "cell_type": "code",
   "execution_count": 24,
   "metadata": {},
   "outputs": [
    {
     "name": "stdout",
     "output_type": "stream",
     "text": [
      "(9350, 77)\n",
      "<class 'pandas.core.frame.DataFrame'>\n",
      "Index: 9350 entries, 60190414a4e804c72ef695e2 to 60190414a4e804c72ef6ba67\n",
      "Data columns (total 77 columns):\n",
      " #   Column              Non-Null Count  Dtype  \n",
      "---  ------              --------------  -----  \n",
      " 0   _id                 9350 non-null   object \n",
      " 1   port_id             9350 non-null   object \n",
      " 2   name                9350 non-null   object \n",
      " 3   country             9350 non-null   object \n",
      " 4   isps_compliance     4262 non-null   object \n",
      " 5   center_coordinates  9350 non-null   object \n",
      " 6   area                9350 non-null   float64\n",
      " 7   is_facility_area    1029 non-null   float64\n",
      " 8   region_no           2948 non-null   float64\n",
      " 9   port_name           2948 non-null   object \n",
      " 10  harborsize          2948 non-null   object \n",
      " 11  harbortype          2948 non-null   object \n",
      " 12  shelter             2948 non-null   object \n",
      " 13  entry_tide          2948 non-null   object \n",
      " 14  entryswell          2948 non-null   object \n",
      " 15  entry_ice           2948 non-null   object \n",
      " 16  entryother          2948 non-null   object \n",
      " 17  overhd_lim          2948 non-null   object \n",
      " 18  chan_depth          2948 non-null   object \n",
      " 19  anch_depth          2948 non-null   object \n",
      " 20  cargodepth          2948 non-null   object \n",
      " 21  oil_depth           2948 non-null   object \n",
      " 22  tide_range          2948 non-null   float64\n",
      " 23  max_vessel          2948 non-null   object \n",
      " 24  holdground          2948 non-null   object \n",
      " 25  turn_basin          2948 non-null   object \n",
      " 26  portofentr          2948 non-null   object \n",
      " 27  us_rep              2948 non-null   object \n",
      " 28  etamessage          2948 non-null   object \n",
      " 29  pilot_reqd          2948 non-null   object \n",
      " 30  pilotavail          2948 non-null   object \n",
      " 31  loc_assist          2948 non-null   object \n",
      " 32  pilotadvsd          2948 non-null   object \n",
      " 33  tugsalvage          2948 non-null   object \n",
      " 34  tug_assist          2948 non-null   object \n",
      " 35  pratique            2948 non-null   object \n",
      " 36  sscc_cert           2948 non-null   object \n",
      " 37  quar_other          2948 non-null   object \n",
      " 38  comm_phone          2948 non-null   object \n",
      " 39  comm_fax            2948 non-null   object \n",
      " 40  comm_radio          2948 non-null   object \n",
      " 41  comm_vhf            2948 non-null   object \n",
      " 42  comm_air            2948 non-null   object \n",
      " 43  comm_rail           2948 non-null   object \n",
      " 44  cargowharf          2948 non-null   object \n",
      " 45  cargo_anch          2948 non-null   object \n",
      " 46  cargmdmoor          2948 non-null   object \n",
      " 47  carbchmoor          2948 non-null   object \n",
      " 48  caricemoor          2948 non-null   object \n",
      " 49  med_facil           2948 non-null   object \n",
      " 50  garbage             2948 non-null   object \n",
      " 51  degauss             2948 non-null   object \n",
      " 52  drtyballst          2948 non-null   object \n",
      " 53  cranefixed          2948 non-null   object \n",
      " 54  cranemobil          2948 non-null   object \n",
      " 55  cranefloat          2948 non-null   object \n",
      " 56  lift_100_           2948 non-null   object \n",
      " 57  lift50_100          2948 non-null   object \n",
      " 58  lift_25_49          2948 non-null   object \n",
      " 59  lift_0_24           2948 non-null   object \n",
      " 60  longshore           2948 non-null   object \n",
      " 61  electrical          2948 non-null   object \n",
      " 62  serv_steam          2948 non-null   object \n",
      " 63  nav_equip           2948 non-null   object \n",
      " 64  elecrepair          2948 non-null   object \n",
      " 65  provisions          2948 non-null   object \n",
      " 66  water               2948 non-null   object \n",
      " 67  fuel_oil            2948 non-null   object \n",
      " 68  diesel              2948 non-null   object \n",
      " 69  decksupply          2948 non-null   object \n",
      " 70  eng_supply          2948 non-null   object \n",
      " 71  repaircode          2948 non-null   object \n",
      " 72  drydock             2948 non-null   object \n",
      " 73  railway             2948 non-null   object \n",
      " 74  match               2948 non-null   object \n",
      " 75  matched_dist        2948 non-null   float64\n",
      " 76  lev_dist            2948 non-null   float64\n",
      "dtypes: float64(6), object(71)\n",
      "memory usage: 5.6+ MB\n",
      "None\n"
     ]
    },
    {
     "data": {
      "text/html": [
       "<div>\n",
       "<style scoped>\n",
       "    .dataframe tbody tr th:only-of-type {\n",
       "        vertical-align: middle;\n",
       "    }\n",
       "\n",
       "    .dataframe tbody tr th {\n",
       "        vertical-align: top;\n",
       "    }\n",
       "\n",
       "    .dataframe thead th {\n",
       "        text-align: right;\n",
       "    }\n",
       "</style>\n",
       "<table border=\"1\" class=\"dataframe\">\n",
       "  <thead>\n",
       "    <tr style=\"text-align: right;\">\n",
       "      <th></th>\n",
       "      <th>_id</th>\n",
       "      <th>port_id</th>\n",
       "      <th>name</th>\n",
       "      <th>country</th>\n",
       "      <th>isps_compliance</th>\n",
       "      <th>center_coordinates</th>\n",
       "      <th>area</th>\n",
       "      <th>is_facility_area</th>\n",
       "      <th>region_no</th>\n",
       "      <th>port_name</th>\n",
       "      <th>...</th>\n",
       "      <th>fuel_oil</th>\n",
       "      <th>diesel</th>\n",
       "      <th>decksupply</th>\n",
       "      <th>eng_supply</th>\n",
       "      <th>repaircode</th>\n",
       "      <th>drydock</th>\n",
       "      <th>railway</th>\n",
       "      <th>match</th>\n",
       "      <th>matched_dist</th>\n",
       "      <th>lev_dist</th>\n",
       "    </tr>\n",
       "  </thead>\n",
       "  <tbody>\n",
       "    <tr>\n",
       "      <th>60190414a4e804c72ef695e2</th>\n",
       "      <td>&lt;not serializable&gt;</td>\n",
       "      <td>&lt;not serializable&gt;</td>\n",
       "      <td>Massawa</td>\n",
       "      <td>Eritrea</td>\n",
       "      <td>None</td>\n",
       "      <td>[39.46135588034116, 15.609368774564759]</td>\n",
       "      <td>0.001802</td>\n",
       "      <td>NaN</td>\n",
       "      <td>47870.0</td>\n",
       "      <td>mitsiwa harbor</td>\n",
       "      <td>...</td>\n",
       "      <td>Unspecified</td>\n",
       "      <td>Yes</td>\n",
       "      <td>Yes</td>\n",
       "      <td>Yes</td>\n",
       "      <td>Limited</td>\n",
       "      <td>Unspecified</td>\n",
       "      <td>Medium</td>\n",
       "      <td>[5358fc78b68ca120a07dbb26, [0.009025723268876,...</td>\n",
       "      <td>0.009026</td>\n",
       "      <td>10.0</td>\n",
       "    </tr>\n",
       "    <tr>\n",
       "      <th>60190414a4e804c72ef695e3</th>\n",
       "      <td>&lt;not serializable&gt;</td>\n",
       "      <td>&lt;not serializable&gt;</td>\n",
       "      <td>Basrah</td>\n",
       "      <td>Iraq</td>\n",
       "      <td>None</td>\n",
       "      <td>[47.80852035039274, 30.550075315171085]</td>\n",
       "      <td>0.000558</td>\n",
       "      <td>NaN</td>\n",
       "      <td>48375.0</td>\n",
       "      <td>basrah</td>\n",
       "      <td>...</td>\n",
       "      <td>Unspecified</td>\n",
       "      <td>Unspecified</td>\n",
       "      <td>Unspecified</td>\n",
       "      <td>Unspecified</td>\n",
       "      <td>Unspecified</td>\n",
       "      <td>Unspecified</td>\n",
       "      <td>Unspecified</td>\n",
       "      <td>[5358fc78b68ca120a07db9e8, [0.041615164511294,...</td>\n",
       "      <td>0.041615</td>\n",
       "      <td>0.0</td>\n",
       "    </tr>\n",
       "    <tr>\n",
       "      <th>60190414a4e804c72ef695e4</th>\n",
       "      <td>&lt;not serializable&gt;</td>\n",
       "      <td>&lt;not serializable&gt;</td>\n",
       "      <td>Betio</td>\n",
       "      <td>Kiribati</td>\n",
       "      <td>None</td>\n",
       "      <td>[172.93208991631155, 1.363427729320959]</td>\n",
       "      <td>0.000087</td>\n",
       "      <td>NaN</td>\n",
       "      <td>56430.0</td>\n",
       "      <td>tarawa atoll</td>\n",
       "      <td>...</td>\n",
       "      <td>Yes</td>\n",
       "      <td>No</td>\n",
       "      <td>Yes</td>\n",
       "      <td>Yes</td>\n",
       "      <td>Limited</td>\n",
       "      <td>Unspecified</td>\n",
       "      <td>Unspecified</td>\n",
       "      <td>[5358fc78b68ca120a07db9ff, [0.03012007230652, ...</td>\n",
       "      <td>0.030120</td>\n",
       "      <td>11.0</td>\n",
       "    </tr>\n",
       "    <tr>\n",
       "      <th>60190414a4e804c72ef695e5</th>\n",
       "      <td>&lt;not serializable&gt;</td>\n",
       "      <td>&lt;not serializable&gt;</td>\n",
       "      <td>Bantry Bay Harbour</td>\n",
       "      <td>Ireland</td>\n",
       "      <td>None</td>\n",
       "      <td>[-9.464065216294546, 51.68004216438413]</td>\n",
       "      <td>0.000074</td>\n",
       "      <td>NaN</td>\n",
       "      <td>33840.0</td>\n",
       "      <td>bantry</td>\n",
       "      <td>...</td>\n",
       "      <td>Yes</td>\n",
       "      <td>Yes</td>\n",
       "      <td>Unspecified</td>\n",
       "      <td>Unspecified</td>\n",
       "      <td>None</td>\n",
       "      <td>Unspecified</td>\n",
       "      <td>Unspecified</td>\n",
       "      <td>[5358fc78b68ca120a07db9e2, [0.0144451411368850...</td>\n",
       "      <td>0.014445</td>\n",
       "      <td>0.0</td>\n",
       "    </tr>\n",
       "    <tr>\n",
       "      <th>60190414a4e804c72ef695e6</th>\n",
       "      <td>&lt;not serializable&gt;</td>\n",
       "      <td>&lt;not serializable&gt;</td>\n",
       "      <td>Amirabad</td>\n",
       "      <td>Iran</td>\n",
       "      <td>Yes</td>\n",
       "      <td>[53.36868818072746, 36.85607445040629]</td>\n",
       "      <td>0.000178</td>\n",
       "      <td>NaN</td>\n",
       "      <td>NaN</td>\n",
       "      <td>None</td>\n",
       "      <td>...</td>\n",
       "      <td>None</td>\n",
       "      <td>None</td>\n",
       "      <td>None</td>\n",
       "      <td>None</td>\n",
       "      <td>None</td>\n",
       "      <td>None</td>\n",
       "      <td>None</td>\n",
       "      <td>None</td>\n",
       "      <td>NaN</td>\n",
       "      <td>NaN</td>\n",
       "    </tr>\n",
       "  </tbody>\n",
       "</table>\n",
       "<p>5 rows × 77 columns</p>\n",
       "</div>"
      ],
      "text/plain": [
       "                                         _id             port_id  \\\n",
       "60190414a4e804c72ef695e2  <not serializable>  <not serializable>   \n",
       "60190414a4e804c72ef695e3  <not serializable>  <not serializable>   \n",
       "60190414a4e804c72ef695e4  <not serializable>  <not serializable>   \n",
       "60190414a4e804c72ef695e5  <not serializable>  <not serializable>   \n",
       "60190414a4e804c72ef695e6  <not serializable>  <not serializable>   \n",
       "\n",
       "                                        name   country isps_compliance  \\\n",
       "60190414a4e804c72ef695e2             Massawa   Eritrea            None   \n",
       "60190414a4e804c72ef695e3              Basrah      Iraq            None   \n",
       "60190414a4e804c72ef695e4               Betio  Kiribati            None   \n",
       "60190414a4e804c72ef695e5  Bantry Bay Harbour   Ireland            None   \n",
       "60190414a4e804c72ef695e6            Amirabad      Iran             Yes   \n",
       "\n",
       "                                               center_coordinates      area  \\\n",
       "60190414a4e804c72ef695e2  [39.46135588034116, 15.609368774564759]  0.001802   \n",
       "60190414a4e804c72ef695e3  [47.80852035039274, 30.550075315171085]  0.000558   \n",
       "60190414a4e804c72ef695e4  [172.93208991631155, 1.363427729320959]  0.000087   \n",
       "60190414a4e804c72ef695e5  [-9.464065216294546, 51.68004216438413]  0.000074   \n",
       "60190414a4e804c72ef695e6   [53.36868818072746, 36.85607445040629]  0.000178   \n",
       "\n",
       "                          is_facility_area  region_no       port_name  ...  \\\n",
       "60190414a4e804c72ef695e2               NaN    47870.0  mitsiwa harbor  ...   \n",
       "60190414a4e804c72ef695e3               NaN    48375.0          basrah  ...   \n",
       "60190414a4e804c72ef695e4               NaN    56430.0    tarawa atoll  ...   \n",
       "60190414a4e804c72ef695e5               NaN    33840.0          bantry  ...   \n",
       "60190414a4e804c72ef695e6               NaN        NaN            None  ...   \n",
       "\n",
       "                             fuel_oil       diesel   decksupply   eng_supply  \\\n",
       "60190414a4e804c72ef695e2  Unspecified          Yes          Yes          Yes   \n",
       "60190414a4e804c72ef695e3  Unspecified  Unspecified  Unspecified  Unspecified   \n",
       "60190414a4e804c72ef695e4          Yes           No          Yes          Yes   \n",
       "60190414a4e804c72ef695e5          Yes          Yes  Unspecified  Unspecified   \n",
       "60190414a4e804c72ef695e6         None         None         None         None   \n",
       "\n",
       "                           repaircode      drydock      railway  \\\n",
       "60190414a4e804c72ef695e2      Limited  Unspecified       Medium   \n",
       "60190414a4e804c72ef695e3  Unspecified  Unspecified  Unspecified   \n",
       "60190414a4e804c72ef695e4      Limited  Unspecified  Unspecified   \n",
       "60190414a4e804c72ef695e5         None  Unspecified  Unspecified   \n",
       "60190414a4e804c72ef695e6         None         None         None   \n",
       "\n",
       "                                                                      match  \\\n",
       "60190414a4e804c72ef695e2  [5358fc78b68ca120a07dbb26, [0.009025723268876,...   \n",
       "60190414a4e804c72ef695e3  [5358fc78b68ca120a07db9e8, [0.041615164511294,...   \n",
       "60190414a4e804c72ef695e4  [5358fc78b68ca120a07db9ff, [0.03012007230652, ...   \n",
       "60190414a4e804c72ef695e5  [5358fc78b68ca120a07db9e2, [0.0144451411368850...   \n",
       "60190414a4e804c72ef695e6                                               None   \n",
       "\n",
       "                         matched_dist lev_dist  \n",
       "60190414a4e804c72ef695e2     0.009026     10.0  \n",
       "60190414a4e804c72ef695e3     0.041615      0.0  \n",
       "60190414a4e804c72ef695e4     0.030120     11.0  \n",
       "60190414a4e804c72ef695e5     0.014445      0.0  \n",
       "60190414a4e804c72ef695e6          NaN      NaN  \n",
       "\n",
       "[5 rows x 77 columns]"
      ]
     },
     "execution_count": 24,
     "metadata": {},
     "output_type": "execute_result"
    }
   ],
   "source": [
    "print(ports_df.shape)\n",
    "print(ports_df.info())\n",
    "ports_df.head()"
   ]
  },
  {
   "cell_type": "code",
   "execution_count": 25,
   "metadata": {},
   "outputs": [
    {
     "data": {
      "text/plain": [
       "No     3023\n",
       "Yes    1239\n",
       "Name: isps_compliance, dtype: int64"
      ]
     },
     "execution_count": 25,
     "metadata": {},
     "output_type": "execute_result"
    }
   ],
   "source": [
    "ports_df['isps_compliance'].value_counts()"
   ]
  },
  {
   "cell_type": "code",
   "execution_count": 27,
   "metadata": {},
   "outputs": [
    {
     "data": {
      "text/plain": [
       "60190414a4e804c72ef695e2    {'min': 11.0, 'max': 12.2, 'units': 'meters'}\n",
       "60190414a4e804c72ef695e3                                      Unspecified\n",
       "60190414a4e804c72ef695e4      {'min': 6.4, 'max': 7.6, 'units': 'meters'}\n",
       "60190414a4e804c72ef695e5     {'min': 9.4, 'max': 10.7, 'units': 'meters'}\n",
       "60190414a4e804c72ef695e6                                             None\n",
       "                                                ...                      \n",
       "60190414a4e804c72ef6ba63                                             None\n",
       "60190414a4e804c72ef6ba64                                             None\n",
       "60190414a4e804c72ef6ba65                                             None\n",
       "60190414a4e804c72ef6ba66                                             None\n",
       "60190414a4e804c72ef6ba67                                             None\n",
       "Name: cargodepth, Length: 9350, dtype: object"
      ]
     },
     "execution_count": 27,
     "metadata": {},
     "output_type": "execute_result"
    }
   ],
   "source": [
    "ports_df['cargodepth']"
   ]
  },
  {
   "cell_type": "code",
   "execution_count": 121,
   "metadata": {},
   "outputs": [
    {
     "data": {
      "text/plain": [
       "9281"
      ]
     },
     "execution_count": 121,
     "metadata": {},
     "output_type": "execute_result"
    }
   ],
   "source": [
    "ports_df['name'].nunique()"
   ]
  },
  {
   "cell_type": "code",
   "execution_count": 30,
   "metadata": {},
   "outputs": [
    {
     "data": {
      "text/plain": [
       "205"
      ]
     },
     "execution_count": 30,
     "metadata": {},
     "output_type": "execute_result"
    }
   ],
   "source": [
    "ports_df['country'].nunique()"
   ]
  },
  {
   "cell_type": "code",
   "execution_count": 54,
   "metadata": {},
   "outputs": [
    {
     "data": {
      "image/png": "[encoded data removed]",
      "text/plain": [
       "<Figure size 432x288 with 1 Axes>"
      ]
     },
     "metadata": {
      "needs_background": "light"
     },
     "output_type": "display_data"
    }
   ],
   "source": [
    "sns.countplot(y=\"country\",  data=ports_df, palette=\"Greens_d\",\n",
    "              order=ports_df.country.value_counts().iloc[:20].index)\n",
    "plt.title('Ports by country - top 20', fontsize=14)\n",
    "plt.show()"
   ]
  },
  {
   "cell_type": "code",
   "execution_count": null,
   "metadata": {},
   "outputs": [],
   "source": []
  },
  {
   "cell_type": "markdown",
   "metadata": {},
   "source": [
    "## Vessels Info"
   ]
  },
  {
   "cell_type": "code",
   "execution_count": 32,
   "metadata": {},
   "outputs": [],
   "source": [
    "vessels_df = pd.read_json('Data/vessels.json', orient='index')"
   ]
  },
  {
   "cell_type": "code",
   "execution_count": 33,
   "metadata": {},
   "outputs": [
    {
     "name": "stdout",
     "output_type": "stream",
     "text": [
      "(236478, 76)\n",
      "<class 'pandas.core.frame.DataFrame'>\n",
      "Index: 236478 entries, 0013b9cb66c349fce993732f to fff24803cf43df28552517ab\n",
      "Data columns (total 76 columns):\n",
      " #   Column                  Non-Null Count   Dtype  \n",
      "---  ------                  --------------   -----  \n",
      " 0   _id                     236478 non-null  object \n",
      " 1   unifiedCount            155312 non-null  float64\n",
      " 2   imo                     236270 non-null  float64\n",
      " 3   created                 236478 non-null  object \n",
      " 4   class_calc              236357 non-null  object \n",
      " 5   fusion_sources          236474 non-null  object \n",
      " 6   generation_method       135358 non-null  object \n",
      " 7   has_only_properties     135358 non-null  float64\n",
      " 8   imo_source              235850 non-null  object \n",
      " 9   is_read_only            135358 non-null  float64\n",
      " 10  subclass_documented     234339 non-null  object \n",
      " 11  name                    230837 non-null  object \n",
      " 12  built_year              217180 non-null  float64\n",
      " 13  deadweight              168093 non-null  float64\n",
      " 14  grosstonnage            215046 non-null  float64\n",
      " 15  max_draught             116344 non-null  object \n",
      " 16  serviceSpeed            92488 non-null   float64\n",
      " 17  size                    142697 non-null  float64\n",
      " 18  status                  78332 non-null   object \n",
      " 19  maxSpeed                25869 non-null   float64\n",
      " 20  insurer                 46864 non-null   object \n",
      " 21  crude_capacity          11135 non-null   float64\n",
      " 22  firstMovementBlipId     101081 non-null  object \n",
      " 23  firstpos                101111 non-null  object \n",
      " 24  firstPropertiesBlipId   101102 non-null  object \n",
      " 25  callsign                100851 non-null  object \n",
      " 26  firstPropertiesBlipTs   101102 non-null  object \n",
      " 27  updatedFirstMovement    96986 non-null   object \n",
      " 28  movementBlipCount       101120 non-null  float64\n",
      " 29  historical_imos         88216 non-null   object \n",
      " 30  propertiesBlipCount     101104 non-null  float64\n",
      " 31  aisClasses              101104 non-null  object \n",
      " 32  age                     101119 non-null  float64\n",
      " 33  ais                     101120 non-null  object \n",
      " 34  aisClass                89334 non-null   object \n",
      " 35  class_transmitted       99254 non-null   object \n",
      " 36  documented_imo          93854 non-null   object \n",
      " 37  flag                    101120 non-null  object \n",
      " 38  lastMovementBlipId      101103 non-null  object \n",
      " 39  lastPropertiesBlipId    101098 non-null  object \n",
      " 40  last_imo_date           87719 non-null   object \n",
      " 41  lastpos                 101103 non-null  object \n",
      " 42  mmsi                    101120 non-null  float64\n",
      " 43  movementBlipCountTo     101120 non-null  object \n",
      " 44  originalBlipId          89334 non-null   object \n",
      " 45  propertiesBlipCountTo   101098 non-null  object \n",
      " 46  totalTransmiossionDays  101120 non-null  float64\n",
      " 47  transmittedImo          87304 non-null   float64\n",
      " 48  updatedLastMovement     101103 non-null  object \n",
      " 49  updatedProperties       101098 non-null  object \n",
      " 50  version                 89334 non-null   float64\n",
      " 51  active                  35368 non-null   object \n",
      " 52  historical_names        46912 non-null   object \n",
      " 53  historical_mmsi         27415 non-null   object \n",
      " 54  draught                 89776 non-null   float64\n",
      " 55  fusionDebugFields       51260 non-null   object \n",
      " 56  lastMovementBlipId_A    82298 non-null   object \n",
      " 57  lastpos_A               82298 non-null   object \n",
      " 58  movementBlipCountTo_A   82453 non-null   object \n",
      " 59  movementBlipCount_A     82453 non-null   float64\n",
      " 60  reported_port           92757 non-null   object \n",
      " 61  updatedLastMovement_A   82298 non-null   object \n",
      " 62  createdSplit            1302 non-null    object \n",
      " 63  origVessel              1302 non-null    object \n",
      " 64  riskIndicator           17689 non-null   object \n",
      " 65  splitDate               1302 non-null    object \n",
      " 66  splitIndex              1302 non-null    float64\n",
      " 67  vesselId                1302 non-null    object \n",
      " 68  ww_fleets               4276 non-null    object \n",
      " 69  ww_comments             386 non-null     object \n",
      " 70  lastMovementBlipId_B    9961 non-null    object \n",
      " 71  lastpos_B               9961 non-null    object \n",
      " 72  movementBlipCountTo_B   10075 non-null   object \n",
      " 73  movementBlipCount_B     10075 non-null   float64\n",
      " 74  updatedLastMovement_B   9961 non-null    object \n",
      " 75  isDeleted               968 non-null     float64\n",
      "dtypes: float64(23), object(53)\n",
      "memory usage: 138.9+ MB\n",
      "None\n"
     ]
    },
    {
     "data": {
      "text/html": [
       "<div>\n",
       "<style scoped>\n",
       "    .dataframe tbody tr th:only-of-type {\n",
       "        vertical-align: middle;\n",
       "    }\n",
       "\n",
       "    .dataframe tbody tr th {\n",
       "        vertical-align: top;\n",
       "    }\n",
       "\n",
       "    .dataframe thead th {\n",
       "        text-align: right;\n",
       "    }\n",
       "</style>\n",
       "<table border=\"1\" class=\"dataframe\">\n",
       "  <thead>\n",
       "    <tr style=\"text-align: right;\">\n",
       "      <th></th>\n",
       "      <th>_id</th>\n",
       "      <th>unifiedCount</th>\n",
       "      <th>imo</th>\n",
       "      <th>created</th>\n",
       "      <th>class_calc</th>\n",
       "      <th>fusion_sources</th>\n",
       "      <th>generation_method</th>\n",
       "      <th>has_only_properties</th>\n",
       "      <th>imo_source</th>\n",
       "      <th>is_read_only</th>\n",
       "      <th>...</th>\n",
       "      <th>splitIndex</th>\n",
       "      <th>vesselId</th>\n",
       "      <th>ww_fleets</th>\n",
       "      <th>ww_comments</th>\n",
       "      <th>lastMovementBlipId_B</th>\n",
       "      <th>lastpos_B</th>\n",
       "      <th>movementBlipCountTo_B</th>\n",
       "      <th>movementBlipCount_B</th>\n",
       "      <th>updatedLastMovement_B</th>\n",
       "      <th>isDeleted</th>\n",
       "    </tr>\n",
       "  </thead>\n",
       "  <tbody>\n",
       "    <tr>\n",
       "      <th>0013b9cb66c349fce993732f</th>\n",
       "      <td>&lt;not serializable&gt;</td>\n",
       "      <td>1.0</td>\n",
       "      <td>9756896.0</td>\n",
       "      <td>&lt;not serializable&gt;</td>\n",
       "      <td>ServiceVessel</td>\n",
       "      <td>{'class_calc': 'ihs', 'imo': 'ihs', 'subclass_...</td>\n",
       "      <td>external_sources</td>\n",
       "      <td>1.0</td>\n",
       "      <td>NTV</td>\n",
       "      <td>1.0</td>\n",
       "      <td>...</td>\n",
       "      <td>NaN</td>\n",
       "      <td>NaN</td>\n",
       "      <td>NaN</td>\n",
       "      <td>NaN</td>\n",
       "      <td>NaN</td>\n",
       "      <td>NaN</td>\n",
       "      <td>NaN</td>\n",
       "      <td>NaN</td>\n",
       "      <td>NaN</td>\n",
       "      <td>NaN</td>\n",
       "    </tr>\n",
       "    <tr>\n",
       "      <th>001f4e31ee5c7cbd06917423</th>\n",
       "      <td>&lt;not serializable&gt;</td>\n",
       "      <td>1.0</td>\n",
       "      <td>9739616.0</td>\n",
       "      <td>&lt;not serializable&gt;</td>\n",
       "      <td>Passenger</td>\n",
       "      <td>{'class_calc': 'ihs', 'imo': 'ihs', 'subclass_...</td>\n",
       "      <td>external_sources</td>\n",
       "      <td>1.0</td>\n",
       "      <td>NTV</td>\n",
       "      <td>1.0</td>\n",
       "      <td>...</td>\n",
       "      <td>NaN</td>\n",
       "      <td>NaN</td>\n",
       "      <td>NaN</td>\n",
       "      <td>NaN</td>\n",
       "      <td>NaN</td>\n",
       "      <td>NaN</td>\n",
       "      <td>NaN</td>\n",
       "      <td>NaN</td>\n",
       "      <td>NaN</td>\n",
       "      <td>NaN</td>\n",
       "    </tr>\n",
       "    <tr>\n",
       "      <th>002d37106a4280749c3e66ed</th>\n",
       "      <td>&lt;not serializable&gt;</td>\n",
       "      <td>1.0</td>\n",
       "      <td>8797178.0</td>\n",
       "      <td>&lt;not serializable&gt;</td>\n",
       "      <td>Fishing</td>\n",
       "      <td>{'class_calc': 'ihs', 'imo': 'ihs', 'subclass_...</td>\n",
       "      <td>external_sources</td>\n",
       "      <td>1.0</td>\n",
       "      <td>NTV</td>\n",
       "      <td>1.0</td>\n",
       "      <td>...</td>\n",
       "      <td>NaN</td>\n",
       "      <td>NaN</td>\n",
       "      <td>NaN</td>\n",
       "      <td>NaN</td>\n",
       "      <td>NaN</td>\n",
       "      <td>NaN</td>\n",
       "      <td>NaN</td>\n",
       "      <td>NaN</td>\n",
       "      <td>NaN</td>\n",
       "      <td>NaN</td>\n",
       "    </tr>\n",
       "    <tr>\n",
       "      <th>0030ebd18e5e41406e5f98ca</th>\n",
       "      <td>&lt;not serializable&gt;</td>\n",
       "      <td>1.0</td>\n",
       "      <td>9778789.0</td>\n",
       "      <td>&lt;not serializable&gt;</td>\n",
       "      <td>ServiceVessel</td>\n",
       "      <td>{'class_calc': 'ihs', 'imo': 'ihs', 'subclass_...</td>\n",
       "      <td>external_sources</td>\n",
       "      <td>1.0</td>\n",
       "      <td>NTV</td>\n",
       "      <td>1.0</td>\n",
       "      <td>...</td>\n",
       "      <td>NaN</td>\n",
       "      <td>NaN</td>\n",
       "      <td>NaN</td>\n",
       "      <td>NaN</td>\n",
       "      <td>NaN</td>\n",
       "      <td>NaN</td>\n",
       "      <td>NaN</td>\n",
       "      <td>NaN</td>\n",
       "      <td>NaN</td>\n",
       "      <td>NaN</td>\n",
       "    </tr>\n",
       "    <tr>\n",
       "      <th>0032b4e89d483d7fcb48b2b3</th>\n",
       "      <td>&lt;not serializable&gt;</td>\n",
       "      <td>1.0</td>\n",
       "      <td>8537396.0</td>\n",
       "      <td>&lt;not serializable&gt;</td>\n",
       "      <td>Fishing</td>\n",
       "      <td>{'class_calc': 'ihs', 'imo': 'ihs', 'subclass_...</td>\n",
       "      <td>external_sources</td>\n",
       "      <td>1.0</td>\n",
       "      <td>NTV</td>\n",
       "      <td>1.0</td>\n",
       "      <td>...</td>\n",
       "      <td>NaN</td>\n",
       "      <td>NaN</td>\n",
       "      <td>NaN</td>\n",
       "      <td>NaN</td>\n",
       "      <td>NaN</td>\n",
       "      <td>NaN</td>\n",
       "      <td>NaN</td>\n",
       "      <td>NaN</td>\n",
       "      <td>NaN</td>\n",
       "      <td>NaN</td>\n",
       "    </tr>\n",
       "  </tbody>\n",
       "</table>\n",
       "<p>5 rows × 76 columns</p>\n",
       "</div>"
      ],
      "text/plain": [
       "                                         _id  unifiedCount        imo  \\\n",
       "0013b9cb66c349fce993732f  <not serializable>           1.0  9756896.0   \n",
       "001f4e31ee5c7cbd06917423  <not serializable>           1.0  9739616.0   \n",
       "002d37106a4280749c3e66ed  <not serializable>           1.0  8797178.0   \n",
       "0030ebd18e5e41406e5f98ca  <not serializable>           1.0  9778789.0   \n",
       "0032b4e89d483d7fcb48b2b3  <not serializable>           1.0  8537396.0   \n",
       "\n",
       "                                     created     class_calc  \\\n",
       "0013b9cb66c349fce993732f  <not serializable>  ServiceVessel   \n",
       "001f4e31ee5c7cbd06917423  <not serializable>      Passenger   \n",
       "002d37106a4280749c3e66ed  <not serializable>        Fishing   \n",
       "0030ebd18e5e41406e5f98ca  <not serializable>  ServiceVessel   \n",
       "0032b4e89d483d7fcb48b2b3  <not serializable>        Fishing   \n",
       "\n",
       "                                                             fusion_sources  \\\n",
       "0013b9cb66c349fce993732f  {'class_calc': 'ihs', 'imo': 'ihs', 'subclass_...   \n",
       "001f4e31ee5c7cbd06917423  {'class_calc': 'ihs', 'imo': 'ihs', 'subclass_...   \n",
       "002d37106a4280749c3e66ed  {'class_calc': 'ihs', 'imo': 'ihs', 'subclass_...   \n",
       "0030ebd18e5e41406e5f98ca  {'class_calc': 'ihs', 'imo': 'ihs', 'subclass_...   \n",
       "0032b4e89d483d7fcb48b2b3  {'class_calc': 'ihs', 'imo': 'ihs', 'subclass_...   \n",
       "\n",
       "                         generation_method  has_only_properties imo_source  \\\n",
       "0013b9cb66c349fce993732f  external_sources                  1.0        NTV   \n",
       "001f4e31ee5c7cbd06917423  external_sources                  1.0        NTV   \n",
       "002d37106a4280749c3e66ed  external_sources                  1.0        NTV   \n",
       "0030ebd18e5e41406e5f98ca  external_sources                  1.0        NTV   \n",
       "0032b4e89d483d7fcb48b2b3  external_sources                  1.0        NTV   \n",
       "\n",
       "                          is_read_only  ... splitIndex vesselId  ww_fleets  \\\n",
       "0013b9cb66c349fce993732f           1.0  ...        NaN      NaN        NaN   \n",
       "001f4e31ee5c7cbd06917423           1.0  ...        NaN      NaN        NaN   \n",
       "002d37106a4280749c3e66ed           1.0  ...        NaN      NaN        NaN   \n",
       "0030ebd18e5e41406e5f98ca           1.0  ...        NaN      NaN        NaN   \n",
       "0032b4e89d483d7fcb48b2b3           1.0  ...        NaN      NaN        NaN   \n",
       "\n",
       "                          ww_comments  lastMovementBlipId_B lastpos_B  \\\n",
       "0013b9cb66c349fce993732f          NaN                   NaN       NaN   \n",
       "001f4e31ee5c7cbd06917423          NaN                   NaN       NaN   \n",
       "002d37106a4280749c3e66ed          NaN                   NaN       NaN   \n",
       "0030ebd18e5e41406e5f98ca          NaN                   NaN       NaN   \n",
       "0032b4e89d483d7fcb48b2b3          NaN                   NaN       NaN   \n",
       "\n",
       "                          movementBlipCountTo_B  movementBlipCount_B  \\\n",
       "0013b9cb66c349fce993732f                    NaN                  NaN   \n",
       "001f4e31ee5c7cbd06917423                    NaN                  NaN   \n",
       "002d37106a4280749c3e66ed                    NaN                  NaN   \n",
       "0030ebd18e5e41406e5f98ca                    NaN                  NaN   \n",
       "0032b4e89d483d7fcb48b2b3                    NaN                  NaN   \n",
       "\n",
       "                         updatedLastMovement_B  isDeleted  \n",
       "0013b9cb66c349fce993732f                   NaN        NaN  \n",
       "001f4e31ee5c7cbd06917423                   NaN        NaN  \n",
       "002d37106a4280749c3e66ed                   NaN        NaN  \n",
       "0030ebd18e5e41406e5f98ca                   NaN        NaN  \n",
       "0032b4e89d483d7fcb48b2b3                   NaN        NaN  \n",
       "\n",
       "[5 rows x 76 columns]"
      ]
     },
     "execution_count": 33,
     "metadata": {},
     "output_type": "execute_result"
    }
   ],
   "source": [
    "print(vessels_df.shape)\n",
    "print(vessels_df.info())\n",
    "vessels_df.head()"
   ]
  },
  {
   "cell_type": "code",
   "execution_count": 55,
   "metadata": {},
   "outputs": [
    {
     "data": {
      "text/plain": [
       "Cargo             87079\n",
       "Fishing           45229\n",
       "ServiceVessel     44056\n",
       "Tanker            32386\n",
       "Passenger         12535\n",
       "Other              5899\n",
       "MilitaryOrLaw      5376\n",
       "Pleasure           3720\n",
       "Unknown              46\n",
       "HighSpeedCraft       31\n",
       "Name: class_calc, dtype: int64"
      ]
     },
     "execution_count": 55,
     "metadata": {},
     "output_type": "execute_result"
    }
   ],
   "source": [
    "vessels_df['class_calc'].value_counts()"
   ]
  },
  {
   "cell_type": "code",
   "execution_count": 122,
   "metadata": {},
   "outputs": [
    {
     "data": {
      "image/png": "[encoded data removed]",
      "text/plain": [
       "<Figure size 432x288 with 1 Axes>"
      ]
     },
     "metadata": {
      "needs_background": "light"
     },
     "output_type": "display_data"
    }
   ],
   "source": [
    "sns.countplot(x=\"class_calc\",  data=vessels_df, palette=\"Greys_r\",\n",
    "             order=vessels_df.class_calc.value_counts().index)\n",
    "plt.xticks(rotation=45)\n",
    "plt.title('Vessels types', fontsize=14)\n",
    "plt.show()"
   ]
  },
  {
   "cell_type": "code",
   "execution_count": 35,
   "metadata": {},
   "outputs": [
    {
     "data": {
      "text/plain": [
       "Panama          8855\n",
       "China           5558\n",
       "UnitedStates    5333\n",
       "Indonesia       5329\n",
       "Liberia         4706\n",
       "                ... \n",
       "Afghanistan        1\n",
       "Austria            1\n",
       "PuertoRico         1\n",
       "Macedonia          1\n",
       "Rwanda             1\n",
       "Name: flag, Length: 213, dtype: int64"
      ]
     },
     "execution_count": 35,
     "metadata": {},
     "output_type": "execute_result"
    }
   ],
   "source": [
    "vessels_df['flag'].value_counts()"
   ]
  },
  {
   "cell_type": "code",
   "execution_count": 67,
   "metadata": {},
   "outputs": [
    {
     "data": {
      "image/png": "[encoded data removed]",
      "text/plain": [
       "<Figure size 432x288 with 1 Axes>"
      ]
     },
     "metadata": {
      "needs_background": "light"
     },
     "output_type": "display_data"
    }
   ],
   "source": [
    "sns.countplot(y=\"flag\",  data=vessels_df, palette=\"Greens_d\",\n",
    "              order=vessels_df.flag.value_counts().iloc[:20].index)\n",
    "plt.title('Vessels by country - top 20', fontsize=14)\n",
    "plt.show()"
   ]
  },
  {
   "cell_type": "code",
   "execution_count": 105,
   "metadata": {},
   "outputs": [
    {
     "data": {
      "image/png": "[encoded data removed]",
      "text/plain": [
       "<Figure size 540x540 with 12 Axes>"
      ]
     },
     "metadata": {
      "needs_background": "light"
     },
     "output_type": "display_data"
    }
   ],
   "source": [
    "sns.pairplot(vessels_df.loc[:, ['deadweight','grosstonnage','size']])\n",
    "plt.show()"
   ]
  },
  {
   "cell_type": "code",
   "execution_count": 104,
   "metadata": {},
   "outputs": [
    {
     "data": {
      "text/plain": [
       "30.0     3363\n",
       "26.0     3335\n",
       "24.0     3177\n",
       "29.0     2887\n",
       "32.0     2789\n",
       "         ... \n",
       "587.0       1\n",
       "526.0       1\n",
       "424.0       1\n",
       "342.0       1\n",
       "627.0       1\n",
       "Name: size, Length: 417, dtype: int64"
      ]
     },
     "execution_count": 104,
     "metadata": {},
     "output_type": "execute_result"
    }
   ],
   "source": [
    "vessels_df['size'].value_counts()"
   ]
  },
  {
   "cell_type": "code",
   "execution_count": 95,
   "metadata": {},
   "outputs": [
    {
     "data": {
      "text/plain": [
       "62.0"
      ]
     },
     "execution_count": 95,
     "metadata": {},
     "output_type": "execute_result"
    }
   ],
   "source": [
    "vessels_df['size'].median()"
   ]
  },
  {
   "cell_type": "code",
   "execution_count": 101,
   "metadata": {},
   "outputs": [
    {
     "name": "stderr",
     "output_type": "stream",
     "text": [
      "/Users/EF/opt/anaconda3/envs/geopandas_env/lib/python3.9/site-packages/seaborn/distributions.py:2557: FutureWarning: `distplot` is a deprecated function and will be removed in a future version. Please adapt your code to use either `displot` (a figure-level function with similar flexibility) or `histplot` (an axes-level function for histograms).\n",
      "  warnings.warn(msg, FutureWarning)\n"
     ]
    },
    {
     "data": {
      "image/png": "[encoded data removed]",
      "text/plain": [
       "<Figure size 432x288 with 1 Axes>"
      ]
     },
     "metadata": {
      "needs_background": "light"
     },
     "output_type": "display_data"
    }
   ],
   "source": [
    "sns.distplot(vessels_df['size'])\n",
    "plt.title('Vessel length distribution')\n",
    "plt.show()"
   ]
  },
  {
   "cell_type": "code",
   "execution_count": 107,
   "metadata": {},
   "outputs": [
    {
     "data": {
      "text/plain": [
       "3.0 m           2013\n",
       "3.2 m           1349\n",
       "3.5 m           1328\n",
       "4.0 m           1267\n",
       "2.5 m           1110\n",
       "                ... \n",
       "3.50999999 m       1\n",
       "12.978 m           1\n",
       "7.066 m            1\n",
       "13.437 m           1\n",
       "13.256 m           1\n",
       "Name: max_draught, Length: 6077, dtype: int64"
      ]
     },
     "execution_count": 107,
     "metadata": {},
     "output_type": "execute_result"
    }
   ],
   "source": [
    "vessels_df['max_draught'].value_counts()"
   ]
  },
  {
   "cell_type": "code",
   "execution_count": 108,
   "metadata": {},
   "outputs": [],
   "source": [
    "vessels_df['max_draught_num'] = vessels_df.max_draught.str.extract('(\\d+)')"
   ]
  },
  {
   "cell_type": "code",
   "execution_count": 120,
   "metadata": {},
   "outputs": [
    {
     "name": "stderr",
     "output_type": "stream",
     "text": [
      "/Users/EF/opt/anaconda3/envs/geopandas_env/lib/python3.9/site-packages/seaborn/distributions.py:2557: FutureWarning: `distplot` is a deprecated function and will be removed in a future version. Please adapt your code to use either `displot` (a figure-level function with similar flexibility) or `histplot` (an axes-level function for histograms).\n",
      "  warnings.warn(msg, FutureWarning)\n"
     ]
    },
    {
     "data": {
      "image/png": "[encoded data removed]",
      "text/plain": [
       "<Figure size 432x288 with 1 Axes>"
      ]
     },
     "metadata": {
      "needs_background": "light"
     },
     "output_type": "display_data"
    }
   ],
   "source": [
    "sns.distplot(vessels_df['max_draught_num'])\n",
    "plt.title('Vessel max_draught (m) distribution')\n",
    "plt.show()"
   ]
  },
  {
   "cell_type": "code",
   "execution_count": null,
   "metadata": {},
   "outputs": [],
   "source": []
  },
  {
   "cell_type": "markdown",
   "metadata": {},
   "source": [
    "## Polygons Info"
   ]
  },
  {
   "cell_type": "code",
   "execution_count": 124,
   "metadata": {},
   "outputs": [],
   "source": [
    "polygons_df = pd.read_json('Data/polygons.json', orient='index')"
   ]
  },
  {
   "cell_type": "code",
   "execution_count": 125,
   "metadata": {},
   "outputs": [
    {
     "name": "stdout",
     "output_type": "stream",
     "text": [
      "(18133, 5)\n",
      "<class 'pandas.core.frame.DataFrame'>\n",
      "Index: 18133 entries, 5358f8aab68ca120a07d4f3d to 5cff70a72c71dc66dcabe251\n",
      "Data columns (total 5 columns):\n",
      " #   Column      Non-Null Count  Dtype  \n",
      "---  ------      --------------  -----  \n",
      " 0   _id         18133 non-null  object \n",
      " 1   type        18133 non-null  object \n",
      " 2   geometry    18133 non-null  object \n",
      " 3   properties  18133 non-null  object \n",
      " 4   __v         7682 non-null   float64\n",
      "dtypes: float64(1), object(4)\n",
      "memory usage: 850.0+ KB\n",
      "None\n"
     ]
    },
    {
     "data": {
      "text/html": [
       "<div>\n",
       "<style scoped>\n",
       "    .dataframe tbody tr th:only-of-type {\n",
       "        vertical-align: middle;\n",
       "    }\n",
       "\n",
       "    .dataframe tbody tr th {\n",
       "        vertical-align: top;\n",
       "    }\n",
       "\n",
       "    .dataframe thead th {\n",
       "        text-align: right;\n",
       "    }\n",
       "</style>\n",
       "<table border=\"1\" class=\"dataframe\">\n",
       "  <thead>\n",
       "    <tr style=\"text-align: right;\">\n",
       "      <th></th>\n",
       "      <th>_id</th>\n",
       "      <th>type</th>\n",
       "      <th>geometry</th>\n",
       "      <th>properties</th>\n",
       "      <th>__v</th>\n",
       "    </tr>\n",
       "  </thead>\n",
       "  <tbody>\n",
       "    <tr>\n",
       "      <th>5358f8aab68ca120a07d4f3d</th>\n",
       "      <td>&lt;not serializable&gt;</td>\n",
       "      <td>Feature</td>\n",
       "      <td>{'type': 'Polygon', 'coordinates': [[[28.56363...</td>\n",
       "      <td>{'title': 'Vysotsk Coal, Ore Terminal', 'areaT...</td>\n",
       "      <td>NaN</td>\n",
       "    </tr>\n",
       "    <tr>\n",
       "      <th>5358f8aab68ca120a07d4f49</th>\n",
       "      <td>&lt;not serializable&gt;</td>\n",
       "      <td>Feature</td>\n",
       "      <td>{'coordinates': [[[133.06989999999996, 42.7350...</td>\n",
       "      <td>{'createDate': '&lt;not serializable&gt;', 'updateDa...</td>\n",
       "      <td>NaN</td>\n",
       "    </tr>\n",
       "    <tr>\n",
       "      <th>5358f8aab68ca120a07d4f4a</th>\n",
       "      <td>&lt;not serializable&gt;</td>\n",
       "      <td>Feature</td>\n",
       "      <td>{'coordinates': [[[133.06809999999996, 42.7361...</td>\n",
       "      <td>{'createDate': '&lt;not serializable&gt;', 'updateDa...</td>\n",
       "      <td>NaN</td>\n",
       "    </tr>\n",
       "    <tr>\n",
       "      <th>5358f8aab68ca120a07d4f62</th>\n",
       "      <td>&lt;not serializable&gt;</td>\n",
       "      <td>Feature</td>\n",
       "      <td>{'type': 'Polygon', 'coordinates': [[[24.96983...</td>\n",
       "      <td>{'title': 'Helsinki, coal', 'areaType': 'Dock'...</td>\n",
       "      <td>NaN</td>\n",
       "    </tr>\n",
       "    <tr>\n",
       "      <th>5358f8aab68ca120a07d4f3b</th>\n",
       "      <td>&lt;not serializable&gt;</td>\n",
       "      <td>Feature</td>\n",
       "      <td>{'coordinates': [[[149.31226156616208, -21.261...</td>\n",
       "      <td>{'isNew': True, 'createDate': '1970-01-01T00:0...</td>\n",
       "      <td>NaN</td>\n",
       "    </tr>\n",
       "  </tbody>\n",
       "</table>\n",
       "</div>"
      ],
      "text/plain": [
       "                                         _id     type  \\\n",
       "5358f8aab68ca120a07d4f3d  <not serializable>  Feature   \n",
       "5358f8aab68ca120a07d4f49  <not serializable>  Feature   \n",
       "5358f8aab68ca120a07d4f4a  <not serializable>  Feature   \n",
       "5358f8aab68ca120a07d4f62  <not serializable>  Feature   \n",
       "5358f8aab68ca120a07d4f3b  <not serializable>  Feature   \n",
       "\n",
       "                                                                   geometry  \\\n",
       "5358f8aab68ca120a07d4f3d  {'type': 'Polygon', 'coordinates': [[[28.56363...   \n",
       "5358f8aab68ca120a07d4f49  {'coordinates': [[[133.06989999999996, 42.7350...   \n",
       "5358f8aab68ca120a07d4f4a  {'coordinates': [[[133.06809999999996, 42.7361...   \n",
       "5358f8aab68ca120a07d4f62  {'type': 'Polygon', 'coordinates': [[[24.96983...   \n",
       "5358f8aab68ca120a07d4f3b  {'coordinates': [[[149.31226156616208, -21.261...   \n",
       "\n",
       "                                                                 properties  \\\n",
       "5358f8aab68ca120a07d4f3d  {'title': 'Vysotsk Coal, Ore Terminal', 'areaT...   \n",
       "5358f8aab68ca120a07d4f49  {'createDate': '<not serializable>', 'updateDa...   \n",
       "5358f8aab68ca120a07d4f4a  {'createDate': '<not serializable>', 'updateDa...   \n",
       "5358f8aab68ca120a07d4f62  {'title': 'Helsinki, coal', 'areaType': 'Dock'...   \n",
       "5358f8aab68ca120a07d4f3b  {'isNew': True, 'createDate': '1970-01-01T00:0...   \n",
       "\n",
       "                          __v  \n",
       "5358f8aab68ca120a07d4f3d  NaN  \n",
       "5358f8aab68ca120a07d4f49  NaN  \n",
       "5358f8aab68ca120a07d4f4a  NaN  \n",
       "5358f8aab68ca120a07d4f62  NaN  \n",
       "5358f8aab68ca120a07d4f3b  NaN  "
      ]
     },
     "execution_count": 125,
     "metadata": {},
     "output_type": "execute_result"
    }
   ],
   "source": [
    "print(polygons_df.shape)\n",
    "print(polygons_df.info())\n",
    "polygons_df.head()"
   ]
  },
  {
   "cell_type": "code",
   "execution_count": 134,
   "metadata": {},
   "outputs": [
    {
     "data": {
      "text/plain": [
       "{'user': 'ariel.g.',\n",
       " 'createDate': '<not serializable>',\n",
       " 'verified': True,\n",
       " 'pipeIds': '112',\n",
       " 'updateDate': '<not serializable>',\n",
       " 'title': '3 (803)',\n",
       " 'operator': 'Port Authority. Direction des Operations et des Terminaux Petroliers de Fos (DOTPF)',\n",
       " 'typesOfGoods': 'crude oil',\n",
       " 'dockDWT': '',\n",
       " 'dockLOA': '415',\n",
       " 'dockBeam': '',\n",
       " 'dockDraught': '21',\n",
       " 'areaType': 'Dock',\n",
       " 'numericId': 39658,\n",
       " 'goods': [{'class': 'Dock',\n",
       "   'commodity': {'dockType': 'WET',\n",
       "    'goodType': 'CRUDE OIL',\n",
       "    'country': '',\n",
       "    'sulfur': 'NA',\n",
       "    'api': 'NA',\n",
       "    'name': 'CRUDE OIL'},\n",
       "   'vesselCategory': ['vlcc'],\n",
       "   'flow': 'import',\n",
       "   'rateUnits': ''}],\n",
       " 'isNew': True}"
      ]
     },
     "execution_count": 134,
     "metadata": {},
     "output_type": "execute_result"
    }
   ],
   "source": [
    "polygons_df.properties[768]"
   ]
  },
  {
   "cell_type": "code",
   "execution_count": 137,
   "metadata": {},
   "outputs": [],
   "source": [
    "polygons_df['areaType'] = [d.get('areaType') for d in polygons_df.properties]\n"
   ]
  },
  {
   "cell_type": "code",
   "execution_count": 138,
   "metadata": {},
   "outputs": [
    {
     "data": {
      "text/plain": [
       "Port               8352\n",
       "Dock               5762\n",
       "PortWaitingArea    4019\n",
       "Name: areaType, dtype: int64"
      ]
     },
     "execution_count": 138,
     "metadata": {},
     "output_type": "execute_result"
    }
   ],
   "source": [
    "polygons_df['areaType'].value_counts()"
   ]
  },
  {
   "cell_type": "code",
   "execution_count": 140,
   "metadata": {},
   "outputs": [
    {
     "data": {
      "image/png": "[encoded data removed]",
      "text/plain": [
       "<Figure size 432x288 with 1 Axes>"
      ]
     },
     "metadata": {
      "needs_background": "light"
     },
     "output_type": "display_data"
    }
   ],
   "source": [
    "sns.countplot(x=\"areaType\",  data=polygons_df, palette=\"Greys_r\",\n",
    "             order=polygons_df.areaType.value_counts().index)\n",
    "plt.xticks(rotation=45)\n",
    "plt.title('Polgons area types', fontsize=14)\n",
    "plt.show()"
   ]
  },
  {
   "cell_type": "code",
   "execution_count": null,
   "metadata": {},
   "outputs": [],
   "source": []
  },
  {
   "cell_type": "code",
   "execution_count": null,
   "metadata": {},
   "outputs": [],
   "source": []
  }
 ],
 "metadata": {
  "kernelspec": {
   "display_name": "Python 3",
   "language": "python",
   "name": "python3"
  },
  "language_info": {
   "codemirror_mode": {
    "name": "ipython",
    "version": 3
   },
   "file_extension": ".py",
   "mimetype": "text/x-python",
   "name": "python",
   "nbconvert_exporter": "python",
   "pygments_lexer": "ipython3",
   "version": "3.9.1"
  }
 },
 "nbformat": 4,
 "nbformat_minor": 4
}
