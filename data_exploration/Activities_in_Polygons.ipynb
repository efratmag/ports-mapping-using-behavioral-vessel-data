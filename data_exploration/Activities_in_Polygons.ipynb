{
 "cells": [
  {
   "cell_type": "code",
   "execution_count": 181,
   "metadata": {},
   "outputs": [],
   "source": [
    "import pandas as pd\n",
    "import numpy as np\n",
    "import seaborn as sns\n",
    "import matplotlib.pyplot as plt\n",
    "import os\n",
    "from matplotlib import rcParams\n"
   ]
  },
  {
   "cell_type": "code",
   "execution_count": 111,
   "metadata": {},
   "outputs": [],
   "source": [
    "files_path = '/Users/EF/Desktop/WindWard/Features'\n",
    "df_name = 'all_activities.csv.gz'"
   ]
  },
  {
   "cell_type": "code",
   "execution_count": 112,
   "metadata": {},
   "outputs": [
    {
     "name": "stderr",
     "output_type": "stream",
     "text": [
      "/Users/EF/opt/anaconda3/lib/python3.7/site-packages/IPython/core/interactiveshell.py:3063: DtypeWarning: Columns (33,34,35) have mixed types.Specify dtype option on import or set low_memory=False.\n",
      "  interactivity=interactivity, compiler=compiler, result=result)\n"
     ]
    }
   ],
   "source": [
    "df = pd.read_csv(os.path.join(files_path, df_name), compression='gzip')"
   ]
  },
  {
   "cell_type": "code",
   "execution_count": 118,
   "metadata": {},
   "outputs": [
    {
     "data": {
      "text/html": [
       "<div>\n",
       "<style scoped>\n",
       "    .dataframe tbody tr th:only-of-type {\n",
       "        vertical-align: middle;\n",
       "    }\n",
       "\n",
       "    .dataframe tbody tr th {\n",
       "        vertical-align: top;\n",
       "    }\n",
       "\n",
       "    .dataframe thead th {\n",
       "        text-align: right;\n",
       "    }\n",
       "</style>\n",
       "<table border=\"1\" class=\"dataframe\">\n",
       "  <thead>\n",
       "    <tr style=\"text-align: right;\">\n",
       "      <th></th>\n",
       "      <th>_id</th>\n",
       "      <th>vesselId</th>\n",
       "      <th>startDate</th>\n",
       "      <th>endDate</th>\n",
       "      <th>createdDate</th>\n",
       "      <th>type</th>\n",
       "      <th>confidence</th>\n",
       "      <th>isInProgress</th>\n",
       "      <th>firstBlip</th>\n",
       "      <th>lastBlip</th>\n",
       "      <th>...</th>\n",
       "      <th>vessel_size</th>\n",
       "      <th>vessel_age</th>\n",
       "      <th>vessel_draught</th>\n",
       "      <th>vessel_size_category</th>\n",
       "      <th>vessel_class_calc_updated</th>\n",
       "      <th>isOutlier</th>\n",
       "      <th>polygonId</th>\n",
       "      <th>polygonType</th>\n",
       "      <th>firstBlip_in_polygon</th>\n",
       "      <th>lastBlip_in_polygon</th>\n",
       "    </tr>\n",
       "  </thead>\n",
       "  <tbody>\n",
       "    <tr>\n",
       "      <th>0</th>\n",
       "      <td>601e7946a3227d36f23a0d35</td>\n",
       "      <td>5905c78029eec5581e773593</td>\n",
       "      <td>2021-02-06 11:11:02.000</td>\n",
       "      <td>2021-02-06 11:22:58.000</td>\n",
       "      <td>2021-02-06 12:29:43.110</td>\n",
       "      <td>LOW_SPEED_MOORED</td>\n",
       "      <td>0.75</td>\n",
       "      <td>False</td>\n",
       "      <td>{'sog': 0.0, 'th': 360.0, 'geometry': {'type':...</td>\n",
       "      <td>{'sog': 0.0, 'th': 360.0, 'geometry': {'type':...</td>\n",
       "      <td>...</td>\n",
       "      <td>101.0</td>\n",
       "      <td>11.0</td>\n",
       "      <td>2.3</td>\n",
       "      <td>big</td>\n",
       "      <td>Passenger</td>\n",
       "      <td>NaN</td>\n",
       "      <td>NaN</td>\n",
       "      <td>NaN</td>\n",
       "      <td>True</td>\n",
       "      <td>True</td>\n",
       "    </tr>\n",
       "    <tr>\n",
       "      <th>1</th>\n",
       "      <td>601e5928d8d0c30136ab358b</td>\n",
       "      <td>5905c78029eec5581e773593</td>\n",
       "      <td>2021-02-06 08:54:00.000</td>\n",
       "      <td>2021-02-06 09:09:11.000</td>\n",
       "      <td>2021-02-06 10:50:03.622</td>\n",
       "      <td>LOW_SPEED_MOORED</td>\n",
       "      <td>0.75</td>\n",
       "      <td>False</td>\n",
       "      <td>{'sog': 0.0, 'th': 360.0, 'geometry': {'type':...</td>\n",
       "      <td>{'sog': 0.0, 'th': 360.0, 'geometry': {'type':...</td>\n",
       "      <td>...</td>\n",
       "      <td>101.0</td>\n",
       "      <td>11.0</td>\n",
       "      <td>2.3</td>\n",
       "      <td>big</td>\n",
       "      <td>Passenger</td>\n",
       "      <td>NaN</td>\n",
       "      <td>NaN</td>\n",
       "      <td>NaN</td>\n",
       "      <td>True</td>\n",
       "      <td>True</td>\n",
       "    </tr>\n",
       "    <tr>\n",
       "      <th>2</th>\n",
       "      <td>601df701782202ec18ba5ef8</td>\n",
       "      <td>5905c78029eec5581e773593</td>\n",
       "      <td>2021-02-06 01:55:13.000</td>\n",
       "      <td>2021-02-06 07:40:02.000</td>\n",
       "      <td>2021-02-06 08:17:12.001</td>\n",
       "      <td>LOW_SPEED_MOORED</td>\n",
       "      <td>0.90</td>\n",
       "      <td>False</td>\n",
       "      <td>{'sog': 0.0, 'th': 360.0, 'geometry': {'type':...</td>\n",
       "      <td>{'sog': 2.0, 'th': 128.0, 'geometry': {'type':...</td>\n",
       "      <td>...</td>\n",
       "      <td>101.0</td>\n",
       "      <td>11.0</td>\n",
       "      <td>2.3</td>\n",
       "      <td>big</td>\n",
       "      <td>Passenger</td>\n",
       "      <td>NaN</td>\n",
       "      <td>NaN</td>\n",
       "      <td>NaN</td>\n",
       "      <td>True</td>\n",
       "      <td>True</td>\n",
       "    </tr>\n",
       "    <tr>\n",
       "      <th>3</th>\n",
       "      <td>601dda8341c756c06a092e8f</td>\n",
       "      <td>5905c78029eec5581e773593</td>\n",
       "      <td>2021-02-05 23:53:39.000</td>\n",
       "      <td>2021-02-06 00:00:35.000</td>\n",
       "      <td>2021-02-06 05:20:13.845</td>\n",
       "      <td>LOW_SPEED_MOORED</td>\n",
       "      <td>0.75</td>\n",
       "      <td>False</td>\n",
       "      <td>{'sog': 0.0, 'th': 360.0, 'geometry': {'type':...</td>\n",
       "      <td>{'sog': 0.0, 'th': 360.0, 'geometry': {'type':...</td>\n",
       "      <td>...</td>\n",
       "      <td>101.0</td>\n",
       "      <td>11.0</td>\n",
       "      <td>2.3</td>\n",
       "      <td>big</td>\n",
       "      <td>Passenger</td>\n",
       "      <td>NaN</td>\n",
       "      <td>NaN</td>\n",
       "      <td>NaN</td>\n",
       "      <td>True</td>\n",
       "      <td>True</td>\n",
       "    </tr>\n",
       "    <tr>\n",
       "      <th>4</th>\n",
       "      <td>601d718299fd15ff2269fb6f</td>\n",
       "      <td>5905c78029eec5581e773593</td>\n",
       "      <td>2021-02-05 16:25:38.000</td>\n",
       "      <td>2021-02-05 16:28:07.000</td>\n",
       "      <td>2021-02-06 05:20:13.845</td>\n",
       "      <td>LOW_SPEED_MOORED</td>\n",
       "      <td>0.75</td>\n",
       "      <td>False</td>\n",
       "      <td>{'sog': 0.0, 'th': 360.0, 'geometry': {'type':...</td>\n",
       "      <td>{'sog': 0.0, 'th': 360.0, 'geometry': {'type':...</td>\n",
       "      <td>...</td>\n",
       "      <td>101.0</td>\n",
       "      <td>11.0</td>\n",
       "      <td>2.3</td>\n",
       "      <td>big</td>\n",
       "      <td>Passenger</td>\n",
       "      <td>NaN</td>\n",
       "      <td>NaN</td>\n",
       "      <td>NaN</td>\n",
       "      <td>True</td>\n",
       "      <td>True</td>\n",
       "    </tr>\n",
       "  </tbody>\n",
       "</table>\n",
       "<p>5 rows × 38 columns</p>\n",
       "</div>"
      ],
      "text/plain": [
       "                        _id                  vesselId  \\\n",
       "0  601e7946a3227d36f23a0d35  5905c78029eec5581e773593   \n",
       "1  601e5928d8d0c30136ab358b  5905c78029eec5581e773593   \n",
       "2  601df701782202ec18ba5ef8  5905c78029eec5581e773593   \n",
       "3  601dda8341c756c06a092e8f  5905c78029eec5581e773593   \n",
       "4  601d718299fd15ff2269fb6f  5905c78029eec5581e773593   \n",
       "\n",
       "                 startDate                  endDate              createdDate  \\\n",
       "0  2021-02-06 11:11:02.000  2021-02-06 11:22:58.000  2021-02-06 12:29:43.110   \n",
       "1  2021-02-06 08:54:00.000  2021-02-06 09:09:11.000  2021-02-06 10:50:03.622   \n",
       "2  2021-02-06 01:55:13.000  2021-02-06 07:40:02.000  2021-02-06 08:17:12.001   \n",
       "3  2021-02-05 23:53:39.000  2021-02-06 00:00:35.000  2021-02-06 05:20:13.845   \n",
       "4  2021-02-05 16:25:38.000  2021-02-05 16:28:07.000  2021-02-06 05:20:13.845   \n",
       "\n",
       "               type  confidence  isInProgress  \\\n",
       "0  LOW_SPEED_MOORED        0.75         False   \n",
       "1  LOW_SPEED_MOORED        0.75         False   \n",
       "2  LOW_SPEED_MOORED        0.90         False   \n",
       "3  LOW_SPEED_MOORED        0.75         False   \n",
       "4  LOW_SPEED_MOORED        0.75         False   \n",
       "\n",
       "                                           firstBlip  \\\n",
       "0  {'sog': 0.0, 'th': 360.0, 'geometry': {'type':...   \n",
       "1  {'sog': 0.0, 'th': 360.0, 'geometry': {'type':...   \n",
       "2  {'sog': 0.0, 'th': 360.0, 'geometry': {'type':...   \n",
       "3  {'sog': 0.0, 'th': 360.0, 'geometry': {'type':...   \n",
       "4  {'sog': 0.0, 'th': 360.0, 'geometry': {'type':...   \n",
       "\n",
       "                                            lastBlip  ...  vessel_size  \\\n",
       "0  {'sog': 0.0, 'th': 360.0, 'geometry': {'type':...  ...        101.0   \n",
       "1  {'sog': 0.0, 'th': 360.0, 'geometry': {'type':...  ...        101.0   \n",
       "2  {'sog': 2.0, 'th': 128.0, 'geometry': {'type':...  ...        101.0   \n",
       "3  {'sog': 0.0, 'th': 360.0, 'geometry': {'type':...  ...        101.0   \n",
       "4  {'sog': 0.0, 'th': 360.0, 'geometry': {'type':...  ...        101.0   \n",
       "\n",
       "  vessel_age vessel_draught vessel_size_category  vessel_class_calc_updated  \\\n",
       "0       11.0            2.3                  big                  Passenger   \n",
       "1       11.0            2.3                  big                  Passenger   \n",
       "2       11.0            2.3                  big                  Passenger   \n",
       "3       11.0            2.3                  big                  Passenger   \n",
       "4       11.0            2.3                  big                  Passenger   \n",
       "\n",
       "   isOutlier  polygonId  polygonType firstBlip_in_polygon lastBlip_in_polygon  \n",
       "0        NaN        NaN          NaN                 True                True  \n",
       "1        NaN        NaN          NaN                 True                True  \n",
       "2        NaN        NaN          NaN                 True                True  \n",
       "3        NaN        NaN          NaN                 True                True  \n",
       "4        NaN        NaN          NaN                 True                True  \n",
       "\n",
       "[5 rows x 38 columns]"
      ]
     },
     "execution_count": 118,
     "metadata": {},
     "output_type": "execute_result"
    }
   ],
   "source": [
    "df.head()"
   ]
  },
  {
   "cell_type": "code",
   "execution_count": 139,
   "metadata": {},
   "outputs": [
    {
     "name": "stdout",
     "output_type": "stream",
     "text": [
      "<class 'pandas.core.frame.DataFrame'>\n",
      "RangeIndex: 7788073 entries, 0 to 7788072\n",
      "Data columns (total 39 columns):\n",
      " #   Column                      Dtype  \n",
      "---  ------                      -----  \n",
      " 0   _id                         object \n",
      " 1   vesselId                    object \n",
      " 2   startDate                   object \n",
      " 3   endDate                     object \n",
      " 4   createdDate                 object \n",
      " 5   type                        object \n",
      " 6   confidence                  float64\n",
      " 7   isInProgress                bool   \n",
      " 8   firstBlip                   object \n",
      " 9   lastBlip                    object \n",
      " 10  duration                    float64\n",
      " 11  previousPort                object \n",
      " 12  enrichers                   object \n",
      " 13  nextPort                    object \n",
      " 14  firstBlip_lng               float64\n",
      " 15  firstBlip_lat               float64\n",
      " 16  lastBlip_lng                float64\n",
      " 17  lastBlip_lat                float64\n",
      " 18  geometry                    object \n",
      " 19  firstBlip_polygon_id        object \n",
      " 20  lastBlip_polygon_id         object \n",
      " 21  firstBlip_within_polygon    bool   \n",
      " 22  lastBlip_within_polygon     bool   \n",
      " 23  vessel_class_calc           object \n",
      " 24  vessel_subclass_documented  object \n",
      " 25  vessel_name                 object \n",
      " 26  vessel_built_year           float64\n",
      " 27  vessel_deadweight           float64\n",
      " 28  vessel_size                 float64\n",
      " 29  vessel_age                  float64\n",
      " 30  vessel_draught              float64\n",
      " 31  vessel_size_category        object \n",
      " 32  vessel_class_calc_updated   object \n",
      " 33  isOutlier                   object \n",
      " 34  polygonId                   object \n",
      " 35  polygonType                 object \n",
      " 36  firstBlip_in_polygon        bool   \n",
      " 37  lastBlip_in_polygon         object \n",
      " 38  activity                    object \n",
      "dtypes: bool(4), float64(11), object(24)\n",
      "memory usage: 2.1+ GB\n"
     ]
    }
   ],
   "source": [
    "df.info()"
   ]
  },
  {
   "cell_type": "markdown",
   "metadata": {},
   "source": [
    "## get polygon type"
   ]
  },
  {
   "cell_type": "code",
   "execution_count": 198,
   "metadata": {},
   "outputs": [],
   "source": [
    "# get polygon type\n",
    "polygons_info = pd.DataFrame(df.loc[:,'polygonId'])"
   ]
  },
  {
   "cell_type": "code",
   "execution_count": 199,
   "metadata": {},
   "outputs": [
    {
     "data": {
      "text/html": [
       "<div>\n",
       "<style scoped>\n",
       "    .dataframe tbody tr th:only-of-type {\n",
       "        vertical-align: middle;\n",
       "    }\n",
       "\n",
       "    .dataframe tbody tr th {\n",
       "        vertical-align: top;\n",
       "    }\n",
       "\n",
       "    .dataframe thead th {\n",
       "        text-align: right;\n",
       "    }\n",
       "</style>\n",
       "<table border=\"1\" class=\"dataframe\">\n",
       "  <thead>\n",
       "    <tr style=\"text-align: right;\">\n",
       "      <th></th>\n",
       "      <th>polygonId</th>\n",
       "    </tr>\n",
       "  </thead>\n",
       "  <tbody>\n",
       "    <tr>\n",
       "      <th>0</th>\n",
       "      <td>NaN</td>\n",
       "    </tr>\n",
       "    <tr>\n",
       "      <th>1</th>\n",
       "      <td>NaN</td>\n",
       "    </tr>\n",
       "    <tr>\n",
       "      <th>2</th>\n",
       "      <td>NaN</td>\n",
       "    </tr>\n",
       "    <tr>\n",
       "      <th>3</th>\n",
       "      <td>NaN</td>\n",
       "    </tr>\n",
       "    <tr>\n",
       "      <th>4</th>\n",
       "      <td>NaN</td>\n",
       "    </tr>\n",
       "  </tbody>\n",
       "</table>\n",
       "</div>"
      ],
      "text/plain": [
       "  polygonId\n",
       "0       NaN\n",
       "1       NaN\n",
       "2       NaN\n",
       "3       NaN\n",
       "4       NaN"
      ]
     },
     "execution_count": 199,
     "metadata": {},
     "output_type": "execute_result"
    }
   ],
   "source": [
    "polygons_info.head()"
   ]
  },
  {
   "cell_type": "code",
   "execution_count": 193,
   "metadata": {},
   "outputs": [],
   "source": [
    "polygons_df = pd.read_json('Data/polygons.json', orient='index')"
   ]
  },
  {
   "cell_type": "code",
   "execution_count": 194,
   "metadata": {},
   "outputs": [],
   "source": [
    "polygons_df['areaType'] = [d.get('areaType') for d in polygons_df.properties]"
   ]
  },
  {
   "cell_type": "code",
   "execution_count": 203,
   "metadata": {},
   "outputs": [
    {
     "data": {
      "text/plain": [
       "5358f8aab68ca120a07d4f3d    <not serializable>\n",
       "5358f8aab68ca120a07d4f49    <not serializable>\n",
       "5358f8aab68ca120a07d4f4a    <not serializable>\n",
       "5358f8aab68ca120a07d4f62    <not serializable>\n",
       "5358f8aab68ca120a07d4f3b    <not serializable>\n",
       "                                   ...        \n",
       "5a646f452703036ab994f8cf    <not serializable>\n",
       "5a646fe8c5b9bd6ae8bcb3d1    <not serializable>\n",
       "5b28da24aa701d6eaeb06ea1    <not serializable>\n",
       "5cefde19096b6b646460626c    <not serializable>\n",
       "5cff70a72c71dc66dcabe251    <not serializable>\n",
       "Name: _id, Length: 18133, dtype: object"
      ]
     },
     "execution_count": 203,
     "metadata": {},
     "output_type": "execute_result"
    }
   ],
   "source": [
    "polygons_df._id"
   ]
  },
  {
   "cell_type": "code",
   "execution_count": 202,
   "metadata": {},
   "outputs": [
    {
     "ename": "KeyError",
     "evalue": "'_id'",
     "output_type": "error",
     "traceback": [
      "\u001b[0;31m---------------------------------------------------------------------------\u001b[0m",
      "\u001b[0;31mKeyError\u001b[0m                                  Traceback (most recent call last)",
      "\u001b[0;32m<ipython-input-202-ea0eb7509a6a>\u001b[0m in \u001b[0;36m<module>\u001b[0;34m\u001b[0m\n\u001b[0;32m----> 1\u001b[0;31m \u001b[0mpolygons_info\u001b[0m \u001b[0;34m=\u001b[0m \u001b[0mpolygons_info\u001b[0m\u001b[0;34m.\u001b[0m\u001b[0mmerge\u001b[0m\u001b[0;34m(\u001b[0m\u001b[0mpolygons_df\u001b[0m\u001b[0;34m[\u001b[0m\u001b[0;34m'areaType'\u001b[0m\u001b[0;34m]\u001b[0m\u001b[0;34m,\u001b[0m \u001b[0mleft_on\u001b[0m\u001b[0;34m=\u001b[0m\u001b[0;34m'polygonId'\u001b[0m\u001b[0;34m,\u001b[0m \u001b[0mright_on\u001b[0m\u001b[0;34m=\u001b[0m\u001b[0;34m'_id'\u001b[0m\u001b[0;34m)\u001b[0m\u001b[0;34m.\u001b[0m\u001b[0mdrop\u001b[0m\u001b[0;34m(\u001b[0m\u001b[0;34m'_id'\u001b[0m\u001b[0;34m,\u001b[0m \u001b[0maxis\u001b[0m\u001b[0;34m=\u001b[0m\u001b[0;36m1\u001b[0m\u001b[0;34m)\u001b[0m\u001b[0;34m\u001b[0m\u001b[0;34m\u001b[0m\u001b[0m\n\u001b[0m",
      "\u001b[0;32m~/opt/anaconda3/lib/python3.7/site-packages/pandas/core/frame.py\u001b[0m in \u001b[0;36mmerge\u001b[0;34m(self, right, how, on, left_on, right_on, left_index, right_index, sort, suffixes, copy, indicator, validate)\u001b[0m\n\u001b[1;32m   7295\u001b[0m             \u001b[0mcopy\u001b[0m\u001b[0;34m=\u001b[0m\u001b[0mcopy\u001b[0m\u001b[0;34m,\u001b[0m\u001b[0;34m\u001b[0m\u001b[0;34m\u001b[0m\u001b[0m\n\u001b[1;32m   7296\u001b[0m             \u001b[0mindicator\u001b[0m\u001b[0;34m=\u001b[0m\u001b[0mindicator\u001b[0m\u001b[0;34m,\u001b[0m\u001b[0;34m\u001b[0m\u001b[0;34m\u001b[0m\u001b[0m\n\u001b[0;32m-> 7297\u001b[0;31m             \u001b[0mvalidate\u001b[0m\u001b[0;34m=\u001b[0m\u001b[0mvalidate\u001b[0m\u001b[0;34m,\u001b[0m\u001b[0;34m\u001b[0m\u001b[0;34m\u001b[0m\u001b[0m\n\u001b[0m\u001b[1;32m   7298\u001b[0m         )\n\u001b[1;32m   7299\u001b[0m \u001b[0;34m\u001b[0m\u001b[0m\n",
      "\u001b[0;32m~/opt/anaconda3/lib/python3.7/site-packages/pandas/core/reshape/merge.py\u001b[0m in \u001b[0;36mmerge\u001b[0;34m(left, right, how, on, left_on, right_on, left_index, right_index, sort, suffixes, copy, indicator, validate)\u001b[0m\n\u001b[1;32m     84\u001b[0m         \u001b[0mcopy\u001b[0m\u001b[0;34m=\u001b[0m\u001b[0mcopy\u001b[0m\u001b[0;34m,\u001b[0m\u001b[0;34m\u001b[0m\u001b[0;34m\u001b[0m\u001b[0m\n\u001b[1;32m     85\u001b[0m         \u001b[0mindicator\u001b[0m\u001b[0;34m=\u001b[0m\u001b[0mindicator\u001b[0m\u001b[0;34m,\u001b[0m\u001b[0;34m\u001b[0m\u001b[0;34m\u001b[0m\u001b[0m\n\u001b[0;32m---> 86\u001b[0;31m         \u001b[0mvalidate\u001b[0m\u001b[0;34m=\u001b[0m\u001b[0mvalidate\u001b[0m\u001b[0;34m,\u001b[0m\u001b[0;34m\u001b[0m\u001b[0;34m\u001b[0m\u001b[0m\n\u001b[0m\u001b[1;32m     87\u001b[0m     )\n\u001b[1;32m     88\u001b[0m     \u001b[0;32mreturn\u001b[0m \u001b[0mop\u001b[0m\u001b[0;34m.\u001b[0m\u001b[0mget_result\u001b[0m\u001b[0;34m(\u001b[0m\u001b[0;34m)\u001b[0m\u001b[0;34m\u001b[0m\u001b[0;34m\u001b[0m\u001b[0m\n",
      "\u001b[0;32m~/opt/anaconda3/lib/python3.7/site-packages/pandas/core/reshape/merge.py\u001b[0m in \u001b[0;36m__init__\u001b[0;34m(self, left, right, how, on, left_on, right_on, axis, left_index, right_index, sort, suffixes, copy, indicator, validate)\u001b[0m\n\u001b[1;32m    625\u001b[0m             \u001b[0mself\u001b[0m\u001b[0;34m.\u001b[0m\u001b[0mright_join_keys\u001b[0m\u001b[0;34m,\u001b[0m\u001b[0;34m\u001b[0m\u001b[0;34m\u001b[0m\u001b[0m\n\u001b[1;32m    626\u001b[0m             \u001b[0mself\u001b[0m\u001b[0;34m.\u001b[0m\u001b[0mjoin_names\u001b[0m\u001b[0;34m,\u001b[0m\u001b[0;34m\u001b[0m\u001b[0;34m\u001b[0m\u001b[0m\n\u001b[0;32m--> 627\u001b[0;31m         ) = self._get_merge_keys()\n\u001b[0m\u001b[1;32m    628\u001b[0m \u001b[0;34m\u001b[0m\u001b[0m\n\u001b[1;32m    629\u001b[0m         \u001b[0;31m# validate the merge keys dtypes. We may need to coerce\u001b[0m\u001b[0;34m\u001b[0m\u001b[0;34m\u001b[0m\u001b[0;34m\u001b[0m\u001b[0m\n",
      "\u001b[0;32m~/opt/anaconda3/lib/python3.7/site-packages/pandas/core/reshape/merge.py\u001b[0m in \u001b[0;36m_get_merge_keys\u001b[0;34m(self)\u001b[0m\n\u001b[1;32m    981\u001b[0m                     \u001b[0;32mif\u001b[0m \u001b[0;32mnot\u001b[0m \u001b[0mis_rkey\u001b[0m\u001b[0;34m(\u001b[0m\u001b[0mrk\u001b[0m\u001b[0;34m)\u001b[0m\u001b[0;34m:\u001b[0m\u001b[0;34m\u001b[0m\u001b[0;34m\u001b[0m\u001b[0m\n\u001b[1;32m    982\u001b[0m                         \u001b[0;32mif\u001b[0m \u001b[0mrk\u001b[0m \u001b[0;32mis\u001b[0m \u001b[0;32mnot\u001b[0m \u001b[0;32mNone\u001b[0m\u001b[0;34m:\u001b[0m\u001b[0;34m\u001b[0m\u001b[0;34m\u001b[0m\u001b[0m\n\u001b[0;32m--> 983\u001b[0;31m                             \u001b[0mright_keys\u001b[0m\u001b[0;34m.\u001b[0m\u001b[0mappend\u001b[0m\u001b[0;34m(\u001b[0m\u001b[0mright\u001b[0m\u001b[0;34m.\u001b[0m\u001b[0m_get_label_or_level_values\u001b[0m\u001b[0;34m(\u001b[0m\u001b[0mrk\u001b[0m\u001b[0;34m)\u001b[0m\u001b[0;34m)\u001b[0m\u001b[0;34m\u001b[0m\u001b[0;34m\u001b[0m\u001b[0m\n\u001b[0m\u001b[1;32m    984\u001b[0m                         \u001b[0;32melse\u001b[0m\u001b[0;34m:\u001b[0m\u001b[0;34m\u001b[0m\u001b[0;34m\u001b[0m\u001b[0m\n\u001b[1;32m    985\u001b[0m                             \u001b[0;31m# work-around for merge_asof(right_index=True)\u001b[0m\u001b[0;34m\u001b[0m\u001b[0;34m\u001b[0m\u001b[0;34m\u001b[0m\u001b[0m\n",
      "\u001b[0;32m~/opt/anaconda3/lib/python3.7/site-packages/pandas/core/generic.py\u001b[0m in \u001b[0;36m_get_label_or_level_values\u001b[0;34m(self, key, axis)\u001b[0m\n\u001b[1;32m   1690\u001b[0m             \u001b[0mvalues\u001b[0m \u001b[0;34m=\u001b[0m \u001b[0mself\u001b[0m\u001b[0;34m.\u001b[0m\u001b[0maxes\u001b[0m\u001b[0;34m[\u001b[0m\u001b[0maxis\u001b[0m\u001b[0;34m]\u001b[0m\u001b[0;34m.\u001b[0m\u001b[0mget_level_values\u001b[0m\u001b[0;34m(\u001b[0m\u001b[0mkey\u001b[0m\u001b[0;34m)\u001b[0m\u001b[0;34m.\u001b[0m\u001b[0m_values\u001b[0m\u001b[0;34m\u001b[0m\u001b[0;34m\u001b[0m\u001b[0m\n\u001b[1;32m   1691\u001b[0m         \u001b[0;32melse\u001b[0m\u001b[0;34m:\u001b[0m\u001b[0;34m\u001b[0m\u001b[0;34m\u001b[0m\u001b[0m\n\u001b[0;32m-> 1692\u001b[0;31m             \u001b[0;32mraise\u001b[0m \u001b[0mKeyError\u001b[0m\u001b[0;34m(\u001b[0m\u001b[0mkey\u001b[0m\u001b[0;34m)\u001b[0m\u001b[0;34m\u001b[0m\u001b[0;34m\u001b[0m\u001b[0m\n\u001b[0m\u001b[1;32m   1693\u001b[0m \u001b[0;34m\u001b[0m\u001b[0m\n\u001b[1;32m   1694\u001b[0m         \u001b[0;31m# Check for duplicates\u001b[0m\u001b[0;34m\u001b[0m\u001b[0;34m\u001b[0m\u001b[0;34m\u001b[0m\u001b[0m\n",
      "\u001b[0;31mKeyError\u001b[0m: '_id'"
     ]
    }
   ],
   "source": [
    "polygons_info = polygons_info.merge(polygons_df['areaType'], left_on='polygonId', right_on='_id').drop('_id', axis=1)"
   ]
  },
  {
   "cell_type": "code",
   "execution_count": null,
   "metadata": {},
   "outputs": [],
   "source": []
  },
  {
   "cell_type": "code",
   "execution_count": null,
   "metadata": {},
   "outputs": [],
   "source": []
  },
  {
   "cell_type": "code",
   "execution_count": 160,
   "metadata": {},
   "outputs": [],
   "source": [
    "cols = ['type', 'firstBlip_polygon_id', 'lastBlip_polygon_id', 'vessel_class_calc_updated', 'vessel_deadweight', 'vessel_draught', 'vessel_size_category' ]"
   ]
  },
  {
   "cell_type": "code",
   "execution_count": 161,
   "metadata": {},
   "outputs": [],
   "source": [
    "df_for_analysis = df.loc[:,cols]"
   ]
  },
  {
   "cell_type": "code",
   "execution_count": 162,
   "metadata": {},
   "outputs": [
    {
     "data": {
      "text/plain": [
       "(7788073, 7)"
      ]
     },
     "execution_count": 162,
     "metadata": {},
     "output_type": "execute_result"
    }
   ],
   "source": [
    "df_for_analysis.shape"
   ]
  },
  {
   "cell_type": "code",
   "execution_count": 163,
   "metadata": {},
   "outputs": [
    {
     "data": {
      "text/plain": [
       "array(['LOW_SPEED_MOORED', 'LOW_SPEED_DRIFTING', 'PORT_CALL',\n",
       "       'LOW_SPEED_ANCHORED'], dtype=object)"
      ]
     },
     "execution_count": 163,
     "metadata": {},
     "output_type": "execute_result"
    }
   ],
   "source": [
    "df_for_analysis['type'].unique()"
   ]
  },
  {
   "cell_type": "code",
   "execution_count": 164,
   "metadata": {},
   "outputs": [],
   "source": [
    "df_for_analysis['activity'] = df_for_analysis['type'].replace({'LOW_SPEED_MOORED': 'Mooring',\n",
    "                                                              'LOW_SPEED_DRIFTING': 'Drifting',\n",
    "                                                              'PORT_CALL': 'Port Calls',\n",
    "                                                              'LOW_SPEED_ANCHORED': 'Anchoring'})"
   ]
  },
  {
   "cell_type": "code",
   "execution_count": 165,
   "metadata": {},
   "outputs": [
    {
     "data": {
      "text/plain": [
       "array(['Mooring', 'Drifting', 'Port Calls', 'Anchoring'], dtype=object)"
      ]
     },
     "execution_count": 165,
     "metadata": {},
     "output_type": "execute_result"
    }
   ],
   "source": [
    "df_for_analysis['activity'].unique()"
   ]
  },
  {
   "cell_type": "code",
   "execution_count": 167,
   "metadata": {},
   "outputs": [],
   "source": [
    "def is_in_polygon_features(df):\n",
    "    \n",
    "    df['firstBlip_in_polygon'] = df['firstBlip_polygon_id'].notna()\n",
    "    \n",
    "    conditions = [\n",
    "    (df['firstBlip_in_polygon']==True) & (df['lastBlip_polygon_id'].isna()==True),\n",
    "    (df['firstBlip_in_polygon']==False)& (df['lastBlip_polygon_id'].isna()==True),\n",
    "    (df['lastBlip_polygon_id'].isna()==False)\n",
    "    ]\n",
    "\n",
    "    choices = ['not_ended', 'False', 'True']\n",
    "    df['lastBlip_in_polygon'] = np.select(conditions, choices)\n",
    "    \n",
    "    print('First_blip:')\n",
    "    print(df['firstBlip_in_polygon'].value_counts(normalize=True))\n",
    "    df['firstBlip_in_polygon'].value_counts(normalize=True).plot(kind='bar', color='DarkGreen')\n",
    "    plt.show()\n",
    "    print('')\n",
    "    print('Last_blip:')\n",
    "    print(df['lastBlip_in_polygon'].value_counts(normalize=True))\n",
    "    df['lastBlip_in_polygon'].value_counts(normalize=True).plot(kind='bar', color='DarkGreen')\n",
    " "
   ]
  },
  {
   "cell_type": "code",
   "execution_count": 168,
   "metadata": {},
   "outputs": [
    {
     "name": "stdout",
     "output_type": "stream",
     "text": [
      "First_blip:\n",
      "True     0.833035\n",
      "False    0.166965\n",
      "Name: firstBlip_in_polygon, dtype: float64\n"
     ]
    },
    {
     "data": {
      "image/png": "[encoded data removed]",
      "text/plain": [
       "<Figure size 432x288 with 1 Axes>"
      ]
     },
     "metadata": {
      "needs_background": "light"
     },
     "output_type": "display_data"
    },
    {
     "name": "stdout",
     "output_type": "stream",
     "text": [
      "\n",
      "Last_blip:\n",
      "True         0.842592\n",
      "False        0.134273\n",
      "not_ended    0.023135\n",
      "Name: lastBlip_in_polygon, dtype: float64\n"
     ]
    },
    {
     "data": {
      "image/png": "[encoded data removed]",
      "text/plain": [
       "<Figure size 432x288 with 1 Axes>"
      ]
     },
     "metadata": {
      "needs_background": "light"
     },
     "output_type": "display_data"
    }
   ],
   "source": [
    "is_in_polygon_features(df_for_analysis)"
   ]
  },
  {
   "cell_type": "code",
   "execution_count": 169,
   "metadata": {},
   "outputs": [
    {
     "data": {
      "text/html": [
       "<div>\n",
       "<style scoped>\n",
       "    .dataframe tbody tr th:only-of-type {\n",
       "        vertical-align: middle;\n",
       "    }\n",
       "\n",
       "    .dataframe tbody tr th {\n",
       "        vertical-align: top;\n",
       "    }\n",
       "\n",
       "    .dataframe thead th {\n",
       "        text-align: right;\n",
       "    }\n",
       "</style>\n",
       "<table border=\"1\" class=\"dataframe\">\n",
       "  <thead>\n",
       "    <tr style=\"text-align: right;\">\n",
       "      <th></th>\n",
       "      <th>vessel_class_calc_updated</th>\n",
       "      <th>vessel_deadweight</th>\n",
       "      <th>vessel_draught</th>\n",
       "      <th>vessel_size_category</th>\n",
       "      <th>activity</th>\n",
       "      <th>firstBlip_in_polygon</th>\n",
       "      <th>lastBlip_in_polygon</th>\n",
       "    </tr>\n",
       "  </thead>\n",
       "  <tbody>\n",
       "    <tr>\n",
       "      <th>0</th>\n",
       "      <td>Passenger</td>\n",
       "      <td>864.0</td>\n",
       "      <td>2.3</td>\n",
       "      <td>big</td>\n",
       "      <td>Mooring</td>\n",
       "      <td>True</td>\n",
       "      <td>True</td>\n",
       "    </tr>\n",
       "    <tr>\n",
       "      <th>1</th>\n",
       "      <td>Passenger</td>\n",
       "      <td>864.0</td>\n",
       "      <td>2.3</td>\n",
       "      <td>big</td>\n",
       "      <td>Mooring</td>\n",
       "      <td>True</td>\n",
       "      <td>True</td>\n",
       "    </tr>\n",
       "    <tr>\n",
       "      <th>2</th>\n",
       "      <td>Passenger</td>\n",
       "      <td>864.0</td>\n",
       "      <td>2.3</td>\n",
       "      <td>big</td>\n",
       "      <td>Mooring</td>\n",
       "      <td>True</td>\n",
       "      <td>True</td>\n",
       "    </tr>\n",
       "    <tr>\n",
       "      <th>3</th>\n",
       "      <td>Passenger</td>\n",
       "      <td>864.0</td>\n",
       "      <td>2.3</td>\n",
       "      <td>big</td>\n",
       "      <td>Mooring</td>\n",
       "      <td>True</td>\n",
       "      <td>True</td>\n",
       "    </tr>\n",
       "    <tr>\n",
       "      <th>4</th>\n",
       "      <td>Passenger</td>\n",
       "      <td>864.0</td>\n",
       "      <td>2.3</td>\n",
       "      <td>big</td>\n",
       "      <td>Mooring</td>\n",
       "      <td>True</td>\n",
       "      <td>True</td>\n",
       "    </tr>\n",
       "    <tr>\n",
       "      <th>...</th>\n",
       "      <td>...</td>\n",
       "      <td>...</td>\n",
       "      <td>...</td>\n",
       "      <td>...</td>\n",
       "      <td>...</td>\n",
       "      <td>...</td>\n",
       "      <td>...</td>\n",
       "    </tr>\n",
       "    <tr>\n",
       "      <th>7788068</th>\n",
       "      <td>Cargo</td>\n",
       "      <td>4200.0</td>\n",
       "      <td>4.0</td>\n",
       "      <td>big</td>\n",
       "      <td>Anchoring</td>\n",
       "      <td>False</td>\n",
       "      <td>False</td>\n",
       "    </tr>\n",
       "    <tr>\n",
       "      <th>7788069</th>\n",
       "      <td>Cargo</td>\n",
       "      <td>710.0</td>\n",
       "      <td>4.2</td>\n",
       "      <td>medium</td>\n",
       "      <td>Anchoring</td>\n",
       "      <td>True</td>\n",
       "      <td>True</td>\n",
       "    </tr>\n",
       "    <tr>\n",
       "      <th>7788070</th>\n",
       "      <td>Cargo</td>\n",
       "      <td>55653.0</td>\n",
       "      <td>8.5</td>\n",
       "      <td>big</td>\n",
       "      <td>Anchoring</td>\n",
       "      <td>True</td>\n",
       "      <td>True</td>\n",
       "    </tr>\n",
       "    <tr>\n",
       "      <th>7788071</th>\n",
       "      <td>Cargo</td>\n",
       "      <td>55653.0</td>\n",
       "      <td>8.5</td>\n",
       "      <td>big</td>\n",
       "      <td>Anchoring</td>\n",
       "      <td>True</td>\n",
       "      <td>True</td>\n",
       "    </tr>\n",
       "    <tr>\n",
       "      <th>7788072</th>\n",
       "      <td>Cargo</td>\n",
       "      <td>13256.0</td>\n",
       "      <td>6.0</td>\n",
       "      <td>big</td>\n",
       "      <td>Anchoring</td>\n",
       "      <td>True</td>\n",
       "      <td>True</td>\n",
       "    </tr>\n",
       "  </tbody>\n",
       "</table>\n",
       "<p>7788073 rows × 7 columns</p>\n",
       "</div>"
      ],
      "text/plain": [
       "        vessel_class_calc_updated  vessel_deadweight  vessel_draught  \\\n",
       "0                       Passenger              864.0             2.3   \n",
       "1                       Passenger              864.0             2.3   \n",
       "2                       Passenger              864.0             2.3   \n",
       "3                       Passenger              864.0             2.3   \n",
       "4                       Passenger              864.0             2.3   \n",
       "...                           ...                ...             ...   \n",
       "7788068                     Cargo             4200.0             4.0   \n",
       "7788069                     Cargo              710.0             4.2   \n",
       "7788070                     Cargo            55653.0             8.5   \n",
       "7788071                     Cargo            55653.0             8.5   \n",
       "7788072                     Cargo            13256.0             6.0   \n",
       "\n",
       "        vessel_size_category   activity  firstBlip_in_polygon  \\\n",
       "0                        big    Mooring                  True   \n",
       "1                        big    Mooring                  True   \n",
       "2                        big    Mooring                  True   \n",
       "3                        big    Mooring                  True   \n",
       "4                        big    Mooring                  True   \n",
       "...                      ...        ...                   ...   \n",
       "7788068                  big  Anchoring                 False   \n",
       "7788069               medium  Anchoring                  True   \n",
       "7788070                  big  Anchoring                  True   \n",
       "7788071                  big  Anchoring                  True   \n",
       "7788072                  big  Anchoring                  True   \n",
       "\n",
       "        lastBlip_in_polygon  \n",
       "0                      True  \n",
       "1                      True  \n",
       "2                      True  \n",
       "3                      True  \n",
       "4                      True  \n",
       "...                     ...  \n",
       "7788068               False  \n",
       "7788069                True  \n",
       "7788070                True  \n",
       "7788071                True  \n",
       "7788072                True  \n",
       "\n",
       "[7788073 rows x 7 columns]"
      ]
     },
     "execution_count": 169,
     "metadata": {},
     "output_type": "execute_result"
    }
   ],
   "source": [
    "df_for_analysis.drop(columns=['firstBlip_polygon_id', 'lastBlip_polygon_id', 'type'])"
   ]
  },
  {
   "cell_type": "code",
   "execution_count": 173,
   "metadata": {},
   "outputs": [],
   "source": [
    "def plot_precentage_in_polygon_ver2(df, col, groupby):\n",
    "    '''\n",
    "    df: alon's df for all activities together\n",
    "    col: firstBlip_in_polygon // lastBlip_in_polygon\n",
    "    '''\n",
    "\n",
    "    blip_counts = (df.groupby([groupby])[col]\n",
    "                         .value_counts(normalize=True)\n",
    "                         .rename('percentage')\n",
    "                         .mul(100)\n",
    "                         .reset_index()\n",
    "                         .sort_values(col))\n",
    "\n",
    "    g = sns.catplot(x=groupby,y='percentage',hue=col,kind='bar',data=blip_counts, palette=\"Greens_d\")\n",
    "    g.ax.set_ylim(0,100)\n",
    "\n",
    "    for p in g.ax.patches:\n",
    "        txt = str(p.get_height().round(2)) + '%'\n",
    "        txt_x = p.get_x() \n",
    "        txt_y = p.get_height()\n",
    "        g.ax.text(txt_x,txt_y,txt)"
   ]
  },
  {
   "cell_type": "code",
   "execution_count": 174,
   "metadata": {},
   "outputs": [
    {
     "data": {
      "image/png": "[encoded data removed]",
      "text/plain": [
       "<Figure size 465.625x360 with 1 Axes>"
      ]
     },
     "metadata": {
      "needs_background": "light"
     },
     "output_type": "display_data"
    }
   ],
   "source": [
    "plot_precentage_in_polygon_ver2(df_for_analysis, 'firstBlip_in_polygon', 'activity')"
   ]
  },
  {
   "cell_type": "code",
   "execution_count": 175,
   "metadata": {},
   "outputs": [
    {
     "data": {
      "image/png": "[encoded data removed]",
      "text/plain": [
       "<Figure size 464x360 with 1 Axes>"
      ]
     },
     "metadata": {
      "needs_background": "light"
     },
     "output_type": "display_data"
    }
   ],
   "source": [
    "plot_precentage_in_polygon_ver2(df_for_analysis, 'lastBlip_in_polygon', 'activity')"
   ]
  },
  {
   "cell_type": "code",
   "execution_count": 183,
   "metadata": {},
   "outputs": [
    {
     "data": {
      "image/png": "[encoded data removed]",
      "text/plain": [
       "<Figure size 465.625x360 with 1 Axes>"
      ]
     },
     "metadata": {
      "needs_background": "light"
     },
     "output_type": "display_data"
    }
   ],
   "source": [
    "plot_precentage_in_polygon_ver2(df_for_analysis[df_for_analysis['activity']=='Mooring'], 'firstBlip_in_polygon', 'vessel_class_calc_updated')\n",
    "plt.suptitle('Precentage of mooring activities that begin inside a polygon by vessel type', size=16, y=1.12);      \n",
    "plt.show()"
   ]
  },
  {
   "cell_type": "code",
   "execution_count": 184,
   "metadata": {},
   "outputs": [
    {
     "data": {
      "image/png": "[encoded data removed]",
      "text/plain": [
       "<Figure size 465.625x360 with 1 Axes>"
      ]
     },
     "metadata": {
      "needs_background": "light"
     },
     "output_type": "display_data"
    }
   ],
   "source": [
    "plot_precentage_in_polygon_ver2(df_for_analysis[df_for_analysis['activity']=='Anchoring'], 'firstBlip_in_polygon', 'vessel_class_calc_updated')\n",
    "plt.suptitle('Precentage of anchoring activities that begin inside a polygon by vessel type', size=16, y=1.12);      \n",
    "plt.show()"
   ]
  },
  {
   "cell_type": "code",
   "execution_count": 187,
   "metadata": {},
   "outputs": [
    {
     "data": {
      "text/html": [
       "<div>\n",
       "<style scoped>\n",
       "    .dataframe tbody tr th:only-of-type {\n",
       "        vertical-align: middle;\n",
       "    }\n",
       "\n",
       "    .dataframe tbody tr th {\n",
       "        vertical-align: top;\n",
       "    }\n",
       "\n",
       "    .dataframe thead th {\n",
       "        text-align: right;\n",
       "    }\n",
       "</style>\n",
       "<table border=\"1\" class=\"dataframe\">\n",
       "  <thead>\n",
       "    <tr style=\"text-align: right;\">\n",
       "      <th></th>\n",
       "      <th>type</th>\n",
       "      <th>firstBlip_polygon_id</th>\n",
       "      <th>lastBlip_polygon_id</th>\n",
       "      <th>vessel_class_calc_updated</th>\n",
       "      <th>vessel_deadweight</th>\n",
       "      <th>vessel_draught</th>\n",
       "      <th>vessel_size_category</th>\n",
       "      <th>activity</th>\n",
       "      <th>firstBlip_in_polygon</th>\n",
       "      <th>lastBlip_in_polygon</th>\n",
       "    </tr>\n",
       "  </thead>\n",
       "  <tbody>\n",
       "  </tbody>\n",
       "</table>\n",
       "</div>"
      ],
      "text/plain": [
       "Empty DataFrame\n",
       "Columns: [type, firstBlip_polygon_id, lastBlip_polygon_id, vessel_class_calc_updated, vessel_deadweight, vessel_draught, vessel_size_category, activity, firstBlip_in_polygon, lastBlip_in_polygon]\n",
       "Index: []"
      ]
     },
     "execution_count": 187,
     "metadata": {},
     "output_type": "execute_result"
    }
   ],
   "source": [
    "# vrifying there ar indeed no records of anchoring for fishing vessels\n",
    "df_for_analysis[(df_for_analysis['vessel_class_calc_updated']=='Fishing') & (df_for_analysis['activity']=='Anchoring')]"
   ]
  },
  {
   "cell_type": "code",
   "execution_count": 185,
   "metadata": {},
   "outputs": [
    {
     "name": "stderr",
     "output_type": "stream",
     "text": [
      "posx and posy should be finite values\n",
      "posx and posy should be finite values\n",
      "posx and posy should be finite values\n",
      "posx and posy should be finite values\n"
     ]
    },
    {
     "data": {
      "image/png": "[encoded data removed]",
      "text/plain": [
       "<Figure size 465.625x360 with 1 Axes>"
      ]
     },
     "metadata": {
      "needs_background": "light"
     },
     "output_type": "display_data"
    }
   ],
   "source": [
    "plot_precentage_in_polygon_ver2(df_for_analysis[df_for_analysis['activity']=='Drifting'], 'firstBlip_in_polygon', 'vessel_class_calc_updated')\n",
    "plt.suptitle('Precentage of drifting activities that begin inside a polygon by vessel type', size=16, y=1.12);      \n",
    "plt.show()"
   ]
  },
  {
   "cell_type": "code",
   "execution_count": 186,
   "metadata": {},
   "outputs": [
    {
     "data": {
      "image/png": "[encoded data removed]",
      "text/plain": [
       "<Figure size 465.625x360 with 1 Axes>"
      ]
     },
     "metadata": {
      "needs_background": "light"
     },
     "output_type": "display_data"
    }
   ],
   "source": [
    "plot_precentage_in_polygon_ver2(df_for_analysis[df_for_analysis['activity']=='Port Calls'], 'firstBlip_in_polygon', 'vessel_class_calc_updated')\n",
    "plt.suptitle('Precentage of port-calls activities that begin inside a polygon by vessel type', size=16, y=1.12);      \n",
    "plt.show()"
   ]
  },
  {
   "cell_type": "code",
   "execution_count": 188,
   "metadata": {},
   "outputs": [],
   "source": [
    "df_for_analysis['polygonType'] = df['polygonType']"
   ]
  },
  {
   "cell_type": "code",
   "execution_count": 189,
   "metadata": {},
   "outputs": [
    {
     "data": {
      "text/plain": [
       "array([nan, 'PORT', 'FACILITY_AREA'], dtype=object)"
      ]
     },
     "execution_count": 189,
     "metadata": {},
     "output_type": "execute_result"
    }
   ],
   "source": [
    "df_for_analysis['polygonType'].unique()"
   ]
  },
  {
   "cell_type": "code",
   "execution_count": null,
   "metadata": {},
   "outputs": [],
   "source": [
    "plot_precentage_in_polygon_ver2(df_for_analysis[df_for_analysis['polygonType']=='Port'], 'firstBlip_in_polygon', 'vessel_class_calc_updated')\n",
    "plt.suptitle('Precentage of mooring activities that begin inside a polygon by vessel type', size=16, y=1.12);      \n",
    "plt.show()"
   ]
  },
  {
   "cell_type": "code",
   "execution_count": null,
   "metadata": {},
   "outputs": [],
   "source": []
  },
  {
   "cell_type": "code",
   "execution_count": null,
   "metadata": {},
   "outputs": [],
   "source": []
  },
  {
   "cell_type": "code",
   "execution_count": null,
   "metadata": {},
   "outputs": [],
   "source": []
  },
  {
   "cell_type": "code",
   "execution_count": null,
   "metadata": {},
   "outputs": [],
   "source": [
    "df['activity'].unique"
   ]
  },
  {
   "cell_type": "code",
   "execution_count": 115,
   "metadata": {},
   "outputs": [
    {
     "name": "stdout",
     "output_type": "stream",
     "text": [
      "First_blip:\n",
      "True     0.833035\n",
      "False    0.166965\n",
      "Name: firstBlip_in_polygon, dtype: float64\n"
     ]
    },
    {
     "data": {
      "image/png": "[encoded data removed]",
      "text/plain": [
       "<Figure size 432x288 with 1 Axes>"
      ]
     },
     "metadata": {
      "needs_background": "light"
     },
     "output_type": "display_data"
    },
    {
     "name": "stdout",
     "output_type": "stream",
     "text": [
      "\n",
      "Last_blip:\n",
      "True         0.842592\n",
      "False        0.134273\n",
      "not_ended    0.023135\n",
      "Name: lastBlip_in_polygon, dtype: float64\n"
     ]
    },
    {
     "data": {
      "image/png": "[encoded data removed]",
      "text/plain": [
       "<Figure size 432x288 with 1 Axes>"
      ]
     },
     "metadata": {
      "needs_background": "light"
     },
     "output_type": "display_data"
    }
   ],
   "source": [
    "is_in_polygon_features(df)"
   ]
  },
  {
   "cell_type": "code",
   "execution_count": null,
   "metadata": {},
   "outputs": [],
   "source": []
  },
  {
   "cell_type": "code",
   "execution_count": null,
   "metadata": {},
   "outputs": [],
   "source": []
  },
  {
   "cell_type": "code",
   "execution_count": null,
   "metadata": {},
   "outputs": [],
   "source": []
  },
  {
   "cell_type": "code",
   "execution_count": null,
   "metadata": {},
   "outputs": [],
   "source": []
  },
  {
   "cell_type": "code",
   "execution_count": 5,
   "metadata": {},
   "outputs": [],
   "source": [
    "ACTIVITIES_FILES = ['mooring.csv.gz', 'drifting.csv.gz', 'port_calls.csv.gz', 'anchoring.csv.gz']\n"
   ]
  },
  {
   "cell_type": "code",
   "execution_count": 7,
   "metadata": {},
   "outputs": [],
   "source": [
    "mooring_df = pd.read_csv(os.path.join(files_path, 'mooring.csv.gz'), compression='gzip')\n"
   ]
  },
  {
   "cell_type": "code",
   "execution_count": 83,
   "metadata": {},
   "outputs": [
    {
     "name": "stdout",
     "output_type": "stream",
     "text": [
      "First_blip:\n",
      "True     0.800314\n",
      "False    0.199686\n",
      "Name: firstBlip_in_polygon, dtype: float64\n"
     ]
    },
    {
     "data": {
      "image/png": "[encoded data removed]",
      "text/plain": [
       "<Figure size 432x288 with 1 Axes>"
      ]
     },
     "metadata": {
      "needs_background": "light"
     },
     "output_type": "display_data"
    },
    {
     "name": "stdout",
     "output_type": "stream",
     "text": [
      "\n",
      "Last_blip:\n",
      "True         0.839839\n",
      "False        0.136915\n",
      "not_ended    0.023247\n",
      "Name: lastBlip_in_polygon, dtype: float64\n"
     ]
    },
    {
     "data": {
      "image/png": "[encoded data removed]",
      "text/plain": [
       "<Figure size 432x288 with 1 Axes>"
      ]
     },
     "metadata": {
      "needs_background": "light"
     },
     "output_type": "display_data"
    }
   ],
   "source": [
    "is_in_polygon_features(mooring_df)"
   ]
  },
  {
   "cell_type": "code",
   "execution_count": null,
   "metadata": {},
   "outputs": [],
   "source": []
  },
  {
   "cell_type": "code",
   "execution_count": 8,
   "metadata": {},
   "outputs": [],
   "source": [
    "drifting_df = pd.read_csv(os.path.join(files_path, 'drifting.csv.gz'), compression='gzip')"
   ]
  },
  {
   "cell_type": "code",
   "execution_count": 84,
   "metadata": {},
   "outputs": [
    {
     "name": "stdout",
     "output_type": "stream",
     "text": [
      "First_blip:\n",
      "False    0.818268\n",
      "True     0.181732\n",
      "Name: firstBlip_in_polygon, dtype: float64\n"
     ]
    },
    {
     "data": {
      "image/png": "[encoded data removed]",
      "text/plain": [
       "<Figure size 432x288 with 1 Axes>"
      ]
     },
     "metadata": {
      "needs_background": "light"
     },
     "output_type": "display_data"
    },
    {
     "name": "stdout",
     "output_type": "stream",
     "text": [
      "\n",
      "Last_blip:\n",
      "False        0.794162\n",
      "True         0.174090\n",
      "not_ended    0.031748\n",
      "Name: lastBlip_in_polygon, dtype: float64\n"
     ]
    },
    {
     "data": {
      "image/png": "[encoded data removed]",
      "text/plain": [
       "<Figure size 432x288 with 1 Axes>"
      ]
     },
     "metadata": {
      "needs_background": "light"
     },
     "output_type": "display_data"
    }
   ],
   "source": [
    "is_in_polygon_features(drifting_df)"
   ]
  },
  {
   "cell_type": "code",
   "execution_count": null,
   "metadata": {},
   "outputs": [],
   "source": []
  },
  {
   "cell_type": "code",
   "execution_count": 9,
   "metadata": {},
   "outputs": [],
   "source": [
    "anchoring_df = pd.read_csv(os.path.join(files_path, 'anchoring.csv.gz'), compression='gzip')"
   ]
  },
  {
   "cell_type": "code",
   "execution_count": 85,
   "metadata": {},
   "outputs": [
    {
     "name": "stdout",
     "output_type": "stream",
     "text": [
      "First_blip:\n",
      "True     0.668372\n",
      "False    0.331628\n",
      "Name: firstBlip_in_polygon, dtype: float64\n"
     ]
    },
    {
     "data": {
      "image/png": "[encoded data removed]",
      "text/plain": [
       "<Figure size 432x288 with 1 Axes>"
      ]
     },
     "metadata": {
      "needs_background": "light"
     },
     "output_type": "display_data"
    },
    {
     "name": "stdout",
     "output_type": "stream",
     "text": [
      "\n",
      "Last_blip:\n",
      "True         0.675029\n",
      "False        0.304213\n",
      "not_ended    0.020758\n",
      "Name: lastBlip_in_polygon, dtype: float64\n"
     ]
    },
    {
     "data": {
      "image/png": "[encoded data removed]",
      "text/plain": [
       "<Figure size 432x288 with 1 Axes>"
      ]
     },
     "metadata": {
      "needs_background": "light"
     },
     "output_type": "display_data"
    }
   ],
   "source": [
    "is_in_polygon_features(anchoring_df)"
   ]
  },
  {
   "cell_type": "code",
   "execution_count": null,
   "metadata": {},
   "outputs": [],
   "source": []
  },
  {
   "cell_type": "code",
   "execution_count": 10,
   "metadata": {},
   "outputs": [],
   "source": [
    "port_calls_df = pd.read_csv(os.path.join(files_path, 'port_calls.csv.gz'), compression='gzip')"
   ]
  },
  {
   "cell_type": "code",
   "execution_count": 86,
   "metadata": {},
   "outputs": [
    {
     "name": "stdout",
     "output_type": "stream",
     "text": [
      "First_blip:\n",
      "True     0.957437\n",
      "False    0.042563\n",
      "Name: firstBlip_in_polygon, dtype: float64\n"
     ]
    },
    {
     "data": {
      "image/png": "[encoded data removed]",
      "text/plain": [
       "<Figure size 432x288 with 1 Axes>"
      ]
     },
     "metadata": {
      "needs_background": "light"
     },
     "output_type": "display_data"
    },
    {
     "name": "stdout",
     "output_type": "stream",
     "text": [
      "\n",
      "Last_blip:\n",
      "True         0.936277\n",
      "False        0.040700\n",
      "not_ended    0.023023\n",
      "Name: lastBlip_in_polygon, dtype: float64\n"
     ]
    },
    {
     "data": {
      "image/png": "[encoded data removed]",
      "text/plain": [
       "<Figure size 432x288 with 1 Axes>"
      ]
     },
     "metadata": {
      "needs_background": "light"
     },
     "output_type": "display_data"
    }
   ],
   "source": [
    "is_in_polygon_features(port_calls_df)"
   ]
  },
  {
   "cell_type": "code",
   "execution_count": 136,
   "metadata": {},
   "outputs": [
    {
     "data": {
      "text/plain": [
       "_id                                              601e7946a3227d36f23a0d35\n",
       "vesselId                                         5905c78029eec5581e773593\n",
       "startDate                                         2021-02-06 11:11:02.000\n",
       "endDate                                           2021-02-06 11:22:58.000\n",
       "createdDate                                       2021-02-06 12:29:43.110\n",
       "type                                                     LOW_SPEED_MOORED\n",
       "confidence                                                           0.75\n",
       "isInProgress                                                        False\n",
       "firstBlip               {'sog': 0.0, 'th': 360.0, 'geometry': {'type':...\n",
       "lastBlip                {'sog': 0.0, 'th': 360.0, 'geometry': {'type':...\n",
       "duration                                                         0.198889\n",
       "previousPort                                     57d15450376b25d85e8577a4\n",
       "enrichers               {'previousNextPort': {'previousPort': ObjectId...\n",
       "nextPort                                                              NaN\n",
       "firstBlip_lng                                                     29.4457\n",
       "firstBlip_lat                                                     40.6949\n",
       "lastBlip_lng                                                      29.4458\n",
       "lastBlip_lat                                                      40.6949\n",
       "geometry                                        POINT (29.44577 40.69488)\n",
       "firstBlip_polygon_id                             579a0a034364c730483f45d1\n",
       "lastBlip_polygon_id                              579a0a034364c730483f45d1\n",
       "firstBlip_in_polygon                                                 True\n",
       "lastBlip_in_polygon                                                  True\n",
       "Name: 0, dtype: object"
      ]
     },
     "execution_count": 136,
     "metadata": {},
     "output_type": "execute_result"
    }
   ],
   "source": [
    "mooring_df.iloc[0]"
   ]
  },
  {
   "cell_type": "code",
   "execution_count": null,
   "metadata": {},
   "outputs": [],
   "source": []
  },
  {
   "cell_type": "code",
   "execution_count": null,
   "metadata": {},
   "outputs": [],
   "source": [
    "is_in_polygon_df = pd.DataFrame()\n",
    "activities = {'mooring': mooring_df,\n",
    "              'drifting': drifting_df,\n",
    "              'anchoring': anchoring_df,\n",
    "              'port_calls': port_calls_df}\n",
    "\n",
    "for activity_name, df in activities.items():\n",
    "    d = df.loc[:, ['firstBlip_in_polygon', 'lastBlip_in_polygon']]\n",
    "    d['activity'] = activity_name    \n",
    "    is_in_polygon_df = is_in_polygon_df.append(d, ignore_index=True)"
   ]
  },
  {
   "cell_type": "code",
   "execution_count": 90,
   "metadata": {},
   "outputs": [
    {
     "data": {
      "text/html": [
       "<div>\n",
       "<style scoped>\n",
       "    .dataframe tbody tr th:only-of-type {\n",
       "        vertical-align: middle;\n",
       "    }\n",
       "\n",
       "    .dataframe tbody tr th {\n",
       "        vertical-align: top;\n",
       "    }\n",
       "\n",
       "    .dataframe thead th {\n",
       "        text-align: right;\n",
       "    }\n",
       "</style>\n",
       "<table border=\"1\" class=\"dataframe\">\n",
       "  <thead>\n",
       "    <tr style=\"text-align: right;\">\n",
       "      <th></th>\n",
       "      <th>firstBlip_in_polygon</th>\n",
       "      <th>lastBlip_in_polygon</th>\n",
       "      <th>activity</th>\n",
       "    </tr>\n",
       "  </thead>\n",
       "  <tbody>\n",
       "    <tr>\n",
       "      <th>0</th>\n",
       "      <td>True</td>\n",
       "      <td>True</td>\n",
       "      <td>mooring</td>\n",
       "    </tr>\n",
       "    <tr>\n",
       "      <th>1</th>\n",
       "      <td>True</td>\n",
       "      <td>not_ended</td>\n",
       "      <td>mooring</td>\n",
       "    </tr>\n",
       "    <tr>\n",
       "      <th>2</th>\n",
       "      <td>False</td>\n",
       "      <td>False</td>\n",
       "      <td>mooring</td>\n",
       "    </tr>\n",
       "    <tr>\n",
       "      <th>3</th>\n",
       "      <td>True</td>\n",
       "      <td>not_ended</td>\n",
       "      <td>mooring</td>\n",
       "    </tr>\n",
       "    <tr>\n",
       "      <th>4</th>\n",
       "      <td>True</td>\n",
       "      <td>not_ended</td>\n",
       "      <td>mooring</td>\n",
       "    </tr>\n",
       "  </tbody>\n",
       "</table>\n",
       "</div>"
      ],
      "text/plain": [
       "   firstBlip_in_polygon lastBlip_in_polygon activity\n",
       "0                  True                True  mooring\n",
       "1                  True           not_ended  mooring\n",
       "2                 False               False  mooring\n",
       "3                  True           not_ended  mooring\n",
       "4                  True           not_ended  mooring"
      ]
     },
     "execution_count": 90,
     "metadata": {},
     "output_type": "execute_result"
    }
   ],
   "source": [
    "is_in_polygon_df.head()"
   ]
  },
  {
   "cell_type": "code",
   "execution_count": 116,
   "metadata": {},
   "outputs": [],
   "source": [
    "def plot_precentage_in_polygon(df, col):\n",
    "    '''\n",
    "    df: is_in_polygon_df for all activities together\n",
    "    col: firstBlip_in_polygon // lastBlip_in_polygon\n",
    "    '''\n",
    "\n",
    "    blip_counts = (df.groupby(['activity'])[col]\n",
    "                         .value_counts(normalize=True)\n",
    "                         .rename('percentage')\n",
    "                         .mul(100)\n",
    "                         .reset_index()\n",
    "                         .sort_values(col))\n",
    "\n",
    "    g = sns.catplot(x='activity',y='percentage',hue=col,kind='bar',data=blip_counts, palette=\"Greens_d\")\n",
    "    g.ax.set_ylim(0,100)\n",
    "\n",
    "    for p in g.ax.patches:\n",
    "        txt = str(p.get_height().round(2)) + '%'\n",
    "        txt_x = p.get_x() \n",
    "        txt_y = p.get_height()\n",
    "        g.ax.text(txt_x,txt_y,txt)\n",
    "    "
   ]
  },
  {
   "cell_type": "code",
   "execution_count": 106,
   "metadata": {},
   "outputs": [
    {
     "data": {
      "image/png": "[encoded data removed]",
      "text/plain": [
       "<Figure size 465.625x360 with 1 Axes>"
      ]
     },
     "metadata": {
      "needs_background": "light"
     },
     "output_type": "display_data"
    }
   ],
   "source": [
    "plot_precentage_in_polygon(is_in_polygon_df, 'firstBlip_in_polygon')"
   ]
  },
  {
   "cell_type": "code",
   "execution_count": 107,
   "metadata": {},
   "outputs": [
    {
     "data": {
      "image/png": "[encoded data removed]",
      "text/plain": [
       "<Figure size 464x360 with 1 Axes>"
      ]
     },
     "metadata": {
      "needs_background": "light"
     },
     "output_type": "display_data"
    }
   ],
   "source": [
    "plot_precentage_in_polygon(is_in_polygon_df, 'lastBlip_in_polygon')"
   ]
  },
  {
   "cell_type": "code",
   "execution_count": null,
   "metadata": {},
   "outputs": [],
   "source": []
  }
 ],
 "metadata": {
  "kernelspec": {
   "display_name": "Python 3",
   "language": "python",
   "name": "python3"
  },
  "language_info": {
   "codemirror_mode": {
    "name": "ipython",
    "version": 3
   },
   "file_extension": ".py",
   "mimetype": "text/x-python",
   "name": "python",
   "nbconvert_exporter": "python",
   "pygments_lexer": "ipython3",
   "version": "3.7.6"
  }
 },
 "nbformat": 4,
 "nbformat_minor": 4
}
