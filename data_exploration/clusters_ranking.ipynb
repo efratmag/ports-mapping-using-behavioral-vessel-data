{
 "cells": [
  {
   "cell_type": "code",
   "execution_count": 166,
   "metadata": {},
   "outputs": [],
   "source": [
    "import geopandas as gpd\n",
    "import pandas as pd\n",
    "import numpy as np\n",
    "from sklearn import preprocessing\n",
    "import seaborn as sns\n",
    "import matplotlib.pyplot as plt\n",
    "import os"
   ]
  },
  {
   "cell_type": "code",
   "execution_count": 177,
   "metadata": {},
   "outputs": [],
   "source": [
    "PATH = '/Users/EF/PycharmProjects/ports-mapping-using-behavioral-vessel-data/features'\n",
    "CLUSTERED_DATA_FNAME = 'hdbscan_30mcs_5ms_mooring_polygons_with_distance.geojson'\n",
    "NEW_POLY_FNAME = 'new_polygons_candidates.json'\n",
    "NEW_PORTS_FNAME = 'new_ports.json'"
   ]
  },
  {
   "cell_type": "code",
   "execution_count": 12,
   "metadata": {},
   "outputs": [],
   "source": [
    "df = gpd.read_file(os.path.join(PATH, CLUSTERED_DATA_FNAME))"
   ]
  },
  {
   "cell_type": "code",
   "execution_count": 13,
   "metadata": {},
   "outputs": [
    {
     "data": {
      "text/plain": [
       "(8520, 19)"
      ]
     },
     "execution_count": 13,
     "metadata": {},
     "output_type": "execute_result"
    }
   ],
   "source": [
    "df.shape"
   ]
  },
  {
   "cell_type": "code",
   "execution_count": 14,
   "metadata": {},
   "outputs": [],
   "source": [
    "new_polygons_candidates = df[df['intersection'].isnull()]"
   ]
  },
  {
   "cell_type": "code",
   "execution_count": 15,
   "metadata": {},
   "outputs": [
    {
     "data": {
      "text/plain": [
       "(794, 19)"
      ]
     },
     "execution_count": 15,
     "metadata": {},
     "output_type": "execute_result"
    }
   ],
   "source": [
    "new_polygons_candidates.shape"
   ]
  },
  {
   "cell_type": "code",
   "execution_count": 16,
   "metadata": {},
   "outputs": [
    {
     "data": {
      "text/html": [
       "<div>\n",
       "<style scoped>\n",
       "    .dataframe tbody tr th:only-of-type {\n",
       "        vertical-align: middle;\n",
       "    }\n",
       "\n",
       "    .dataframe tbody tr th {\n",
       "        vertical-align: top;\n",
       "    }\n",
       "\n",
       "    .dataframe thead th {\n",
       "        text-align: right;\n",
       "    }\n",
       "</style>\n",
       "<table border=\"1\" class=\"dataframe\">\n",
       "  <thead>\n",
       "    <tr style=\"text-align: right;\">\n",
       "      <th></th>\n",
       "      <th>label</th>\n",
       "      <th>probs_of_belonging_to_clust</th>\n",
       "      <th>num_points</th>\n",
       "      <th>area_sqkm</th>\n",
       "      <th>density</th>\n",
       "      <th>mean_duration</th>\n",
       "      <th>median_duration</th>\n",
       "      <th>distance_from_nearest_port</th>\n",
       "      <th>n_unique_vesselID</th>\n",
       "      <th>percent_unique_vesselID</th>\n",
       "      <th>vesselIDs</th>\n",
       "      <th>intersection</th>\n",
       "      <th>geohash</th>\n",
       "      <th>distance_from_shore</th>\n",
       "      <th>nearest_shore_lat</th>\n",
       "      <th>nearest_shore_lng</th>\n",
       "      <th>centroid_lat</th>\n",
       "      <th>centroid_lng</th>\n",
       "      <th>geometry</th>\n",
       "    </tr>\n",
       "  </thead>\n",
       "  <tbody>\n",
       "    <tr>\n",
       "      <th>18</th>\n",
       "      <td>cluster 18</td>\n",
       "      <td>0.001263,0.001263,1.000000,0.900837,1.000000,1...</td>\n",
       "      <td>49.0</td>\n",
       "      <td>933.097850</td>\n",
       "      <td>2.281415</td>\n",
       "      <td>16.699620</td>\n",
       "      <td>14.319722</td>\n",
       "      <td>4.947840</td>\n",
       "      <td>6.0</td>\n",
       "      <td>0.122449</td>\n",
       "      <td>5905c3452ec2d44c585302a2,5905c3452ec2d44c58530...</td>\n",
       "      <td>NaN</td>\n",
       "      <td>6x79bf</td>\n",
       "      <td>0.000000</td>\n",
       "      <td>NaN</td>\n",
       "      <td>NaN</td>\n",
       "      <td>-3.899364</td>\n",
       "      <td>-62.541513</td>\n",
       "      <td>POLYGON ((-63.15333 -4.01333, -63.16198 -3.943...</td>\n",
       "    </tr>\n",
       "    <tr>\n",
       "      <th>19</th>\n",
       "      <td>cluster 19</td>\n",
       "      <td>1.000000,0.457016,1.000000,1.000000,1.000000,1...</td>\n",
       "      <td>88.0</td>\n",
       "      <td>12.039211</td>\n",
       "      <td>77.355170</td>\n",
       "      <td>33.761932</td>\n",
       "      <td>20.997500</td>\n",
       "      <td>0.199411</td>\n",
       "      <td>5.0</td>\n",
       "      <td>0.056818</td>\n",
       "      <td>5907e840d3721c61e7661c2a,5907e840d3721c61e7661...</td>\n",
       "      <td>NaN</td>\n",
       "      <td>kzt57y</td>\n",
       "      <td>2.179628</td>\n",
       "      <td>-2.221004</td>\n",
       "      <td>40.940900</td>\n",
       "      <td>-2.205956</td>\n",
       "      <td>40.953436</td>\n",
       "      <td>POLYGON ((40.99500 -2.22000, 40.93298 -2.21172...</td>\n",
       "    </tr>\n",
       "    <tr>\n",
       "      <th>28</th>\n",
       "      <td>cluster 28</td>\n",
       "      <td>1.000000,1.000000,1.000000,1.000000,0.205361,1...</td>\n",
       "      <td>35.0</td>\n",
       "      <td>1.201044</td>\n",
       "      <td>219.327649</td>\n",
       "      <td>6.197087</td>\n",
       "      <td>4.351111</td>\n",
       "      <td>224.811678</td>\n",
       "      <td>6.0</td>\n",
       "      <td>0.171429</td>\n",
       "      <td>595a6b520573e14ee35987ed,595a6b520573e14ee3598...</td>\n",
       "      <td>NaN</td>\n",
       "      <td>e6wkwt</td>\n",
       "      <td>1.866256</td>\n",
       "      <td>14.884516</td>\n",
       "      <td>-24.683696</td>\n",
       "      <td>14.884820</td>\n",
       "      <td>-24.666352</td>\n",
       "      <td>POLYGON ((-24.64980 14.88044, -24.66700 14.882...</td>\n",
       "    </tr>\n",
       "    <tr>\n",
       "      <th>51</th>\n",
       "      <td>cluster 51</td>\n",
       "      <td>0.019056,0.019056,0.019056,0.019056,0.019056,0...</td>\n",
       "      <td>58.0</td>\n",
       "      <td>1.316428</td>\n",
       "      <td>17.157920</td>\n",
       "      <td>4.078784</td>\n",
       "      <td>3.983056</td>\n",
       "      <td>10953.417184</td>\n",
       "      <td>1.0</td>\n",
       "      <td>0.017241</td>\n",
       "      <td>5905c346a696e25879022778,5905c346a696e25879022...</td>\n",
       "      <td>NaN</td>\n",
       "      <td>rbevt9</td>\n",
       "      <td>0.000000</td>\n",
       "      <td>NaN</td>\n",
       "      <td>NaN</td>\n",
       "      <td>-41.214661</td>\n",
       "      <td>174.271390</td>\n",
       "      <td>POLYGON ((174.23647 -41.24801, 174.23647 -41.2...</td>\n",
       "    </tr>\n",
       "    <tr>\n",
       "      <th>74</th>\n",
       "      <td>cluster 74</td>\n",
       "      <td>0.268309,1.000000,1.000000,1.000000,1.000000,1...</td>\n",
       "      <td>42.0</td>\n",
       "      <td>46.713614</td>\n",
       "      <td>37.763319</td>\n",
       "      <td>41.934345</td>\n",
       "      <td>25.615278</td>\n",
       "      <td>95.933646</td>\n",
       "      <td>7.0</td>\n",
       "      <td>0.166667</td>\n",
       "      <td>5909697f994bab5b8b9fcd52,5905d62df222b85491aa2...</td>\n",
       "      <td>NaN</td>\n",
       "      <td>ededww</td>\n",
       "      <td>15.761934</td>\n",
       "      <td>14.642460</td>\n",
       "      <td>-17.187359</td>\n",
       "      <td>14.536838</td>\n",
       "      <td>-17.284801</td>\n",
       "      <td>POLYGON ((-17.30480 14.48456, -17.30758 14.490...</td>\n",
       "    </tr>\n",
       "  </tbody>\n",
       "</table>\n",
       "</div>"
      ],
      "text/plain": [
       "         label                        probs_of_belonging_to_clust  num_points  \\\n",
       "18  cluster 18  0.001263,0.001263,1.000000,0.900837,1.000000,1...        49.0   \n",
       "19  cluster 19  1.000000,0.457016,1.000000,1.000000,1.000000,1...        88.0   \n",
       "28  cluster 28  1.000000,1.000000,1.000000,1.000000,0.205361,1...        35.0   \n",
       "51  cluster 51  0.019056,0.019056,0.019056,0.019056,0.019056,0...        58.0   \n",
       "74  cluster 74  0.268309,1.000000,1.000000,1.000000,1.000000,1...        42.0   \n",
       "\n",
       "     area_sqkm     density  mean_duration  median_duration  \\\n",
       "18  933.097850    2.281415      16.699620        14.319722   \n",
       "19   12.039211   77.355170      33.761932        20.997500   \n",
       "28    1.201044  219.327649       6.197087         4.351111   \n",
       "51    1.316428   17.157920       4.078784         3.983056   \n",
       "74   46.713614   37.763319      41.934345        25.615278   \n",
       "\n",
       "    distance_from_nearest_port  n_unique_vesselID  percent_unique_vesselID  \\\n",
       "18                    4.947840                6.0                 0.122449   \n",
       "19                    0.199411                5.0                 0.056818   \n",
       "28                  224.811678                6.0                 0.171429   \n",
       "51                10953.417184                1.0                 0.017241   \n",
       "74                   95.933646                7.0                 0.166667   \n",
       "\n",
       "                                            vesselIDs  intersection geohash  \\\n",
       "18  5905c3452ec2d44c585302a2,5905c3452ec2d44c58530...           NaN  6x79bf   \n",
       "19  5907e840d3721c61e7661c2a,5907e840d3721c61e7661...           NaN  kzt57y   \n",
       "28  595a6b520573e14ee35987ed,595a6b520573e14ee3598...           NaN  e6wkwt   \n",
       "51  5905c346a696e25879022778,5905c346a696e25879022...           NaN  rbevt9   \n",
       "74  5909697f994bab5b8b9fcd52,5905d62df222b85491aa2...           NaN  ededww   \n",
       "\n",
       "    distance_from_shore  nearest_shore_lat  nearest_shore_lng  centroid_lat  \\\n",
       "18             0.000000                NaN                NaN     -3.899364   \n",
       "19             2.179628          -2.221004          40.940900     -2.205956   \n",
       "28             1.866256          14.884516         -24.683696     14.884820   \n",
       "51             0.000000                NaN                NaN    -41.214661   \n",
       "74            15.761934          14.642460         -17.187359     14.536838   \n",
       "\n",
       "    centroid_lng                                           geometry  \n",
       "18    -62.541513  POLYGON ((-63.15333 -4.01333, -63.16198 -3.943...  \n",
       "19     40.953436  POLYGON ((40.99500 -2.22000, 40.93298 -2.21172...  \n",
       "28    -24.666352  POLYGON ((-24.64980 14.88044, -24.66700 14.882...  \n",
       "51    174.271390  POLYGON ((174.23647 -41.24801, 174.23647 -41.2...  \n",
       "74    -17.284801  POLYGON ((-17.30480 14.48456, -17.30758 14.490...  "
      ]
     },
     "execution_count": 16,
     "metadata": {},
     "output_type": "execute_result"
    }
   ],
   "source": [
    "new_polygons_candidates.head()"
   ]
  },
  {
   "cell_type": "code",
   "execution_count": 26,
   "metadata": {},
   "outputs": [],
   "source": [
    "#new_polygons_candidates.to_file(os.path.join(PATH, NEW_POLY_FNAME), driver='GeoJSON')"
   ]
  },
  {
   "cell_type": "code",
   "execution_count": 18,
   "metadata": {},
   "outputs": [
    {
     "data": {
      "text/plain": [
       "count      794.000000\n",
       "mean       313.762694\n",
       "std        978.425879\n",
       "min          0.358233\n",
       "25%         26.765174\n",
       "50%         91.785260\n",
       "75%        259.094809\n",
       "85%        444.438424\n",
       "95%       1070.496621\n",
       "max      13603.971754\n",
       "Name: density, dtype: float64"
      ]
     },
     "execution_count": 18,
     "metadata": {},
     "output_type": "execute_result"
    }
   ],
   "source": [
    "new_polygons_candidates['density'].describe([0.25,0.5,0.75,0.85,0.95])"
   ]
  },
  {
   "cell_type": "code",
   "execution_count": 17,
   "metadata": {},
   "outputs": [
    {
     "data": {
      "image/png": "[encoded data removed]",
      "text/plain": [
       "<Figure size 432x288 with 1 Axes>"
      ]
     },
     "metadata": {
      "needs_background": "light"
     },
     "output_type": "display_data"
    }
   ],
   "source": [
    "sns.histplot(new_polygons_candidates[new_polygons_candidates['density']<=1070]['density'])\n",
    "plt.title('density dist \\n mean density: %s'% round(new_polygons_candidates['density'].mean(),2));"
   ]
  },
  {
   "cell_type": "code",
   "execution_count": 20,
   "metadata": {},
   "outputs": [
    {
     "data": {
      "text/plain": [
       "count    794.000000\n",
       "mean       4.319889\n",
       "std       13.143702\n",
       "min        0.000000\n",
       "25%        0.000000\n",
       "50%        0.656618\n",
       "75%        2.705572\n",
       "85%        6.106242\n",
       "95%       23.158822\n",
       "max      203.923510\n",
       "Name: distance_from_shore, dtype: float64"
      ]
     },
     "execution_count": 20,
     "metadata": {},
     "output_type": "execute_result"
    }
   ],
   "source": [
    "new_polygons_candidates['distance_from_shore'].describe([0.25,0.5,0.75,0.85,0.95])"
   ]
  },
  {
   "cell_type": "code",
   "execution_count": 21,
   "metadata": {},
   "outputs": [
    {
     "data": {
      "image/png": "[encoded data removed]",
      "text/plain": [
       "<Figure size 432x288 with 1 Axes>"
      ]
     },
     "metadata": {
      "needs_background": "light"
     },
     "output_type": "display_data"
    }
   ],
   "source": [
    "sns.histplot(new_polygons_candidates[new_polygons_candidates['distance_from_shore']<=24]['distance_from_shore'])\n",
    "plt.title('distance from shore');"
   ]
  },
  {
   "cell_type": "code",
   "execution_count": 47,
   "metadata": {},
   "outputs": [
    {
     "data": {
      "text/plain": [
       "(654, 21)"
      ]
     },
     "execution_count": 47,
     "metadata": {},
     "output_type": "execute_result"
    }
   ],
   "source": [
    "# filterong: take as ports only polygons which centroid's distance from shore is less than 5km\n",
    "new_ports_candidates = new_polygons_candidates[new_polygons_candidates.distance_from_shore<5]\n",
    "new_ports_candidates.shape"
   ]
  },
  {
   "cell_type": "code",
   "execution_count": 31,
   "metadata": {},
   "outputs": [
    {
     "data": {
      "image/png": "[encoded data removed]",
      "text/plain": [
       "<Figure size 432x288 with 1 Axes>"
      ]
     },
     "metadata": {
      "needs_background": "light"
     },
     "output_type": "display_data"
    }
   ],
   "source": [
    "sns.histplot(new_ports_candidates['distance_from_shore'])\n",
    "plt.title('distance from shore');"
   ]
  },
  {
   "cell_type": "code",
   "execution_count": 49,
   "metadata": {},
   "outputs": [],
   "source": [
    "# rank = density * number_of_unique_vesselIDs\n",
    "new_ports_candidates['rank'] = new_ports_candidates['density'] * new_ports_candidates['n_unique_vesselID']"
   ]
  },
  {
   "cell_type": "code",
   "execution_count": 52,
   "metadata": {},
   "outputs": [],
   "source": [
    "new_ports_candidates_gdf = gpd.GeoDataFrame(\n",
    "    new_ports_candidates, geometry=gpd.points_from_xy(new_ports_candidates.centroid_lat, new_ports_candidates.centroid_lng))"
   ]
  },
  {
   "cell_type": "code",
   "execution_count": 75,
   "metadata": {},
   "outputs": [],
   "source": [
    "new_ports_candidates_gdf = new_ports_candidates_gdf.reset_index(drop=True)"
   ]
  },
  {
   "cell_type": "code",
   "execution_count": 74,
   "metadata": {},
   "outputs": [
    {
     "data": {
      "text/html": [
       "<div>\n",
       "<style scoped>\n",
       "    .dataframe tbody tr th:only-of-type {\n",
       "        vertical-align: middle;\n",
       "    }\n",
       "\n",
       "    .dataframe tbody tr th {\n",
       "        vertical-align: top;\n",
       "    }\n",
       "\n",
       "    .dataframe thead th {\n",
       "        text-align: right;\n",
       "    }\n",
       "</style>\n",
       "<table border=\"1\" class=\"dataframe\">\n",
       "  <thead>\n",
       "    <tr style=\"text-align: right;\">\n",
       "      <th></th>\n",
       "      <th>label</th>\n",
       "      <th>probs_of_belonging_to_clust</th>\n",
       "      <th>num_points</th>\n",
       "      <th>area_sqkm</th>\n",
       "      <th>density</th>\n",
       "      <th>mean_duration</th>\n",
       "      <th>median_duration</th>\n",
       "      <th>distance_from_nearest_port</th>\n",
       "      <th>n_unique_vesselID</th>\n",
       "      <th>percent_unique_vesselID</th>\n",
       "      <th>...</th>\n",
       "      <th>intersection</th>\n",
       "      <th>geohash</th>\n",
       "      <th>distance_from_shore</th>\n",
       "      <th>nearest_shore_lat</th>\n",
       "      <th>nearest_shore_lng</th>\n",
       "      <th>centroid_lat</th>\n",
       "      <th>centroid_lng</th>\n",
       "      <th>geometry</th>\n",
       "      <th>rank</th>\n",
       "      <th>rank_scaled</th>\n",
       "    </tr>\n",
       "  </thead>\n",
       "  <tbody>\n",
       "    <tr>\n",
       "      <th>8467</th>\n",
       "      <td>cluster 8467</td>\n",
       "      <td>1.000000,1.000000,1.000000,1.000000,0.976959,1...</td>\n",
       "      <td>31.0</td>\n",
       "      <td>0.014376</td>\n",
       "      <td>1549.520183</td>\n",
       "      <td>12.881819</td>\n",
       "      <td>10.151389</td>\n",
       "      <td>1010.893858</td>\n",
       "      <td>28.0</td>\n",
       "      <td>0.903226</td>\n",
       "      <td>...</td>\n",
       "      <td>NaN</td>\n",
       "      <td>w21z2c</td>\n",
       "      <td>1.305075</td>\n",
       "      <td>1.281639</td>\n",
       "      <td>103.739528</td>\n",
       "      <td>1.284817</td>\n",
       "      <td>103.750816</td>\n",
       "      <td>POINT (1.285 103.751)</td>\n",
       "      <td>43386.56513</td>\n",
       "      <td>0.402948</td>\n",
       "    </tr>\n",
       "  </tbody>\n",
       "</table>\n",
       "<p>1 rows × 21 columns</p>\n",
       "</div>"
      ],
      "text/plain": [
       "             label                        probs_of_belonging_to_clust  \\\n",
       "8467  cluster 8467  1.000000,1.000000,1.000000,1.000000,0.976959,1...   \n",
       "\n",
       "      num_points  area_sqkm      density  mean_duration  median_duration  \\\n",
       "8467        31.0   0.014376  1549.520183      12.881819        10.151389   \n",
       "\n",
       "      distance_from_nearest_port  n_unique_vesselID  percent_unique_vesselID  \\\n",
       "8467                 1010.893858               28.0                 0.903226   \n",
       "\n",
       "      ... intersection  geohash distance_from_shore  nearest_shore_lat  \\\n",
       "8467  ...          NaN   w21z2c            1.305075           1.281639   \n",
       "\n",
       "      nearest_shore_lng  centroid_lat  centroid_lng               geometry  \\\n",
       "8467         103.739528      1.284817    103.750816  POINT (1.285 103.751)   \n",
       "\n",
       "             rank  rank_scaled  \n",
       "8467  43386.56513     0.402948  \n",
       "\n",
       "[1 rows x 21 columns]"
      ]
     },
     "execution_count": 74,
     "metadata": {},
     "output_type": "execute_result"
    }
   ],
   "source": [
    "new_ports_candidates[new_ports_candidates['label']== 'cluster 8467']"
   ]
  },
  {
   "cell_type": "code",
   "execution_count": 66,
   "metadata": {},
   "outputs": [],
   "source": [
    "#new_polygons_candidates.to_file(os.path.join(PATH, NEW_POLY_FNAME), driver='GeoJSON')"
   ]
  },
  {
   "cell_type": "code",
   "execution_count": 154,
   "metadata": {},
   "outputs": [],
   "source": [
    "ranks_ordered = new_ports_candidates_gdf.sort_values('rank_scaled', ascending=False).loc[:, ['label','rank','centroid_lat','centroid_lng','geometry']].reset_index(drop=True)"
   ]
  },
  {
   "cell_type": "code",
   "execution_count": 155,
   "metadata": {},
   "outputs": [
    {
     "data": {
      "text/html": [
       "<div>\n",
       "<style scoped>\n",
       "    .dataframe tbody tr th:only-of-type {\n",
       "        vertical-align: middle;\n",
       "    }\n",
       "\n",
       "    .dataframe tbody tr th {\n",
       "        vertical-align: top;\n",
       "    }\n",
       "\n",
       "    .dataframe thead th {\n",
       "        text-align: right;\n",
       "    }\n",
       "</style>\n",
       "<table border=\"1\" class=\"dataframe\">\n",
       "  <thead>\n",
       "    <tr style=\"text-align: right;\">\n",
       "      <th></th>\n",
       "      <th>label</th>\n",
       "      <th>rank</th>\n",
       "      <th>centroid_lat</th>\n",
       "      <th>centroid_lng</th>\n",
       "      <th>geometry</th>\n",
       "    </tr>\n",
       "  </thead>\n",
       "  <tbody>\n",
       "    <tr>\n",
       "      <th>0</th>\n",
       "      <td>cluster 7358</td>\n",
       "      <td>107667.111491</td>\n",
       "      <td>51.689270</td>\n",
       "      <td>4.407096</td>\n",
       "      <td>POINT (51.689 4.407)</td>\n",
       "    </tr>\n",
       "    <tr>\n",
       "      <th>1</th>\n",
       "      <td>cluster 7449</td>\n",
       "      <td>100469.222276</td>\n",
       "      <td>51.690032</td>\n",
       "      <td>4.406832</td>\n",
       "      <td>POINT (51.690 4.407)</td>\n",
       "    </tr>\n",
       "    <tr>\n",
       "      <th>2</th>\n",
       "      <td>cluster 7335</td>\n",
       "      <td>87369.998726</td>\n",
       "      <td>51.688569</td>\n",
       "      <td>4.407316</td>\n",
       "      <td>POINT (51.689 4.407)</td>\n",
       "    </tr>\n",
       "    <tr>\n",
       "      <th>3</th>\n",
       "      <td>cluster 6985</td>\n",
       "      <td>86656.903481</td>\n",
       "      <td>52.468030</td>\n",
       "      <td>4.599701</td>\n",
       "      <td>POINT (52.468 4.600)</td>\n",
       "    </tr>\n",
       "    <tr>\n",
       "      <th>4</th>\n",
       "      <td>cluster 8462</td>\n",
       "      <td>84341.956153</td>\n",
       "      <td>1.279442</td>\n",
       "      <td>103.744980</td>\n",
       "      <td>POINT (1.279 103.745)</td>\n",
       "    </tr>\n",
       "  </tbody>\n",
       "</table>\n",
       "</div>"
      ],
      "text/plain": [
       "          label           rank  centroid_lat  centroid_lng  \\\n",
       "0  cluster 7358  107667.111491     51.689270      4.407096   \n",
       "1  cluster 7449  100469.222276     51.690032      4.406832   \n",
       "2  cluster 7335   87369.998726     51.688569      4.407316   \n",
       "3  cluster 6985   86656.903481     52.468030      4.599701   \n",
       "4  cluster 8462   84341.956153      1.279442    103.744980   \n",
       "\n",
       "                geometry  \n",
       "0   POINT (51.689 4.407)  \n",
       "1   POINT (51.690 4.407)  \n",
       "2   POINT (51.689 4.407)  \n",
       "3   POINT (52.468 4.600)  \n",
       "4  POINT (1.279 103.745)  "
      ]
     },
     "execution_count": 155,
     "metadata": {},
     "output_type": "execute_result"
    }
   ],
   "source": [
    "ranks_ordered.head()"
   ]
  },
  {
   "cell_type": "code",
   "execution_count": 156,
   "metadata": {},
   "outputs": [],
   "source": [
    "def get_multipolygon_port(ranks_ordered):\n",
    "    ports = []\n",
    "    for clust_ind in range(ranks_ordered.shape[0]):\n",
    "        \n",
    "        clust_floored_lat = np.int(np.floor(ranks_ordered.loc[clust_ind,'centroid_lat']))\n",
    "        clust_floored_lng = np.int(np.floor(ranks_ordered.loc[clust_ind,'centroid_lng']))\n",
    "                \n",
    "        if clust_ind == 0:\n",
    "            ports.append(str(clust_floored_lat) + '_' + str(clust_floored_lng))\n",
    "            ranks_ordered.loc[clust_ind,'port_temp_tag'] = str(clust_floored_lat) + '_' + str(clust_floored_lng)\n",
    "        else:\n",
    "            for port in ports:\n",
    "                port_lat = np.int(port.split('_')[0])\n",
    "                port_lng = np.int(port.split('_')[1])\n",
    "                if (port_lat-1 <= clust_floored_lat <= port_lat+1) & (port_lng-1 <= clust_floored_lng <= port_lng+1):\n",
    "                    ranks_ordered.loc[clust_ind,'port_temp_tag'] = port\n",
    "                    break\n",
    "            if pd.isnull(ranks_ordered.loc[clust_ind,'port_temp_tag']):\n",
    "                ports.append(str(clust_floored_lat) + '_' + str(clust_floored_lng))\n",
    "                ranks_ordered.loc[clust_ind,'port_temp_tag'] = str(clust_floored_lat) + '_' + str(clust_floored_lng)\n",
    "    return ranks_ordered\n",
    "                    \n",
    "                         "
   ]
  },
  {
   "cell_type": "code",
   "execution_count": 158,
   "metadata": {},
   "outputs": [],
   "source": [
    "ranks_ordered = get_multipolygon_port(ranks_ordered)"
   ]
  },
  {
   "cell_type": "code",
   "execution_count": 172,
   "metadata": {},
   "outputs": [
    {
     "data": {
      "text/plain": [
       "107667.11149064991"
      ]
     },
     "execution_count": 172,
     "metadata": {},
     "output_type": "execute_result"
    }
   ],
   "source": [
    "ranks_ordered[ranks_ordered.port_temp_tag == '51_4']['rank'].max()"
   ]
  },
  {
   "cell_type": "code",
   "execution_count": null,
   "metadata": {},
   "outputs": [],
   "source": []
  },
  {
   "cell_type": "code",
   "execution_count": 173,
   "metadata": {},
   "outputs": [],
   "source": [
    "top_ports = pd.DataFrame()\n",
    "top_ports['portID'] = ranks_ordered.port_temp_tag.unique()\n",
    "for i, port_id in enumerate(top_ports.portID):\n",
    "    subset = ranks_ordered[ranks_ordered.port_temp_tag == port_id]\n",
    "    top_ports.loc[i, 'label'] = f'port {i}'\n",
    "    top_ports.loc[i, 'num_clusters'] = subset.shape[0]\n",
    "    top_ports.loc[i, 'max_rank'] = subset['rank'].max()\n",
    "    top_ports.loc[i, 'mean_lat'] = subset.centroid_lat.mean()\n",
    "    top_ports.loc[i, 'mean_lng'] = subset.centroid_lng.mean()\n",
    "    \n"
   ]
  },
  {
   "cell_type": "code",
   "execution_count": 174,
   "metadata": {},
   "outputs": [],
   "source": [
    "# scale the rank\n",
    "x = top_ports['max_rank'].values.astype(float).reshape(-1,1)\n",
    "min_max_scaler = preprocessing.MinMaxScaler()\n",
    "top_ports['rank_scaled'] = min_max_scaler.fit_transform(x)"
   ]
  },
  {
   "cell_type": "code",
   "execution_count": 175,
   "metadata": {},
   "outputs": [
    {
     "data": {
      "text/html": [
       "<div>\n",
       "<style scoped>\n",
       "    .dataframe tbody tr th:only-of-type {\n",
       "        vertical-align: middle;\n",
       "    }\n",
       "\n",
       "    .dataframe tbody tr th {\n",
       "        vertical-align: top;\n",
       "    }\n",
       "\n",
       "    .dataframe thead th {\n",
       "        text-align: right;\n",
       "    }\n",
       "</style>\n",
       "<table border=\"1\" class=\"dataframe\">\n",
       "  <thead>\n",
       "    <tr style=\"text-align: right;\">\n",
       "      <th></th>\n",
       "      <th>portID</th>\n",
       "      <th>label</th>\n",
       "      <th>num_clusters</th>\n",
       "      <th>max_rank</th>\n",
       "      <th>mean_lat</th>\n",
       "      <th>mean_lng</th>\n",
       "      <th>rank_scaled</th>\n",
       "    </tr>\n",
       "  </thead>\n",
       "  <tbody>\n",
       "    <tr>\n",
       "      <th>0</th>\n",
       "      <td>51_4</td>\n",
       "      <td>port 0</td>\n",
       "      <td>37.0</td>\n",
       "      <td>107667.111491</td>\n",
       "      <td>51.789051</td>\n",
       "      <td>4.616401</td>\n",
       "      <td>1.000000</td>\n",
       "    </tr>\n",
       "    <tr>\n",
       "      <th>1</th>\n",
       "      <td>1_103</td>\n",
       "      <td>port 1</td>\n",
       "      <td>17.0</td>\n",
       "      <td>84341.956153</td>\n",
       "      <td>1.272441</td>\n",
       "      <td>103.757916</td>\n",
       "      <td>0.783351</td>\n",
       "    </tr>\n",
       "    <tr>\n",
       "      <th>2</th>\n",
       "      <td>36_-77</td>\n",
       "      <td>port 2</td>\n",
       "      <td>1.0</td>\n",
       "      <td>71525.636008</td>\n",
       "      <td>36.916856</td>\n",
       "      <td>-76.338478</td>\n",
       "      <td>0.664310</td>\n",
       "    </tr>\n",
       "    <tr>\n",
       "      <th>3</th>\n",
       "      <td>43_131</td>\n",
       "      <td>port 3</td>\n",
       "      <td>2.0</td>\n",
       "      <td>70426.851816</td>\n",
       "      <td>42.983291</td>\n",
       "      <td>131.678420</td>\n",
       "      <td>0.654104</td>\n",
       "    </tr>\n",
       "    <tr>\n",
       "      <th>4</th>\n",
       "      <td>-23_-44</td>\n",
       "      <td>port 4</td>\n",
       "      <td>1.0</td>\n",
       "      <td>47122.839750</td>\n",
       "      <td>-22.942169</td>\n",
       "      <td>-43.834062</td>\n",
       "      <td>0.437652</td>\n",
       "    </tr>\n",
       "    <tr>\n",
       "      <th>...</th>\n",
       "      <td>...</td>\n",
       "      <td>...</td>\n",
       "      <td>...</td>\n",
       "      <td>...</td>\n",
       "      <td>...</td>\n",
       "      <td>...</td>\n",
       "      <td>...</td>\n",
       "    </tr>\n",
       "    <tr>\n",
       "      <th>190</th>\n",
       "      <td>71_127</td>\n",
       "      <td>port 190</td>\n",
       "      <td>1.0</td>\n",
       "      <td>16.125988</td>\n",
       "      <td>71.450288</td>\n",
       "      <td>127.023837</td>\n",
       "      <td>0.000115</td>\n",
       "    </tr>\n",
       "    <tr>\n",
       "      <th>191</th>\n",
       "      <td>-4_-63</td>\n",
       "      <td>port 191</td>\n",
       "      <td>1.0</td>\n",
       "      <td>13.688488</td>\n",
       "      <td>-3.899364</td>\n",
       "      <td>-62.541513</td>\n",
       "      <td>0.000092</td>\n",
       "    </tr>\n",
       "    <tr>\n",
       "      <th>192</th>\n",
       "      <td>67_125</td>\n",
       "      <td>port 192</td>\n",
       "      <td>1.0</td>\n",
       "      <td>7.164667</td>\n",
       "      <td>67.065487</td>\n",
       "      <td>125.418750</td>\n",
       "      <td>0.000031</td>\n",
       "    </tr>\n",
       "    <tr>\n",
       "      <th>193</th>\n",
       "      <td>70_148</td>\n",
       "      <td>port 193</td>\n",
       "      <td>1.0</td>\n",
       "      <td>5.123216</td>\n",
       "      <td>70.068023</td>\n",
       "      <td>148.367817</td>\n",
       "      <td>0.000012</td>\n",
       "    </tr>\n",
       "    <tr>\n",
       "      <th>194</th>\n",
       "      <td>51_-128</td>\n",
       "      <td>port 194</td>\n",
       "      <td>1.0</td>\n",
       "      <td>3.796324</td>\n",
       "      <td>51.574200</td>\n",
       "      <td>-127.531134</td>\n",
       "      <td>0.000000</td>\n",
       "    </tr>\n",
       "  </tbody>\n",
       "</table>\n",
       "<p>195 rows × 7 columns</p>\n",
       "</div>"
      ],
      "text/plain": [
       "      portID     label  num_clusters       max_rank   mean_lat    mean_lng  \\\n",
       "0       51_4    port 0          37.0  107667.111491  51.789051    4.616401   \n",
       "1      1_103    port 1          17.0   84341.956153   1.272441  103.757916   \n",
       "2     36_-77    port 2           1.0   71525.636008  36.916856  -76.338478   \n",
       "3     43_131    port 3           2.0   70426.851816  42.983291  131.678420   \n",
       "4    -23_-44    port 4           1.0   47122.839750 -22.942169  -43.834062   \n",
       "..       ...       ...           ...            ...        ...         ...   \n",
       "190   71_127  port 190           1.0      16.125988  71.450288  127.023837   \n",
       "191   -4_-63  port 191           1.0      13.688488  -3.899364  -62.541513   \n",
       "192   67_125  port 192           1.0       7.164667  67.065487  125.418750   \n",
       "193   70_148  port 193           1.0       5.123216  70.068023  148.367817   \n",
       "194  51_-128  port 194           1.0       3.796324  51.574200 -127.531134   \n",
       "\n",
       "     rank_scaled  \n",
       "0       1.000000  \n",
       "1       0.783351  \n",
       "2       0.664310  \n",
       "3       0.654104  \n",
       "4       0.437652  \n",
       "..           ...  \n",
       "190     0.000115  \n",
       "191     0.000092  \n",
       "192     0.000031  \n",
       "193     0.000012  \n",
       "194     0.000000  \n",
       "\n",
       "[195 rows x 7 columns]"
      ]
     },
     "execution_count": 175,
     "metadata": {},
     "output_type": "execute_result"
    }
   ],
   "source": [
    "top_ports"
   ]
  },
  {
   "cell_type": "code",
   "execution_count": 176,
   "metadata": {},
   "outputs": [],
   "source": [
    "top_ports_gdf = gpd.GeoDataFrame(\n",
    "    top_ports, geometry=gpd.points_from_xy(top_ports.mean_lat, top_ports.mean_lng))"
   ]
  },
  {
   "cell_type": "code",
   "execution_count": 178,
   "metadata": {},
   "outputs": [],
   "source": [
    "new_ports_candidates.to_file(os.path.join(PATH, NEW_PORTS_FNAME), driver='GeoJSON')"
   ]
  },
  {
   "cell_type": "code",
   "execution_count": null,
   "metadata": {},
   "outputs": [],
   "source": []
  },
  {
   "cell_type": "code",
   "execution_count": null,
   "metadata": {},
   "outputs": [],
   "source": []
  }
 ],
 "metadata": {
  "kernelspec": {
   "display_name": "Python 3",
   "language": "python",
   "name": "python3"
  },
  "language_info": {
   "codemirror_mode": {
    "name": "ipython",
    "version": 3
   },
   "file_extension": ".py",
   "mimetype": "text/x-python",
   "name": "python",
   "nbconvert_exporter": "python",
   "pygments_lexer": "ipython3",
   "version": "3.7.6"
  }
 },
 "nbformat": 4,
 "nbformat_minor": 4
}
