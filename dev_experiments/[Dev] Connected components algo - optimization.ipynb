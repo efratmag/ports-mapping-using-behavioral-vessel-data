{
 "cells": [
  {
   "cell_type": "code",
   "execution_count": 1,
   "metadata": {},
   "outputs": [
    {
     "name": "stdout",
     "output_type": "stream",
     "text": [
      "Populating the interactive namespace from numpy and matplotlib\n"
     ]
    }
   ],
   "source": [
    "%pylab inline\n",
    "plt.style.use(\"bmh\")"
   ]
  },
  {
   "cell_type": "code",
   "execution_count": 2,
   "metadata": {},
   "outputs": [],
   "source": [
    "import pathlib\n",
    "import tqdm\n",
    "tqdm.tqdm.pandas()"
   ]
  },
  {
   "cell_type": "code",
   "execution_count": 3,
   "metadata": {},
   "outputs": [],
   "source": [
    "import pandas as pd\n",
    "import geopandas as gpd\n",
    "import utm\n",
    "from haversine import haversine\n",
    "from scipy.spatial import KDTree, cKDTree"
   ]
  },
  {
   "cell_type": "code",
   "execution_count": 4,
   "metadata": {},
   "outputs": [],
   "source": [
    "DATA_DIR = pathlib.Path(\"../../data/\")"
   ]
  },
  {
   "cell_type": "markdown",
   "metadata": {},
   "source": [
    "# Loading data"
   ]
  },
  {
   "cell_type": "code",
   "execution_count": 5,
   "metadata": {},
   "outputs": [],
   "source": [
    "locations = pd.read_csv(DATA_DIR.joinpath(\"locations.csv\"), header=None)"
   ]
  },
  {
   "cell_type": "code",
   "execution_count": 6,
   "metadata": {},
   "outputs": [
    {
     "data": {
      "text/html": [
       "<div>\n",
       "<style scoped>\n",
       "    .dataframe tbody tr th:only-of-type {\n",
       "        vertical-align: middle;\n",
       "    }\n",
       "\n",
       "    .dataframe tbody tr th {\n",
       "        vertical-align: top;\n",
       "    }\n",
       "\n",
       "    .dataframe thead th {\n",
       "        text-align: right;\n",
       "    }\n",
       "</style>\n",
       "<table border=\"1\" class=\"dataframe\">\n",
       "  <thead>\n",
       "    <tr style=\"text-align: right;\">\n",
       "      <th></th>\n",
       "      <th>0</th>\n",
       "      <th>1</th>\n",
       "    </tr>\n",
       "  </thead>\n",
       "  <tbody>\n",
       "    <tr>\n",
       "      <th>0</th>\n",
       "      <td>42.63914</td>\n",
       "      <td>141.62366</td>\n",
       "    </tr>\n",
       "    <tr>\n",
       "      <th>1</th>\n",
       "      <td>36.42835</td>\n",
       "      <td>140.61340</td>\n",
       "    </tr>\n",
       "    <tr>\n",
       "      <th>2</th>\n",
       "      <td>42.63864</td>\n",
       "      <td>141.62542</td>\n",
       "    </tr>\n",
       "    <tr>\n",
       "      <th>3</th>\n",
       "      <td>36.42911</td>\n",
       "      <td>140.61360</td>\n",
       "    </tr>\n",
       "    <tr>\n",
       "      <th>4</th>\n",
       "      <td>36.42957</td>\n",
       "      <td>140.61429</td>\n",
       "    </tr>\n",
       "  </tbody>\n",
       "</table>\n",
       "</div>"
      ],
      "text/plain": [
       "          0          1\n",
       "0  42.63914  141.62366\n",
       "1  36.42835  140.61340\n",
       "2  42.63864  141.62542\n",
       "3  36.42911  140.61360\n",
       "4  36.42957  140.61429"
      ]
     },
     "execution_count": 6,
     "metadata": {},
     "output_type": "execute_result"
    }
   ],
   "source": [
    "locations.head()"
   ]
  },
  {
   "cell_type": "code",
   "execution_count": 7,
   "metadata": {},
   "outputs": [],
   "source": [
    "locations.columns = [\"lat\", \"lon\"]"
   ]
  },
  {
   "cell_type": "code",
   "execution_count": 8,
   "metadata": {},
   "outputs": [
    {
     "data": {
      "text/plain": [
       "lat     78.93490\n",
       "lon    179.82728\n",
       "dtype: float64"
      ]
     },
     "execution_count": 8,
     "metadata": {},
     "output_type": "execute_result"
    }
   ],
   "source": [
    "locations.max()"
   ]
  },
  {
   "cell_type": "code",
   "execution_count": 9,
   "metadata": {},
   "outputs": [
    {
     "data": {
      "text/plain": [
       "lat    -54.81624\n",
       "lon   -179.11254\n",
       "dtype: float64"
      ]
     },
     "execution_count": 9,
     "metadata": {},
     "output_type": "execute_result"
    }
   ],
   "source": [
    "locations.min()"
   ]
  },
  {
   "cell_type": "markdown",
   "metadata": {},
   "source": [
    "(just a check that columns are in the correct order)"
   ]
  },
  {
   "cell_type": "code",
   "execution_count": 10,
   "metadata": {},
   "outputs": [],
   "source": [
    "def get_utm(lat, lon):\n",
    "    \"\"\"Calculate UTM coordinates latitude and longitude.\"\"\"\n",
    "\n",
    "    easting, northing, zone_number, zone_letter = utm.from_latlon(lat, lon)\n",
    "    return pd.Series([easting, northing, zone_number, zone_letter],\n",
    "                     index=[\"easting\", \"northing\", \"zone_number\", \"zone_letter\"])\n",
    "\n",
    "if not DATA_DIR.joinpath(\"locations_utm.csv\").exists():\n",
    "    locations_utm = locations.progress_apply(lambda row: get_utm(row.lat, row.lon), axis=1)\n",
    "    locations_utm.to_csv(DATA_DIR.joinpath(\"locations_utm.csv\"), index=False)\n",
    "else:\n",
    "    locations_utm = pd.read_csv(DATA_DIR.joinpath(\"locations_utm.csv\"))"
   ]
  },
  {
   "cell_type": "code",
   "execution_count": 11,
   "metadata": {},
   "outputs": [
    {
     "data": {
      "text/html": [
       "<div>\n",
       "<style scoped>\n",
       "    .dataframe tbody tr th:only-of-type {\n",
       "        vertical-align: middle;\n",
       "    }\n",
       "\n",
       "    .dataframe tbody tr th {\n",
       "        vertical-align: top;\n",
       "    }\n",
       "\n",
       "    .dataframe thead th {\n",
       "        text-align: right;\n",
       "    }\n",
       "</style>\n",
       "<table border=\"1\" class=\"dataframe\">\n",
       "  <thead>\n",
       "    <tr style=\"text-align: right;\">\n",
       "      <th></th>\n",
       "      <th>easting</th>\n",
       "      <th>northing</th>\n",
       "      <th>zone_number</th>\n",
       "      <th>zone_letter</th>\n",
       "    </tr>\n",
       "  </thead>\n",
       "  <tbody>\n",
       "    <tr>\n",
       "      <th>0</th>\n",
       "      <td>551130.048588</td>\n",
       "      <td>4.720932e+06</td>\n",
       "      <td>54</td>\n",
       "      <td>T</td>\n",
       "    </tr>\n",
       "    <tr>\n",
       "      <th>1</th>\n",
       "      <td>465345.985460</td>\n",
       "      <td>4.031530e+06</td>\n",
       "      <td>54</td>\n",
       "      <td>S</td>\n",
       "    </tr>\n",
       "    <tr>\n",
       "      <th>2</th>\n",
       "      <td>551274.751185</td>\n",
       "      <td>4.720877e+06</td>\n",
       "      <td>54</td>\n",
       "      <td>T</td>\n",
       "    </tr>\n",
       "    <tr>\n",
       "      <th>3</th>\n",
       "      <td>465364.250731</td>\n",
       "      <td>4.031614e+06</td>\n",
       "      <td>54</td>\n",
       "      <td>S</td>\n",
       "    </tr>\n",
       "    <tr>\n",
       "      <th>4</th>\n",
       "      <td>465426.304542</td>\n",
       "      <td>4.031665e+06</td>\n",
       "      <td>54</td>\n",
       "      <td>S</td>\n",
       "    </tr>\n",
       "  </tbody>\n",
       "</table>\n",
       "</div>"
      ],
      "text/plain": [
       "         easting      northing  zone_number zone_letter\n",
       "0  551130.048588  4.720932e+06           54           T\n",
       "1  465345.985460  4.031530e+06           54           S\n",
       "2  551274.751185  4.720877e+06           54           T\n",
       "3  465364.250731  4.031614e+06           54           S\n",
       "4  465426.304542  4.031665e+06           54           S"
      ]
     },
     "execution_count": 11,
     "metadata": {},
     "output_type": "execute_result"
    }
   ],
   "source": [
    "locations_utm.head()"
   ]
  },
  {
   "cell_type": "code",
   "execution_count": 13,
   "metadata": {},
   "outputs": [],
   "source": [
    "locations_utm = locations_utm.join(locations)"
   ]
  },
  {
   "cell_type": "markdown",
   "metadata": {},
   "source": [
    "# Connected components algorithm\n",
    "\n",
    "## Pre-calculated/pre-filled values\n",
    "\n",
    "Given a dataframe of `(lat, lon)` locations, we need the following for each location:\n",
    "\n",
    "- **UTM coordinates** (Pandas dataframe, columns are `[\"easting\", \"northing\", \"zone_number\", \"zone_letter\"]`),\n",
    "- **borderline status** (`[\"north\", \"south\", \"east\", \"west\"]`, only two can be `True` at max),\n",
    "- **grid cell tuple** (based on chosen threshold, `[\"cell_easting\", \"cell_northing\"]`).\n",
    "- **connected component index column** (filled with `-1`), locations marked as `-1` are considered \n",
    "\n",
    "## Algorithm\n",
    "\n",
    "`S` - all locations, `idx` - current component index.\n",
    "\n",
    "```\n",
    "procedure mark(location, component_idx)\n",
    "    calculate candidate cells [C]\n",
    "    calculate unmarked neighboring locations [NL] given [C]\n",
    "\n",
    "    foreach l in [NL]:\n",
    "        mark l with component_idx\n",
    "        mark(l, component_idx)\n",
    "\n",
    "idx = -1\n",
    "\n",
    "while (have unmarked locations in S)\n",
    "    idx += 1\n",
    "    select random unmarked location L\n",
    "    mark(L, idx)\n",
    "```"
   ]
  },
  {
   "cell_type": "markdown",
   "metadata": {},
   "source": [
    "## Convenience routines"
   ]
  },
  {
   "cell_type": "markdown",
   "metadata": {},
   "source": [
    "### Border status\n",
    "\n",
    "There are two ways to calculate if a location is near the zone border. First, we know zone borders (by `lat` and `lon`). Zone border in UTM coordinates is not a fixed value, though. Hence, we should work in `lat,lon` representation.\n",
    "\n",
    "#### Distance from meridian zone border\n",
    "\n",
    "In this case latitude is fixed: for a point $\\varphi_0,\\lambda_0$ in zone $\\varphi_{min},\\lambda_{min}, \\varphi_{max},\\lambda_{max}$ we calculate distances between $\\varphi_0,\\lambda_0$ and $\\varphi_{0},\\lambda_{min}$ and $\\varphi_{0},\\lambda_{max}$ (at the same latitude). Haversine distance is:\n",
    "\n",
    "$$\n",
    "d_h = 2r\\arcsin\\cos\\varphi_0 \\sin\\frac{\\delta\\lambda}{2}.\n",
    "$$\n",
    "\n",
    "We know, however, the approximate distance:\n",
    "\n",
    "$$\n",
    "d_a = r\\cos\\varphi_0 \\delta\\lambda.\n",
    "$$\n",
    "\n",
    "It turns out, that the difference is negligible (and rightfully so, as we're talking about UTM coordinates, which are designed to have small error in distances).\n",
    "\n",
    "![Border distance error](border-distance-error.png)\n",
    "\n",
    "#### Distance from latitude zone border\n",
    "\n",
    "We calculate distance between $\\varphi_0,\\lambda_0$ and $\\varphi_{min},\\lambda_{0}$ and $\\varphi_{max},\\lambda_{0}$. This one is exact:\n",
    "\n",
    "$$\n",
    "d_h = r\\delta\\varphi.\n",
    "$$\n",
    "\n",
    "Hence, we can use the following formulas:\n",
    "\n",
    "$$\n",
    "d_{lat} = r\\cos\\varphi_0 \\delta\\lambda,\n",
    "$$\n",
    "$$\n",
    "d_{lon} = r\\delta\\varphi.\n",
    "$$\n"
   ]
  },
  {
   "cell_type": "code",
   "execution_count": 12,
   "metadata": {},
   "outputs": [],
   "source": [
    "locations_utm[\"zone\"] = locations_utm.apply(lambda row: f\"{row.zone_number}{row.zone_letter}\", axis=1)"
   ]
  },
  {
   "cell_type": "code",
   "execution_count": 13,
   "metadata": {},
   "outputs": [
    {
     "data": {
      "text/plain": [
       "53S    126697\n",
       "31U    119785\n",
       "52S    112220\n",
       "48N     79188\n",
       "54S     65530\n",
       "51R     62550\n",
       "35T     37867\n",
       "32U     37064\n",
       "50S     36846\n",
       "32V     32659\n",
       "Name: zone, dtype: int64"
      ]
     },
     "execution_count": 13,
     "metadata": {},
     "output_type": "execute_result"
    }
   ],
   "source": [
    "locations_utm[\"zone\"].value_counts().head(10)"
   ]
  },
  {
   "cell_type": "code",
   "execution_count": 14,
   "metadata": {},
   "outputs": [],
   "source": [
    "R = 6378.1e3\n",
    "THR = 10000\n",
    "ZONE_EXCEPTIONS = [\"31V\", \"32V\", \"31X\", \"33X\", \"35X\", \"37X\"]\n",
    "ZONE_LETTERS = \"CDEFGHJKLMNPQRSTUVWXX\"\n",
    "ALLOWED_BORDERS = [\"N\", \"S\", \"W\", \"E\", \"NW\", \"NE\", \"SW\", \"SE\"]\n",
    "SPECIAL_BORDERS = {\"31V\": {\"NE\": {(31, \"W\"): [\"S\"]},\n",
    "                           \"SE\": {(31, \"U\"): [\"N\"]}},\n",
    "                   \"32V\": {\"NW\": {(31, \"W\"): [\"S\"]},\n",
    "                           \"SW\": {(31, \"U\"): [\"N\"]},\n",
    "                           \"N\": {(31, \"W\"): [\"S\"], (32, \"W\"): [\"S\"]},\n",
    "                           \"S\": {(31, \"U\"): [\"N\"], (32, \"U\"): [\"N\"]}},\n",
    "                   \"31U\": {\"N\": {(31, \"V\"): [\"S\"], (32, \"V\"): [\"S\"]},\n",
    "                           \"NE\": {(32, \"V\"): [\"S\"]}},\n",
    "                   \"32U\": {\"NW\": {(32, \"V\"): [\"S\"]}},\n",
    "                   \"31W\": {\"NE\": {(31, \"X\"): [\"S\"]},\n",
    "                           \"S\": {(31, \"V\"): [\"N\"], (32, \"V\"): [\"N\"]},\n",
    "                           \"SE\": {(32, \"V\"): [\"N\"]}},\n",
    "                   \"32W\": {\"SW\": {(32, \"V\"): [\"N\"]},\n",
    "                           \"N\": {(31, \"X\"): [\"S\"], (33, \"X\"): [\"S\"]},\n",
    "                           \"NE\": {(33, \"X\"): [\"S\"]}},\n",
    "                   \"33W\": {\"NW\": {(33, \"X\"): [\"S\"]},\n",
    "                           \"N\": {(33, \"X\"): [\"S\"]},\n",
    "                           \"NE\": {(33, \"X\"): [\"S\"]}},\n",
    "                   \"34W\": {\"NW\": {(33, \"X\"): [\"S\"]},\n",
    "                           \"N\": {(33, \"X\"): [\"S\"], (35, \"X\"): [\"S\"]},\n",
    "                           \"NE\": {(35, \"X\"): [\"S\"]}},\n",
    "                   \"35W\": {\"NW\": {(35, \"X\"): [\"S\"]},\n",
    "                           \"N\": {(35, \"X\"): [\"S\"]},\n",
    "                           \"NE\": {(35, \"X\"): [\"S\"]}},\n",
    "                   \"36W\": {\"NW\": {(35, \"X\"): [\"S\"]},\n",
    "                           \"N\": {(35, \"X\"): [\"S\"], (37, \"X\"): [\"S\"]},\n",
    "                           \"NE\": {(37, \"X\"): [\"S\"]}},\n",
    "                   \"37W\": {\"NW\": {(35, \"X\"): [\"S\"]},\n",
    "                           \"N\": {(37, \"X\"): [\"S\"]}},\n",
    "                   \"31X\": {\"S\": {(31, \"W\"): [\"N\"]},\n",
    "                           \"SE\": {(32, \"W\"): [\"S\"]},\n",
    "                           \"E\": {(33, \"X\"): [\"W\"]}},\n",
    "                   \"33X\": {\"S\": {(32, \"W\"): [\"N\"], (33, \"W\"): [\"N\"], (34, \"W\"): [\"N\"]},\n",
    "                           \"SW\": {(32, \"W\"): [\"N\"]},\n",
    "                           \"SE\": {(34, \"W\"): [\"N\"]},\n",
    "                           \"E\": {(35, \"X\"): [\"W\"]}},\n",
    "                   \"35X\": {\"S\": {(34, \"W\"): [\"N\"], (35, \"W\"): [\"N\"], (36, \"W\"): [\"N\"]},\n",
    "                           \"SW\": {(34, \"W\"): [\"N\"]},\n",
    "                           \"SE\": {(36, \"W\"): [\"N\"]},\n",
    "                           \"E\": {(37, \"X\"): [\"W\"]}},\n",
    "                   \"37X\": {\"S\": {(36, \"W\"): [\"N\"], (37, \"W\"): [\"N\"]},\n",
    "                           \"SW\": {(36, \"W\"): [\"N\"]}}\n",
    "                  }\n",
    "\n",
    "\n",
    "def check_zone(zone_number, zone_letter):\n",
    "    \"\"\"Check if zone number and zone letter are valid.\"\"\"\n",
    "\n",
    "    if zone_number < 0 or zone_number > 60: raise ValueError(f\"zone number is invalid: {zone_number}\")\n",
    "    if zone_letter not in ZONE_LETTERS: raise ValueError(f\"zone letter is invalid: {zone_letter}\")\n",
    "    if zone_letter == \"X\" and zone_number in [32, 34, 36]:\n",
    "        raise ValueError(f\"there are no zone {zone_number}{zone_letter}\")\n",
    "    return True\n",
    "\n",
    "\n",
    "def validate_zone(*decargs):\n",
    "    if len(decargs)!=2: raise ValueError(\"zone designator contains exactly two elements\")\n",
    "\n",
    "    zone_number_idx = decargs[0]\n",
    "    zone_letter_idx = decargs[1]\n",
    "\n",
    "    def decorator(f):\n",
    "        def wrapper(*args, **kwargs):\n",
    "            if \"zone_number\" not in kwargs.keys() or \"zone_letter\" not in kwargs.keys():\n",
    "                zone_number = args[zone_number_idx]\n",
    "                zone_letter = args[zone_letter_idx]    \n",
    "            else:\n",
    "                zone_number = kwargs[\"zone_number\"]\n",
    "                zone_letter = kwargs[\"zone_letter\"]\n",
    "            check_zone(zone_number, zone_letter)\n",
    "            return f(*args, **kwargs)\n",
    "        return wrapper\n",
    "    return decorator\n",
    "\n",
    "\n",
    "@validate_zone(0, 1)\n",
    "def get_neighboring_zone_generic(zone_number, zone_letter, border):\n",
    "    \"\"\"Get generic neighboring zone.\"\"\"\n",
    "\n",
    "    if (zone_letter==\"X\" and \"N\" in border) or (zone_letter==\"C\" and \"S\" in border):\n",
    "        return {}\n",
    "    \n",
    "    neighbor_borders = []\n",
    "    neighbor_number = zone_number\n",
    "    neighbor_letter = zone_letter\n",
    "\n",
    "    if \"N\" in border:\n",
    "        neighbor_letter = ZONE_LETTERS[ZONE_LETTERS.index(zone_letter.upper())+1]\n",
    "        neighbor_borders.append(\"S\")\n",
    "\n",
    "    if \"S\" in border:\n",
    "        neighbor_letter = ZONE_LETTERS[ZONE_LETTERS.index(zone_letter.upper())-1]\n",
    "        neighbor_borders.append(\"N\")\n",
    "\n",
    "    if \"W\" in border:\n",
    "        neighbor_number = 60 if zone_number==1 else zone_number - 1\n",
    "        neighbor_borders.append(\"E\")\n",
    "\n",
    "    if \"E\" in border:\n",
    "        neighbor_number = (zone_number + 1) % 60\n",
    "        neighbor_borders.append(\"W\")\n",
    "\n",
    "    return {(neighbor_number, neighbor_letter): neighbor_borders}\n",
    "\n",
    "\n",
    "@validate_zone(0, 1)\n",
    "def get_neighboring_zones(zone_number, zone_letter, borders):\n",
    "    \"\"\"Get zones neighboring to `borders` of `zone_number, zone_letter`.\"\"\"\n",
    "\n",
    "    zone = f\"{zone_number}{zone_letter}\"\n",
    "    \n",
    "    borders = [border.upper() for border in borders]\n",
    "    \n",
    "    if \"\".join(borders) not in ALLOWED_BORDERS: raise ValueError(f\"border tuple {borders} is invalid\")\n",
    "\n",
    "    neigboring_zones = {}\n",
    "\n",
    "    all_borders = set(borders)\n",
    "    all_borders.add(\"\".join(borders))\n",
    "    \n",
    "    for border in all_borders:\n",
    "        if zone in SPECIAL_BORDERS.keys() and border in SPECIAL_BORDERS[zone].keys():\n",
    "            update = SPECIAL_BORDERS[zone][border]\n",
    "        else:\n",
    "            update = get_neighboring_zone_generic(zone_number, zone_letter, border)\n",
    "        neigboring_zones.update(update)\n",
    "    return neigboring_zones\n",
    "\n",
    "\n",
    "@validate_zone(0, 1)\n",
    "def get_zone_border(zone_number, zone_letter):\n",
    "    \"\"\"Convenience routine to calculate zone border along latitude and longitude.\"\"\"\n",
    "\n",
    "    zone = f\"{zone_number}{zone_letter}\"\n",
    "\n",
    "    # generic path\n",
    "    if zone not in ZONE_EXCEPTIONS:\n",
    "        lon_min = (zone_number - 1) * 6 - 180\n",
    "        lon_max = lon_min + 6\n",
    "    # Special grid zones\n",
    "    elif zone==\"31V\":\n",
    "        lon_min, lon_max = 0, 3\n",
    "    elif zone==\"32V\":\n",
    "        lon_min, lon_max = 3, 12\n",
    "    elif zone==\"31X\":\n",
    "        lon_min, lon_max = 0, 9\n",
    "    elif zone==\"33X\":\n",
    "        lon_min, lon_max = 9, 21\n",
    "    elif zone==\"35X\":\n",
    "        lon_min, lon_max = 21, 33\n",
    "    elif zone==\"37X\":\n",
    "        lon_min, lon_max = 33, 42\n",
    "\n",
    "    zone_letter_idx = ZONE_LETTERS.index(zone_letter.upper())\n",
    "    lat_min = -80 + 8 * zone_letter_idx\n",
    "    lat_max = lat_min + 8\n",
    "\n",
    "    if lat_max==80: lat_max = 84\n",
    "\n",
    "    return lon_min, lon_max, lat_min, lat_max\n",
    "\n",
    "\n",
    "@validate_zone(2, 3)\n",
    "def is_border(lat, lon, zone_number, zone_letter, thr):\n",
    "    \"\"\"Calculate border code for a location.\"\"\"\n",
    "\n",
    "    border_status = {}\n",
    "    lon_min, lon_max, lat_min, lat_max = get_zone_border(zone_number, zone_letter)\n",
    "\n",
    "    if (lat < lat_min) or (lat > lat_max) or (lon < lon_min) or (lon > lon_max):\n",
    "        raise ValueError(f\"location {lat}, {lon} is outside the zone {zone_number}{zone_letter}\")\n",
    "\n",
    "    lon_min_dist = R * np.cos(lat * np.pi / 180) * np.abs(lon - lon_min) * np.pi / 180\n",
    "    lon_max_dist = R * np.cos(lat * np.pi / 180) * np.abs(lon - lon_max) * np.pi / 180\n",
    "    lat_min_dist = R * np.abs(lat - lat_min) * np.pi / 180\n",
    "    lat_max_dist = R * np.abs(lat - lat_max) * np.pi / 180\n",
    "\n",
    "    border_status[\"W\"] = lon_min_dist <= thr\n",
    "    border_status[\"E\"] = lon_max_dist <= thr\n",
    "    border_status[\"S\"] = lat_min_dist <= thr\n",
    "    border_status[\"N\"] = lat_max_dist <= thr\n",
    "\n",
    "    return pd.Series(border_status).astype(int)"
   ]
  },
  {
   "cell_type": "code",
   "execution_count": 15,
   "metadata": {},
   "outputs": [],
   "source": [
    "if not DATA_DIR.joinpath(\"locations_utm_border.csv\").exists():\n",
    "    border_statuses = locations_utm.progress_apply(lambda row: is_border(row.lat,\n",
    "                                                                         row.lon,\n",
    "                                                                         row.zone_number,\n",
    "                                                                         row.zone_letter, THR),\n",
    "                                                   axis=1)\n",
    "    locations_utm = locations_utm.join(border_statuses)\n",
    "    locations_utm.to_csv(DATA_DIR.joinpath(\"locations_utm_border.csv\"), index=False)\n",
    "else:\n",
    "    locations_utm = pd.read_csv(DATA_DIR.joinpath(\"locations_utm_border.csv\"))"
   ]
  },
  {
   "cell_type": "code",
   "execution_count": 16,
   "metadata": {},
   "outputs": [
    {
     "data": {
      "text/html": [
       "<div>\n",
       "<style scoped>\n",
       "    .dataframe tbody tr th:only-of-type {\n",
       "        vertical-align: middle;\n",
       "    }\n",
       "\n",
       "    .dataframe tbody tr th {\n",
       "        vertical-align: top;\n",
       "    }\n",
       "\n",
       "    .dataframe thead th {\n",
       "        text-align: right;\n",
       "    }\n",
       "</style>\n",
       "<table border=\"1\" class=\"dataframe\">\n",
       "  <thead>\n",
       "    <tr style=\"text-align: right;\">\n",
       "      <th></th>\n",
       "      <th>easting</th>\n",
       "      <th>northing</th>\n",
       "      <th>zone_number</th>\n",
       "      <th>zone_letter</th>\n",
       "      <th>lat</th>\n",
       "      <th>lon</th>\n",
       "      <th>W</th>\n",
       "      <th>E</th>\n",
       "      <th>S</th>\n",
       "      <th>N</th>\n",
       "    </tr>\n",
       "  </thead>\n",
       "  <tbody>\n",
       "    <tr>\n",
       "      <th>0</th>\n",
       "      <td>551130.048588</td>\n",
       "      <td>4.720932e+06</td>\n",
       "      <td>54</td>\n",
       "      <td>T</td>\n",
       "      <td>42.63914</td>\n",
       "      <td>141.62366</td>\n",
       "      <td>0</td>\n",
       "      <td>0</td>\n",
       "      <td>0</td>\n",
       "      <td>0</td>\n",
       "    </tr>\n",
       "    <tr>\n",
       "      <th>1</th>\n",
       "      <td>465345.985460</td>\n",
       "      <td>4.031530e+06</td>\n",
       "      <td>54</td>\n",
       "      <td>S</td>\n",
       "      <td>36.42835</td>\n",
       "      <td>140.61340</td>\n",
       "      <td>0</td>\n",
       "      <td>0</td>\n",
       "      <td>0</td>\n",
       "      <td>0</td>\n",
       "    </tr>\n",
       "    <tr>\n",
       "      <th>2</th>\n",
       "      <td>551274.751185</td>\n",
       "      <td>4.720877e+06</td>\n",
       "      <td>54</td>\n",
       "      <td>T</td>\n",
       "      <td>42.63864</td>\n",
       "      <td>141.62542</td>\n",
       "      <td>0</td>\n",
       "      <td>0</td>\n",
       "      <td>0</td>\n",
       "      <td>0</td>\n",
       "    </tr>\n",
       "    <tr>\n",
       "      <th>3</th>\n",
       "      <td>465364.250731</td>\n",
       "      <td>4.031614e+06</td>\n",
       "      <td>54</td>\n",
       "      <td>S</td>\n",
       "      <td>36.42911</td>\n",
       "      <td>140.61360</td>\n",
       "      <td>0</td>\n",
       "      <td>0</td>\n",
       "      <td>0</td>\n",
       "      <td>0</td>\n",
       "    </tr>\n",
       "    <tr>\n",
       "      <th>4</th>\n",
       "      <td>465426.304542</td>\n",
       "      <td>4.031665e+06</td>\n",
       "      <td>54</td>\n",
       "      <td>S</td>\n",
       "      <td>36.42957</td>\n",
       "      <td>140.61429</td>\n",
       "      <td>0</td>\n",
       "      <td>0</td>\n",
       "      <td>0</td>\n",
       "      <td>0</td>\n",
       "    </tr>\n",
       "    <tr>\n",
       "      <th>...</th>\n",
       "      <td>...</td>\n",
       "      <td>...</td>\n",
       "      <td>...</td>\n",
       "      <td>...</td>\n",
       "      <td>...</td>\n",
       "      <td>...</td>\n",
       "      <td>...</td>\n",
       "      <td>...</td>\n",
       "      <td>...</td>\n",
       "      <td>...</td>\n",
       "    </tr>\n",
       "    <tr>\n",
       "      <th>1494050</th>\n",
       "      <td>623895.533982</td>\n",
       "      <td>9.867330e+06</td>\n",
       "      <td>53</td>\n",
       "      <td>M</td>\n",
       "      <td>-1.20008</td>\n",
       "      <td>136.11359</td>\n",
       "      <td>0</td>\n",
       "      <td>0</td>\n",
       "      <td>0</td>\n",
       "      <td>0</td>\n",
       "    </tr>\n",
       "    <tr>\n",
       "      <th>1494051</th>\n",
       "      <td>748099.313672</td>\n",
       "      <td>2.878732e+06</td>\n",
       "      <td>50</td>\n",
       "      <td>R</td>\n",
       "      <td>26.00627</td>\n",
       "      <td>119.47872</td>\n",
       "      <td>0</td>\n",
       "      <td>0</td>\n",
       "      <td>0</td>\n",
       "      <td>0</td>\n",
       "    </tr>\n",
       "    <tr>\n",
       "      <th>1494052</th>\n",
       "      <td>732699.823056</td>\n",
       "      <td>3.754390e+06</td>\n",
       "      <td>36</td>\n",
       "      <td>S</td>\n",
       "      <td>33.90424</td>\n",
       "      <td>35.51669</td>\n",
       "      <td>0</td>\n",
       "      <td>0</td>\n",
       "      <td>0</td>\n",
       "      <td>0</td>\n",
       "    </tr>\n",
       "    <tr>\n",
       "      <th>1494053</th>\n",
       "      <td>215096.239204</td>\n",
       "      <td>2.491892e+06</td>\n",
       "      <td>51</td>\n",
       "      <td>Q</td>\n",
       "      <td>22.50978</td>\n",
       "      <td>120.23062</td>\n",
       "      <td>0</td>\n",
       "      <td>0</td>\n",
       "      <td>0</td>\n",
       "      <td>0</td>\n",
       "    </tr>\n",
       "    <tr>\n",
       "      <th>1494054</th>\n",
       "      <td>396646.737449</td>\n",
       "      <td>4.315265e+06</td>\n",
       "      <td>51</td>\n",
       "      <td>S</td>\n",
       "      <td>38.98028</td>\n",
       "      <td>121.80678</td>\n",
       "      <td>0</td>\n",
       "      <td>0</td>\n",
       "      <td>0</td>\n",
       "      <td>0</td>\n",
       "    </tr>\n",
       "  </tbody>\n",
       "</table>\n",
       "<p>1494055 rows × 10 columns</p>\n",
       "</div>"
      ],
      "text/plain": [
       "               easting      northing  zone_number zone_letter       lat  \\\n",
       "0        551130.048588  4.720932e+06           54           T  42.63914   \n",
       "1        465345.985460  4.031530e+06           54           S  36.42835   \n",
       "2        551274.751185  4.720877e+06           54           T  42.63864   \n",
       "3        465364.250731  4.031614e+06           54           S  36.42911   \n",
       "4        465426.304542  4.031665e+06           54           S  36.42957   \n",
       "...                ...           ...          ...         ...       ...   \n",
       "1494050  623895.533982  9.867330e+06           53           M  -1.20008   \n",
       "1494051  748099.313672  2.878732e+06           50           R  26.00627   \n",
       "1494052  732699.823056  3.754390e+06           36           S  33.90424   \n",
       "1494053  215096.239204  2.491892e+06           51           Q  22.50978   \n",
       "1494054  396646.737449  4.315265e+06           51           S  38.98028   \n",
       "\n",
       "               lon  W  E  S  N  \n",
       "0        141.62366  0  0  0  0  \n",
       "1        140.61340  0  0  0  0  \n",
       "2        141.62542  0  0  0  0  \n",
       "3        140.61360  0  0  0  0  \n",
       "4        140.61429  0  0  0  0  \n",
       "...            ... .. .. .. ..  \n",
       "1494050  136.11359  0  0  0  0  \n",
       "1494051  119.47872  0  0  0  0  \n",
       "1494052   35.51669  0  0  0  0  \n",
       "1494053  120.23062  0  0  0  0  \n",
       "1494054  121.80678  0  0  0  0  \n",
       "\n",
       "[1494055 rows x 10 columns]"
      ]
     },
     "execution_count": 16,
     "metadata": {},
     "output_type": "execute_result"
    }
   ],
   "source": [
    "locations_utm"
   ]
  },
  {
   "cell_type": "markdown",
   "metadata": {},
   "source": [
    "# Connected components with cross-zone neighbors\n",
    "\n",
    "## Approximate haversine distance\n",
    "\n",
    "To compute distance between two points in border regions on neighboring zones we need to use haversine distance (since metric reference systems are different for them). However, we know, that when $\\delta\\varphi$ and $\\delta\\lambda$ (i. e. angular distances between two locations) are small, haversine can be well approximated (see border region status computation). Hence, instead of full haversine, we can use the following:\n",
    "\n",
    "$$\n",
    "d_a = r\\sqrt{\\delta\\varphi^2 + \\cos^2\\varphi\\delta\\lambda^2}.\n",
    "$$\n",
    "\n",
    "This one is much faster and is accurate for small $\\delta\\varphi$ and $\\delta\\lambda$ (up to one dergee or so, depending on latitude)."
   ]
  },
  {
   "cell_type": "code",
   "execution_count": 17,
   "metadata": {},
   "outputs": [],
   "source": [
    "locations_utm[\"component\"] = -1"
   ]
  },
  {
   "cell_type": "code",
   "execution_count": 18,
   "metadata": {},
   "outputs": [],
   "source": [
    "def get_in_zone_distances(loc, locs):\n",
    "    \"\"\"Calculate distances between `loc` and all location in `locs` in the same zone.\"\"\"\n",
    "    return np.sqrt(np.square(locs[[\"easting\", \"northing\"]] - loc[[\"easting\", \"northing\"]]).sum(axis=1))\n",
    "\n",
    "\n",
    "def get_cross_zone_distances(loc, locs):\n",
    "    \"\"\"Calculate distances between `loc` and all location in `locs` in the same zone.\"\"\"\n",
    "\n",
    "    dphi_sqr = np.square(locs[\"lat\"] - loc[\"lat\"])\n",
    "    dlambda_sqr = np.square(locs[\"lon\"] - loc[\"lon\"])\n",
    "    return R * np.sqrt(dphi_sqr + np.cos(loc.lat * np.pi / 180) * dlambda_sqr) * np.pi / 180\n",
    "\n",
    "\n",
    "def get_in_zone_neighbors_kdtree(loc, tree, thr):\n",
    "    \"\"\"Calculate neighbors of `loc` in the same zone.\"\"\"\n",
    "\n",
    "    tree_elements, tree = tree\n",
    "    neighbors = tree.query_ball_point(loc[[\"easting\", \"northing\"]], THR)\n",
    "\n",
    "    return tree_elements[neighbors]\n",
    "\n",
    "\n",
    "def get_in_zone_neighbors(loc, locs, thr):\n",
    "    \"\"\"Calculate neighbors of `loc` in the same zone.\"\"\"\n",
    "    # TODO: vectorize\n",
    "\n",
    "    zone_mask = (locs.zone_number==loc.zone_number) & (locs.zone_letter==loc.zone_letter)\n",
    "    cand_mask_x = (locs.cell_x==loc.cell_x) | (locs.cell_x==(loc.cell_x-1)) | (locs.cell_x==(loc.cell_x+1))\n",
    "    cand_mask_y = (locs.cell_y==loc.cell_y) | (locs.cell_y==(loc.cell_y-1)) | (locs.cell_y==(loc.cell_y+1))\n",
    "    cand_mask = cand_mask_x & cand_mask_y & zone_mask & (locs.component==-1)\n",
    "    candidates = locs[cand_mask]\n",
    "\n",
    "    dist = get_in_zone_distances(loc, candidates)\n",
    "    return candidates[dist<=thr].index\n",
    "\n",
    "\n",
    "def get_cross_zone_neighbors(loc, locs, thr):\n",
    "    \"\"\"Calculate neighbors of `loc` in the same zone.\"\"\"\n",
    "\n",
    "    updated_zones = []\n",
    "    border_status = loc[[\"N\", \"S\", \"E\", \"W\"]]\n",
    "    border_list = border_status[border_status!=0].index.tolist()\n",
    "    neigboring_zones = get_neighboring_zones(loc.zone_number, loc.zone_letter, border_list)\n",
    "\n",
    "    neighbors = []\n",
    "\n",
    "    for (zn, zl), borders in neigboring_zones.items():\n",
    "        zone_mask = (locs.zone_number==zn) & (locs.zone_letter==zl)\n",
    "        border_mask = locs[borders].sum(axis=1)!=0\n",
    "        candidates = locs[zone_mask & border_mask & (locs.component==-1)]\n",
    "\n",
    "        dist = get_cross_zone_distances(loc, candidates)\n",
    "        neighbors.append(candidates[dist<=thr])\n",
    "\n",
    "        if not candidates[dist<=thr].empty:    \n",
    "            updated_zones.append((zn, zl))\n",
    "\n",
    "    return pd.concat(neighbors).index, updated_zones\n",
    "\n",
    "\n",
    "class ConnectedComponent(object):\n",
    "    \"\"\"Connected component entity. New elements can be added, and component can check if it's finished.\"\"\"\n",
    "    def __init__(self, cid, all_locations, thr):\n",
    "        self.members = set()\n",
    "        self.visited = set()\n",
    "        self.cid = cid\n",
    "        self.all_locations = all_locations\n",
    "        self.thr = thr\n",
    "\n",
    "    def add(self, element):\n",
    "        self.members.add(element)\n",
    "\n",
    "    def visit(self, element):\n",
    "        if element not in self.members:\n",
    "            raise ValueError(f\"element {element} is not in this component\")\n",
    "        self.visited.add(element)\n",
    "\n",
    "    def is_full(self):\n",
    "        return self.members==self.visited\n",
    "\n",
    "    def grow(self, locs=None, kdtrees=None):\n",
    "        \"\"\"Grow this component by elements from `locs`.\"\"\"\n",
    "\n",
    "        subset = self.members.difference(self.visited)\n",
    "        locs = locs if locs is not None else self.all_locations\n",
    "        all_updated_zones = set()\n",
    "\n",
    "        for element in subset:\n",
    "            zn, zl = self.all_locations.loc[element, [\"zone_number\", \"zone_letter\"]]\n",
    "\n",
    "            if (kdtrees is not None):\n",
    "                kdtree = kdtrees[(zn, zl)]\n",
    "                neighbors = get_in_zone_neighbors_kdtree(self.all_locations.loc[element],\n",
    "                                                         kdtree,\n",
    "                                                         self.thr)\n",
    "            else:\n",
    "                neighbors = get_in_zone_neighbors(self.all_locations.loc[element], locs, self.thr)\n",
    "\n",
    "            if self.all_locations.loc[element, \"border\"]:\n",
    "                cross_zone_neighbors, updated_zones = get_cross_zone_neighbors(self.all_locations.loc[element], locs, self.thr)\n",
    "                neighbors = neighbors.union(cross_zone_neighbors)\n",
    "                all_updated_zones.update(updated_zones)\n",
    "\n",
    "            self.members.update(neighbors)\n",
    "            self.visited.add(element)\n",
    "        return all_updated_zones\n",
    "\n",
    "    @property\n",
    "    def elements(self):\n",
    "        return list(self.members)\n",
    "\n",
    "    @property\n",
    "    def size(self):\n",
    "        return len(self.members)"
   ]
  },
  {
   "cell_type": "markdown",
   "metadata": {},
   "source": [
    "# Test on smaller area: zones 35S, 36S, 37S"
   ]
  },
  {
   "cell_type": "code",
   "execution_count": 19,
   "metadata": {},
   "outputs": [],
   "source": [
    "from shapely.geometry import box"
   ]
  },
  {
   "cell_type": "code",
   "execution_count": 20,
   "metadata": {},
   "outputs": [],
   "source": [
    "world = gpd.read_file(gpd.datasets.get_path('naturalearth_lowres'))"
   ]
  },
  {
   "cell_type": "code",
   "execution_count": 21,
   "metadata": {},
   "outputs": [
    {
     "data": {
      "text/plain": [
       "<Geographic 2D CRS: EPSG:4326>\n",
       "Name: WGS 84\n",
       "Axis Info [ellipsoidal]:\n",
       "- Lat[north]: Geodetic latitude (degree)\n",
       "- Lon[east]: Geodetic longitude (degree)\n",
       "Area of Use:\n",
       "- name: World\n",
       "- bounds: (-180.0, -90.0, 180.0, 90.0)\n",
       "Datum: World Geodetic System 1984\n",
       "- Ellipsoid: WGS 84\n",
       "- Prime Meridian: Greenwich"
      ]
     },
     "execution_count": 21,
     "metadata": {},
     "output_type": "execute_result"
    }
   ],
   "source": [
    "world.crs"
   ]
  },
  {
   "cell_type": "code",
   "execution_count": 22,
   "metadata": {},
   "outputs": [],
   "source": [
    "zone_35S = (locations_utm.zone_letter==\"S\") & (locations_utm.zone_number==35)\n",
    "zone_36S = (locations_utm.zone_letter==\"S\") & (locations_utm.zone_number==36)\n",
    "zone_37S = (locations_utm.zone_letter==\"S\") & (locations_utm.zone_number==37)\n",
    "\n",
    "locations_eastmediterranean = locations_utm[zone_35S | zone_36S | zone_37S]\n",
    "locations_eastmediterranean = gpd.GeoDataFrame(locations_eastmediterranean,\n",
    "                                               geometry=gpd.points_from_xy(locations_eastmediterranean[\"lon\"],\n",
    "                                                                           locations_eastmediterranean[\"lat\"]),\n",
    "                                               crs=\"EPSG:4326\")"
   ]
  },
  {
   "cell_type": "code",
   "execution_count": 23,
   "metadata": {},
   "outputs": [
    {
     "data": {
      "text/plain": [
       "<Geographic 2D CRS: EPSG:4326>\n",
       "Name: WGS 84\n",
       "Axis Info [ellipsoidal]:\n",
       "- Lat[north]: Geodetic latitude (degree)\n",
       "- Lon[east]: Geodetic longitude (degree)\n",
       "Area of Use:\n",
       "- name: World\n",
       "- bounds: (-180.0, -90.0, 180.0, 90.0)\n",
       "Datum: World Geodetic System 1984\n",
       "- Ellipsoid: WGS 84\n",
       "- Prime Meridian: Greenwich"
      ]
     },
     "execution_count": 23,
     "metadata": {},
     "output_type": "execute_result"
    }
   ],
   "source": [
    "locations_eastmediterranean.crs"
   ]
  },
  {
   "cell_type": "markdown",
   "metadata": {},
   "source": [
    "**Don't be confused: 36N is `zone 36 North`, not quadrant `36N`!**"
   ]
  },
  {
   "cell_type": "code",
   "execution_count": 24,
   "metadata": {},
   "outputs": [],
   "source": [
    "minx, miny, maxx, maxy = 24, 32, 42, 40\n",
    "aoi = box(minx, miny, maxx, maxy)\n",
    "\n",
    "aoi = world[world.intersects(aoi)]"
   ]
  },
  {
   "cell_type": "code",
   "execution_count": 26,
   "metadata": {},
   "outputs": [
    {
     "data": {
      "text/plain": [
       "(32.0, 40.0)"
      ]
     },
     "execution_count": 26,
     "metadata": {},
     "output_type": "execute_result"
    },
    {
     "data": {
      "image/png": "[encoded data removed]",
      "text/plain": [
       "<Figure size 864x864 with 1 Axes>"
      ]
     },
     "metadata": {
      "needs_background": "light"
     },
     "output_type": "display_data"
    }
   ],
   "source": [
    "plt.figure(figsize=(12,12))\n",
    "aoi.plot(color=\"forestgreen\", ax=plt.gca())\n",
    "locations_eastmediterranean.plot(ax=plt.gca())\n",
    "\n",
    "plt.xlim(minx, maxx)\n",
    "plt.ylim(miny, maxy)"
   ]
  },
  {
   "cell_type": "code",
   "execution_count": 25,
   "metadata": {},
   "outputs": [],
   "source": [
    "locs = locations_eastmediterranean.copy()\n",
    "locs[\"component\"] = -1\n",
    "locs[\"cell_x\"] = (locs[\"easting\"] / THR).astype(int)\n",
    "locs[\"cell_y\"] = (locs[\"northing\"] / THR).astype(int)"
   ]
  },
  {
   "cell_type": "code",
   "execution_count": 26,
   "metadata": {},
   "outputs": [
    {
     "data": {
      "text/html": [
       "<div>\n",
       "<style scoped>\n",
       "    .dataframe tbody tr th:only-of-type {\n",
       "        vertical-align: middle;\n",
       "    }\n",
       "\n",
       "    .dataframe tbody tr th {\n",
       "        vertical-align: top;\n",
       "    }\n",
       "\n",
       "    .dataframe thead th {\n",
       "        text-align: right;\n",
       "    }\n",
       "</style>\n",
       "<table border=\"1\" class=\"dataframe\">\n",
       "  <thead>\n",
       "    <tr style=\"text-align: right;\">\n",
       "      <th></th>\n",
       "      <th>easting</th>\n",
       "      <th>northing</th>\n",
       "      <th>zone_number</th>\n",
       "      <th>zone_letter</th>\n",
       "      <th>lat</th>\n",
       "      <th>lon</th>\n",
       "      <th>W</th>\n",
       "      <th>E</th>\n",
       "      <th>S</th>\n",
       "      <th>N</th>\n",
       "      <th>component</th>\n",
       "      <th>geometry</th>\n",
       "      <th>cell_x</th>\n",
       "      <th>cell_y</th>\n",
       "    </tr>\n",
       "  </thead>\n",
       "  <tbody>\n",
       "    <tr>\n",
       "      <th>452</th>\n",
       "      <td>359042.859521</td>\n",
       "      <td>4.028304e+06</td>\n",
       "      <td>35</td>\n",
       "      <td>S</td>\n",
       "      <td>36.38955</td>\n",
       "      <td>25.42832</td>\n",
       "      <td>0</td>\n",
       "      <td>0</td>\n",
       "      <td>0</td>\n",
       "      <td>0</td>\n",
       "      <td>-1</td>\n",
       "      <td>POINT (25.42832 36.38955)</td>\n",
       "      <td>35</td>\n",
       "      <td>402</td>\n",
       "    </tr>\n",
       "    <tr>\n",
       "      <th>455</th>\n",
       "      <td>359222.293519</td>\n",
       "      <td>4.028249e+06</td>\n",
       "      <td>35</td>\n",
       "      <td>S</td>\n",
       "      <td>36.38908</td>\n",
       "      <td>25.43033</td>\n",
       "      <td>0</td>\n",
       "      <td>0</td>\n",
       "      <td>0</td>\n",
       "      <td>0</td>\n",
       "      <td>-1</td>\n",
       "      <td>POINT (25.43033 36.38908)</td>\n",
       "      <td>35</td>\n",
       "      <td>402</td>\n",
       "    </tr>\n",
       "    <tr>\n",
       "      <th>457</th>\n",
       "      <td>318285.792025</td>\n",
       "      <td>4.144882e+06</td>\n",
       "      <td>35</td>\n",
       "      <td>S</td>\n",
       "      <td>37.43294</td>\n",
       "      <td>24.94613</td>\n",
       "      <td>0</td>\n",
       "      <td>0</td>\n",
       "      <td>0</td>\n",
       "      <td>0</td>\n",
       "      <td>-1</td>\n",
       "      <td>POINT (24.94613 37.43294)</td>\n",
       "      <td>31</td>\n",
       "      <td>414</td>\n",
       "    </tr>\n",
       "    <tr>\n",
       "      <th>459</th>\n",
       "      <td>512644.892559</td>\n",
       "      <td>4.057884e+06</td>\n",
       "      <td>35</td>\n",
       "      <td>S</td>\n",
       "      <td>36.66648</td>\n",
       "      <td>27.14150</td>\n",
       "      <td>0</td>\n",
       "      <td>0</td>\n",
       "      <td>0</td>\n",
       "      <td>0</td>\n",
       "      <td>-1</td>\n",
       "      <td>POINT (27.14150 36.66648)</td>\n",
       "      <td>51</td>\n",
       "      <td>405</td>\n",
       "    </tr>\n",
       "    <tr>\n",
       "      <th>462</th>\n",
       "      <td>279779.571833</td>\n",
       "      <td>4.113606e+06</td>\n",
       "      <td>35</td>\n",
       "      <td>S</td>\n",
       "      <td>37.14293</td>\n",
       "      <td>24.52051</td>\n",
       "      <td>0</td>\n",
       "      <td>0</td>\n",
       "      <td>0</td>\n",
       "      <td>0</td>\n",
       "      <td>-1</td>\n",
       "      <td>POINT (24.52051 37.14293)</td>\n",
       "      <td>27</td>\n",
       "      <td>411</td>\n",
       "    </tr>\n",
       "  </tbody>\n",
       "</table>\n",
       "</div>"
      ],
      "text/plain": [
       "           easting      northing  zone_number zone_letter       lat       lon  \\\n",
       "452  359042.859521  4.028304e+06           35           S  36.38955  25.42832   \n",
       "455  359222.293519  4.028249e+06           35           S  36.38908  25.43033   \n",
       "457  318285.792025  4.144882e+06           35           S  37.43294  24.94613   \n",
       "459  512644.892559  4.057884e+06           35           S  36.66648  27.14150   \n",
       "462  279779.571833  4.113606e+06           35           S  37.14293  24.52051   \n",
       "\n",
       "     W  E  S  N  component                   geometry  cell_x  cell_y  \n",
       "452  0  0  0  0         -1  POINT (25.42832 36.38955)      35     402  \n",
       "455  0  0  0  0         -1  POINT (25.43033 36.38908)      35     402  \n",
       "457  0  0  0  0         -1  POINT (24.94613 37.43294)      31     414  \n",
       "459  0  0  0  0         -1  POINT (27.14150 36.66648)      51     405  \n",
       "462  0  0  0  0         -1  POINT (24.52051 37.14293)      27     411  "
      ]
     },
     "execution_count": 26,
     "metadata": {},
     "output_type": "execute_result"
    }
   ],
   "source": [
    "locs.head()"
   ]
  },
  {
   "cell_type": "code",
   "execution_count": 27,
   "metadata": {},
   "outputs": [],
   "source": [
    "locs[\"border\"] = (locs[[\"N\", \"E\", \"S\", \"W\"]].sum(axis=1)!=0).astype(int)"
   ]
  },
  {
   "cell_type": "code",
   "execution_count": 28,
   "metadata": {},
   "outputs": [
    {
     "data": {
      "text/html": [
       "<div>\n",
       "<style scoped>\n",
       "    .dataframe tbody tr th:only-of-type {\n",
       "        vertical-align: middle;\n",
       "    }\n",
       "\n",
       "    .dataframe tbody tr th {\n",
       "        vertical-align: top;\n",
       "    }\n",
       "\n",
       "    .dataframe thead th {\n",
       "        text-align: right;\n",
       "    }\n",
       "</style>\n",
       "<table border=\"1\" class=\"dataframe\">\n",
       "  <thead>\n",
       "    <tr style=\"text-align: right;\">\n",
       "      <th></th>\n",
       "      <th>easting</th>\n",
       "      <th>northing</th>\n",
       "      <th>zone_number</th>\n",
       "      <th>zone_letter</th>\n",
       "      <th>lat</th>\n",
       "      <th>lon</th>\n",
       "      <th>W</th>\n",
       "      <th>E</th>\n",
       "      <th>S</th>\n",
       "      <th>N</th>\n",
       "      <th>component</th>\n",
       "      <th>geometry</th>\n",
       "      <th>cell_x</th>\n",
       "      <th>cell_y</th>\n",
       "      <th>border</th>\n",
       "    </tr>\n",
       "  </thead>\n",
       "  <tbody>\n",
       "    <tr>\n",
       "      <th>452</th>\n",
       "      <td>359042.859521</td>\n",
       "      <td>4.028304e+06</td>\n",
       "      <td>35</td>\n",
       "      <td>S</td>\n",
       "      <td>36.38955</td>\n",
       "      <td>25.42832</td>\n",
       "      <td>0</td>\n",
       "      <td>0</td>\n",
       "      <td>0</td>\n",
       "      <td>0</td>\n",
       "      <td>-1</td>\n",
       "      <td>POINT (25.42832 36.38955)</td>\n",
       "      <td>35</td>\n",
       "      <td>402</td>\n",
       "      <td>0</td>\n",
       "    </tr>\n",
       "    <tr>\n",
       "      <th>455</th>\n",
       "      <td>359222.293519</td>\n",
       "      <td>4.028249e+06</td>\n",
       "      <td>35</td>\n",
       "      <td>S</td>\n",
       "      <td>36.38908</td>\n",
       "      <td>25.43033</td>\n",
       "      <td>0</td>\n",
       "      <td>0</td>\n",
       "      <td>0</td>\n",
       "      <td>0</td>\n",
       "      <td>-1</td>\n",
       "      <td>POINT (25.43033 36.38908)</td>\n",
       "      <td>35</td>\n",
       "      <td>402</td>\n",
       "      <td>0</td>\n",
       "    </tr>\n",
       "    <tr>\n",
       "      <th>457</th>\n",
       "      <td>318285.792025</td>\n",
       "      <td>4.144882e+06</td>\n",
       "      <td>35</td>\n",
       "      <td>S</td>\n",
       "      <td>37.43294</td>\n",
       "      <td>24.94613</td>\n",
       "      <td>0</td>\n",
       "      <td>0</td>\n",
       "      <td>0</td>\n",
       "      <td>0</td>\n",
       "      <td>-1</td>\n",
       "      <td>POINT (24.94613 37.43294)</td>\n",
       "      <td>31</td>\n",
       "      <td>414</td>\n",
       "      <td>0</td>\n",
       "    </tr>\n",
       "    <tr>\n",
       "      <th>459</th>\n",
       "      <td>512644.892559</td>\n",
       "      <td>4.057884e+06</td>\n",
       "      <td>35</td>\n",
       "      <td>S</td>\n",
       "      <td>36.66648</td>\n",
       "      <td>27.14150</td>\n",
       "      <td>0</td>\n",
       "      <td>0</td>\n",
       "      <td>0</td>\n",
       "      <td>0</td>\n",
       "      <td>-1</td>\n",
       "      <td>POINT (27.14150 36.66648)</td>\n",
       "      <td>51</td>\n",
       "      <td>405</td>\n",
       "      <td>0</td>\n",
       "    </tr>\n",
       "    <tr>\n",
       "      <th>462</th>\n",
       "      <td>279779.571833</td>\n",
       "      <td>4.113606e+06</td>\n",
       "      <td>35</td>\n",
       "      <td>S</td>\n",
       "      <td>37.14293</td>\n",
       "      <td>24.52051</td>\n",
       "      <td>0</td>\n",
       "      <td>0</td>\n",
       "      <td>0</td>\n",
       "      <td>0</td>\n",
       "      <td>-1</td>\n",
       "      <td>POINT (24.52051 37.14293)</td>\n",
       "      <td>27</td>\n",
       "      <td>411</td>\n",
       "      <td>0</td>\n",
       "    </tr>\n",
       "    <tr>\n",
       "      <th>...</th>\n",
       "      <td>...</td>\n",
       "      <td>...</td>\n",
       "      <td>...</td>\n",
       "      <td>...</td>\n",
       "      <td>...</td>\n",
       "      <td>...</td>\n",
       "      <td>...</td>\n",
       "      <td>...</td>\n",
       "      <td>...</td>\n",
       "      <td>...</td>\n",
       "      <td>...</td>\n",
       "      <td>...</td>\n",
       "      <td>...</td>\n",
       "      <td>...</td>\n",
       "      <td>...</td>\n",
       "    </tr>\n",
       "    <tr>\n",
       "      <th>1493706</th>\n",
       "      <td>492254.835523</td>\n",
       "      <td>4.292446e+06</td>\n",
       "      <td>35</td>\n",
       "      <td>S</td>\n",
       "      <td>38.78071</td>\n",
       "      <td>26.91083</td>\n",
       "      <td>0</td>\n",
       "      <td>0</td>\n",
       "      <td>0</td>\n",
       "      <td>0</td>\n",
       "      <td>-1</td>\n",
       "      <td>POINT (26.91083 38.78071)</td>\n",
       "      <td>49</td>\n",
       "      <td>429</td>\n",
       "      <td>0</td>\n",
       "    </tr>\n",
       "    <tr>\n",
       "      <th>1493786</th>\n",
       "      <td>733958.755713</td>\n",
       "      <td>3.754938e+06</td>\n",
       "      <td>36</td>\n",
       "      <td>S</td>\n",
       "      <td>33.90890</td>\n",
       "      <td>35.53044</td>\n",
       "      <td>0</td>\n",
       "      <td>0</td>\n",
       "      <td>0</td>\n",
       "      <td>0</td>\n",
       "      <td>-1</td>\n",
       "      <td>POINT (35.53044 33.90890)</td>\n",
       "      <td>73</td>\n",
       "      <td>375</td>\n",
       "      <td>0</td>\n",
       "    </tr>\n",
       "    <tr>\n",
       "      <th>1493844</th>\n",
       "      <td>736586.372615</td>\n",
       "      <td>3.757294e+06</td>\n",
       "      <td>36</td>\n",
       "      <td>S</td>\n",
       "      <td>33.92954</td>\n",
       "      <td>35.55947</td>\n",
       "      <td>0</td>\n",
       "      <td>0</td>\n",
       "      <td>0</td>\n",
       "      <td>0</td>\n",
       "      <td>-1</td>\n",
       "      <td>POINT (35.55947 33.92954)</td>\n",
       "      <td>73</td>\n",
       "      <td>375</td>\n",
       "      <td>0</td>\n",
       "    </tr>\n",
       "    <tr>\n",
       "      <th>1493868</th>\n",
       "      <td>733959.968792</td>\n",
       "      <td>3.754814e+06</td>\n",
       "      <td>36</td>\n",
       "      <td>S</td>\n",
       "      <td>33.90778</td>\n",
       "      <td>35.53042</td>\n",
       "      <td>0</td>\n",
       "      <td>0</td>\n",
       "      <td>0</td>\n",
       "      <td>0</td>\n",
       "      <td>-1</td>\n",
       "      <td>POINT (35.53042 33.90778)</td>\n",
       "      <td>73</td>\n",
       "      <td>375</td>\n",
       "      <td>0</td>\n",
       "    </tr>\n",
       "    <tr>\n",
       "      <th>1494052</th>\n",
       "      <td>732699.823056</td>\n",
       "      <td>3.754390e+06</td>\n",
       "      <td>36</td>\n",
       "      <td>S</td>\n",
       "      <td>33.90424</td>\n",
       "      <td>35.51669</td>\n",
       "      <td>0</td>\n",
       "      <td>0</td>\n",
       "      <td>0</td>\n",
       "      <td>0</td>\n",
       "      <td>-1</td>\n",
       "      <td>POINT (35.51669 33.90424)</td>\n",
       "      <td>73</td>\n",
       "      <td>375</td>\n",
       "      <td>0</td>\n",
       "    </tr>\n",
       "  </tbody>\n",
       "</table>\n",
       "<p>20095 rows × 15 columns</p>\n",
       "</div>"
      ],
      "text/plain": [
       "               easting      northing  zone_number zone_letter       lat  \\\n",
       "452      359042.859521  4.028304e+06           35           S  36.38955   \n",
       "455      359222.293519  4.028249e+06           35           S  36.38908   \n",
       "457      318285.792025  4.144882e+06           35           S  37.43294   \n",
       "459      512644.892559  4.057884e+06           35           S  36.66648   \n",
       "462      279779.571833  4.113606e+06           35           S  37.14293   \n",
       "...                ...           ...          ...         ...       ...   \n",
       "1493706  492254.835523  4.292446e+06           35           S  38.78071   \n",
       "1493786  733958.755713  3.754938e+06           36           S  33.90890   \n",
       "1493844  736586.372615  3.757294e+06           36           S  33.92954   \n",
       "1493868  733959.968792  3.754814e+06           36           S  33.90778   \n",
       "1494052  732699.823056  3.754390e+06           36           S  33.90424   \n",
       "\n",
       "              lon  W  E  S  N  component                   geometry  cell_x  \\\n",
       "452      25.42832  0  0  0  0         -1  POINT (25.42832 36.38955)      35   \n",
       "455      25.43033  0  0  0  0         -1  POINT (25.43033 36.38908)      35   \n",
       "457      24.94613  0  0  0  0         -1  POINT (24.94613 37.43294)      31   \n",
       "459      27.14150  0  0  0  0         -1  POINT (27.14150 36.66648)      51   \n",
       "462      24.52051  0  0  0  0         -1  POINT (24.52051 37.14293)      27   \n",
       "...           ... .. .. .. ..        ...                        ...     ...   \n",
       "1493706  26.91083  0  0  0  0         -1  POINT (26.91083 38.78071)      49   \n",
       "1493786  35.53044  0  0  0  0         -1  POINT (35.53044 33.90890)      73   \n",
       "1493844  35.55947  0  0  0  0         -1  POINT (35.55947 33.92954)      73   \n",
       "1493868  35.53042  0  0  0  0         -1  POINT (35.53042 33.90778)      73   \n",
       "1494052  35.51669  0  0  0  0         -1  POINT (35.51669 33.90424)      73   \n",
       "\n",
       "         cell_y  border  \n",
       "452         402       0  \n",
       "455         402       0  \n",
       "457         414       0  \n",
       "459         405       0  \n",
       "462         411       0  \n",
       "...         ...     ...  \n",
       "1493706     429       0  \n",
       "1493786     375       0  \n",
       "1493844     375       0  \n",
       "1493868     375       0  \n",
       "1494052     375       0  \n",
       "\n",
       "[20095 rows x 15 columns]"
      ]
     },
     "execution_count": 28,
     "metadata": {},
     "output_type": "execute_result"
    }
   ],
   "source": [
    "locs"
   ]
  },
  {
   "cell_type": "markdown",
   "metadata": {},
   "source": [
    "## Counts of zone + cell"
   ]
  },
  {
   "cell_type": "code",
   "execution_count": 37,
   "metadata": {},
   "outputs": [
    {
     "data": {
      "text/plain": [
       "zone_number  zone_letter  cell_x  cell_y\n",
       "35           S            49      429       0.135357\n",
       "36           S            68      363       0.089176\n",
       "                          64      407       0.089127\n",
       "37           S            24      406       0.054392\n",
       "36           S            73      375       0.040906\n",
       "                                              ...   \n",
       "35           S            41      415       0.000050\n",
       "                          37      413       0.000050\n",
       "36           S            53      382       0.000050\n",
       "35           S            46      412       0.000050\n",
       "36           S            52      391       0.000050\n",
       "Length: 362, dtype: float64"
      ]
     },
     "execution_count": 37,
     "metadata": {},
     "output_type": "execute_result"
    }
   ],
   "source": [
    "locs.groupby([\"zone_number\", \"zone_letter\", \"cell_x\", \"cell_y\"]).size().sort_values(ascending=False) / locs.shape[0]"
   ]
  },
  {
   "cell_type": "markdown",
   "metadata": {},
   "source": [
    "Can we use this as weight?"
   ]
  },
  {
   "cell_type": "code",
   "execution_count": 41,
   "metadata": {},
   "outputs": [],
   "source": [
    "weight = ((locs\n",
    "           .groupby([\"zone_number\", \"zone_letter\", \"cell_x\", \"cell_y\"])\n",
    "           .size()\n",
    "           .sort_values(ascending=False)\n",
    "           .rename(\"weight\")) / locs.shape[0])\n",
    "locs = locs.merge(weight, left_on=[\"zone_number\", \"zone_letter\", \"cell_x\", \"cell_y\"], right_index=True)"
   ]
  },
  {
   "cell_type": "code",
   "execution_count": 56,
   "metadata": {},
   "outputs": [
    {
     "name": "stderr",
     "output_type": "stream",
     "text": [
      "100%|██████████| 3/3 [00:00<00:00, 13.39it/s]\n"
     ]
    }
   ],
   "source": [
    "zone_grp = locs.groupby([\"zone_number\", \"zone_letter\"])\n",
    "\n",
    "kdtrees = {}\n",
    "\n",
    "for zone, zone_locations in tqdm.tqdm(zone_grp, total=len(zone_grp.groups)):\n",
    "    zn, zl = zone\n",
    "    zone_mask = (locations_utm.zone_number==zn) & (locations_utm.zone_letter==zl)\n",
    "    tree = cKDTree(locations_utm.loc[zone_mask, [\"easting\", \"northing\"]].values)\n",
    "    kdtrees[zone] = [locations_utm.loc[zone_mask].index, tree]"
   ]
  },
  {
   "cell_type": "markdown",
   "metadata": {},
   "source": [
    "## Adding weights"
   ]
  },
  {
   "cell_type": "code",
   "execution_count": 29,
   "metadata": {},
   "outputs": [],
   "source": [
    "%load_ext line_profiler"
   ]
  },
  {
   "cell_type": "code",
   "execution_count": 55,
   "metadata": {},
   "outputs": [
    {
     "name": "stdout",
     "output_type": "stream",
     "text": [
      "CPU times: user 34.7 s, sys: 0 ns, total: 34.7 s\n",
      "Wall time: 34.7 s\n"
     ]
    }
   ],
   "source": [
    "%%time\n",
    "\n",
    "THR = 10000\n",
    "locs[\"component\"] = -1\n",
    "current_cid = -1\n",
    "components = {}\n",
    "\n",
    "while (locs.component==-1).sum()!=0:\n",
    "    current_cid += 1\n",
    "    zones_to_update = set()\n",
    "    seed = locs[locs.component==-1].sample(1, weights=\"weight\").index[0]\n",
    "\n",
    "    zn, zl = locs.loc[seed, [\"zone_number\", \"zone_letter\"]]\n",
    "    zone_mask = (locs.zone_number==zn) & (locs.zone_letter==zl)\n",
    "\n",
    "    component = ConnectedComponent(current_cid, locs, THR)\n",
    "    component.add(seed)\n",
    "    locs.loc[seed, \"component\"] = current_cid\n",
    "\n",
    "    while not component.is_full():\n",
    "        component_mask = locs.component==-1\n",
    "\n",
    "        if not locs.loc[zone_mask & component_mask].empty:\n",
    "            kdtrees[(zn, zl)] = [locs.loc[zone_mask & component_mask].index,\n",
    "                                 cKDTree(locs.loc[zone_mask & component_mask,\n",
    "                                                  [\"easting\", \"northing\"]].values)]\n",
    "\n",
    "            for (lzn, lzl) in zones_to_update:\n",
    "                local_zone_mask = (locs.zone_number==lzn) & (locs.zone_letter==lzl)\n",
    "                zone_tree = cKDTree(locs.loc[local_zone_mask & component_mask,\n",
    "                                             [\"easting\", \"northing\"]].values)\n",
    "                kdtrees[(lzn, lzl)] = [locs.loc[local_zone_mask & component_mask].index, zone_tree]\n",
    "\n",
    "            zones_to_update = component.grow(kdtrees=kdtrees)\n",
    "        else:\n",
    "            component.grow(locs=locs)\n",
    "        locs.loc[component.elements, \"component\"] = current_cid\n",
    "\n",
    "    components[component.cid] = component.elements"
   ]
  },
  {
   "cell_type": "markdown",
   "metadata": {},
   "source": [
    "## No weights comparison"
   ]
  },
  {
   "cell_type": "code",
   "execution_count": 30,
   "metadata": {},
   "outputs": [
    {
     "name": "stderr",
     "output_type": "stream",
     "text": [
      "100%|██████████| 3/3 [00:00<00:00, 14.48it/s]\n"
     ]
    }
   ],
   "source": [
    "zone_grp = locs.groupby([\"zone_number\", \"zone_letter\"])\n",
    "\n",
    "kdtrees = {}\n",
    "\n",
    "for zone, zone_locations in tqdm.tqdm(zone_grp, total=len(zone_grp.groups)):\n",
    "    zn, zl = zone\n",
    "    zone_mask = (locations_utm.zone_number==zn) & (locations_utm.zone_letter==zl)\n",
    "    tree = cKDTree(locations_utm.loc[zone_mask, [\"easting\", \"northing\"]].values)\n",
    "    kdtrees[zone] = [locations_utm.loc[zone_mask].index, tree]"
   ]
  },
  {
   "cell_type": "code",
   "execution_count": 33,
   "metadata": {},
   "outputs": [],
   "source": [
    "def run_components(locs, thr, kdtrees):\n",
    "    \"\"\"Wrapper for profiling.\"\"\"\n",
    "\n",
    "    THR = thr\n",
    "    locs[\"component\"] = -1\n",
    "    current_cid = -1\n",
    "    components = {}\n",
    "\n",
    "    while (locs.component==-1).sum()!=0:\n",
    "        current_cid += 1\n",
    "        zones_to_update = set()\n",
    "        seed = locs[locs.component==-1].sample(1).index[0]\n",
    "\n",
    "        zn, zl = locs.loc[seed, [\"zone_number\", \"zone_letter\"]]\n",
    "        zone_mask = (locs.zone_number==zn) & (locs.zone_letter==zl)\n",
    "\n",
    "        component = ConnectedComponent(current_cid, locs, THR)\n",
    "        component.add(seed)\n",
    "        locs.loc[seed, \"component\"] = current_cid\n",
    "\n",
    "        while not component.is_full():\n",
    "            component_mask = locs.component==-1\n",
    "\n",
    "            if not locs.loc[zone_mask & component_mask].empty:\n",
    "                kdtrees[(zn, zl)] = [locs.loc[zone_mask & component_mask].index,\n",
    "                                     cKDTree(locs.loc[zone_mask & component_mask,\n",
    "                                                      [\"easting\", \"northing\"]].values)]\n",
    "\n",
    "                for (lzn, lzl) in zones_to_update:\n",
    "                    local_zone_mask = (locs.zone_number==lzn) & (locs.zone_letter==lzl)\n",
    "                    zone_tree = cKDTree(locs.loc[local_zone_mask & component_mask,\n",
    "                                                 [\"easting\", \"northing\"]].values)\n",
    "                    kdtrees[(lzn, lzl)] = [locs.loc[local_zone_mask & component_mask].index, zone_tree]\n",
    "\n",
    "                zones_to_update = component.grow(kdtrees=kdtrees)\n",
    "            else:\n",
    "                component.grow(locs=locs)\n",
    "            locs.loc[component.elements, \"component\"] = current_cid\n",
    "\n",
    "        components[component.cid] = component.elements\n",
    "    return components"
   ]
  },
  {
   "cell_type": "code",
   "execution_count": 34,
   "metadata": {},
   "outputs": [],
   "source": [
    "%lprun -f run_components run_components(locs, THR, kdtrees)"
   ]
  },
  {
   "cell_type": "markdown",
   "metadata": {},
   "source": [
    "Ok, `86.7%` + `7%` is spent, unsurprisingly, in `component.grow`. Let's dig in:"
   ]
  },
  {
   "cell_type": "code",
   "execution_count": 35,
   "metadata": {},
   "outputs": [],
   "source": [
    "%lprun -f run_components -f ConnectedComponent.grow run_components(locs, THR, kdtrees)"
   ]
  },
  {
   "cell_type": "markdown",
   "metadata": {},
   "source": [
    "Now, `33.2%` is spent in:\n",
    "\n",
    "```python\n",
    "zn, zl = self.all_locations.loc[element, [\"zone_number\", \"zone_letter\"]]\n",
    "```\n",
    "\n",
    "`37.2%` is spent in:\n",
    "\n",
    "```python\n",
    "neighbors = get_in_zone_neighbors_kdtree(self.all_locations.loc[element], kdtree, self.thr)\n",
    "```\n",
    "\n",
    "and `24.4%`:\n",
    "\n",
    "```python\n",
    "cross_zone_neighbors, updated_zones = get_cross_zone_neighbors(self.all_locations.loc[element], locs, self.thr)\n",
    "```\n",
    "\n",
    "This is not really good, as we have three sources at once, and none is prevalent."
   ]
  },
  {
   "cell_type": "code",
   "execution_count": 40,
   "metadata": {},
   "outputs": [
    {
     "name": "stdout",
     "output_type": "stream",
     "text": [
      "95.4 µs ± 3.84 µs per loop (mean ± std. dev. of 7 runs, 10000 loops each)\n"
     ]
    }
   ],
   "source": [
    "%timeit locs.loc[457]"
   ]
  },
  {
   "cell_type": "code",
   "execution_count": 41,
   "metadata": {},
   "outputs": [
    {
     "name": "stdout",
     "output_type": "stream",
     "text": [
      "381 µs ± 13.1 µs per loop (mean ± std. dev. of 7 runs, 1000 loops each)\n"
     ]
    }
   ],
   "source": [
    "%timeit zn, zl = locs.loc[457, [\"zone_number\", \"zone_letter\"]]"
   ]
  },
  {
   "cell_type": "code",
   "execution_count": 43,
   "metadata": {},
   "outputs": [
    {
     "name": "stdout",
     "output_type": "stream",
     "text": [
      "393 µs ± 2.87 µs per loop (mean ± std. dev. of 7 runs, 1000 loops each)\n"
     ]
    }
   ],
   "source": [
    "%timeit zn, zl = locs.loc[457][[\"zone_number\", \"zone_letter\"]]"
   ]
  },
  {
   "cell_type": "code",
   "execution_count": 44,
   "metadata": {},
   "outputs": [
    {
     "name": "stdout",
     "output_type": "stream",
     "text": [
      "673 µs ± 5.74 µs per loop (mean ± std. dev. of 7 runs, 1000 loops each)\n"
     ]
    }
   ],
   "source": [
    "%timeit zn, zl = locs[[\"zone_number\", \"zone_letter\"]].loc[457]"
   ]
  },
  {
   "cell_type": "code",
   "execution_count": 47,
   "metadata": {},
   "outputs": [
    {
     "name": "stdout",
     "output_type": "stream",
     "text": [
      "111 µs ± 1.15 µs per loop (mean ± std. dev. of 7 runs, 10000 loops each)\n"
     ]
    }
   ],
   "source": [
    "%%timeit\n",
    "loc = locs.loc[457]\n",
    "zn, zl = loc.zone_number, loc.zone_letter"
   ]
  },
  {
   "cell_type": "markdown",
   "metadata": {},
   "source": [
    "Ok, we can deal with Pandas indexing inefficiencies (which are ok in usual cisrcumstances, but are not when you hit it millions of times)."
   ]
  },
  {
   "cell_type": "code",
   "execution_count": 60,
   "metadata": {},
   "outputs": [],
   "source": [
    "class ConnectedComponentV1(ConnectedComponent):\n",
    "    \"\"\"Connected component entity. New elements can be added, and component can check if it's finished.\"\"\"\n",
    "\n",
    "    def grow(self, locs=None, kdtrees=None):\n",
    "        \"\"\"Grow this component by elements from `locs`.\"\"\"\n",
    "\n",
    "        subset = self.members.difference(self.visited)\n",
    "        locs = locs if locs is not None else self.all_locations\n",
    "        current_locs = self.all_locations.loc[subset]\n",
    "        all_updated_zones = set()\n",
    "\n",
    "        for element in subset:\n",
    "            current_loc = current_locs.loc[element]\n",
    "            zn, zl = current_loc.zone_number, current_loc.zone_letter\n",
    "\n",
    "            if (kdtrees is not None):\n",
    "                kdtree = kdtrees[(zn, zl)]\n",
    "                neighbors = get_in_zone_neighbors_kdtree(current_loc, kdtree, self.thr)\n",
    "            else:\n",
    "                neighbors = get_in_zone_neighbors(current_loc, locs, self.thr)\n",
    "\n",
    "            if current_loc.border:\n",
    "                cross_zone_neighbors, updated_zones = get_cross_zone_neighbors(current_loc, locs, self.thr)\n",
    "                neighbors = neighbors.union(cross_zone_neighbors)\n",
    "                all_updated_zones.update(updated_zones)\n",
    "\n",
    "            self.members.update(neighbors)\n",
    "            self.visited.add(element)\n",
    "        return all_updated_zones\n",
    "\n",
    "    @property\n",
    "    def elements(self):\n",
    "        return list(self.members)\n",
    "\n",
    "    @property\n",
    "    def size(self):\n",
    "        return len(self.members)\n",
    "    \n",
    "    \n",
    "def run_components_v1(locs, thr, kdtrees):\n",
    "    \"\"\"Wrapper for profiling.\"\"\"\n",
    "\n",
    "    THR = thr\n",
    "    locs[\"component\"] = -1\n",
    "    current_cid = -1\n",
    "    components = {}\n",
    "\n",
    "    while (locs.component==-1).sum()!=0:\n",
    "        current_cid += 1\n",
    "        zones_to_update = set()\n",
    "        seed = locs[locs.component==-1].sample(1).index[0]\n",
    "\n",
    "        zn, zl = locs.loc[seed, [\"zone_number\", \"zone_letter\"]]\n",
    "        zone_mask = (locs.zone_number==zn) & (locs.zone_letter==zl)\n",
    "\n",
    "        component = ConnectedComponentV1(current_cid, locs, THR)\n",
    "        component.add(seed)\n",
    "        locs.loc[seed, \"component\"] = current_cid\n",
    "\n",
    "        while not component.is_full():\n",
    "            component_mask = locs.component==-1\n",
    "\n",
    "            if not locs.loc[zone_mask & component_mask].empty:\n",
    "                kdtrees[(zn, zl)] = [locs.loc[zone_mask & component_mask].index,\n",
    "                                     cKDTree(locs.loc[zone_mask & component_mask,\n",
    "                                                      [\"easting\", \"northing\"]].values)]\n",
    "\n",
    "                for (lzn, lzl) in zones_to_update:\n",
    "                    local_zone_mask = (locs.zone_number==lzn) & (locs.zone_letter==lzl)\n",
    "                    zone_tree = cKDTree(locs.loc[local_zone_mask & component_mask,\n",
    "                                                 [\"easting\", \"northing\"]].values)\n",
    "                    kdtrees[(lzn, lzl)] = [locs.loc[local_zone_mask & component_mask].index, zone_tree]\n",
    "\n",
    "                zones_to_update = component.grow(kdtrees=kdtrees)\n",
    "            else:\n",
    "                component.grow(locs=locs)\n",
    "            locs.loc[component.elements, \"component\"] = current_cid\n",
    "\n",
    "        components[component.cid] = component.elements\n",
    "    return components"
   ]
  },
  {
   "cell_type": "code",
   "execution_count": 52,
   "metadata": {},
   "outputs": [],
   "source": [
    "%lprun -f ConnectedComponentV1.grow run_components_v1(locs, THR, kdtrees)"
   ]
  },
  {
   "cell_type": "markdown",
   "metadata": {},
   "source": [
    "Ok, now getting neighbors (in-zone and cross-zone) takes `40.4% + 35.5%`. Let's take another level:"
   ]
  },
  {
   "cell_type": "code",
   "execution_count": 56,
   "metadata": {},
   "outputs": [],
   "source": [
    "%lprun -f get_in_zone_neighbors_kdtree -f get_cross_zone_neighbors -f get_cross_zone_distances run_components_v1(locs, THR, kdtrees)"
   ]
  },
  {
   "cell_type": "markdown",
   "metadata": {},
   "source": [
    "```\n",
    "Timer unit: 1e-06 s\n",
    "\n",
    "Total time: 2.86658 s\n",
    "File: <ipython-input-18-4db6c3c5b60c>\n",
    "Function: get_cross_zone_distances at line 6\n",
    "\n",
    "Line #      Hits         Time  Per Hit   % Time  Line Contents\n",
    "==============================================================\n",
    "     6                                           def get_cross_zone_distances(loc, locs):\n",
    "     7                                               \"\"\"Calculate distances between `loc` and all location in `locs` in the same zone.\"\"\"\n",
    "     8                                           \n",
    "     9      1134     634512.0    559.5     22.1      dphi_sqr = np.square(locs[\"lat\"] - loc[\"lat\"])\n",
    "    10      1134     615093.0    542.4     21.5      dlambda_sqr = np.square(locs[\"lon\"] - loc[\"lon\"])\n",
    "    11      1134    1616974.0   1425.9     56.4      return R * np.sqrt(dphi_sqr + np.cos(loc.lat * np.pi / 180) * dlambda_sqr) * np.pi / 180\n",
    "\n",
    "Total time: 16.9324 s\n",
    "File: <ipython-input-18-4db6c3c5b60c>\n",
    "Function: get_in_zone_neighbors_kdtree at line 14\n",
    "\n",
    "Line #      Hits         Time  Per Hit   % Time  Line Contents\n",
    "==============================================================\n",
    "    14                                           def get_in_zone_neighbors_kdtree(loc, tree, thr):\n",
    "    15                                               \"\"\"Calculate neighbors of `loc` in the same zone.\"\"\"\n",
    "    16                                           \n",
    "    17     19721      41257.0      2.1      0.2      tree_elements, tree = tree\n",
    "    18     19721   16189382.0    820.9     95.6      neighbors = tree.query_ball_point(loc[[\"easting\", \"northing\"]], THR)\n",
    "    19                                           \n",
    "    20     19721     701758.0     35.6      4.1      return tree_elements[neighbors]\n",
    "\n",
    "Total time: 15.0019 s\n",
    "File: <ipython-input-18-4db6c3c5b60c>\n",
    "Function: get_cross_zone_neighbors at line 37\n",
    "\n",
    "Line #      Hits         Time  Per Hit   % Time  Line Contents\n",
    "==============================================================\n",
    "    37                                           def get_cross_zone_neighbors(loc, locs, thr):\n",
    "    38                                               \"\"\"Calculate neighbors of `loc` in the same zone.\"\"\"\n",
    "    39                                           \n",
    "    40      1112       2255.0      2.0      0.0      updated_zones = []\n",
    "    41      1112     811390.0    729.7      5.4      border_status = loc[[\"N\", \"S\", \"E\", \"W\"]]\n",
    "    42      1112     408127.0    367.0      2.7      border_list = border_status[border_status!=0].index.tolist()\n",
    "    43      1112      73355.0     66.0      0.5      neigboring_zones = get_neighboring_zones(loc.zone_number, loc.zone_letter, border_list)\n",
    "    44                                           \n",
    "    45      1112       2092.0      1.9      0.0      neighbors = []\n",
    "    46                                           \n",
    "    47      2246       5110.0      2.3      0.0      for (zn, zl), borders in neigboring_zones.items():\n",
    "    48      1134    1579078.0   1392.5     10.5          zone_mask = (locs.zone_number==zn) & (locs.zone_letter==zl)\n",
    "    49      1134    1833800.0   1617.1     12.2          border_mask = locs[borders].sum(axis=1)!=0\n",
    "    50      1134    2045029.0   1803.4     13.6          candidates = locs[zone_mask & border_mask & (locs.component==-1)]\n",
    "    51                                           \n",
    "    52      1134    2880668.0   2540.3     19.2          dist = get_cross_zone_distances(loc, candidates)\n",
    "    53      1134    1589117.0   1401.3     10.6          neighbors.append(candidates[dist<=thr])\n",
    "    54                                           \n",
    "    55      1134    1589022.0   1401.3     10.6          if not candidates[dist<=thr].empty:    \n",
    "    56       183        466.0      2.5      0.0              updated_zones.append((zn, zl))\n",
    "    57                                           \n",
    "    58      1112    2182345.0   1962.5     14.5      return pd.concat(neighbors).index, updated_zones\n",
    "```"
   ]
  },
  {
   "cell_type": "markdown",
   "metadata": {},
   "source": [
    "Ok, multiple issues here:\n",
    "\n",
    "- too much boolean indexing,\n",
    "- repeating operations,\n",
    "- unneeded calculations."
   ]
  },
  {
   "cell_type": "code",
   "execution_count": 61,
   "metadata": {},
   "outputs": [],
   "source": [
    "PI_180 = np.pi / 180\n",
    "PI_90 = np.pi / 90\n",
    "\n",
    "def get_cross_zone_distances(loc, locs):\n",
    "    \"\"\"Calculate distances between `loc` and all location in `locs` in the same zone.\"\"\"\n",
    "\n",
    "    dphi_sqr = np.square(locs[\"lat\"] - loc[\"lat\"])\n",
    "    dlambda_sqr = np.square(locs[\"lon\"] - loc[\"lon\"])\n",
    "    return R * R * (dphi_sqr + 0.5 * (1 + np.cos(loc.lat * PI_90)) * dlambda_sqr) * PI_180\n",
    "\n",
    "\n",
    "def get_cross_zone_neighbors(loc, locs, thr):\n",
    "    \"\"\"Calculate neighbors of `loc` in the same zone.\"\"\"\n",
    "\n",
    "    updated_zones = []\n",
    "    border_status = loc[[\"N\", \"S\", \"E\", \"W\"]]\n",
    "    border_list = border_status[border_status!=0].index.tolist()\n",
    "    neigboring_zones = get_neighboring_zones(loc.zone_number, loc.zone_letter, border_list)\n",
    "\n",
    "    neighbors = []\n",
    "\n",
    "    for (zn, zl), borders in neigboring_zones.items():\n",
    "        zone_mask = (locs.zone_number==zn) & (locs.zone_letter==zl)\n",
    "        border_mask = locs.border != 0\n",
    "        candidates = locs[zone_mask & border_mask & (locs.component==-1)]\n",
    "\n",
    "        dist = get_cross_zone_distances(loc, candidates)\n",
    "        zone_neighbors = candidates[dist <= thr * thr]\n",
    "        neighbors.append(zone_neighbors)\n",
    "\n",
    "        if not zone_neighbors.empty:    \n",
    "            updated_zones.append((zn, zl))\n",
    "\n",
    "    return pd.concat(neighbors).index, updated_zones"
   ]
  },
  {
   "cell_type": "code",
   "execution_count": 62,
   "metadata": {},
   "outputs": [],
   "source": [
    "%lprun -f get_in_zone_neighbors_kdtree -f get_cross_zone_neighbors -f get_cross_zone_distances run_components_v1(locs, THR, kdtrees)"
   ]
  },
  {
   "cell_type": "markdown",
   "metadata": {},
   "source": [
    "```\n",
    "Timer unit: 1e-06 s\n",
    "\n",
    "Total time: 16.0084 s\n",
    "File: <ipython-input-18-4db6c3c5b60c>\n",
    "Function: get_in_zone_neighbors_kdtree at line 14\n",
    "\n",
    "Line #      Hits         Time  Per Hit   % Time  Line Contents\n",
    "==============================================================\n",
    "    14                                           def get_in_zone_neighbors_kdtree(loc, tree, thr):\n",
    "    15                                               \"\"\"Calculate neighbors of `loc` in the same zone.\"\"\"\n",
    "    16                                           \n",
    "    17     19624      38472.0      2.0      0.2      tree_elements, tree = tree\n",
    "    18     19624   15303103.0    779.8     95.6      neighbors = tree.query_ball_point(loc[[\"easting\", \"northing\"]], THR)\n",
    "    19                                           \n",
    "    20     19624     666831.0     34.0      4.2      return tree_elements[neighbors]\n",
    "\n",
    "Total time: 2.26555 s\n",
    "File: <ipython-input-61-5f56a3948390>\n",
    "Function: get_cross_zone_distances at line 4\n",
    "\n",
    "Line #      Hits         Time  Per Hit   % Time  Line Contents\n",
    "==============================================================\n",
    "     4                                           def get_cross_zone_distances(loc, locs):\n",
    "     5                                               \"\"\"Calculate distances between `loc` and all location in `locs` in the same zone.\"\"\"\n",
    "     6                                           \n",
    "     7      1134     605879.0    534.3     26.7      dphi_sqr = np.square(locs[\"lat\"] - loc[\"lat\"])\n",
    "     8      1134     590568.0    520.8     26.1      dlambda_sqr = np.square(locs[\"lon\"] - loc[\"lon\"])\n",
    "     9      1134    1069099.0    942.8     47.2      return R * R * (dphi_sqr + 0.5 * (1 + np.cos(loc.lat * PI_90)) * dlambda_sqr) * PI_180\n",
    "\n",
    "Total time: 10.8859 s\n",
    "File: <ipython-input-61-5f56a3948390>\n",
    "Function: get_cross_zone_neighbors at line 12\n",
    "\n",
    "Line #      Hits         Time  Per Hit   % Time  Line Contents\n",
    "==============================================================\n",
    "    12                                           def get_cross_zone_neighbors(loc, locs, thr):\n",
    "    13                                               \"\"\"Calculate neighbors of `loc` in the same zone.\"\"\"\n",
    "    14                                           \n",
    "    15      1112       2277.0      2.0      0.0      updated_zones = []\n",
    "    16      1112     778142.0    699.8      7.1      border_status = loc[[\"N\", \"S\", \"E\", \"W\"]]\n",
    "    17      1112     391413.0    352.0      3.6      border_list = border_status[border_status!=0].index.tolist()\n",
    "    18      1112      69724.0     62.7      0.6      neigboring_zones = get_neighboring_zones(loc.zone_number, loc.zone_letter, border_list)\n",
    "    19                                           \n",
    "    20      1112       2013.0      1.8      0.0      neighbors = []\n",
    "    21                                           \n",
    "    22      2246       4316.0      1.9      0.0      for (zn, zl), borders in neigboring_zones.items():\n",
    "    23      1134    1507871.0   1329.7     13.9          zone_mask = (locs.zone_number==zn) & (locs.zone_letter==zl)\n",
    "    24      1134     311284.0    274.5      2.9          border_mask = locs.border != 0\n",
    "    25      1134    1946836.0   1716.8     17.9          candidates = locs[zone_mask & border_mask & (locs.component==-1)]\n",
    "    26                                           \n",
    "    27      1134    2279104.0   2009.8     20.9          dist = get_cross_zone_distances(loc, candidates)\n",
    "    28      1134    1503922.0   1326.2     13.8          zone_neighbors = candidates[dist <= thr * thr]\n",
    "    29      1134       2824.0      2.5      0.0          neighbors.append(zone_neighbors)\n",
    "    30                                           \n",
    "    31      1134       9486.0      8.4      0.1          if not zone_neighbors.empty:    \n",
    "    32        41         82.0      2.0      0.0              updated_zones.append((zn, zl))\n",
    "    33                                           \n",
    "    34      1112    2076631.0   1867.5     19.1      return pd.concat(neighbors).index, updated_zones\n",
    "```"
   ]
  },
  {
   "cell_type": "markdown",
   "metadata": {},
   "source": [
    "Next: we know, that we update `component` column only between growth iterations. Hence, we can remove all the masks with `locs.component==-1` and calculate it once per iteration."
   ]
  },
  {
   "cell_type": "code",
   "execution_count": 72,
   "metadata": {},
   "outputs": [],
   "source": [
    "def get_in_zone_distances(loc, locs):\n",
    "    \"\"\"Calculate distances between `loc` and all location in `locs` in the same zone.\"\"\"\n",
    "    return np.square(locs[[\"easting\", \"northing\"]] - loc[[\"easting\", \"northing\"]]).sum(axis=1)\n",
    "\n",
    "\n",
    "def get_in_zone_neighbors_kdtree(loc, tree, thr):\n",
    "    \"\"\"Calculate neighbors of `loc` in the same zone.\"\"\"\n",
    "\n",
    "    tree_elements, tree = tree\n",
    "    neighbors = tree.query_ball_point(loc[[\"easting\", \"northing\"]], THR)\n",
    "\n",
    "    return tree_elements[neighbors]\n",
    "\n",
    "\n",
    "def get_cross_zone_distances(loc, locs):\n",
    "    \"\"\"Calculate distances between `loc` and all location in `locs` in the same zone.\"\"\"\n",
    "\n",
    "    dphi_sqr = np.square(locs[\"lat\"] - loc[\"lat\"])\n",
    "    dlambda_sqr = np.square(locs[\"lon\"] - loc[\"lon\"])\n",
    "    return R * R * (dphi_sqr + 0.5 * (1 + np.cos(loc.lat * PI_90)) * dlambda_sqr) * PI_180\n",
    "\n",
    "\n",
    "def get_cross_zone_neighbors(loc, locs, thr):\n",
    "    \"\"\"Calculate neighbors of `loc` in the same zone.\"\"\"\n",
    "\n",
    "    updated_zones = []\n",
    "    border_status = loc[[\"N\", \"S\", \"E\", \"W\"]]\n",
    "    border_list = border_status[border_status!=0].index.tolist()\n",
    "    neigboring_zones = get_neighboring_zones(loc.zone_number, loc.zone_letter, border_list)\n",
    "\n",
    "    neighbors = pd.Index([])\n",
    "\n",
    "    for (zn, zl), borders in neigboring_zones.items():\n",
    "        zone_mask = (locs.zone_number==zn) & (locs.zone_letter==zl)\n",
    "        border_mask = locs.border != 0\n",
    "        candidates = locs[zone_mask & border_mask]\n",
    "\n",
    "        dist = get_cross_zone_distances(loc, candidates)\n",
    "        zone_neighbors = candidates[dist <= thr * thr]\n",
    "        neighbors.union(zone_neighbors.index)\n",
    "\n",
    "        if not zone_neighbors.empty:    \n",
    "            updated_zones.append((zn, zl))\n",
    "\n",
    "    return neighbors, updated_zones\n",
    "\n",
    "\n",
    "class ConnectedComponentV2(ConnectedComponent):\n",
    "    \"\"\"Connected component entity. New elements can be added, and component can check if it's finished.\"\"\"\n",
    "\n",
    "    def grow(self, locs=None, kdtrees=None):\n",
    "        \"\"\"Grow this component by elements from `locs`.\"\"\"\n",
    "\n",
    "        subset = self.members.difference(self.visited)\n",
    "        locs = locs if locs is not None else self.all_locations\n",
    "        current_locs = self.all_locations.loc[subset]\n",
    "        valid_locs = locs[locs.component!=-1]\n",
    "        all_updated_zones = set()\n",
    "\n",
    "        for element in subset:\n",
    "            current_loc = current_locs.loc[element]\n",
    "            zn, zl = current_loc.zone_number, current_loc.zone_letter\n",
    "\n",
    "            if (kdtrees is not None):\n",
    "                kdtree = kdtrees[(zn, zl)]\n",
    "                neighbors = get_in_zone_neighbors_kdtree(current_loc, kdtree, self.thr)\n",
    "            else:\n",
    "                neighbors = get_in_zone_neighbors(current_loc, valid_locs, self.thr)\n",
    "\n",
    "            if current_loc.border:\n",
    "                cross_zone_neighbors, updated_zones = get_cross_zone_neighbors(current_loc, valid_locs, self.thr)\n",
    "                neighbors = neighbors.union(cross_zone_neighbors)\n",
    "                all_updated_zones.update(updated_zones)\n",
    "\n",
    "            self.members.update(neighbors)\n",
    "            self.visited.add(element)\n",
    "        return all_updated_zones\n",
    "    \n",
    "def run_components_v2(locs, thr, kdtrees):\n",
    "    \"\"\"Wrapper for profiling.\"\"\"\n",
    "\n",
    "    THR = thr\n",
    "    locs[\"component\"] = -1\n",
    "    current_cid = -1\n",
    "    components = {}\n",
    "\n",
    "    while (locs.component==-1).sum()!=0:\n",
    "        current_cid += 1\n",
    "        zones_to_update = set()\n",
    "        seed = locs[locs.component==-1].sample(1).index[0]\n",
    "\n",
    "        zn, zl = locs.loc[seed, [\"zone_number\", \"zone_letter\"]]\n",
    "        zone_mask = (locs.zone_number==zn) & (locs.zone_letter==zl)\n",
    "\n",
    "        component = ConnectedComponentV2(current_cid, locs, THR)\n",
    "        component.add(seed)\n",
    "        locs.loc[seed, \"component\"] = current_cid\n",
    "\n",
    "        while not component.is_full():\n",
    "            component_mask = locs.component==-1\n",
    "\n",
    "            if not locs.loc[zone_mask & component_mask].empty:\n",
    "                kdtrees[(zn, zl)] = [locs.loc[zone_mask & component_mask].index,\n",
    "                                     cKDTree(locs.loc[zone_mask & component_mask,\n",
    "                                                      [\"easting\", \"northing\"]].values)]\n",
    "\n",
    "                for (lzn, lzl) in zones_to_update:\n",
    "                    local_zone_mask = (locs.zone_number==lzn) & (locs.zone_letter==lzl)\n",
    "                    zone_tree = cKDTree(locs.loc[local_zone_mask & component_mask,\n",
    "                                                 [\"easting\", \"northing\"]].values)\n",
    "                    kdtrees[(lzn, lzl)] = [locs.loc[local_zone_mask & component_mask].index, zone_tree]\n",
    "\n",
    "                zones_to_update = component.grow(kdtrees=kdtrees)\n",
    "            else:\n",
    "                component.grow(locs=locs)\n",
    "            locs.loc[component.elements, \"component\"] = current_cid\n",
    "\n",
    "        components[component.cid] = component.elements\n",
    "    return components"
   ]
  },
  {
   "cell_type": "code",
   "execution_count": 73,
   "metadata": {},
   "outputs": [],
   "source": [
    "%lprun -f get_in_zone_neighbors_kdtree -f get_cross_zone_neighbors -f get_cross_zone_distances run_components_v2(locs, THR, kdtrees)"
   ]
  },
  {
   "cell_type": "code",
   "execution_count": 74,
   "metadata": {},
   "outputs": [
    {
     "name": "stderr",
     "output_type": "stream",
     "text": [
      "100%|██████████| 3/3 [00:00<00:00, 15.22it/s]\n"
     ]
    }
   ],
   "source": [
    "zone_grp = locs.groupby([\"zone_number\", \"zone_letter\"])\n",
    "\n",
    "kdtrees = {}\n",
    "\n",
    "for zone, zone_locations in tqdm.tqdm(zone_grp, total=len(zone_grp.groups)):\n",
    "    zn, zl = zone\n",
    "    zone_mask = (locations_utm.zone_number==zn) & (locations_utm.zone_letter==zl)\n",
    "    tree = cKDTree(locations_utm.loc[zone_mask, [\"easting\", \"northing\"]].values)\n",
    "    kdtrees[zone] = [locations_utm.loc[zone_mask].index, tree]"
   ]
  },
  {
   "cell_type": "code",
   "execution_count": 75,
   "metadata": {},
   "outputs": [
    {
     "name": "stdout",
     "output_type": "stream",
     "text": [
      "CPU times: user 18.1 s, sys: 8.19 ms, total: 18.1 s\n",
      "Wall time: 18 s\n"
     ]
    }
   ],
   "source": [
    "%%time\n",
    "\n",
    "THR = 10000\n",
    "locs[\"component\"] = -1\n",
    "current_cid = -1\n",
    "components = {}\n",
    "\n",
    "while (locs.component==-1).sum()!=0:\n",
    "    current_cid += 1\n",
    "    zones_to_update = set()\n",
    "    seed = locs[locs.component==-1].sample(1).index[0]\n",
    "\n",
    "    zn, zl = locs.loc[seed, [\"zone_number\", \"zone_letter\"]]\n",
    "    zone_mask = (locs.zone_number==zn) & (locs.zone_letter==zl)\n",
    "\n",
    "    component = ConnectedComponentV2(current_cid, locs, THR)\n",
    "    component.add(seed)\n",
    "    locs.loc[seed, \"component\"] = current_cid\n",
    "\n",
    "    while not component.is_full():\n",
    "        component_mask = locs.component==-1\n",
    "\n",
    "        if not locs.loc[zone_mask & component_mask].empty:\n",
    "            kdtrees[(zn, zl)] = [locs.loc[zone_mask & component_mask].index,\n",
    "                                 cKDTree(locs.loc[zone_mask & component_mask,\n",
    "                                                  [\"easting\", \"northing\"]].values)]\n",
    "\n",
    "            for (lzn, lzl) in zones_to_update:\n",
    "                local_zone_mask = (locs.zone_number==lzn) & (locs.zone_letter==lzl)\n",
    "                zone_tree = cKDTree(locs.loc[local_zone_mask & component_mask,\n",
    "                                             [\"easting\", \"northing\"]].values)\n",
    "                kdtrees[(lzn, lzl)] = [locs.loc[local_zone_mask & component_mask].index, zone_tree]\n",
    "\n",
    "            zones_to_update = component.grow(kdtrees=kdtrees)\n",
    "        else:\n",
    "            component.grow(locs=locs)\n",
    "        locs.loc[component.elements, \"component\"] = current_cid\n",
    "\n",
    "    components[component.cid] = component.elements"
   ]
  },
  {
   "cell_type": "markdown",
   "metadata": {},
   "source": [
    "Ok, we get `18s` vs. `33-35s`. This is only with obvious non-algorithmic optimizations."
   ]
  },
  {
   "cell_type": "markdown",
   "metadata": {},
   "source": [
    "# Idea: using `kdtree.query_pairs`"
   ]
  },
  {
   "cell_type": "code",
   "execution_count": 30,
   "metadata": {},
   "outputs": [
    {
     "name": "stderr",
     "output_type": "stream",
     "text": [
      "100%|██████████| 3/3 [00:00<00:00, 11.46it/s]\n"
     ]
    }
   ],
   "source": [
    "zone_grp = locs.groupby([\"zone_number\", \"zone_letter\"])\n",
    "\n",
    "kdtrees = {}\n",
    "\n",
    "for zone, zone_locations in tqdm.tqdm(zone_grp, total=len(zone_grp.groups)):\n",
    "    zn, zl = zone\n",
    "    zone_mask = (locations_utm.zone_number==zn) & (locations_utm.zone_letter==zl)\n",
    "    tree = cKDTree(locations_utm.loc[zone_mask, [\"easting\", \"northing\"]].values)\n",
    "    kdtrees[zone] = [locations_utm.loc[zone_mask].index, tree]"
   ]
  },
  {
   "cell_type": "code",
   "execution_count": 67,
   "metadata": {},
   "outputs": [
    {
     "name": "stdout",
     "output_type": "stream",
     "text": [
      "CPU times: user 14.5 s, sys: 364 ms, total: 14.9 s\n",
      "Wall time: 14.8 s\n"
     ]
    },
    {
     "data": {
      "text/plain": [
       "[(0, 1),\n",
       " (0, 6),\n",
       " (0, 7),\n",
       " (0, 9),\n",
       " (0, 11),\n",
       " (0, 15),\n",
       " (0, 16),\n",
       " (0, 17),\n",
       " (0, 19),\n",
       " (0, 21)]"
      ]
     },
     "execution_count": 67,
     "metadata": {},
     "output_type": "execute_result"
    }
   ],
   "source": [
    "%time sorted(kdtrees[(35, \"S\")][1].query_pairs(10000))[:10]"
   ]
  },
  {
   "cell_type": "markdown",
   "metadata": {},
   "source": [
    "This one is a bit memory hungry (as we need to create all the paris for the zone at start). We now need to smash these paris into (in-zone) components."
   ]
  },
  {
   "cell_type": "code",
   "execution_count": 32,
   "metadata": {},
   "outputs": [],
   "source": [
    "sample_zone_pairs = sorted(kdtrees[(35, \"S\")][1].query_pairs(10000))"
   ]
  },
  {
   "cell_type": "code",
   "execution_count": 33,
   "metadata": {},
   "outputs": [
    {
     "data": {
      "text/plain": [
       "[(0, 1),\n",
       " (0, 6),\n",
       " (0, 7),\n",
       " (0, 9),\n",
       " (0, 11),\n",
       " (0, 15),\n",
       " (0, 16),\n",
       " (0, 17),\n",
       " (0, 19),\n",
       " (0, 21)]"
      ]
     },
     "execution_count": 33,
     "metadata": {},
     "output_type": "execute_result"
    }
   ],
   "source": [
    "sample_zone_pairs[:10]"
   ]
  },
  {
   "cell_type": "code",
   "execution_count": 35,
   "metadata": {},
   "outputs": [
    {
     "data": {
      "text/plain": [
       "5590965"
      ]
     },
     "execution_count": 35,
     "metadata": {},
     "output_type": "execute_result"
    }
   ],
   "source": [
    "len(sample_zone_pairs)"
   ]
  },
  {
   "cell_type": "markdown",
   "metadata": {},
   "source": [
    "We now need to restructure this list of tuples to get components."
   ]
  },
  {
   "cell_type": "code",
   "execution_count": 39,
   "metadata": {},
   "outputs": [],
   "source": [
    "from collections import defaultdict"
   ]
  },
  {
   "cell_type": "code",
   "execution_count": 40,
   "metadata": {},
   "outputs": [],
   "source": [
    "neighbors = defaultdict(list)\n",
    "\n",
    "for loc, neighbor in sample_zone_pairs:\n",
    "    neighbors[loc].append(neighbor)"
   ]
  },
  {
   "cell_type": "markdown",
   "metadata": {},
   "source": [
    "This restructuring is very fast, so we can neglect it compared to getting pairs."
   ]
  },
  {
   "cell_type": "code",
   "execution_count": 44,
   "metadata": {},
   "outputs": [],
   "source": [
    "def get_neighbors(locations, zone, thr, tree=None, mask=None):\n",
    "    \"\"\"Calculate dictionary of neighbors.\"\"\"\n",
    "\n",
    "    zn, zl = zone\n",
    "    zone_mask = (locations.zone_number==zn) & (locations.zone_letter==zl)\n",
    "\n",
    "    if mask is not None:\n",
    "        zone_mask &= mask\n",
    "    tree = tree or cKDTree(locations.loc[zone_mask, [\"easting\", \"northing\"]].values)\n",
    "    pairs = sorted(tree.query_pairs(thr))\n",
    "\n",
    "    neighbors = defaultdict(list)\n",
    "\n",
    "    for loc, neighbor in pairs:\n",
    "        neighbors[loc].append(neighbor)\n",
    "    return neighbors"
   ]
  },
  {
   "cell_type": "code",
   "execution_count": 47,
   "metadata": {},
   "outputs": [
    {
     "name": "stdout",
     "output_type": "stream",
     "text": [
      "CPU times: user 13.8 s, sys: 304 ms, total: 14.1 s\n",
      "Wall time: 14.1 s\n"
     ]
    }
   ],
   "source": [
    "%time n = get_neighbors(locations_utm, (35, \"S\"), 10000)"
   ]
  },
  {
   "cell_type": "markdown",
   "metadata": {},
   "source": [
    "# Crash test: zones with problematic components"
   ]
  },
  {
   "cell_type": "markdown",
   "metadata": {},
   "source": [
    "## 52T & 53T"
   ]
  },
  {
   "cell_type": "code",
   "execution_count": 32,
   "metadata": {},
   "outputs": [],
   "source": [
    "zone_52T = (locations_utm.zone_letter==\"T\") & (locations_utm.zone_number==52)\n",
    "zone_53T = (locations_utm.zone_letter==\"T\") & (locations_utm.zone_number==53)\n",
    "\n",
    "locations_5253 = locations_utm[zone_52T | zone_53T]\n",
    "locations_5253 = gpd.GeoDataFrame(locations_5253,\n",
    "                                  geometry=gpd.points_from_xy(locations_5253[\"lon\"],\n",
    "                                                              locations_5253[\"lat\"]),\n",
    "                                  crs=\"EPSG:4326\")"
   ]
  },
  {
   "cell_type": "code",
   "execution_count": 33,
   "metadata": {},
   "outputs": [],
   "source": [
    "locs = locations_5253.copy()\n",
    "locs[\"component\"] = -1\n",
    "locs[\"cell_x\"] = (locs[\"easting\"] / THR).astype(int)\n",
    "locs[\"cell_y\"] = (locs[\"northing\"] / THR).astype(int)"
   ]
  },
  {
   "cell_type": "code",
   "execution_count": 34,
   "metadata": {},
   "outputs": [
    {
     "data": {
      "text/html": [
       "<div>\n",
       "<style scoped>\n",
       "    .dataframe tbody tr th:only-of-type {\n",
       "        vertical-align: middle;\n",
       "    }\n",
       "\n",
       "    .dataframe tbody tr th {\n",
       "        vertical-align: top;\n",
       "    }\n",
       "\n",
       "    .dataframe thead th {\n",
       "        text-align: right;\n",
       "    }\n",
       "</style>\n",
       "<table border=\"1\" class=\"dataframe\">\n",
       "  <thead>\n",
       "    <tr style=\"text-align: right;\">\n",
       "      <th></th>\n",
       "      <th>easting</th>\n",
       "      <th>northing</th>\n",
       "      <th>zone_number</th>\n",
       "      <th>zone_letter</th>\n",
       "      <th>lat</th>\n",
       "      <th>lon</th>\n",
       "      <th>W</th>\n",
       "      <th>E</th>\n",
       "      <th>S</th>\n",
       "      <th>N</th>\n",
       "      <th>component</th>\n",
       "      <th>geometry</th>\n",
       "      <th>cell_x</th>\n",
       "      <th>cell_y</th>\n",
       "    </tr>\n",
       "  </thead>\n",
       "  <tbody>\n",
       "    <tr>\n",
       "      <th>6145</th>\n",
       "      <td>330531.323277</td>\n",
       "      <td>4.734414e+06</td>\n",
       "      <td>53</td>\n",
       "      <td>T</td>\n",
       "      <td>42.74353</td>\n",
       "      <td>132.92947</td>\n",
       "      <td>0</td>\n",
       "      <td>0</td>\n",
       "      <td>0</td>\n",
       "      <td>0</td>\n",
       "      <td>-1</td>\n",
       "      <td>POINT (132.92947 42.74353)</td>\n",
       "      <td>33</td>\n",
       "      <td>473</td>\n",
       "    </tr>\n",
       "    <tr>\n",
       "      <th>19303</th>\n",
       "      <td>331583.034436</td>\n",
       "      <td>4.738009e+06</td>\n",
       "      <td>53</td>\n",
       "      <td>T</td>\n",
       "      <td>42.77612</td>\n",
       "      <td>132.94124</td>\n",
       "      <td>0</td>\n",
       "      <td>0</td>\n",
       "      <td>0</td>\n",
       "      <td>0</td>\n",
       "      <td>-1</td>\n",
       "      <td>POINT (132.94124 42.77612)</td>\n",
       "      <td>33</td>\n",
       "      <td>473</td>\n",
       "    </tr>\n",
       "    <tr>\n",
       "      <th>28814</th>\n",
       "      <td>734152.039734</td>\n",
       "      <td>4.775831e+06</td>\n",
       "      <td>52</td>\n",
       "      <td>T</td>\n",
       "      <td>43.09903</td>\n",
       "      <td>131.87728</td>\n",
       "      <td>0</td>\n",
       "      <td>1</td>\n",
       "      <td>0</td>\n",
       "      <td>0</td>\n",
       "      <td>-1</td>\n",
       "      <td>POINT (131.87728 43.09903)</td>\n",
       "      <td>73</td>\n",
       "      <td>477</td>\n",
       "    </tr>\n",
       "    <tr>\n",
       "      <th>35082</th>\n",
       "      <td>737674.108755</td>\n",
       "      <td>4.776778e+06</td>\n",
       "      <td>52</td>\n",
       "      <td>T</td>\n",
       "      <td>43.10645</td>\n",
       "      <td>131.92091</td>\n",
       "      <td>0</td>\n",
       "      <td>1</td>\n",
       "      <td>0</td>\n",
       "      <td>0</td>\n",
       "      <td>-1</td>\n",
       "      <td>POINT (131.92091 43.10645)</td>\n",
       "      <td>73</td>\n",
       "      <td>477</td>\n",
       "    </tr>\n",
       "    <tr>\n",
       "      <th>35083</th>\n",
       "      <td>734220.217182</td>\n",
       "      <td>4.774795e+06</td>\n",
       "      <td>52</td>\n",
       "      <td>T</td>\n",
       "      <td>43.08969</td>\n",
       "      <td>131.87768</td>\n",
       "      <td>0</td>\n",
       "      <td>1</td>\n",
       "      <td>0</td>\n",
       "      <td>0</td>\n",
       "      <td>-1</td>\n",
       "      <td>POINT (131.87768 43.08969)</td>\n",
       "      <td>73</td>\n",
       "      <td>477</td>\n",
       "    </tr>\n",
       "  </tbody>\n",
       "</table>\n",
       "</div>"
      ],
      "text/plain": [
       "             easting      northing  zone_number zone_letter       lat  \\\n",
       "6145   330531.323277  4.734414e+06           53           T  42.74353   \n",
       "19303  331583.034436  4.738009e+06           53           T  42.77612   \n",
       "28814  734152.039734  4.775831e+06           52           T  43.09903   \n",
       "35082  737674.108755  4.776778e+06           52           T  43.10645   \n",
       "35083  734220.217182  4.774795e+06           52           T  43.08969   \n",
       "\n",
       "             lon  W  E  S  N  component                    geometry  cell_x  \\\n",
       "6145   132.92947  0  0  0  0         -1  POINT (132.92947 42.74353)      33   \n",
       "19303  132.94124  0  0  0  0         -1  POINT (132.94124 42.77612)      33   \n",
       "28814  131.87728  0  1  0  0         -1  POINT (131.87728 43.09903)      73   \n",
       "35082  131.92091  0  1  0  0         -1  POINT (131.92091 43.10645)      73   \n",
       "35083  131.87768  0  1  0  0         -1  POINT (131.87768 43.08969)      73   \n",
       "\n",
       "       cell_y  \n",
       "6145      473  \n",
       "19303     473  \n",
       "28814     477  \n",
       "35082     477  \n",
       "35083     477  "
      ]
     },
     "execution_count": 34,
     "metadata": {},
     "output_type": "execute_result"
    }
   ],
   "source": [
    "locs.head()"
   ]
  },
  {
   "cell_type": "code",
   "execution_count": 35,
   "metadata": {},
   "outputs": [],
   "source": [
    "locs[\"border\"] = (locs[[\"N\", \"E\", \"S\", \"W\"]].sum(axis=1)!=0).astype(int)"
   ]
  },
  {
   "cell_type": "code",
   "execution_count": 41,
   "metadata": {},
   "outputs": [
    {
     "name": "stderr",
     "output_type": "stream",
     "text": [
      "100%|██████████| 2/2 [00:00<00:00, 11.71it/s]\n"
     ]
    }
   ],
   "source": [
    "zone_grp = locs.groupby([\"zone_number\", \"zone_letter\"])\n",
    "\n",
    "kdtrees = {}\n",
    "\n",
    "for zone, zone_locations in tqdm.tqdm(zone_grp, total=len(zone_grp.groups)):\n",
    "    zn, zl = zone\n",
    "    zone_mask = (locations_utm.zone_number==zn) & (locations_utm.zone_letter==zl)\n",
    "    tree = cKDTree(locations_utm.loc[zone_mask, [\"easting\", \"northing\"]].values)\n",
    "    kdtrees[zone] = [locations_utm.loc[zone_mask].index, tree]"
   ]
  },
  {
   "cell_type": "code",
   "execution_count": 47,
   "metadata": {},
   "outputs": [
    {
     "name": "stdout",
     "output_type": "stream",
     "text": [
      "CPU times: user 45.6 s, sys: 580 ms, total: 46.2 s\n",
      "Wall time: 46.1 s\n"
     ]
    }
   ],
   "source": [
    "%time n = get_neighbors(locations_utm, (52, \"T\"), 10000)"
   ]
  },
  {
   "cell_type": "code",
   "execution_count": 48,
   "metadata": {},
   "outputs": [
    {
     "name": "stdout",
     "output_type": "stream",
     "text": [
      "CPU times: user 9.59 s, sys: 31.8 ms, total: 9.62 s\n",
      "Wall time: 9.6 s\n"
     ]
    }
   ],
   "source": [
    "%time n = get_neighbors(locations_utm, (53, \"T\"), 10000)"
   ]
  },
  {
   "cell_type": "markdown",
   "metadata": {},
   "source": [
    "In previous implementation, this component took 7 minutes to calculate. Now it seems we can do better, as getting all the neighbors takes only `55s`. We only need an efficient components calculation from the neighbors dictionary and between-zone components merging."
   ]
  },
  {
   "cell_type": "code",
   "execution_count": 49,
   "metadata": {},
   "outputs": [
    {
     "data": {
      "text/plain": [
       "22"
      ]
     },
     "execution_count": 49,
     "metadata": {},
     "output_type": "execute_result"
    }
   ],
   "source": [
    "import gc\n",
    "\n",
    "del n\n",
    "gc.collect()"
   ]
  },
  {
   "cell_type": "markdown",
   "metadata": {},
   "source": [
    "## 50R/S & 51R/S"
   ]
  },
  {
   "cell_type": "code",
   "execution_count": 50,
   "metadata": {},
   "outputs": [],
   "source": [
    "zone_50R = (locations_utm.zone_letter==\"R\") & (locations_utm.zone_number==50)\n",
    "zone_50S = (locations_utm.zone_letter==\"S\") & (locations_utm.zone_number==50)\n",
    "zone_51R = (locations_utm.zone_letter==\"R\") & (locations_utm.zone_number==51)\n",
    "zone_51S = (locations_utm.zone_letter==\"S\") & (locations_utm.zone_number==51)\n",
    "\n",
    "locations_5051 = locations_utm[zone_50R | zone_50S | zone_51R | zone_51S]\n",
    "locations_5051 = gpd.GeoDataFrame(locations_5051,\n",
    "                                  geometry=gpd.points_from_xy(locations_5051[\"lon\"],\n",
    "                                                              locations_5051[\"lat\"]),\n",
    "                                  crs=\"EPSG:4326\")"
   ]
  },
  {
   "cell_type": "code",
   "execution_count": 51,
   "metadata": {},
   "outputs": [],
   "source": [
    "locs = locations_5051.copy()\n",
    "locs[\"component\"] = -1\n",
    "locs[\"cell_x\"] = (locs[\"easting\"] / THR).astype(int)\n",
    "locs[\"cell_y\"] = (locs[\"northing\"] / THR).astype(int)"
   ]
  },
  {
   "cell_type": "code",
   "execution_count": 52,
   "metadata": {},
   "outputs": [
    {
     "data": {
      "text/html": [
       "<div>\n",
       "<style scoped>\n",
       "    .dataframe tbody tr th:only-of-type {\n",
       "        vertical-align: middle;\n",
       "    }\n",
       "\n",
       "    .dataframe tbody tr th {\n",
       "        vertical-align: top;\n",
       "    }\n",
       "\n",
       "    .dataframe thead th {\n",
       "        text-align: right;\n",
       "    }\n",
       "</style>\n",
       "<table border=\"1\" class=\"dataframe\">\n",
       "  <thead>\n",
       "    <tr style=\"text-align: right;\">\n",
       "      <th></th>\n",
       "      <th>easting</th>\n",
       "      <th>northing</th>\n",
       "      <th>zone_number</th>\n",
       "      <th>zone_letter</th>\n",
       "      <th>lat</th>\n",
       "      <th>lon</th>\n",
       "      <th>W</th>\n",
       "      <th>E</th>\n",
       "      <th>S</th>\n",
       "      <th>N</th>\n",
       "      <th>component</th>\n",
       "      <th>geometry</th>\n",
       "      <th>cell_x</th>\n",
       "      <th>cell_y</th>\n",
       "    </tr>\n",
       "  </thead>\n",
       "  <tbody>\n",
       "    <tr>\n",
       "      <th>1678</th>\n",
       "      <td>351761.043086</td>\n",
       "      <td>3.598439e+06</td>\n",
       "      <td>51</td>\n",
       "      <td>S</td>\n",
       "      <td>32.51337</td>\n",
       "      <td>121.42182</td>\n",
       "      <td>0</td>\n",
       "      <td>0</td>\n",
       "      <td>0</td>\n",
       "      <td>0</td>\n",
       "      <td>-1</td>\n",
       "      <td>POINT (121.42182 32.51337)</td>\n",
       "      <td>35</td>\n",
       "      <td>359</td>\n",
       "    </tr>\n",
       "    <tr>\n",
       "      <th>1679</th>\n",
       "      <td>336357.225839</td>\n",
       "      <td>3.396546e+06</td>\n",
       "      <td>51</td>\n",
       "      <td>R</td>\n",
       "      <td>30.69048</td>\n",
       "      <td>121.29147</td>\n",
       "      <td>0</td>\n",
       "      <td>0</td>\n",
       "      <td>0</td>\n",
       "      <td>0</td>\n",
       "      <td>-1</td>\n",
       "      <td>POINT (121.29147 30.69048)</td>\n",
       "      <td>33</td>\n",
       "      <td>339</td>\n",
       "    </tr>\n",
       "    <tr>\n",
       "      <th>1680</th>\n",
       "      <td>378783.788119</td>\n",
       "      <td>3.317452e+06</td>\n",
       "      <td>51</td>\n",
       "      <td>R</td>\n",
       "      <td>29.98197</td>\n",
       "      <td>121.74347</td>\n",
       "      <td>0</td>\n",
       "      <td>0</td>\n",
       "      <td>0</td>\n",
       "      <td>0</td>\n",
       "      <td>-1</td>\n",
       "      <td>POINT (121.74347 29.98197)</td>\n",
       "      <td>37</td>\n",
       "      <td>331</td>\n",
       "    </tr>\n",
       "    <tr>\n",
       "      <th>1681</th>\n",
       "      <td>352053.701584</td>\n",
       "      <td>3.405006e+06</td>\n",
       "      <td>51</td>\n",
       "      <td>R</td>\n",
       "      <td>30.76885</td>\n",
       "      <td>121.45408</td>\n",
       "      <td>0</td>\n",
       "      <td>0</td>\n",
       "      <td>0</td>\n",
       "      <td>0</td>\n",
       "      <td>-1</td>\n",
       "      <td>POINT (121.45408 30.76885)</td>\n",
       "      <td>35</td>\n",
       "      <td>340</td>\n",
       "    </tr>\n",
       "    <tr>\n",
       "      <th>1682</th>\n",
       "      <td>379270.911747</td>\n",
       "      <td>3.316732e+06</td>\n",
       "      <td>51</td>\n",
       "      <td>R</td>\n",
       "      <td>29.97552</td>\n",
       "      <td>121.74860</td>\n",
       "      <td>0</td>\n",
       "      <td>0</td>\n",
       "      <td>0</td>\n",
       "      <td>0</td>\n",
       "      <td>-1</td>\n",
       "      <td>POINT (121.74860 29.97552)</td>\n",
       "      <td>37</td>\n",
       "      <td>331</td>\n",
       "    </tr>\n",
       "  </tbody>\n",
       "</table>\n",
       "</div>"
      ],
      "text/plain": [
       "            easting      northing  zone_number zone_letter       lat  \\\n",
       "1678  351761.043086  3.598439e+06           51           S  32.51337   \n",
       "1679  336357.225839  3.396546e+06           51           R  30.69048   \n",
       "1680  378783.788119  3.317452e+06           51           R  29.98197   \n",
       "1681  352053.701584  3.405006e+06           51           R  30.76885   \n",
       "1682  379270.911747  3.316732e+06           51           R  29.97552   \n",
       "\n",
       "            lon  W  E  S  N  component                    geometry  cell_x  \\\n",
       "1678  121.42182  0  0  0  0         -1  POINT (121.42182 32.51337)      35   \n",
       "1679  121.29147  0  0  0  0         -1  POINT (121.29147 30.69048)      33   \n",
       "1680  121.74347  0  0  0  0         -1  POINT (121.74347 29.98197)      37   \n",
       "1681  121.45408  0  0  0  0         -1  POINT (121.45408 30.76885)      35   \n",
       "1682  121.74860  0  0  0  0         -1  POINT (121.74860 29.97552)      37   \n",
       "\n",
       "      cell_y  \n",
       "1678     359  \n",
       "1679     339  \n",
       "1680     331  \n",
       "1681     340  \n",
       "1682     331  "
      ]
     },
     "execution_count": 52,
     "metadata": {},
     "output_type": "execute_result"
    }
   ],
   "source": [
    "locs.head()"
   ]
  },
  {
   "cell_type": "code",
   "execution_count": 53,
   "metadata": {},
   "outputs": [],
   "source": [
    "locs[\"border\"] = (locs[[\"N\", \"E\", \"S\", \"W\"]].sum(axis=1)!=0).astype(int)"
   ]
  },
  {
   "cell_type": "code",
   "execution_count": 54,
   "metadata": {},
   "outputs": [
    {
     "name": "stderr",
     "output_type": "stream",
     "text": [
      "100%|██████████| 4/4 [00:00<00:00,  8.25it/s]\n"
     ]
    }
   ],
   "source": [
    "zone_grp = locs.groupby([\"zone_number\", \"zone_letter\"])\n",
    "\n",
    "kdtrees = {}\n",
    "\n",
    "for zone, zone_locations in tqdm.tqdm(zone_grp, total=len(zone_grp.groups)):\n",
    "    zn, zl = zone\n",
    "    zone_mask = (locations_utm.zone_number==zn) & (locations_utm.zone_letter==zl)\n",
    "    tree = cKDTree(locations_utm.loc[zone_mask, [\"easting\", \"northing\"]].values)\n",
    "    kdtrees[zone] = [locations_utm.loc[zone_mask].index, tree]"
   ]
  },
  {
   "cell_type": "code",
   "execution_count": 55,
   "metadata": {},
   "outputs": [
    {
     "name": "stdout",
     "output_type": "stream",
     "text": [
      "CPU times: user 24.3 s, sys: 268 ms, total: 24.5 s\n",
      "Wall time: 24.5 s\n"
     ]
    }
   ],
   "source": [
    "%time n = get_neighbors(locations_utm, (50, \"R\"), 10000)"
   ]
  },
  {
   "cell_type": "code",
   "execution_count": 56,
   "metadata": {},
   "outputs": [
    {
     "data": {
      "text/plain": [
       "22"
      ]
     },
     "execution_count": 56,
     "metadata": {},
     "output_type": "execute_result"
    }
   ],
   "source": [
    "del n\n",
    "gc.collect()"
   ]
  },
  {
   "cell_type": "markdown",
   "metadata": {},
   "source": [
    "Here we crash on memory:"
   ]
  },
  {
   "cell_type": "code",
   "execution_count": null,
   "metadata": {},
   "outputs": [],
   "source": [
    "%time n = get_neighbors(locations_utm, (50, \"S\"), 10000)"
   ]
  },
  {
   "cell_type": "code",
   "execution_count": null,
   "metadata": {},
   "outputs": [],
   "source": [
    "del n\n",
    "gc.collect()"
   ]
  },
  {
   "cell_type": "code",
   "execution_count": null,
   "metadata": {},
   "outputs": [],
   "source": [
    "%time n = get_neighbors(locations_utm, (51, \"R\"), 10000)"
   ]
  },
  {
   "cell_type": "code",
   "execution_count": null,
   "metadata": {},
   "outputs": [],
   "source": [
    "del n\n",
    "gc.collect()"
   ]
  },
  {
   "cell_type": "code",
   "execution_count": null,
   "metadata": {},
   "outputs": [],
   "source": [
    "%time n = get_neighbors(locations_utm, (51, \"S\"), 10000)"
   ]
  },
  {
   "cell_type": "code",
   "execution_count": null,
   "metadata": {},
   "outputs": [],
   "source": [
    "del n\n",
    "gc.collect()"
   ]
  },
  {
   "cell_type": "markdown",
   "metadata": {},
   "source": [
    "Not sure if this will work, but may be interesting."
   ]
  },
  {
   "cell_type": "code",
   "execution_count": null,
   "metadata": {},
   "outputs": [],
   "source": []
  }
 ],
 "metadata": {
  "kernelspec": {
   "display_name": "Python 3",
   "language": "python",
   "name": "python3"
  },
  "language_info": {
   "codemirror_mode": {
    "name": "ipython",
    "version": 3
   },
   "file_extension": ".py",
   "mimetype": "text/x-python",
   "name": "python",
   "nbconvert_exporter": "python",
   "pygments_lexer": "ipython3",
   "version": "3.8.2"
  }
 },
 "nbformat": 4,
 "nbformat_minor": 4
}
