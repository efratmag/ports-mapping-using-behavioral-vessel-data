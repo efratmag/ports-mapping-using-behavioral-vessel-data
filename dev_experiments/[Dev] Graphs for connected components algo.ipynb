{
 "cells": [
  {
   "cell_type": "code",
   "execution_count": 1,
   "metadata": {},
   "outputs": [
    {
     "name": "stderr",
     "output_type": "stream",
     "text": [
      "\u001b[32m\u001b[1m Activating\u001b[22m\u001b[39m environment at `~/SWProj/Clients/Yandex/projects-2021/ww/ports-mapping-using-behavioral-vessel-data/dev_experiments/Project.toml`\n"
     ]
    }
   ],
   "source": [
    "# Preparing the environment: see Project.toml and Manifest.toml\n",
    "\n",
    "import Pkg\n",
    "\n",
    "Pkg.activate(\".\")\n",
    "Pkg.instantiate()"
   ]
  },
  {
   "cell_type": "code",
   "execution_count": 2,
   "metadata": {},
   "outputs": [
    {
     "name": "stderr",
     "output_type": "stream",
     "text": [
      "\u001b[32m\u001b[1m   Updating\u001b[22m\u001b[39m registry at `~/.julia/registries/General`\n"
     ]
    },
    {
     "name": "stdout",
     "output_type": "stream",
     "text": [
      "\u001b[?25l    "
     ]
    },
    {
     "name": "stderr",
     "output_type": "stream",
     "text": [
      "\u001b[32m\u001b[1m   Updating\u001b[22m\u001b[39m git-repo `https://github.com/JuliaRegistries/General.git`\n"
     ]
    },
    {
     "name": "stdout",
     "output_type": "stream",
     "text": [
      "\u001b[2K\u001b[?25h[1mFetching:\u001b[22m\u001b[39m [========================================>]  100.0 %[===========>                             ]  25.7 %51.3 %===============================>         ]  77.0 %"
     ]
    },
    {
     "name": "stderr",
     "output_type": "stream",
     "text": [
      "\u001b[32m\u001b[1m  Resolving\u001b[22m\u001b[39m package versions...\n",
      "\u001b[32m\u001b[1mNo Changes\u001b[22m\u001b[39m to `~/SWProj/Clients/Yandex/projects-2021/ww/ports-mapping-using-behavioral-vessel-data/dev_experiments/Project.toml`\n",
      "\u001b[32m\u001b[1mNo Changes\u001b[22m\u001b[39m to `~/SWProj/Clients/Yandex/projects-2021/ww/ports-mapping-using-behavioral-vessel-data/dev_experiments/Manifest.toml`\n",
      "\u001b[32m\u001b[1m  Resolving\u001b[22m\u001b[39m package versions...\n",
      "\u001b[32m\u001b[1mNo Changes\u001b[22m\u001b[39m to `~/SWProj/Clients/Yandex/projects-2021/ww/ports-mapping-using-behavioral-vessel-data/dev_experiments/Project.toml`\n",
      "\u001b[32m\u001b[1mNo Changes\u001b[22m\u001b[39m to `~/SWProj/Clients/Yandex/projects-2021/ww/ports-mapping-using-behavioral-vessel-data/dev_experiments/Manifest.toml`\n"
     ]
    }
   ],
   "source": [
    "Pkg.add(\"Luxor\")\n",
    "Pkg.add(\"Plots\")"
   ]
  },
  {
   "cell_type": "markdown",
   "metadata": {},
   "source": [
    "# Full haversine vs. approximation for border status"
   ]
  },
  {
   "cell_type": "code",
   "execution_count": 3,
   "metadata": {},
   "outputs": [
    {
     "data": {
      "text/plain": [
       "Plots.GRBackend()"
      ]
     },
     "execution_count": 3,
     "metadata": {},
     "output_type": "execute_result"
    }
   ],
   "source": [
    "using Plots\n",
    "gr()"
   ]
  },
  {
   "cell_type": "code",
   "execution_count": 4,
   "metadata": {},
   "outputs": [],
   "source": [
    "R₀ = 6378.1\n",
    "\n",
    "hav_lat(ϕ, δλ) = 2R₀ * asin(cos(ϕ * π / 180) * sin(δλ * π / 360))\n",
    "approx_lat(ϕ, δλ) = R₀ * cos(ϕ * π / 180) * δλ * π / 180\n",
    "error(ϕ, δλ) = 100 * abs(hav_lat(ϕ, δλ) - approx_lat(ϕ, δλ)) / hav_lat(ϕ, δλ)\n",
    "\n",
    "plot(size=(400, 400))\n",
    "\n",
    "plot!([ δλ -> error(ϕ, δλ) for ϕ in 0:20:84 ], 0, 6, \n",
    "    labels=permutedims([ \"$(ϕ)°\" for ϕ in 0:20:84 ]))\n",
    "\n",
    "plot!(legend=:topleft)\n",
    "plot!(xticks=(0:1:7, [ \"$(i)°\" for i in 0:1:7 ]))\n",
    "plot!(yticks=(0:0.01:0.04, [ \"$(i)%\" for i in 0:0.01:0.04 ]))\n",
    "plot!(xlabel=\"δλ, °\")\n",
    "plot!(ylabel=\"error, %\")\n",
    "plot!(title=\"Haversine vs. approximate distance along latitude line\",\n",
    "    titlefontsize=8)\n",
    "savefig(\"border-distance-error.png\")"
   ]
  },
  {
   "cell_type": "markdown",
   "metadata": {},
   "source": [
    "# Illustrations"
   ]
  },
  {
   "cell_type": "code",
   "execution_count": 15,
   "metadata": {},
   "outputs": [],
   "source": [
    "using Luxor\n",
    "using Luxor: text, arrow"
   ]
  },
  {
   "cell_type": "code",
   "execution_count": 12,
   "metadata": {},
   "outputs": [
    {
     "data": {
      "image/png": "[encoded data removed]",
      "text/plain": []
     },
     "execution_count": 12,
     "metadata": {},
     "output_type": "execute_result"
    }
   ],
   "source": [
    "@png begin\n",
    "    setopacity(0.7)    \n",
    "\n",
    "    # Zone of interest\n",
    "    setcolor(sethue(\"seagreen4\")..., 0.7)\n",
    "    box(Point(0, 0), 100, 100, :fillpreserve)\n",
    "    setcolor(\"white\")\n",
    "    strokepath()\n",
    "\n",
    "    # Neighboring zones: north\n",
    "    setcolor(sethue(\"steelblue4\")..., 0.7)\n",
    "    box(Point(0, -100), 100, 100, :fillpreserve)\n",
    "    setcolor(\"white\")\n",
    "    strokepath()\n",
    "    \n",
    "    # Neighboring zones: south\n",
    "    setcolor(sethue(\"steelblue4\")..., 0.7)\n",
    "    box(Point(0, 100), 100, 100, :fillpreserve)\n",
    "    setcolor(\"white\")\n",
    "    strokepath()\n",
    "\n",
    "    # Neighboring zones: east\n",
    "    setcolor(sethue(\"steelblue4\")..., 0.7)\n",
    "    box(Point(100, 0), 100, 100, :fillpreserve)\n",
    "    setcolor(\"white\")\n",
    "    strokepath()\n",
    "\n",
    "    # Neighboring zones: west\n",
    "    setcolor(sethue(\"steelblue4\")..., 0.7)\n",
    "    box(Point(-100, 0), 100, 100, :fillpreserve)\n",
    "    setcolor(\"white\")\n",
    "    strokepath()\n",
    "\n",
    "    # Neighboring zones: north-west\n",
    "    setcolor(sethue(\"steelblue4\")..., 0.7)\n",
    "    box(Point(-100, -100), 100, 100, :fillpreserve)\n",
    "    setcolor(\"white\")\n",
    "    strokepath()\n",
    "\n",
    "    # Neighboring zones: north-east\n",
    "    setcolor(sethue(\"steelblue4\")..., 0.7)\n",
    "    box(Point(100, -100), 100, 100, :fillpreserve)\n",
    "    setcolor(\"white\")\n",
    "    strokepath()\n",
    "\n",
    "    # Neighboring zones: south-west\n",
    "    setcolor(sethue(\"steelblue4\")..., 0.7)\n",
    "    box(Point(-100, 100), 100, 100, :fillpreserve)\n",
    "    setcolor(\"white\")\n",
    "    strokepath()\n",
    "\n",
    "    # Neighboring zones: south-east\n",
    "    setcolor(sethue(\"steelblue4\")..., 0.7)\n",
    "    box(Point(100, 100), 100, 100, :fillpreserve)\n",
    "    setcolor(\"white\")\n",
    "    strokepath()\n",
    "\n",
    "    sethue(\"white\")\n",
    "    fontsize(32)\n",
    "\n",
    "    text(\"Z\", Point(0, 0), halign=:center, valign=:middle)\n",
    "    text(\"N\", Point(0, -100), halign=:center, valign=:middle)\n",
    "    text(\"S\", Point(0, 100), halign=:center, valign=:middle)\n",
    "    text(\"E\", Point(100, 0), halign=:center, valign=:middle)\n",
    "    text(\"W\", Point(-100, 0), halign=:center, valign=:middle)\n",
    "    text(\"NW\", Point(-100, -100), halign=:center, valign=:middle)\n",
    "    text(\"NE\", Point(100, -100), halign=:center, valign=:middle)\n",
    "    text(\"SW\", Point(-100, 100), halign=:center, valign=:middle)\n",
    "    text(\"SE\", Point(100, 100), halign=:center, valign=:middle)\n",
    "\n",
    "end 500 500 \"zones.png\""
   ]
  },
  {
   "cell_type": "code",
   "execution_count": 13,
   "metadata": {},
   "outputs": [
    {
     "data": {
      "image/png": "[encoded data removed]",
      "text/plain": []
     },
     "execution_count": 13,
     "metadata": {},
     "output_type": "execute_result"
    }
   ],
   "source": [
    "@png begin\n",
    "    setopacity(0.7)\n",
    "    setline(1)\n",
    "\n",
    "    # Zone\n",
    "    setcolor(sethue(\"seagreen4\")..., 0.7)\n",
    "    box(Point(0, 0), 400, 400, :fillpreserve)\n",
    "\n",
    "    # Border zones\n",
    "    setcolor(sethue(\"steelblue4\")..., 0.7)\n",
    "    rect(Point(180, -200), 20, 20, :fill)\n",
    "    rect(Point(-200, -200), 20, 20, :fill)\n",
    "    rect(Point(-200, 180), 20, 20, :fill)\n",
    "    rect(Point(180, 180), 20, 20, :fill)\n",
    "    \n",
    "    rect(Point(180, -180), 20, 360, :fill)\n",
    "    rect(Point(-200, -180), 20, 360, :fill)\n",
    "    rect(Point(-180, -200), 360, 20, :fill)\n",
    "    rect(Point(-180, 180), 360, 20, :fill)\n",
    "    \n",
    "\n",
    "    \n",
    "    setopacity(1)\n",
    "    setcolor(\"black\")\n",
    "    strokepath()\n",
    "    \n",
    "    # Border zones\n",
    "    setcolor(\"white\")\n",
    "\n",
    "    line(Point(180, -200), Point(180, 200), :stroke)\n",
    "    line(Point(-180, -200), Point(-180, 200), :stroke)\n",
    "    line(Point(-200, 180), Point(200, 180), :stroke)\n",
    "    line(Point(-200, -180), Point(200, -180), :stroke)\n",
    "\n",
    "    fontsize(32)\n",
    "    text(\"Z\", Point(0, 0), halign=:center, valign=:middle)\n",
    "    \n",
    "    fontsize(12)\n",
    "    text(\"E\", Point(190, 0), halign=:center, valign=:middle)\n",
    "    text(\"W\", Point(-190, 0), halign=:center, valign=:middle)\n",
    "    text(\"N\", Point(0, -190), halign=:center, valign=:middle)\n",
    "    text(\"S\", Point(0, 190), halign=:center, valign=:middle)\n",
    "\n",
    "    fontsize(10)\n",
    "    text(\"N,W\", Point(-190, -190), halign=:center, valign=:middle)\n",
    "    text(\"N,E\", Point(190, -190), halign=:center, valign=:middle)\n",
    "    text(\"S,W\", Point(-190, 190), halign=:center, valign=:middle)\n",
    "    text(\"S,E\", Point(190, 190), halign=:center, valign=:middle)\n",
    "    \n",
    "end 500 500 \"borders.png\""
   ]
  },
  {
   "cell_type": "code",
   "execution_count": 16,
   "metadata": {},
   "outputs": [
    {
     "data": {
      "image/png": "[encoded data removed]",
      "text/plain": []
     },
     "execution_count": 16,
     "metadata": {},
     "output_type": "execute_result"
    }
   ],
   "source": [
    "@png begin\n",
    "    # Cell of interest\n",
    "    setcolor(sethue(\"steelblue4\")..., 0.7)\n",
    "    box(Point(0, 0), 100, 100, :fillpreserve)\n",
    "    setcolor(\"white\")\n",
    "    strokepath()\n",
    "\n",
    "    # Neighboring cell: north\n",
    "    setcolor(sethue(\"steelblue4\")..., 0.7)\n",
    "    box(Point(0, -100), 100, 100, :fillpreserve)\n",
    "    setcolor(\"white\")\n",
    "    strokepath()\n",
    "    \n",
    "    # Neighboring cell: south\n",
    "    setcolor(sethue(\"steelblue4\")..., 0.7)\n",
    "    box(Point(0, 100), 100, 100, :fillpreserve)\n",
    "    setcolor(\"white\")\n",
    "    strokepath()\n",
    "\n",
    "    # Neighboring cell: east\n",
    "    setcolor(sethue(\"steelblue4\")..., 0.7)\n",
    "    box(Point(100, 0), 100, 100, :fillpreserve)\n",
    "    setcolor(\"white\")\n",
    "    strokepath()\n",
    "\n",
    "    # Neighboring cell: west\n",
    "    setcolor(sethue(\"steelblue4\")..., 0.7)\n",
    "    box(Point(-100, 0), 100, 100, :fillpreserve)\n",
    "    setcolor(\"white\")\n",
    "    strokepath()\n",
    "\n",
    "    # Neighboring cell: north-west\n",
    "    setcolor(sethue(\"steelblue4\")..., 0.7)\n",
    "    box(Point(-100, -100), 100, 100, :fillpreserve)\n",
    "    setcolor(\"white\")\n",
    "    strokepath()\n",
    "\n",
    "    # Neighboring cell: north-east\n",
    "    setcolor(sethue(\"steelblue4\")..., 0.7)\n",
    "    box(Point(100, -100), 100, 100, :fillpreserve)\n",
    "    setcolor(\"white\")\n",
    "    strokepath()\n",
    "\n",
    "    # Neighboring cell: south-west\n",
    "    setcolor(sethue(\"steelblue4\")..., 0.7)\n",
    "    box(Point(-100, 100), 100, 100, :fillpreserve)\n",
    "    setcolor(\"white\")\n",
    "    strokepath()\n",
    "\n",
    "    # Neighboring cell: south-east\n",
    "    setcolor(sethue(\"steelblue4\")..., 0.7)\n",
    "    box(Point(100, 100), 100, 100, :fillpreserve)\n",
    "    setcolor(\"white\")\n",
    "    strokepath()\n",
    "\n",
    "\n",
    "    # Location of interest\n",
    "    fontsize(16)\n",
    "\n",
    "    setcolor(sethue(\"seagreen4\")..., 0.7)\n",
    "    circle(Point(25, 25), 100, :fill)\n",
    "    sethue(\"white\")\n",
    "    circle(Point(25, 25), 4, :fill)\n",
    "    arrow(Point(25, 25), Point(125, 25))\n",
    "    text(\"thr\", Point(75, 20), halign=:center, valign=:bottom)\n",
    "    \n",
    "    # Horizontal dimensions\n",
    "    setopacity(1)\n",
    "    setcolor(\"black\")\n",
    "    setline(0.5)\n",
    "    line(Point(-150, 150), Point(-150, 170), :stroke)\n",
    "    line(Point(-50, 150), Point(-50, 170), :stroke)\n",
    "    line(Point(-149, 160), Point(-51, 160), :stroke)\n",
    "    arrow(Point(-160, 160), Point(-150, 160))\n",
    "    arrow(Point(-40, 160), Point(-50, 160))\n",
    "    text(\"thr\", Point(-100, 165), halign=:center, valign=:top)    \n",
    "\n",
    "    # Vertical dimensions\n",
    "    line(Point(-150, 150), Point(-170, 150), :stroke)\n",
    "    line(Point(-150, 50), Point(-170, 50), :stroke)\n",
    "    line(Point(-160, 149), Point(-160, 51), :stroke)\n",
    "    arrow(Point(-160, 160), Point(-160, 150))\n",
    "    arrow(Point(-160, 40), Point(-160, 50))\n",
    "\n",
    "    text(\"thr\", Point(-100, 165), halign=:center, valign=:top)\n",
    "    text(\"thr\", Point(-165, 100), halign=:center, valign=:bottom, angle=3*π/2)\n",
    "    end 500 500 \"cells.png\""
   ]
  },
  {
   "cell_type": "code",
   "execution_count": null,
   "metadata": {},
   "outputs": [],
   "source": []
  }
 ],
 "metadata": {
  "kernelspec": {
   "display_name": "Julia 1.5.3",
   "language": "julia",
   "name": "julia-1.5"
  },
  "language_info": {
   "file_extension": ".jl",
   "mimetype": "application/julia",
   "name": "julia",
   "version": "1.5.3"
  }
 },
 "nbformat": 4,
 "nbformat_minor": 4
}
