{
 "cells": [
  {
   "cell_type": "code",
   "execution_count": 1,
   "metadata": {},
   "outputs": [
    {
     "name": "stdout",
     "output_type": "stream",
     "text": [
      "Populating the interactive namespace from numpy and matplotlib\n"
     ]
    }
   ],
   "source": [
    "%pylab inline\n",
    "plt.style.use(\"bmh\")"
   ]
  },
  {
   "cell_type": "code",
   "execution_count": 2,
   "metadata": {},
   "outputs": [],
   "source": [
    "import pathlib\n",
    "import tqdm\n",
    "tqdm.tqdm.pandas()"
   ]
  },
  {
   "cell_type": "code",
   "execution_count": 3,
   "metadata": {},
   "outputs": [],
   "source": [
    "import pandas as pd\n",
    "import geopandas as gpd\n",
    "import utm\n",
    "from haversine import haversine"
   ]
  },
  {
   "cell_type": "code",
   "execution_count": 4,
   "metadata": {},
   "outputs": [],
   "source": [
    "DATA_DIR = pathlib.Path(\"../../data/\")"
   ]
  },
  {
   "cell_type": "markdown",
   "metadata": {},
   "source": [
    "# Loading data"
   ]
  },
  {
   "cell_type": "code",
   "execution_count": 5,
   "metadata": {},
   "outputs": [],
   "source": [
    "locations = pd.read_csv(DATA_DIR.joinpath(\"locations.csv\"), header=None)"
   ]
  },
  {
   "cell_type": "code",
   "execution_count": 6,
   "metadata": {},
   "outputs": [
    {
     "data": {
      "text/html": [
       "<div>\n",
       "<style scoped>\n",
       "    .dataframe tbody tr th:only-of-type {\n",
       "        vertical-align: middle;\n",
       "    }\n",
       "\n",
       "    .dataframe tbody tr th {\n",
       "        vertical-align: top;\n",
       "    }\n",
       "\n",
       "    .dataframe thead th {\n",
       "        text-align: right;\n",
       "    }\n",
       "</style>\n",
       "<table border=\"1\" class=\"dataframe\">\n",
       "  <thead>\n",
       "    <tr style=\"text-align: right;\">\n",
       "      <th></th>\n",
       "      <th>0</th>\n",
       "      <th>1</th>\n",
       "    </tr>\n",
       "  </thead>\n",
       "  <tbody>\n",
       "    <tr>\n",
       "      <th>0</th>\n",
       "      <td>42.63914</td>\n",
       "      <td>141.62366</td>\n",
       "    </tr>\n",
       "    <tr>\n",
       "      <th>1</th>\n",
       "      <td>36.42835</td>\n",
       "      <td>140.61340</td>\n",
       "    </tr>\n",
       "    <tr>\n",
       "      <th>2</th>\n",
       "      <td>42.63864</td>\n",
       "      <td>141.62542</td>\n",
       "    </tr>\n",
       "    <tr>\n",
       "      <th>3</th>\n",
       "      <td>36.42911</td>\n",
       "      <td>140.61360</td>\n",
       "    </tr>\n",
       "    <tr>\n",
       "      <th>4</th>\n",
       "      <td>36.42957</td>\n",
       "      <td>140.61429</td>\n",
       "    </tr>\n",
       "  </tbody>\n",
       "</table>\n",
       "</div>"
      ],
      "text/plain": [
       "          0          1\n",
       "0  42.63914  141.62366\n",
       "1  36.42835  140.61340\n",
       "2  42.63864  141.62542\n",
       "3  36.42911  140.61360\n",
       "4  36.42957  140.61429"
      ]
     },
     "execution_count": 6,
     "metadata": {},
     "output_type": "execute_result"
    }
   ],
   "source": [
    "locations.head()"
   ]
  },
  {
   "cell_type": "code",
   "execution_count": 7,
   "metadata": {},
   "outputs": [],
   "source": [
    "locations.columns = [\"lat\", \"lon\"]"
   ]
  },
  {
   "cell_type": "code",
   "execution_count": 8,
   "metadata": {},
   "outputs": [
    {
     "data": {
      "text/plain": [
       "lat     78.93490\n",
       "lon    179.82728\n",
       "dtype: float64"
      ]
     },
     "execution_count": 8,
     "metadata": {},
     "output_type": "execute_result"
    }
   ],
   "source": [
    "locations.max()"
   ]
  },
  {
   "cell_type": "code",
   "execution_count": 9,
   "metadata": {},
   "outputs": [
    {
     "data": {
      "text/plain": [
       "lat    -54.81624\n",
       "lon   -179.11254\n",
       "dtype: float64"
      ]
     },
     "execution_count": 9,
     "metadata": {},
     "output_type": "execute_result"
    }
   ],
   "source": [
    "locations.min()"
   ]
  },
  {
   "cell_type": "markdown",
   "metadata": {},
   "source": [
    "(just a check that columns are in the correct order)"
   ]
  },
  {
   "cell_type": "code",
   "execution_count": 10,
   "metadata": {},
   "outputs": [],
   "source": [
    "def get_utm(lat, lon):\n",
    "    \"\"\"Calculate UTM coordinates latitude and longitude.\"\"\"\n",
    "\n",
    "    easting, northing, zone_number, zone_letter = utm.from_latlon(lat, lon)\n",
    "    return pd.Series([easting, northing, zone_number, zone_letter],\n",
    "                     index=[\"easting\", \"northing\", \"zone_number\", \"zone_letter\"])\n",
    "\n",
    "if not DATA_DIR.joinpath(\"locations_utm.csv\").exists():\n",
    "    locations_utm = locations.progress_apply(lambda row: get_utm(row.lat, row.lon), axis=1)\n",
    "    locations_utm.to_csv(DATA_DIR.joinpath(\"locations_utm.csv\"), index=False)\n",
    "else:\n",
    "    locations_utm = pd.read_csv(DATA_DIR.joinpath(\"locations_utm.csv\"))"
   ]
  },
  {
   "cell_type": "code",
   "execution_count": 11,
   "metadata": {},
   "outputs": [
    {
     "data": {
      "text/html": [
       "<div>\n",
       "<style scoped>\n",
       "    .dataframe tbody tr th:only-of-type {\n",
       "        vertical-align: middle;\n",
       "    }\n",
       "\n",
       "    .dataframe tbody tr th {\n",
       "        vertical-align: top;\n",
       "    }\n",
       "\n",
       "    .dataframe thead th {\n",
       "        text-align: right;\n",
       "    }\n",
       "</style>\n",
       "<table border=\"1\" class=\"dataframe\">\n",
       "  <thead>\n",
       "    <tr style=\"text-align: right;\">\n",
       "      <th></th>\n",
       "      <th>easting</th>\n",
       "      <th>northing</th>\n",
       "      <th>zone_number</th>\n",
       "      <th>zone_letter</th>\n",
       "    </tr>\n",
       "  </thead>\n",
       "  <tbody>\n",
       "    <tr>\n",
       "      <th>0</th>\n",
       "      <td>551130.048588</td>\n",
       "      <td>4.720932e+06</td>\n",
       "      <td>54</td>\n",
       "      <td>T</td>\n",
       "    </tr>\n",
       "    <tr>\n",
       "      <th>1</th>\n",
       "      <td>465345.985460</td>\n",
       "      <td>4.031530e+06</td>\n",
       "      <td>54</td>\n",
       "      <td>S</td>\n",
       "    </tr>\n",
       "    <tr>\n",
       "      <th>2</th>\n",
       "      <td>551274.751185</td>\n",
       "      <td>4.720877e+06</td>\n",
       "      <td>54</td>\n",
       "      <td>T</td>\n",
       "    </tr>\n",
       "    <tr>\n",
       "      <th>3</th>\n",
       "      <td>465364.250731</td>\n",
       "      <td>4.031614e+06</td>\n",
       "      <td>54</td>\n",
       "      <td>S</td>\n",
       "    </tr>\n",
       "    <tr>\n",
       "      <th>4</th>\n",
       "      <td>465426.304542</td>\n",
       "      <td>4.031665e+06</td>\n",
       "      <td>54</td>\n",
       "      <td>S</td>\n",
       "    </tr>\n",
       "  </tbody>\n",
       "</table>\n",
       "</div>"
      ],
      "text/plain": [
       "         easting      northing  zone_number zone_letter\n",
       "0  551130.048588  4.720932e+06           54           T\n",
       "1  465345.985460  4.031530e+06           54           S\n",
       "2  551274.751185  4.720877e+06           54           T\n",
       "3  465364.250731  4.031614e+06           54           S\n",
       "4  465426.304542  4.031665e+06           54           S"
      ]
     },
     "execution_count": 11,
     "metadata": {},
     "output_type": "execute_result"
    }
   ],
   "source": [
    "locations_utm.head()"
   ]
  },
  {
   "cell_type": "code",
   "execution_count": 12,
   "metadata": {},
   "outputs": [],
   "source": [
    "locations_utm = locations_utm.join(locations)"
   ]
  },
  {
   "cell_type": "markdown",
   "metadata": {},
   "source": [
    "# KDTree test"
   ]
  },
  {
   "cell_type": "code",
   "execution_count": 87,
   "metadata": {},
   "outputs": [],
   "source": [
    "from scipy.spatial import KDTree, cKDTree"
   ]
  },
  {
   "cell_type": "code",
   "execution_count": 17,
   "metadata": {},
   "outputs": [
    {
     "data": {
      "text/plain": [
       "zone_number  zone_letter\n",
       "53           S              126697\n",
       "31           U              119785\n",
       "52           S              112220\n",
       "48           N               79188\n",
       "54           S               65530\n",
       "51           R               62550\n",
       "35           T               37867\n",
       "32           U               37064\n",
       "50           S               36846\n",
       "32           V               32659\n",
       "40           R               29545\n",
       "49           Q               29537\n",
       "51           S               23475\n",
       "47           P               21134\n",
       "50           Q               21067\n",
       "dtype: int64"
      ]
     },
     "execution_count": 17,
     "metadata": {},
     "output_type": "execute_result"
    }
   ],
   "source": [
    "locations_utm.groupby([\"zone_number\", \"zone_letter\"]).size().sort_values(ascending=False).head(15)"
   ]
  },
  {
   "cell_type": "code",
   "execution_count": 40,
   "metadata": {},
   "outputs": [
    {
     "data": {
      "text/html": [
       "<div>\n",
       "<style scoped>\n",
       "    .dataframe tbody tr th:only-of-type {\n",
       "        vertical-align: middle;\n",
       "    }\n",
       "\n",
       "    .dataframe tbody tr th {\n",
       "        vertical-align: top;\n",
       "    }\n",
       "\n",
       "    .dataframe thead th {\n",
       "        text-align: right;\n",
       "    }\n",
       "</style>\n",
       "<table border=\"1\" class=\"dataframe\">\n",
       "  <thead>\n",
       "    <tr style=\"text-align: right;\">\n",
       "      <th></th>\n",
       "      <th>easting</th>\n",
       "      <th>northing</th>\n",
       "      <th>zone_number</th>\n",
       "      <th>zone_letter</th>\n",
       "      <th>lat</th>\n",
       "      <th>lon</th>\n",
       "    </tr>\n",
       "  </thead>\n",
       "  <tbody>\n",
       "    <tr>\n",
       "      <th>1679</th>\n",
       "      <td>336357.225839</td>\n",
       "      <td>3.396546e+06</td>\n",
       "      <td>51</td>\n",
       "      <td>R</td>\n",
       "      <td>30.69048</td>\n",
       "      <td>121.29147</td>\n",
       "    </tr>\n",
       "    <tr>\n",
       "      <th>1680</th>\n",
       "      <td>378783.788119</td>\n",
       "      <td>3.317452e+06</td>\n",
       "      <td>51</td>\n",
       "      <td>R</td>\n",
       "      <td>29.98197</td>\n",
       "      <td>121.74347</td>\n",
       "    </tr>\n",
       "    <tr>\n",
       "      <th>1681</th>\n",
       "      <td>352053.701584</td>\n",
       "      <td>3.405006e+06</td>\n",
       "      <td>51</td>\n",
       "      <td>R</td>\n",
       "      <td>30.76885</td>\n",
       "      <td>121.45408</td>\n",
       "    </tr>\n",
       "    <tr>\n",
       "      <th>1682</th>\n",
       "      <td>379270.911747</td>\n",
       "      <td>3.316732e+06</td>\n",
       "      <td>51</td>\n",
       "      <td>R</td>\n",
       "      <td>29.97552</td>\n",
       "      <td>121.74860</td>\n",
       "    </tr>\n",
       "    <tr>\n",
       "      <th>1683</th>\n",
       "      <td>351689.212144</td>\n",
       "      <td>3.404609e+06</td>\n",
       "      <td>51</td>\n",
       "      <td>R</td>\n",
       "      <td>30.76522</td>\n",
       "      <td>121.45033</td>\n",
       "    </tr>\n",
       "    <tr>\n",
       "      <th>...</th>\n",
       "      <td>...</td>\n",
       "      <td>...</td>\n",
       "      <td>...</td>\n",
       "      <td>...</td>\n",
       "      <td>...</td>\n",
       "      <td>...</td>\n",
       "    </tr>\n",
       "    <tr>\n",
       "      <th>1493958</th>\n",
       "      <td>398966.161040</td>\n",
       "      <td>3.328079e+06</td>\n",
       "      <td>51</td>\n",
       "      <td>R</td>\n",
       "      <td>30.07969</td>\n",
       "      <td>121.95164</td>\n",
       "    </tr>\n",
       "    <tr>\n",
       "      <th>1493970</th>\n",
       "      <td>353237.184413</td>\n",
       "      <td>3.443413e+06</td>\n",
       "      <td>51</td>\n",
       "      <td>R</td>\n",
       "      <td>31.11543</td>\n",
       "      <td>121.46090</td>\n",
       "    </tr>\n",
       "    <tr>\n",
       "      <th>1493971</th>\n",
       "      <td>417161.322810</td>\n",
       "      <td>3.337405e+06</td>\n",
       "      <td>51</td>\n",
       "      <td>R</td>\n",
       "      <td>30.16521</td>\n",
       "      <td>122.13969</td>\n",
       "    </tr>\n",
       "    <tr>\n",
       "      <th>1493972</th>\n",
       "      <td>270158.336548</td>\n",
       "      <td>3.542671e+06</td>\n",
       "      <td>51</td>\n",
       "      <td>R</td>\n",
       "      <td>31.99683</td>\n",
       "      <td>120.56707</td>\n",
       "    </tr>\n",
       "    <tr>\n",
       "      <th>1494029</th>\n",
       "      <td>238137.168117</td>\n",
       "      <td>3.535531e+06</td>\n",
       "      <td>51</td>\n",
       "      <td>R</td>\n",
       "      <td>31.92554</td>\n",
       "      <td>120.23037</td>\n",
       "    </tr>\n",
       "  </tbody>\n",
       "</table>\n",
       "<p>62550 rows × 6 columns</p>\n",
       "</div>"
      ],
      "text/plain": [
       "               easting      northing  zone_number zone_letter       lat  \\\n",
       "1679     336357.225839  3.396546e+06           51           R  30.69048   \n",
       "1680     378783.788119  3.317452e+06           51           R  29.98197   \n",
       "1681     352053.701584  3.405006e+06           51           R  30.76885   \n",
       "1682     379270.911747  3.316732e+06           51           R  29.97552   \n",
       "1683     351689.212144  3.404609e+06           51           R  30.76522   \n",
       "...                ...           ...          ...         ...       ...   \n",
       "1493958  398966.161040  3.328079e+06           51           R  30.07969   \n",
       "1493970  353237.184413  3.443413e+06           51           R  31.11543   \n",
       "1493971  417161.322810  3.337405e+06           51           R  30.16521   \n",
       "1493972  270158.336548  3.542671e+06           51           R  31.99683   \n",
       "1494029  238137.168117  3.535531e+06           51           R  31.92554   \n",
       "\n",
       "               lon  \n",
       "1679     121.29147  \n",
       "1680     121.74347  \n",
       "1681     121.45408  \n",
       "1682     121.74860  \n",
       "1683     121.45033  \n",
       "...            ...  \n",
       "1493958  121.95164  \n",
       "1493970  121.46090  \n",
       "1493971  122.13969  \n",
       "1493972  120.56707  \n",
       "1494029  120.23037  \n",
       "\n",
       "[62550 rows x 6 columns]"
      ]
     },
     "execution_count": 40,
     "metadata": {},
     "output_type": "execute_result"
    }
   ],
   "source": [
    "locations_utm.loc[(locations_utm.zone_number==51) & (locations_utm.zone_letter==\"R\")]"
   ]
  },
  {
   "cell_type": "code",
   "execution_count": 26,
   "metadata": {},
   "outputs": [],
   "source": [
    "def get_in_zone_distances(loc, locs):\n",
    "    \"\"\"Calculate distances between `loc` and all location in `locs` in the same zone.\"\"\"\n",
    "    return np.sqrt(np.square(locs[[\"easting\", \"northing\"]] - loc[[\"easting\", \"northing\"]]).sum(axis=1))\n",
    "\n",
    "\n",
    "def get_cross_zone_distances(loc, locs):\n",
    "    \"\"\"Calculate distances between `loc` and all location in `locs` in the same zone.\"\"\"\n",
    "\n",
    "    dphi_sqr = np.square(locs[\"lat\"] - loc[\"lat\"])\n",
    "    dlambda_sqr = np.square(locs[\"lon\"] - loc[\"lon\"])\n",
    "    return R * np.sqrt(dphi_sqr + np.cos(loc.lat * np.pi / 180) * dlambda_sqr) * np.pi / 180\n",
    "\n",
    "\n",
    "def get_in_zone_neighbors(loc, locs, thr):\n",
    "    \"\"\"Calculate neighbors of `loc` in the same zone.\"\"\"\n",
    "    # TODO: vectorize\n",
    "\n",
    "    zone_mask = (locs.zone_number==loc.zone_number) & (locs.zone_letter==loc.zone_letter)\n",
    "    cand_mask_x = (locs.cell_x==loc.cell_x) | (locs.cell_x==(loc.cell_x-1)) | (locs.cell_x==(loc.cell_x+1))\n",
    "    cand_mask_y = (locs.cell_y==loc.cell_y) | (locs.cell_y==(loc.cell_y-1)) | (locs.cell_y==(loc.cell_y+1))\n",
    "    cand_mask = cand_mask_x & cand_mask_y & zone_mask & (locs.component==-1)\n",
    "    candidates = locs[cand_mask]\n",
    "\n",
    "    dist = get_in_zone_distances(loc, candidates)\n",
    "    return candidates[dist<=thr]\n",
    "\n",
    "\n",
    "def get_cross_zone_neighbors(loc, locs, thr):\n",
    "    \"\"\"Calculate neighbors of `loc` in the same zone.\"\"\"\n",
    "\n",
    "    border_status = loc[[\"N\", \"E\", \"S\", \"W\"]]\n",
    "    border_list = border_status[border_status!=0].index.tolist()\n",
    "    neigboring_zones = get_neighboring_zones(loc.zone_number, loc.zone_letter, border_list)\n",
    "\n",
    "    neighbors = []\n",
    "\n",
    "    for (zn, zl), borders in neigboring_zones.items():\n",
    "        zone_mask = (locs.zone_number==zn) & (locs.zone_letter==zl)\n",
    "        border_mask = locs[borders].sum(axis=1)!=0\n",
    "        candidates = locs[zone_mask & border_mask & (locs.component==-1)]\n",
    "\n",
    "        dist = get_cross_zone_distances(loc, candidates)\n",
    "        neighbors.append(candidates[dist<=thr])\n",
    "\n",
    "    return pd.concat(neighbors)\n",
    "\n",
    "\n",
    "class ConnectedComponent(object):\n",
    "    \"\"\"Connected component entity. New elements can be added, and component can check if it's finished.\"\"\"\n",
    "    def __init__(self, cid, all_locations, thr):\n",
    "        self.members = set()\n",
    "        self.visited = set()\n",
    "        self.cid = cid\n",
    "        self.all_locations = all_locations\n",
    "        self.thr = thr\n",
    "\n",
    "    def add(self, element):\n",
    "        self.members.add(element)\n",
    "\n",
    "    def visit(self, element):\n",
    "        if element not in self.members:\n",
    "            raise ValueError(f\"element {element} is not in this component\")\n",
    "        self.visited.add(element)\n",
    "\n",
    "    def is_full(self):\n",
    "        return self.members==self.visited\n",
    "\n",
    "    def grow(self, locs=None):\n",
    "        \"\"\"Grow this component by elements from `locs`.\"\"\"\n",
    "\n",
    "        subset = self.members.difference(self.visited)\n",
    "        locs = locs if locs is not None else self.all_locations\n",
    "\n",
    "        for element in subset:\n",
    "            # TODO: filter by degree\n",
    "            neighbors = get_in_zone_neighbors(self.all_locations.loc[element], locs, self.thr)\n",
    "\n",
    "            if self.all_locations.loc[element, \"border\"]:\n",
    "                cross_zone_neighbors = get_cross_zone_neighbors(self.all_locations.loc[element], locs, self.thr)\n",
    "                neighbors = pd.concat([neighbors, cross_zone_neighbors])\n",
    "\n",
    "            self.members.update(neighbors.index)\n",
    "            self.visited.add(element)\n",
    "\n",
    "    @property\n",
    "    def elements(self):\n",
    "        return list(self.members)\n",
    "\n",
    "    @property\n",
    "    def size(self):\n",
    "        return len(self.members)"
   ]
  },
  {
   "cell_type": "code",
   "execution_count": 29,
   "metadata": {},
   "outputs": [],
   "source": [
    "THR = 10000\n",
    "locs = locations_utm.copy()\n",
    "locs[\"component\"] = -1\n",
    "locs[\"cell_x\"] = (locs[\"easting\"] / THR).astype(int)\n",
    "locs[\"cell_y\"] = (locs[\"northing\"] / THR).astype(int)"
   ]
  },
  {
   "cell_type": "code",
   "execution_count": 42,
   "metadata": {},
   "outputs": [
    {
     "data": {
      "text/html": [
       "<div>\n",
       "<style scoped>\n",
       "    .dataframe tbody tr th:only-of-type {\n",
       "        vertical-align: middle;\n",
       "    }\n",
       "\n",
       "    .dataframe tbody tr th {\n",
       "        vertical-align: top;\n",
       "    }\n",
       "\n",
       "    .dataframe thead th {\n",
       "        text-align: right;\n",
       "    }\n",
       "</style>\n",
       "<table border=\"1\" class=\"dataframe\">\n",
       "  <thead>\n",
       "    <tr style=\"text-align: right;\">\n",
       "      <th></th>\n",
       "      <th>easting</th>\n",
       "      <th>northing</th>\n",
       "      <th>zone_number</th>\n",
       "      <th>zone_letter</th>\n",
       "      <th>lat</th>\n",
       "      <th>lon</th>\n",
       "      <th>component</th>\n",
       "      <th>cell_x</th>\n",
       "      <th>cell_y</th>\n",
       "    </tr>\n",
       "  </thead>\n",
       "  <tbody>\n",
       "    <tr>\n",
       "      <th>1680</th>\n",
       "      <td>378783.788119</td>\n",
       "      <td>3.317452e+06</td>\n",
       "      <td>51</td>\n",
       "      <td>R</td>\n",
       "      <td>29.98197</td>\n",
       "      <td>121.74347</td>\n",
       "      <td>-1</td>\n",
       "      <td>37</td>\n",
       "      <td>331</td>\n",
       "    </tr>\n",
       "    <tr>\n",
       "      <th>1682</th>\n",
       "      <td>379270.911747</td>\n",
       "      <td>3.316732e+06</td>\n",
       "      <td>51</td>\n",
       "      <td>R</td>\n",
       "      <td>29.97552</td>\n",
       "      <td>121.74860</td>\n",
       "      <td>-1</td>\n",
       "      <td>37</td>\n",
       "      <td>331</td>\n",
       "    </tr>\n",
       "    <tr>\n",
       "      <th>1684</th>\n",
       "      <td>378903.862309</td>\n",
       "      <td>3.317579e+06</td>\n",
       "      <td>51</td>\n",
       "      <td>R</td>\n",
       "      <td>29.98313</td>\n",
       "      <td>121.74470</td>\n",
       "      <td>-1</td>\n",
       "      <td>37</td>\n",
       "      <td>331</td>\n",
       "    </tr>\n",
       "    <tr>\n",
       "      <th>1690</th>\n",
       "      <td>378967.816227</td>\n",
       "      <td>3.317428e+06</td>\n",
       "      <td>51</td>\n",
       "      <td>R</td>\n",
       "      <td>29.98177</td>\n",
       "      <td>121.74538</td>\n",
       "      <td>-1</td>\n",
       "      <td>37</td>\n",
       "      <td>331</td>\n",
       "    </tr>\n",
       "    <tr>\n",
       "      <th>1698</th>\n",
       "      <td>380539.136363</td>\n",
       "      <td>3.316937e+06</td>\n",
       "      <td>51</td>\n",
       "      <td>R</td>\n",
       "      <td>29.97750</td>\n",
       "      <td>121.76172</td>\n",
       "      <td>-1</td>\n",
       "      <td>38</td>\n",
       "      <td>331</td>\n",
       "    </tr>\n",
       "    <tr>\n",
       "      <th>...</th>\n",
       "      <td>...</td>\n",
       "      <td>...</td>\n",
       "      <td>...</td>\n",
       "      <td>...</td>\n",
       "      <td>...</td>\n",
       "      <td>...</td>\n",
       "      <td>...</td>\n",
       "      <td>...</td>\n",
       "      <td>...</td>\n",
       "    </tr>\n",
       "    <tr>\n",
       "      <th>1483076</th>\n",
       "      <td>383119.677739</td>\n",
       "      <td>3.316149e+06</td>\n",
       "      <td>51</td>\n",
       "      <td>R</td>\n",
       "      <td>29.97064</td>\n",
       "      <td>121.78855</td>\n",
       "      <td>-1</td>\n",
       "      <td>38</td>\n",
       "      <td>331</td>\n",
       "    </tr>\n",
       "    <tr>\n",
       "      <th>1483118</th>\n",
       "      <td>386101.963008</td>\n",
       "      <td>3.314607e+06</td>\n",
       "      <td>51</td>\n",
       "      <td>R</td>\n",
       "      <td>29.95700</td>\n",
       "      <td>121.81962</td>\n",
       "      <td>-1</td>\n",
       "      <td>38</td>\n",
       "      <td>331</td>\n",
       "    </tr>\n",
       "    <tr>\n",
       "      <th>1486882</th>\n",
       "      <td>386664.396429</td>\n",
       "      <td>3.314585e+06</td>\n",
       "      <td>51</td>\n",
       "      <td>R</td>\n",
       "      <td>29.95686</td>\n",
       "      <td>121.82545</td>\n",
       "      <td>-1</td>\n",
       "      <td>38</td>\n",
       "      <td>331</td>\n",
       "    </tr>\n",
       "    <tr>\n",
       "      <th>1490941</th>\n",
       "      <td>387883.308805</td>\n",
       "      <td>3.313441e+06</td>\n",
       "      <td>51</td>\n",
       "      <td>R</td>\n",
       "      <td>29.94665</td>\n",
       "      <td>121.83820</td>\n",
       "      <td>-1</td>\n",
       "      <td>38</td>\n",
       "      <td>331</td>\n",
       "    </tr>\n",
       "    <tr>\n",
       "      <th>1493480</th>\n",
       "      <td>379876.128426</td>\n",
       "      <td>3.317105e+06</td>\n",
       "      <td>51</td>\n",
       "      <td>R</td>\n",
       "      <td>29.97895</td>\n",
       "      <td>121.75483</td>\n",
       "      <td>-1</td>\n",
       "      <td>37</td>\n",
       "      <td>331</td>\n",
       "    </tr>\n",
       "  </tbody>\n",
       "</table>\n",
       "<p>2253 rows × 9 columns</p>\n",
       "</div>"
      ],
      "text/plain": [
       "               easting      northing  zone_number zone_letter       lat  \\\n",
       "1680     378783.788119  3.317452e+06           51           R  29.98197   \n",
       "1682     379270.911747  3.316732e+06           51           R  29.97552   \n",
       "1684     378903.862309  3.317579e+06           51           R  29.98313   \n",
       "1690     378967.816227  3.317428e+06           51           R  29.98177   \n",
       "1698     380539.136363  3.316937e+06           51           R  29.97750   \n",
       "...                ...           ...          ...         ...       ...   \n",
       "1483076  383119.677739  3.316149e+06           51           R  29.97064   \n",
       "1483118  386101.963008  3.314607e+06           51           R  29.95700   \n",
       "1486882  386664.396429  3.314585e+06           51           R  29.95686   \n",
       "1490941  387883.308805  3.313441e+06           51           R  29.94665   \n",
       "1493480  379876.128426  3.317105e+06           51           R  29.97895   \n",
       "\n",
       "               lon  component  cell_x  cell_y  \n",
       "1680     121.74347         -1      37     331  \n",
       "1682     121.74860         -1      37     331  \n",
       "1684     121.74470         -1      37     331  \n",
       "1690     121.74538         -1      37     331  \n",
       "1698     121.76172         -1      38     331  \n",
       "...            ...        ...     ...     ...  \n",
       "1483076  121.78855         -1      38     331  \n",
       "1483118  121.81962         -1      38     331  \n",
       "1486882  121.82545         -1      38     331  \n",
       "1490941  121.83820         -1      38     331  \n",
       "1493480  121.75483         -1      37     331  \n",
       "\n",
       "[2253 rows x 9 columns]"
      ]
     },
     "execution_count": 42,
     "metadata": {},
     "output_type": "execute_result"
    }
   ],
   "source": [
    "get_in_zone_neighbors(locs.loc[1680], locs, THR)"
   ]
  },
  {
   "cell_type": "code",
   "execution_count": 90,
   "metadata": {},
   "outputs": [],
   "source": [
    "tree = cKDTree(locations_utm.loc[(locations_utm.zone_number==51) & (locations_utm.zone_letter==\"R\"),\n",
    "                                 [\"easting\", \"northing\"]])"
   ]
  },
  {
   "cell_type": "code",
   "execution_count": 88,
   "metadata": {},
   "outputs": [
    {
     "name": "stdout",
     "output_type": "stream",
     "text": [
      "105 ms ± 368 µs per loop (mean ± std. dev. of 7 runs, 10 loops each)\n"
     ]
    }
   ],
   "source": [
    "%%timeit\n",
    "cKDTree(locations_utm.loc[(locations_utm.zone_number==51) & (locations_utm.zone_letter==\"R\"),\n",
    "                         [\"easting\", \"northing\"]])"
   ]
  },
  {
   "cell_type": "code",
   "execution_count": 85,
   "metadata": {},
   "outputs": [],
   "source": [
    "sample_loc = locs.loc[1680]\n",
    "\n",
    "cand_mask_x = (locs.cell_x==sample_loc.cell_x) | (locs.cell_x==(sample_loc.cell_x-1)) | (locs.cell_x==(sample_loc.cell_x+1))\n",
    "cand_mask_y = (locs.cell_y==sample_loc.cell_y) | (locs.cell_y==(sample_loc.cell_y-1)) | (locs.cell_y==(sample_loc.cell_y+1))\n",
    "cand_mask = cand_mask_x & cand_mask_y\n"
   ]
  },
  {
   "cell_type": "code",
   "execution_count": 89,
   "metadata": {},
   "outputs": [
    {
     "name": "stdout",
     "output_type": "stream",
     "text": [
      "78.1 ms ± 291 µs per loop (mean ± std. dev. of 7 runs, 10 loops each)\n"
     ]
    }
   ],
   "source": [
    "%%timeit\n",
    "cKDTree(locs.loc[(locations_utm.zone_number==51) & (locations_utm.zone_letter==\"R\") & cand_mask,\n",
    "                [\"easting\", \"northing\"]])"
   ]
  },
  {
   "cell_type": "code",
   "execution_count": 41,
   "metadata": {},
   "outputs": [
    {
     "data": {
      "text/plain": [
       "2253"
      ]
     },
     "execution_count": 41,
     "metadata": {},
     "output_type": "execute_result"
    }
   ],
   "source": [
    "neighbors = tree.query_ball_point(locations_utm.loc[1680, [\"easting\", \"northing\"]], THR)\n",
    "len(neighbors)"
   ]
  },
  {
   "cell_type": "code",
   "execution_count": 91,
   "metadata": {},
   "outputs": [
    {
     "name": "stdout",
     "output_type": "stream",
     "text": [
      "88.1 ms ± 344 µs per loop (mean ± std. dev. of 7 runs, 10 loops each)\n"
     ]
    }
   ],
   "source": [
    "%timeit get_in_zone_neighbors(locs.loc[1680], locs, THR)"
   ]
  },
  {
   "cell_type": "code",
   "execution_count": 92,
   "metadata": {},
   "outputs": [
    {
     "name": "stdout",
     "output_type": "stream",
     "text": [
      "650 µs ± 4.26 µs per loop (mean ± std. dev. of 7 runs, 1000 loops each)\n"
     ]
    }
   ],
   "source": [
    "%timeit tree.query_ball_point(locations_utm.loc[1680, [\"easting\", \"northing\"]], THR)"
   ]
  },
  {
   "cell_type": "code",
   "execution_count": 45,
   "metadata": {},
   "outputs": [],
   "source": [
    "zone_grp = locations_utm.groupby([\"zone_number\", \"zone_letter\"])"
   ]
  },
  {
   "cell_type": "code",
   "execution_count": 51,
   "metadata": {},
   "outputs": [
    {
     "data": {
      "text/plain": [
       "437"
      ]
     },
     "execution_count": 51,
     "metadata": {},
     "output_type": "execute_result"
    }
   ],
   "source": [
    "len(zone_grp.groups)"
   ]
  },
  {
   "cell_type": "code",
   "execution_count": 95,
   "metadata": {},
   "outputs": [
    {
     "name": "stderr",
     "output_type": "stream",
     "text": [
      "100%|██████████| 437/437 [00:36<00:00, 12.13it/s]\n"
     ]
    }
   ],
   "source": [
    "kdtrees = {}\n",
    "\n",
    "for zone, zone_locations in tqdm.tqdm(zone_grp, total=len(zone_grp.groups)):\n",
    "    zn, zl = zone\n",
    "    zone_mask = (locations_utm.zone_number==zn) & (locations_utm.zone_letter==zl)\n",
    "    tree = cKDTree(locations_utm.loc[zone_mask, [\"easting\", \"northing\"]].values)\n",
    "    kdtrees[zone] = [locations_utm.loc[zone_mask].index, tree]"
   ]
  },
  {
   "cell_type": "code",
   "execution_count": 53,
   "metadata": {},
   "outputs": [
    {
     "data": {
      "text/plain": [
       "[Int64Index([   1023,    1029,    1034,    1040,    1045,    1052,    1057,\n",
       "                1064,    1070,    1077,\n",
       "             ...\n",
       "             1468859, 1468860, 1468975, 1470659, 1472464, 1473394, 1475540,\n",
       "             1476525, 1482335, 1484627],\n",
       "            dtype='int64', length=1927),\n",
       " <scipy.spatial.kdtree.KDTree at 0x7f70009a2fd0>]"
      ]
     },
     "execution_count": 53,
     "metadata": {},
     "output_type": "execute_result"
    }
   ],
   "source": [
    "kdtrees[(31, \"S\")]"
   ]
  },
  {
   "cell_type": "markdown",
   "metadata": {},
   "source": [
    "# Vectorized vs. non-vectorized version"
   ]
  },
  {
   "cell_type": "code",
   "execution_count": 70,
   "metadata": {},
   "outputs": [],
   "source": [
    "sample_locs = locations_utm.loc[(locations_utm.zone_number==51) & (locations_utm.zone_letter==\"R\")].index[:1000]"
   ]
  },
  {
   "cell_type": "code",
   "execution_count": 93,
   "metadata": {},
   "outputs": [
    {
     "name": "stdout",
     "output_type": "stream",
     "text": [
      "299 ms ± 904 µs per loop (mean ± std. dev. of 7 runs, 1 loop each)\n"
     ]
    }
   ],
   "source": [
    "%timeit tree.query_ball_point(locations_utm.loc[sample_locs, [\"easting\", \"northing\"]], THR)"
   ]
  },
  {
   "cell_type": "code",
   "execution_count": 94,
   "metadata": {},
   "outputs": [
    {
     "name": "stdout",
     "output_type": "stream",
     "text": [
      "CPU times: user 663 ms, sys: 0 ns, total: 663 ms\n",
      "Wall time: 660 ms\n"
     ]
    }
   ],
   "source": [
    "%%time\n",
    "\n",
    "for loc in sample_locs:\n",
    "    tree.query_ball_point(locations_utm.loc[loc, [\"easting\", \"northing\"]], THR)"
   ]
  },
  {
   "cell_type": "markdown",
   "metadata": {},
   "source": [
    "Strangely, \"vectorized\" (i.e. fetching multiple locations at once) version is almost as slow as a plain loop.\n",
    "\n",
    "The hierarchy is the following:\n",
    "- single location query to a built tree (`~15ms`),\n",
    "- building a tree for candidates (`~85ms`),\n",
    "- old `get_in_zone_neighbors` for a single location (`~100ms`),\n",
    "- building a tree for entire zone (`~300ms`).\n",
    "\n",
    "Hence, we cannot build a new tree for each location (it's `15ms + 85ms` or about the same as `get_in_zone_neighbors`). The only option is to maintain full zone tree (for unmarked locations only) and rebuild it after each growth iteration."
   ]
  },
  {
   "cell_type": "code",
   "execution_count": 99,
   "metadata": {},
   "outputs": [
    {
     "data": {
      "text/plain": [
       "53S    126697\n",
       "31U    119785\n",
       "52S    112220\n",
       "48N     79188\n",
       "54S     65530\n",
       "51R     62550\n",
       "35T     37867\n",
       "32U     37064\n",
       "50S     36846\n",
       "32V     32659\n",
       "40R     29545\n",
       "49Q     29537\n",
       "51S     23475\n",
       "47P     21134\n",
       "50Q     21067\n",
       "30U     21034\n",
       "37T     19846\n",
       "30S     18349\n",
       "39R     16967\n",
       "51P     16269\n",
       "Name: zone, dtype: int64"
      ]
     },
     "execution_count": 99,
     "metadata": {},
     "output_type": "execute_result"
    }
   ],
   "source": [
    "locations_utm[\"zone\"].value_counts().head(20)"
   ]
  },
  {
   "cell_type": "code",
   "execution_count": null,
   "metadata": {},
   "outputs": [],
   "source": [
    "locations_utm.groupby([\"zone_number\", \"zone_letter\"])"
   ]
  },
  {
   "cell_type": "code",
   "execution_count": 106,
   "metadata": {},
   "outputs": [
    {
     "data": {
      "text/plain": [
       "<matplotlib.axes._subplots.AxesSubplot at 0x7f6fcc8d11f0>"
      ]
     },
     "execution_count": 106,
     "metadata": {},
     "output_type": "execute_result"
    },
    {
     "data": {
      "image/png": "[encoded data removed]",
      "text/plain": [
       "<Figure size 432x288 with 1 Axes>"
      ]
     },
     "metadata": {
      "needs_background": "light"
     },
     "output_type": "display_data"
    }
   ],
   "source": [
    "locations_utm[(locations_utm.zone_number==50) & (locations_utm.zone_letter==\"Q\")].plot(x=\"easting\", y=\"northing\", s=2, kind=\"scatter\")"
   ]
  },
  {
   "cell_type": "code",
   "execution_count": null,
   "metadata": {},
   "outputs": [],
   "source": []
  }
 ],
 "metadata": {
  "kernelspec": {
   "display_name": "Python 3",
   "language": "python",
   "name": "python3"
  },
  "language_info": {
   "codemirror_mode": {
    "name": "ipython",
    "version": 3
   },
   "file_extension": ".py",
   "mimetype": "text/x-python",
   "name": "python",
   "nbconvert_exporter": "python",
   "pygments_lexer": "ipython3",
   "version": "3.8.2"
  }
 },
 "nbformat": 4,
 "nbformat_minor": 4
}
